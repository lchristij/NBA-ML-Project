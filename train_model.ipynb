{
 "cells": [
  {
   "cell_type": "code",
   "execution_count": 57,
   "metadata": {},
   "outputs": [],
   "source": [
    "import pandas as pd\n",
    "import numpy as np\n",
    "from pathlib import Path\n",
    "%matplotlib inline\n",
    "\n",
    "import warnings\n",
    "warnings.filterwarnings('ignore')"
   ]
  },
  {
   "cell_type": "markdown",
   "metadata": {},
   "source": [
    "### Read in CSV Signal Data"
   ]
  },
  {
   "cell_type": "code",
   "execution_count": 58,
   "metadata": {},
   "outputs": [],
   "source": [
    "csv_path = Path('trading_signals.csv')\n",
    "df = pd.read_csv(csv_path, parse_dates=['time'], infer_datetime_format=True)"
   ]
  },
  {
   "cell_type": "markdown",
   "metadata": {},
   "source": [
    "### Set index, time and drop cols"
   ]
  },
  {
   "cell_type": "code",
   "execution_count": 59,
   "metadata": {},
   "outputs": [],
   "source": [
    "df.set_index(pd.to_datetime(df['time'], infer_datetime_format=True), inplace=True)\n",
    "df.drop(columns=['time','Unnamed: 0'], inplace=True)"
   ]
  },
  {
   "cell_type": "markdown",
   "metadata": {},
   "source": [
    "### Set X-Vars and Filter to Obtain Associated Vals"
   ]
  },
  {
   "cell_type": "code",
   "execution_count": 60,
   "metadata": {
    "scrolled": true
   },
   "outputs": [
    {
     "data": {
      "text/html": [
       "<div>\n",
       "<style scoped>\n",
       "    .dataframe tbody tr th:only-of-type {\n",
       "        vertical-align: middle;\n",
       "    }\n",
       "\n",
       "    .dataframe tbody tr th {\n",
       "        vertical-align: top;\n",
       "    }\n",
       "\n",
       "    .dataframe thead th {\n",
       "        text-align: right;\n",
       "    }\n",
       "</style>\n",
       "<table border=\"1\" class=\"dataframe\">\n",
       "  <thead>\n",
       "    <tr style=\"text-align: right;\">\n",
       "      <th></th>\n",
       "      <th>macd_crossover_signal</th>\n",
       "      <th>rsi</th>\n",
       "      <th>rsi_signal</th>\n",
       "      <th>crossover_signal</th>\n",
       "      <th>bollinger_signal</th>\n",
       "    </tr>\n",
       "    <tr>\n",
       "      <th>time</th>\n",
       "      <th></th>\n",
       "      <th></th>\n",
       "      <th></th>\n",
       "      <th></th>\n",
       "      <th></th>\n",
       "    </tr>\n",
       "  </thead>\n",
       "  <tbody>\n",
       "    <tr>\n",
       "      <th>2017-03-21</th>\n",
       "      <td>0.0</td>\n",
       "      <td>0.0</td>\n",
       "      <td>0.0</td>\n",
       "      <td>0.0</td>\n",
       "      <td>0.0</td>\n",
       "    </tr>\n",
       "    <tr>\n",
       "      <th>2017-03-22</th>\n",
       "      <td>1.0</td>\n",
       "      <td>0.0</td>\n",
       "      <td>0.0</td>\n",
       "      <td>1.0</td>\n",
       "      <td>0.0</td>\n",
       "    </tr>\n",
       "    <tr>\n",
       "      <th>2017-03-23</th>\n",
       "      <td>1.0</td>\n",
       "      <td>0.0</td>\n",
       "      <td>0.0</td>\n",
       "      <td>1.0</td>\n",
       "      <td>0.0</td>\n",
       "    </tr>\n",
       "    <tr>\n",
       "      <th>2017-03-24</th>\n",
       "      <td>1.0</td>\n",
       "      <td>0.0</td>\n",
       "      <td>0.0</td>\n",
       "      <td>-1.0</td>\n",
       "      <td>0.0</td>\n",
       "    </tr>\n",
       "    <tr>\n",
       "      <th>2017-03-27</th>\n",
       "      <td>-1.0</td>\n",
       "      <td>0.0</td>\n",
       "      <td>0.0</td>\n",
       "      <td>-1.0</td>\n",
       "      <td>0.0</td>\n",
       "    </tr>\n",
       "  </tbody>\n",
       "</table>\n",
       "</div>"
      ],
      "text/plain": [
       "            macd_crossover_signal  rsi  rsi_signal  crossover_signal  \\\n",
       "time                                                                   \n",
       "2017-03-21                    0.0  0.0         0.0               0.0   \n",
       "2017-03-22                    1.0  0.0         0.0               1.0   \n",
       "2017-03-23                    1.0  0.0         0.0               1.0   \n",
       "2017-03-24                    1.0  0.0         0.0              -1.0   \n",
       "2017-03-27                   -1.0  0.0         0.0              -1.0   \n",
       "\n",
       "            bollinger_signal  \n",
       "time                          \n",
       "2017-03-21               0.0  \n",
       "2017-03-22               0.0  \n",
       "2017-03-23               0.0  \n",
       "2017-03-24               0.0  \n",
       "2017-03-27               0.0  "
      ]
     },
     "execution_count": 60,
     "metadata": {},
     "output_type": "execute_result"
    }
   ],
   "source": [
    "x_var_list = ['macd_crossover_signal', 'rsi', 'rsi_signal', 'crossover_signal','bollinger_signal']\n",
    "df[x_var_list].head()"
   ]
  },
  {
   "cell_type": "code",
   "execution_count": 61,
   "metadata": {},
   "outputs": [
    {
     "data": {
      "text/html": [
       "<div>\n",
       "<style scoped>\n",
       "    .dataframe tbody tr th:only-of-type {\n",
       "        vertical-align: middle;\n",
       "    }\n",
       "\n",
       "    .dataframe tbody tr th {\n",
       "        vertical-align: top;\n",
       "    }\n",
       "\n",
       "    .dataframe thead th {\n",
       "        text-align: right;\n",
       "    }\n",
       "</style>\n",
       "<table border=\"1\" class=\"dataframe\">\n",
       "  <thead>\n",
       "    <tr style=\"text-align: right;\">\n",
       "      <th></th>\n",
       "      <th>macd_crossover_signal</th>\n",
       "      <th>rsi</th>\n",
       "      <th>rsi_signal</th>\n",
       "      <th>crossover_signal</th>\n",
       "      <th>bollinger_signal</th>\n",
       "    </tr>\n",
       "    <tr>\n",
       "      <th>time</th>\n",
       "      <th></th>\n",
       "      <th></th>\n",
       "      <th></th>\n",
       "      <th></th>\n",
       "      <th></th>\n",
       "    </tr>\n",
       "  </thead>\n",
       "  <tbody>\n",
       "    <tr>\n",
       "      <th>2021-02-25</th>\n",
       "      <td>-1.0</td>\n",
       "      <td>61.769056</td>\n",
       "      <td>1.0</td>\n",
       "      <td>1.0</td>\n",
       "      <td>0.0</td>\n",
       "    </tr>\n",
       "    <tr>\n",
       "      <th>2021-02-26</th>\n",
       "      <td>-1.0</td>\n",
       "      <td>46.155729</td>\n",
       "      <td>1.0</td>\n",
       "      <td>-1.0</td>\n",
       "      <td>0.0</td>\n",
       "    </tr>\n",
       "    <tr>\n",
       "      <th>2021-03-01</th>\n",
       "      <td>-1.0</td>\n",
       "      <td>43.537523</td>\n",
       "      <td>1.0</td>\n",
       "      <td>-1.0</td>\n",
       "      <td>0.0</td>\n",
       "    </tr>\n",
       "    <tr>\n",
       "      <th>2021-03-02</th>\n",
       "      <td>-1.0</td>\n",
       "      <td>55.594032</td>\n",
       "      <td>1.0</td>\n",
       "      <td>-1.0</td>\n",
       "      <td>0.0</td>\n",
       "    </tr>\n",
       "    <tr>\n",
       "      <th>2021-03-03</th>\n",
       "      <td>-1.0</td>\n",
       "      <td>51.752156</td>\n",
       "      <td>1.0</td>\n",
       "      <td>-1.0</td>\n",
       "      <td>0.0</td>\n",
       "    </tr>\n",
       "    <tr>\n",
       "      <th>2021-03-04</th>\n",
       "      <td>-1.0</td>\n",
       "      <td>45.887913</td>\n",
       "      <td>1.0</td>\n",
       "      <td>-1.0</td>\n",
       "      <td>0.0</td>\n",
       "    </tr>\n",
       "    <tr>\n",
       "      <th>2021-03-05</th>\n",
       "      <td>-1.0</td>\n",
       "      <td>41.231330</td>\n",
       "      <td>1.0</td>\n",
       "      <td>-1.0</td>\n",
       "      <td>1.0</td>\n",
       "    </tr>\n",
       "    <tr>\n",
       "      <th>2021-03-08</th>\n",
       "      <td>-1.0</td>\n",
       "      <td>49.291321</td>\n",
       "      <td>1.0</td>\n",
       "      <td>-1.0</td>\n",
       "      <td>0.0</td>\n",
       "    </tr>\n",
       "    <tr>\n",
       "      <th>2021-03-09</th>\n",
       "      <td>-1.0</td>\n",
       "      <td>47.399624</td>\n",
       "      <td>1.0</td>\n",
       "      <td>-1.0</td>\n",
       "      <td>0.0</td>\n",
       "    </tr>\n",
       "    <tr>\n",
       "      <th>2021-03-10</th>\n",
       "      <td>-1.0</td>\n",
       "      <td>53.020507</td>\n",
       "      <td>1.0</td>\n",
       "      <td>-1.0</td>\n",
       "      <td>0.0</td>\n",
       "    </tr>\n",
       "  </tbody>\n",
       "</table>\n",
       "</div>"
      ],
      "text/plain": [
       "            macd_crossover_signal        rsi  rsi_signal  crossover_signal  \\\n",
       "time                                                                         \n",
       "2021-02-25                   -1.0  61.769056         1.0               1.0   \n",
       "2021-02-26                   -1.0  46.155729         1.0              -1.0   \n",
       "2021-03-01                   -1.0  43.537523         1.0              -1.0   \n",
       "2021-03-02                   -1.0  55.594032         1.0              -1.0   \n",
       "2021-03-03                   -1.0  51.752156         1.0              -1.0   \n",
       "2021-03-04                   -1.0  45.887913         1.0              -1.0   \n",
       "2021-03-05                   -1.0  41.231330         1.0              -1.0   \n",
       "2021-03-08                   -1.0  49.291321         1.0              -1.0   \n",
       "2021-03-09                   -1.0  47.399624         1.0              -1.0   \n",
       "2021-03-10                   -1.0  53.020507         1.0              -1.0   \n",
       "\n",
       "            bollinger_signal  \n",
       "time                          \n",
       "2021-02-25               0.0  \n",
       "2021-02-26               0.0  \n",
       "2021-03-01               0.0  \n",
       "2021-03-02               0.0  \n",
       "2021-03-03               0.0  \n",
       "2021-03-04               0.0  \n",
       "2021-03-05               1.0  \n",
       "2021-03-08               0.0  \n",
       "2021-03-09               0.0  \n",
       "2021-03-10               0.0  "
      ]
     },
     "execution_count": 61,
     "metadata": {},
     "output_type": "execute_result"
    }
   ],
   "source": [
    "#shift df index by 1\n",
    "#this results in yesterdays signals dictating what our positions are today\n",
    "df[x_var_list] = df[x_var_list].shift(1)\n",
    "df[x_var_list].tail(10)"
   ]
  },
  {
   "cell_type": "markdown",
   "metadata": {},
   "source": [
    "### Drop NAs and Replace Pos/Neg Infiity"
   ]
  },
  {
   "cell_type": "code",
   "execution_count": 62,
   "metadata": {},
   "outputs": [],
   "source": [
    "df.dropna(subset=x_var_list, inplace=True)\n",
    "df.dropna(subset=['daily_return'], inplace=True)\n",
    "df = df.replace([np.inf, -np.inf], np.nan)"
   ]
  },
  {
   "cell_type": "code",
   "execution_count": 63,
   "metadata": {},
   "outputs": [
    {
     "data": {
      "text/html": [
       "<div>\n",
       "<style scoped>\n",
       "    .dataframe tbody tr th:only-of-type {\n",
       "        vertical-align: middle;\n",
       "    }\n",
       "\n",
       "    .dataframe tbody tr th {\n",
       "        vertical-align: top;\n",
       "    }\n",
       "\n",
       "    .dataframe thead th {\n",
       "        text-align: right;\n",
       "    }\n",
       "</style>\n",
       "<table border=\"1\" class=\"dataframe\">\n",
       "  <thead>\n",
       "    <tr style=\"text-align: right;\">\n",
       "      <th></th>\n",
       "      <th>daily_return</th>\n",
       "      <th>Positive Return</th>\n",
       "    </tr>\n",
       "    <tr>\n",
       "      <th>time</th>\n",
       "      <th></th>\n",
       "      <th></th>\n",
       "    </tr>\n",
       "  </thead>\n",
       "  <tbody>\n",
       "    <tr>\n",
       "      <th>2017-03-22</th>\n",
       "      <td>0.002096</td>\n",
       "      <td>1.0</td>\n",
       "    </tr>\n",
       "    <tr>\n",
       "      <th>2017-03-23</th>\n",
       "      <td>-0.001110</td>\n",
       "      <td>0.0</td>\n",
       "    </tr>\n",
       "    <tr>\n",
       "      <th>2017-03-24</th>\n",
       "      <td>-0.000470</td>\n",
       "      <td>0.0</td>\n",
       "    </tr>\n",
       "    <tr>\n",
       "      <th>2017-03-27</th>\n",
       "      <td>-0.001368</td>\n",
       "      <td>0.0</td>\n",
       "    </tr>\n",
       "    <tr>\n",
       "      <th>2017-03-28</th>\n",
       "      <td>0.007235</td>\n",
       "      <td>1.0</td>\n",
       "    </tr>\n",
       "  </tbody>\n",
       "</table>\n",
       "</div>"
      ],
      "text/plain": [
       "            daily_return  Positive Return\n",
       "time                                     \n",
       "2017-03-22      0.002096              1.0\n",
       "2017-03-23     -0.001110              0.0\n",
       "2017-03-24     -0.000470              0.0\n",
       "2017-03-27     -0.001368              0.0\n",
       "2017-03-28      0.007235              1.0"
      ]
     },
     "execution_count": 63,
     "metadata": {},
     "output_type": "execute_result"
    }
   ],
   "source": [
    "#if daily returns are greater than zero then set binary feature of Positive Returns to True\n",
    "df['Positive Return'] = np.where(df['daily_return'] > 0, 1.0, 0.0)\n",
    "df[['daily_return','Positive Return']].head()"
   ]
  },
  {
   "cell_type": "markdown",
   "metadata": {},
   "source": [
    "### Assign Training and Testing Windows"
   ]
  },
  {
   "cell_type": "code",
   "execution_count": 64,
   "metadata": {},
   "outputs": [
    {
     "name": "stdout",
     "output_type": "stream",
     "text": [
      "There are 699 records in the Training Set\n"
     ]
    }
   ],
   "source": [
    "#train on 70%\n",
    "split = int(0.70 * len(df))\n",
    "X_train = df[x_var_list][:split]\n",
    "X_test = df[x_var_list][split:]\n",
    "y_train = df['Positive Return'][: split]\n",
    "y_test = df['Positive Return'][split:]\n",
    "print(f\"There are {len(X_train)} records in the Training Set\")"
   ]
  },
  {
   "cell_type": "code",
   "execution_count": 65,
   "metadata": {},
   "outputs": [
    {
     "name": "stdout",
     "output_type": "stream",
     "text": [
      "There are 300 records in the Testing Set\n"
     ]
    }
   ],
   "source": [
    "print(f\"There are {len(X_test)} records in the Testing Set\")"
   ]
  },
  {
   "cell_type": "markdown",
   "metadata": {},
   "source": [
    "### Separate X and y Training sets"
   ]
  },
  {
   "cell_type": "code",
   "execution_count": 66,
   "metadata": {},
   "outputs": [
    {
     "data": {
      "text/html": [
       "<div>\n",
       "<style scoped>\n",
       "    .dataframe tbody tr th:only-of-type {\n",
       "        vertical-align: middle;\n",
       "    }\n",
       "\n",
       "    .dataframe tbody tr th {\n",
       "        vertical-align: top;\n",
       "    }\n",
       "\n",
       "    .dataframe thead th {\n",
       "        text-align: right;\n",
       "    }\n",
       "</style>\n",
       "<table border=\"1\" class=\"dataframe\">\n",
       "  <thead>\n",
       "    <tr style=\"text-align: right;\">\n",
       "      <th></th>\n",
       "      <th>macd_crossover_signal</th>\n",
       "      <th>rsi</th>\n",
       "      <th>rsi_signal</th>\n",
       "      <th>crossover_signal</th>\n",
       "      <th>bollinger_signal</th>\n",
       "    </tr>\n",
       "    <tr>\n",
       "      <th>time</th>\n",
       "      <th></th>\n",
       "      <th></th>\n",
       "      <th></th>\n",
       "      <th></th>\n",
       "      <th></th>\n",
       "    </tr>\n",
       "  </thead>\n",
       "  <tbody>\n",
       "    <tr>\n",
       "      <th>2019-12-23</th>\n",
       "      <td>1.0</td>\n",
       "      <td>74.412641</td>\n",
       "      <td>-1.0</td>\n",
       "      <td>1.0</td>\n",
       "      <td>0.0</td>\n",
       "    </tr>\n",
       "    <tr>\n",
       "      <th>2019-12-24</th>\n",
       "      <td>1.0</td>\n",
       "      <td>74.894822</td>\n",
       "      <td>-1.0</td>\n",
       "      <td>1.0</td>\n",
       "      <td>0.0</td>\n",
       "    </tr>\n",
       "    <tr>\n",
       "      <th>2019-12-26</th>\n",
       "      <td>1.0</td>\n",
       "      <td>74.970075</td>\n",
       "      <td>-1.0</td>\n",
       "      <td>1.0</td>\n",
       "      <td>0.0</td>\n",
       "    </tr>\n",
       "    <tr>\n",
       "      <th>2019-12-27</th>\n",
       "      <td>1.0</td>\n",
       "      <td>77.911374</td>\n",
       "      <td>-1.0</td>\n",
       "      <td>1.0</td>\n",
       "      <td>0.0</td>\n",
       "    </tr>\n",
       "    <tr>\n",
       "      <th>2019-12-30</th>\n",
       "      <td>1.0</td>\n",
       "      <td>77.613736</td>\n",
       "      <td>-1.0</td>\n",
       "      <td>1.0</td>\n",
       "      <td>0.0</td>\n",
       "    </tr>\n",
       "  </tbody>\n",
       "</table>\n",
       "</div>"
      ],
      "text/plain": [
       "            macd_crossover_signal        rsi  rsi_signal  crossover_signal  \\\n",
       "time                                                                         \n",
       "2019-12-23                    1.0  74.412641        -1.0               1.0   \n",
       "2019-12-24                    1.0  74.894822        -1.0               1.0   \n",
       "2019-12-26                    1.0  74.970075        -1.0               1.0   \n",
       "2019-12-27                    1.0  77.911374        -1.0               1.0   \n",
       "2019-12-30                    1.0  77.613736        -1.0               1.0   \n",
       "\n",
       "            bollinger_signal  \n",
       "time                          \n",
       "2019-12-23               0.0  \n",
       "2019-12-24               0.0  \n",
       "2019-12-26               0.0  \n",
       "2019-12-27               0.0  \n",
       "2019-12-30               0.0  "
      ]
     },
     "execution_count": 66,
     "metadata": {},
     "output_type": "execute_result"
    }
   ],
   "source": [
    "X_train.tail()"
   ]
  },
  {
   "cell_type": "code",
   "execution_count": 67,
   "metadata": {},
   "outputs": [
    {
     "data": {
      "text/plain": [
       "time\n",
       "2019-12-23    1.0\n",
       "2019-12-24    1.0\n",
       "2019-12-26    1.0\n",
       "2019-12-27    0.0\n",
       "2019-12-30    0.0\n",
       "Name: Positive Return, dtype: float64"
      ]
     },
     "execution_count": 67,
     "metadata": {},
     "output_type": "execute_result"
    }
   ],
   "source": [
    "y_train.tail()"
   ]
  },
  {
   "cell_type": "code",
   "execution_count": 68,
   "metadata": {},
   "outputs": [
    {
     "data": {
      "text/html": [
       "<div>\n",
       "<style scoped>\n",
       "    .dataframe tbody tr th:only-of-type {\n",
       "        vertical-align: middle;\n",
       "    }\n",
       "\n",
       "    .dataframe tbody tr th {\n",
       "        vertical-align: top;\n",
       "    }\n",
       "\n",
       "    .dataframe thead th {\n",
       "        text-align: right;\n",
       "    }\n",
       "</style>\n",
       "<table border=\"1\" class=\"dataframe\">\n",
       "  <thead>\n",
       "    <tr style=\"text-align: right;\">\n",
       "      <th></th>\n",
       "      <th>macd_crossover_signal</th>\n",
       "      <th>rsi</th>\n",
       "      <th>rsi_signal</th>\n",
       "      <th>crossover_signal</th>\n",
       "      <th>bollinger_signal</th>\n",
       "    </tr>\n",
       "    <tr>\n",
       "      <th>time</th>\n",
       "      <th></th>\n",
       "      <th></th>\n",
       "      <th></th>\n",
       "      <th></th>\n",
       "      <th></th>\n",
       "    </tr>\n",
       "  </thead>\n",
       "  <tbody>\n",
       "    <tr>\n",
       "      <th>2021-03-04</th>\n",
       "      <td>-1.0</td>\n",
       "      <td>45.887913</td>\n",
       "      <td>1.0</td>\n",
       "      <td>-1.0</td>\n",
       "      <td>0.0</td>\n",
       "    </tr>\n",
       "    <tr>\n",
       "      <th>2021-03-05</th>\n",
       "      <td>-1.0</td>\n",
       "      <td>41.231330</td>\n",
       "      <td>1.0</td>\n",
       "      <td>-1.0</td>\n",
       "      <td>1.0</td>\n",
       "    </tr>\n",
       "    <tr>\n",
       "      <th>2021-03-08</th>\n",
       "      <td>-1.0</td>\n",
       "      <td>49.291321</td>\n",
       "      <td>1.0</td>\n",
       "      <td>-1.0</td>\n",
       "      <td>0.0</td>\n",
       "    </tr>\n",
       "    <tr>\n",
       "      <th>2021-03-09</th>\n",
       "      <td>-1.0</td>\n",
       "      <td>47.399624</td>\n",
       "      <td>1.0</td>\n",
       "      <td>-1.0</td>\n",
       "      <td>0.0</td>\n",
       "    </tr>\n",
       "    <tr>\n",
       "      <th>2021-03-10</th>\n",
       "      <td>-1.0</td>\n",
       "      <td>53.020507</td>\n",
       "      <td>1.0</td>\n",
       "      <td>-1.0</td>\n",
       "      <td>0.0</td>\n",
       "    </tr>\n",
       "  </tbody>\n",
       "</table>\n",
       "</div>"
      ],
      "text/plain": [
       "            macd_crossover_signal        rsi  rsi_signal  crossover_signal  \\\n",
       "time                                                                         \n",
       "2021-03-04                   -1.0  45.887913         1.0              -1.0   \n",
       "2021-03-05                   -1.0  41.231330         1.0              -1.0   \n",
       "2021-03-08                   -1.0  49.291321         1.0              -1.0   \n",
       "2021-03-09                   -1.0  47.399624         1.0              -1.0   \n",
       "2021-03-10                   -1.0  53.020507         1.0              -1.0   \n",
       "\n",
       "            bollinger_signal  \n",
       "time                          \n",
       "2021-03-04               0.0  \n",
       "2021-03-05               1.0  \n",
       "2021-03-08               0.0  \n",
       "2021-03-09               0.0  \n",
       "2021-03-10               0.0  "
      ]
     },
     "execution_count": 68,
     "metadata": {},
     "output_type": "execute_result"
    }
   ],
   "source": [
    "X_test.tail()"
   ]
  },
  {
   "cell_type": "code",
   "execution_count": 69,
   "metadata": {},
   "outputs": [
    {
     "data": {
      "text/plain": [
       "time\n",
       "2021-03-04    0.0\n",
       "2021-03-05    1.0\n",
       "2021-03-08    0.0\n",
       "2021-03-09    1.0\n",
       "2021-03-10    1.0\n",
       "Name: Positive Return, dtype: float64"
      ]
     },
     "execution_count": 69,
     "metadata": {},
     "output_type": "execute_result"
    }
   ],
   "source": [
    "y_test.tail()"
   ]
  },
  {
   "cell_type": "markdown",
   "metadata": {},
   "source": [
    "### Setup Neural Networks"
   ]
  },
  {
   "cell_type": "code",
   "execution_count": 70,
   "metadata": {},
   "outputs": [],
   "source": [
    "import tensorflow as tf\n",
    "from tensorflow.keras.layers import Dense\n",
    "from tensorflow.keras.models import Sequential\n",
    "from sklearn.preprocessing import StandardScaler\n",
    "from sklearn.model_selection import train_test_split\n",
    "\n",
    "%matplotlib inline"
   ]
  },
  {
   "cell_type": "code",
   "execution_count": 71,
   "metadata": {},
   "outputs": [],
   "source": [
    "tf.random.set_seed(126)"
   ]
  },
  {
   "cell_type": "code",
   "execution_count": 72,
   "metadata": {},
   "outputs": [],
   "source": [
    "X_scaler = StandardScaler()"
   ]
  },
  {
   "cell_type": "code",
   "execution_count": 73,
   "metadata": {},
   "outputs": [
    {
     "data": {
      "text/plain": [
       "StandardScaler()"
      ]
     },
     "execution_count": 73,
     "metadata": {},
     "output_type": "execute_result"
    }
   ],
   "source": [
    "#fit the scaler\n",
    "X_scaler.fit(X_train)"
   ]
  },
  {
   "cell_type": "code",
   "execution_count": 74,
   "metadata": {},
   "outputs": [],
   "source": [
    "X_train = X_scaler.transform(X_train)\n",
    "X_test = X_scaler.transform(X_test)"
   ]
  },
  {
   "cell_type": "code",
   "execution_count": 75,
   "metadata": {},
   "outputs": [
    {
     "data": {
      "text/plain": [
       "(699, 5)"
      ]
     },
     "execution_count": 75,
     "metadata": {},
     "output_type": "execute_result"
    }
   ],
   "source": [
    "X_train.shape"
   ]
  },
  {
   "cell_type": "code",
   "execution_count": 76,
   "metadata": {},
   "outputs": [],
   "source": [
    "#define the model\n",
    "number_inputs = len(x_var_list)\n",
    "#https://www.vcalc.com/wiki/vCalc/Nodes+in+a+Hidden+Layer\n",
    "number_hidden_nodes = 15\n",
    "\n",
    "nn = Sequential()\n",
    "nn.add(Dense(units=number_hidden_nodes, input_dim=number_inputs, activation=\"relu\"))\n",
    "nn.add(Dense(units=number_hidden_nodes, input_dim=number_inputs, activation=\"relu\"))\n",
    "nn.add(Dense(1, activation=\"sigmoid\"))"
   ]
  },
  {
   "cell_type": "code",
   "execution_count": 77,
   "metadata": {},
   "outputs": [],
   "source": [
    "#compile the model\n",
    "nn.compile(loss=\"binary_crossentropy\", optimizer=\"adam\", metrics=[\"accuracy\"])"
   ]
  },
  {
   "cell_type": "code",
   "execution_count": 78,
   "metadata": {},
   "outputs": [
    {
     "name": "stdout",
     "output_type": "stream",
     "text": [
      "Epoch 1/100\n",
      "22/22 [==============================] - 0s 1ms/step - loss: 0.6992 - accuracy: 0.5142\n",
      "Epoch 2/100\n",
      "22/22 [==============================] - 0s 1ms/step - loss: 0.6933 - accuracy: 0.5202\n",
      "Epoch 3/100\n",
      "22/22 [==============================] - 0s 2ms/step - loss: 0.6895 - accuracy: 0.5693\n",
      "Epoch 4/100\n",
      "22/22 [==============================] - 0s 1ms/step - loss: 0.6844 - accuracy: 0.5611\n",
      "Epoch 5/100\n",
      "22/22 [==============================] - 0s 1ms/step - loss: 0.6968 - accuracy: 0.5273\n",
      "Epoch 6/100\n",
      "22/22 [==============================] - 0s 1ms/step - loss: 0.6857 - accuracy: 0.5701\n",
      "Epoch 7/100\n",
      "22/22 [==============================] - 0s 1ms/step - loss: 0.6867 - accuracy: 0.5513\n",
      "Epoch 8/100\n",
      "22/22 [==============================] - 0s 1ms/step - loss: 0.6758 - accuracy: 0.5920\n",
      "Epoch 9/100\n",
      "22/22 [==============================] - 0s 1ms/step - loss: 0.6844 - accuracy: 0.5756\n",
      "Epoch 10/100\n",
      "22/22 [==============================] - 0s 1ms/step - loss: 0.6848 - accuracy: 0.5580\n",
      "Epoch 11/100\n",
      "22/22 [==============================] - 0s 1ms/step - loss: 0.6824 - accuracy: 0.5627\n",
      "Epoch 12/100\n",
      "22/22 [==============================] - 0s 1ms/step - loss: 0.6777 - accuracy: 0.5947\n",
      "Epoch 13/100\n",
      "22/22 [==============================] - 0s 1ms/step - loss: 0.6807 - accuracy: 0.5660\n",
      "Epoch 14/100\n",
      "22/22 [==============================] - 0s 1ms/step - loss: 0.6825 - accuracy: 0.5552\n",
      "Epoch 15/100\n",
      "22/22 [==============================] - 0s 1ms/step - loss: 0.6754 - accuracy: 0.5908\n",
      "Epoch 16/100\n",
      "22/22 [==============================] - 0s 1ms/step - loss: 0.6794 - accuracy: 0.5783\n",
      "Epoch 17/100\n",
      "22/22 [==============================] - 0s 1ms/step - loss: 0.6842 - accuracy: 0.5545\n",
      "Epoch 18/100\n",
      "22/22 [==============================] - 0s 1ms/step - loss: 0.6926 - accuracy: 0.5219\n",
      "Epoch 19/100\n",
      "22/22 [==============================] - 0s 1ms/step - loss: 0.6792 - accuracy: 0.5776\n",
      "Epoch 20/100\n",
      "22/22 [==============================] - 0s 1ms/step - loss: 0.6838 - accuracy: 0.5515\n",
      "Epoch 21/100\n",
      "22/22 [==============================] - 0s 1ms/step - loss: 0.6869 - accuracy: 0.5592\n",
      "Epoch 22/100\n",
      "22/22 [==============================] - 0s 1ms/step - loss: 0.6844 - accuracy: 0.5565\n",
      "Epoch 23/100\n",
      "22/22 [==============================] - 0s 2ms/step - loss: 0.6842 - accuracy: 0.5565\n",
      "Epoch 24/100\n",
      "22/22 [==============================] - 0s 1ms/step - loss: 0.6876 - accuracy: 0.5429\n",
      "Epoch 25/100\n",
      "22/22 [==============================] - 0s 2ms/step - loss: 0.6893 - accuracy: 0.5417\n",
      "Epoch 26/100\n",
      "22/22 [==============================] - 0s 1ms/step - loss: 0.6874 - accuracy: 0.5480\n",
      "Epoch 27/100\n",
      "22/22 [==============================] - 0s 2ms/step - loss: 0.6797 - accuracy: 0.5737\n",
      "Epoch 28/100\n",
      "22/22 [==============================] - 0s 2ms/step - loss: 0.6880 - accuracy: 0.5553\n",
      "Epoch 29/100\n",
      "22/22 [==============================] - 0s 1ms/step - loss: 0.6781 - accuracy: 0.5754\n",
      "Epoch 30/100\n",
      "22/22 [==============================] - 0s 1ms/step - loss: 0.6835 - accuracy: 0.5601\n",
      "Epoch 31/100\n",
      "22/22 [==============================] - 0s 1ms/step - loss: 0.6843 - accuracy: 0.5641\n",
      "Epoch 32/100\n",
      "22/22 [==============================] - 0s 1ms/step - loss: 0.6827 - accuracy: 0.5581\n",
      "Epoch 33/100\n",
      "22/22 [==============================] - 0s 2ms/step - loss: 0.6839 - accuracy: 0.5747\n",
      "Epoch 34/100\n",
      "22/22 [==============================] - 0s 1ms/step - loss: 0.6832 - accuracy: 0.5473\n",
      "Epoch 35/100\n",
      "22/22 [==============================] - 0s 1ms/step - loss: 0.6772 - accuracy: 0.5723\n",
      "Epoch 36/100\n",
      "22/22 [==============================] - 0s 2ms/step - loss: 0.6911 - accuracy: 0.5347\n",
      "Epoch 37/100\n",
      "22/22 [==============================] - 0s 2ms/step - loss: 0.6797 - accuracy: 0.5823\n",
      "Epoch 38/100\n",
      "22/22 [==============================] - 0s 2ms/step - loss: 0.6786 - accuracy: 0.5699\n",
      "Epoch 39/100\n",
      "22/22 [==============================] - 0s 2ms/step - loss: 0.6780 - accuracy: 0.5764\n",
      "Epoch 40/100\n",
      "22/22 [==============================] - 0s 1ms/step - loss: 0.6840 - accuracy: 0.5652\n",
      "Epoch 41/100\n",
      "22/22 [==============================] - 0s 1ms/step - loss: 0.6762 - accuracy: 0.5845\n",
      "Epoch 42/100\n",
      "22/22 [==============================] - 0s 1ms/step - loss: 0.6843 - accuracy: 0.5527\n",
      "Epoch 43/100\n",
      "22/22 [==============================] - 0s 1ms/step - loss: 0.6830 - accuracy: 0.5628\n",
      "Epoch 44/100\n",
      "22/22 [==============================] - 0s 1ms/step - loss: 0.6836 - accuracy: 0.5591\n",
      "Epoch 45/100\n",
      "22/22 [==============================] - 0s 1ms/step - loss: 0.6751 - accuracy: 0.5873\n",
      "Epoch 46/100\n",
      "22/22 [==============================] - 0s 1ms/step - loss: 0.6861 - accuracy: 0.5483\n",
      "Epoch 47/100\n",
      "22/22 [==============================] - 0s 1ms/step - loss: 0.6757 - accuracy: 0.5841\n",
      "Epoch 48/100\n",
      "22/22 [==============================] - 0s 1ms/step - loss: 0.6910 - accuracy: 0.5247\n",
      "Epoch 49/100\n",
      "22/22 [==============================] - 0s 1ms/step - loss: 0.6776 - accuracy: 0.5786\n",
      "Epoch 50/100\n",
      "22/22 [==============================] - 0s 1ms/step - loss: 0.6866 - accuracy: 0.5477\n",
      "Epoch 51/100\n",
      "22/22 [==============================] - 0s 1ms/step - loss: 0.6781 - accuracy: 0.5726\n",
      "Epoch 52/100\n",
      "22/22 [==============================] - 0s 1ms/step - loss: 0.6921 - accuracy: 0.5289\n",
      "Epoch 53/100\n",
      "22/22 [==============================] - 0s 1ms/step - loss: 0.6800 - accuracy: 0.5625\n",
      "Epoch 54/100\n",
      "22/22 [==============================] - 0s 1ms/step - loss: 0.6858 - accuracy: 0.5588\n",
      "Epoch 55/100\n",
      "22/22 [==============================] - 0s 1ms/step - loss: 0.6796 - accuracy: 0.5830\n",
      "Epoch 56/100\n",
      "22/22 [==============================] - 0s 1ms/step - loss: 0.6713 - accuracy: 0.5916\n",
      "Epoch 57/100\n",
      "22/22 [==============================] - 0s 1ms/step - loss: 0.6768 - accuracy: 0.5863\n",
      "Epoch 58/100\n",
      "22/22 [==============================] - 0s 1ms/step - loss: 0.6796 - accuracy: 0.5710\n",
      "Epoch 59/100\n",
      "22/22 [==============================] - 0s 1ms/step - loss: 0.6830 - accuracy: 0.5523\n",
      "Epoch 60/100\n",
      "22/22 [==============================] - 0s 1ms/step - loss: 0.6868 - accuracy: 0.5534\n",
      "Epoch 61/100\n",
      "22/22 [==============================] - 0s 1ms/step - loss: 0.6805 - accuracy: 0.5783\n",
      "Epoch 62/100\n",
      "22/22 [==============================] - 0s 1ms/step - loss: 0.6756 - accuracy: 0.5839\n",
      "Epoch 63/100\n",
      "22/22 [==============================] - 0s 2ms/step - loss: 0.6808 - accuracy: 0.5728\n",
      "Epoch 64/100\n",
      "22/22 [==============================] - 0s 1ms/step - loss: 0.6862 - accuracy: 0.5738\n",
      "Epoch 65/100\n",
      "22/22 [==============================] - 0s 1ms/step - loss: 0.6892 - accuracy: 0.5440\n",
      "Epoch 66/100\n",
      "22/22 [==============================] - 0s 1ms/step - loss: 0.6788 - accuracy: 0.5738\n",
      "Epoch 67/100\n",
      "22/22 [==============================] - 0s 1ms/step - loss: 0.6758 - accuracy: 0.5779\n",
      "Epoch 68/100\n",
      "22/22 [==============================] - 0s 1ms/step - loss: 0.6754 - accuracy: 0.5820\n",
      "Epoch 69/100\n",
      "22/22 [==============================] - 0s 1ms/step - loss: 0.6723 - accuracy: 0.5945\n",
      "Epoch 70/100\n",
      "22/22 [==============================] - 0s 1ms/step - loss: 0.6845 - accuracy: 0.5636\n",
      "Epoch 71/100\n",
      "22/22 [==============================] - 0s 1ms/step - loss: 0.6824 - accuracy: 0.5461\n",
      "Epoch 72/100\n",
      "22/22 [==============================] - 0s 1ms/step - loss: 0.6821 - accuracy: 0.5554\n",
      "Epoch 73/100\n",
      "22/22 [==============================] - 0s 1ms/step - loss: 0.6851 - accuracy: 0.5408\n",
      "Epoch 74/100\n",
      "22/22 [==============================] - 0s 1ms/step - loss: 0.6878 - accuracy: 0.5375\n",
      "Epoch 75/100\n",
      "22/22 [==============================] - 0s 1ms/step - loss: 0.6804 - accuracy: 0.5698\n",
      "Epoch 76/100\n",
      "22/22 [==============================] - 0s 1ms/step - loss: 0.6821 - accuracy: 0.5665\n",
      "Epoch 77/100\n",
      "22/22 [==============================] - 0s 1ms/step - loss: 0.6762 - accuracy: 0.5860\n",
      "Epoch 78/100\n",
      "22/22 [==============================] - 0s 1ms/step - loss: 0.6724 - accuracy: 0.5893\n",
      "Epoch 79/100\n",
      "22/22 [==============================] - 0s 1ms/step - loss: 0.6802 - accuracy: 0.5587\n",
      "Epoch 80/100\n",
      "22/22 [==============================] - 0s 1ms/step - loss: 0.6797 - accuracy: 0.5756\n",
      "Epoch 81/100\n",
      "22/22 [==============================] - 0s 1ms/step - loss: 0.6809 - accuracy: 0.5765\n",
      "Epoch 82/100\n",
      "22/22 [==============================] - 0s 1ms/step - loss: 0.6811 - accuracy: 0.5800\n",
      "Epoch 83/100\n",
      "22/22 [==============================] - 0s 1ms/step - loss: 0.6848 - accuracy: 0.5634\n",
      "Epoch 84/100\n",
      "22/22 [==============================] - 0s 1ms/step - loss: 0.6804 - accuracy: 0.5692\n",
      "Epoch 85/100\n",
      "22/22 [==============================] - 0s 1ms/step - loss: 0.6855 - accuracy: 0.5538\n",
      "Epoch 86/100\n",
      "22/22 [==============================] - 0s 1ms/step - loss: 0.6850 - accuracy: 0.5551\n",
      "Epoch 87/100\n",
      "22/22 [==============================] - 0s 1ms/step - loss: 0.6822 - accuracy: 0.5733\n",
      "Epoch 88/100\n",
      "22/22 [==============================] - 0s 1ms/step - loss: 0.6830 - accuracy: 0.5546\n",
      "Epoch 89/100\n",
      "22/22 [==============================] - 0s 1ms/step - loss: 0.6857 - accuracy: 0.5550\n",
      "Epoch 90/100\n",
      "22/22 [==============================] - 0s 1ms/step - loss: 0.6795 - accuracy: 0.5694\n",
      "Epoch 91/100\n",
      "22/22 [==============================] - 0s 1ms/step - loss: 0.6767 - accuracy: 0.5868\n",
      "Epoch 92/100\n",
      "22/22 [==============================] - 0s 1ms/step - loss: 0.6788 - accuracy: 0.5675\n",
      "Epoch 93/100\n",
      "22/22 [==============================] - 0s 1ms/step - loss: 0.6864 - accuracy: 0.5371\n",
      "Epoch 94/100\n",
      "22/22 [==============================] - 0s 1ms/step - loss: 0.6777 - accuracy: 0.5733\n",
      "Epoch 95/100\n",
      "22/22 [==============================] - 0s 1ms/step - loss: 0.6774 - accuracy: 0.5852\n",
      "Epoch 96/100\n",
      "22/22 [==============================] - 0s 1ms/step - loss: 0.6824 - accuracy: 0.5550\n",
      "Epoch 97/100\n",
      "22/22 [==============================] - 0s 1ms/step - loss: 0.6829 - accuracy: 0.5802\n",
      "Epoch 98/100\n",
      "22/22 [==============================] - 0s 1ms/step - loss: 0.6826 - accuracy: 0.5704\n",
      "Epoch 99/100\n",
      "22/22 [==============================] - 0s 1ms/step - loss: 0.6882 - accuracy: 0.5279\n",
      "Epoch 100/100\n",
      "22/22 [==============================] - 0s 1ms/step - loss: 0.6844 - accuracy: 0.5544\n"
     ]
    }
   ],
   "source": [
    "model = nn.fit(X_train, y_train, epochs=100)"
   ]
  },
  {
   "cell_type": "code",
   "execution_count": 79,
   "metadata": {},
   "outputs": [
    {
     "data": {
      "text/plain": [
       "<matplotlib.axes._subplots.AxesSubplot at 0x23641c4ce88>"
      ]
     },
     "execution_count": 79,
     "metadata": {},
     "output_type": "execute_result"
    },
    {
     "data": {
      "image/png": "[encoded data removed]",
      "text/plain": [
       "<Figure size 1440x720 with 1 Axes>"
      ]
     },
     "metadata": {
      "needs_background": "light"
     },
     "output_type": "display_data"
    }
   ],
   "source": [
    "# Create a dataframe with the history dictionary\n",
    "import matplotlib.pyplot as plt\n",
    "df_plot = pd.DataFrame(model.history, index=range(1, len(model.history[\"loss\"]) + 1))\n",
    "\n",
    "# Plot the loss\n",
    "df_plot.plot(y=\"loss\",figsize=(20,10))\n",
    "#plt.ylim(0,.7)"
   ]
  },
  {
   "cell_type": "code",
   "execution_count": 80,
   "metadata": {},
   "outputs": [
    {
     "data": {
      "text/plain": [
       "<matplotlib.axes._subplots.AxesSubplot at 0x23641dee248>"
      ]
     },
     "execution_count": 80,
     "metadata": {},
     "output_type": "execute_result"
    },
    {
     "data": {
      "image/png": "[encoded data removed]",
      "text/plain": [
       "<Figure size 432x288 with 1 Axes>"
      ]
     },
     "metadata": {
      "needs_background": "light"
     },
     "output_type": "display_data"
    }
   ],
   "source": [
    "# Plot the accuracy\n",
    "df_plot.plot(y=\"accuracy\")\n",
    "#plt.ylim(0,.7)"
   ]
  },
  {
   "cell_type": "code",
   "execution_count": 81,
   "metadata": {},
   "outputs": [
    {
     "name": "stdout",
     "output_type": "stream",
     "text": [
      "10/10 - 0s - loss: 0.6828 - accuracy: 0.5867\n",
      "Loss: 0.6827781796455383, Accuracy: 0.5866666436195374\n"
     ]
    }
   ],
   "source": [
    "# Evaluate the model fit with linear dummy data\n",
    "model_loss, model_accuracy = nn.evaluate(X_test, y_test, verbose=2)\n",
    "print(f\"Loss: {model_loss}, Accuracy: {model_accuracy}\") "
   ]
  },
  {
   "cell_type": "code",
   "execution_count": 82,
   "metadata": {},
   "outputs": [],
   "source": [
    "#track predictions\n",
    "predicted = nn.predict(X_test)"
   ]
  },
  {
   "cell_type": "markdown",
   "metadata": {},
   "source": [
    "## EVALUATE PERFORMANCE"
   ]
  },
  {
   "cell_type": "code",
   "execution_count": 83,
   "metadata": {},
   "outputs": [
    {
     "data": {
      "text/html": [
       "<div>\n",
       "<style scoped>\n",
       "    .dataframe tbody tr th:only-of-type {\n",
       "        vertical-align: middle;\n",
       "    }\n",
       "\n",
       "    .dataframe tbody tr th {\n",
       "        vertical-align: top;\n",
       "    }\n",
       "\n",
       "    .dataframe thead th {\n",
       "        text-align: right;\n",
       "    }\n",
       "</style>\n",
       "<table border=\"1\" class=\"dataframe\">\n",
       "  <thead>\n",
       "    <tr style=\"text-align: right;\">\n",
       "      <th></th>\n",
       "      <th>Actual</th>\n",
       "      <th>Close</th>\n",
       "      <th>Predicted</th>\n",
       "      <th>Return</th>\n",
       "    </tr>\n",
       "    <tr>\n",
       "      <th>time</th>\n",
       "      <th></th>\n",
       "      <th></th>\n",
       "      <th></th>\n",
       "      <th></th>\n",
       "    </tr>\n",
       "  </thead>\n",
       "  <tbody>\n",
       "    <tr>\n",
       "      <th>2019-12-31</th>\n",
       "      <td>1.0</td>\n",
       "      <td>321.89</td>\n",
       "      <td>1</td>\n",
       "      <td>0.002460</td>\n",
       "    </tr>\n",
       "    <tr>\n",
       "      <th>2020-01-02</th>\n",
       "      <td>1.0</td>\n",
       "      <td>324.84</td>\n",
       "      <td>1</td>\n",
       "      <td>0.009165</td>\n",
       "    </tr>\n",
       "    <tr>\n",
       "      <th>2020-01-03</th>\n",
       "      <td>0.0</td>\n",
       "      <td>322.44</td>\n",
       "      <td>1</td>\n",
       "      <td>-0.007388</td>\n",
       "    </tr>\n",
       "    <tr>\n",
       "      <th>2020-01-06</th>\n",
       "      <td>1.0</td>\n",
       "      <td>323.67</td>\n",
       "      <td>1</td>\n",
       "      <td>0.003815</td>\n",
       "    </tr>\n",
       "    <tr>\n",
       "      <th>2020-01-07</th>\n",
       "      <td>0.0</td>\n",
       "      <td>322.76</td>\n",
       "      <td>1</td>\n",
       "      <td>-0.002812</td>\n",
       "    </tr>\n",
       "  </tbody>\n",
       "</table>\n",
       "</div>"
      ],
      "text/plain": [
       "            Actual   Close  Predicted    Return\n",
       "time                                           \n",
       "2019-12-31     1.0  321.89          1  0.002460\n",
       "2020-01-02     1.0  324.84          1  0.009165\n",
       "2020-01-03     0.0  322.44          1 -0.007388\n",
       "2020-01-06     1.0  323.67          1  0.003815\n",
       "2020-01-07     0.0  322.76          1 -0.002812"
      ]
     },
     "execution_count": 83,
     "metadata": {},
     "output_type": "execute_result"
    }
   ],
   "source": [
    "results_nn = pd.DataFrame({'Actual': y_test,\n",
    "                           'Close':df['close'][split:],\n",
    "              'Predicted':predicted.ravel()\n",
    "             })\n",
    "\n",
    "#predicted results were showing a number between 0 and 1 so we force .5 or greater to be 1 otherwise 0\n",
    "results_nn['Predicted'] = results_nn['Predicted'].apply(lambda x : 1 if x > .5 else 0)\n",
    "\n",
    "#add returns to results\n",
    "results_nn['Return'] = df['daily_return']\n",
    "\n",
    "#for predicted loss then we set to -1 to create a short positioin\n",
    "results_nn['Predicted'].replace(0, -1, inplace=True)\n",
    "\n",
    "results_nn.head()"
   ]
  },
  {
   "cell_type": "code",
   "execution_count": 84,
   "metadata": {},
   "outputs": [
    {
     "data": {
      "text/plain": [
       " 1    290\n",
       "-1     10\n",
       "Name: Predicted, dtype: int64"
      ]
     },
     "execution_count": 84,
     "metadata": {},
     "output_type": "execute_result"
    }
   ],
   "source": [
    "results_nn['Predicted'].value_counts()"
   ]
  },
  {
   "cell_type": "code",
   "execution_count": 85,
   "metadata": {},
   "outputs": [
    {
     "name": "stdout",
     "output_type": "stream",
     "text": [
      "Algo Returns are:  1.4308571162876786\n"
     ]
    }
   ],
   "source": [
    "print(f\"Algo Returns are:  {(1 + results_nn['Return'] * results_nn['Predicted']).cumprod()[-1]}\")"
   ]
  },
  {
   "cell_type": "code",
   "execution_count": 86,
   "metadata": {},
   "outputs": [
    {
     "data": {
      "text/plain": [
       "<matplotlib.axes._subplots.AxesSubplot at 0x23641ec2988>"
      ]
     },
     "execution_count": 86,
     "metadata": {},
     "output_type": "execute_result"
    },
    {
     "data": {
      "image/png": "[encoded data removed]",
      "text/plain": [
       "<Figure size 864x432 with 1 Axes>"
      ]
     },
     "metadata": {
      "needs_background": "light"
     },
     "output_type": "display_data"
    }
   ],
   "source": [
    "#calc with init cap of $10K\n",
    "initial_capital = 10000\n",
    "cumulative_return_capital_nn = initial_capital * (1 + (results_nn['Return'] * results_nn['Predicted'])).cumprod()\n",
    "cumulative_return_capital_nn.plot(figsize=(12,6))\n",
    "#cumulative_return_capital_nn.head()"
   ]
  },
  {
   "cell_type": "code",
   "execution_count": 87,
   "metadata": {},
   "outputs": [
    {
     "name": "stdout",
     "output_type": "stream",
     "text": [
      "Today = 2021-03-10T00:00:00-05:00 and Start = 2017-03-11T00:00:00-05:00\n"
     ]
    }
   ],
   "source": [
    "import os\n",
    "from dotenv import load_dotenv\n",
    "import alpaca_trade_api as tradeapi\n",
    "from datetime import timedelta, date\n",
    "from dateutil.relativedelta import relativedelta\n",
    "load_dotenv()\n",
    "\n",
    "alpaca_api_key = os.getenv(\"ALPACA_API_KEY\")\n",
    "alpaca_secret_key = os.getenv(\"ALPACA_SECRET_KEY\")\n",
    "\n",
    "# Create the Alpaca API object\\n\",\n",
    "alpaca = tradeapi.REST(\n",
    "    alpaca_api_key,\n",
    "    alpaca_secret_key,\n",
    "    api_version=\"v2\"\n",
    ")\n",
    "\n",
    "today = date.today()\n",
    "start = today - timedelta(days=1460)\n",
    "today = pd.Timestamp(today, tz=\"America/New_York\").isoformat()\n",
    "start = pd.Timestamp(start, tz=\"America/New_York\").isoformat()\n",
    "\n",
    "print(f\"Today = {today} and Start = {start}\")\n",
    "\n",
    "# Set the tickers\\n\",\n",
    "tickers = [\"SPY\"]\n",
    "\n",
    "#timeframe\n",
    "timeframe = \"1D\"\n",
    "\n",
    "# Get current price data for MSFT and AAPL\n",
    "df_sp500 = alpaca.get_barset(\n",
    "    tickers,\n",
    "    timeframe,\n",
    "    start = start,\n",
    "    end = today,\n",
    "    limit=1000\n",
    ").df\n",
    "\n",
    "# Display data\n",
    "df_sp500.columns = df_sp500.columns.get_level_values(1)\n",
    "df_sp500.reset_index(inplace=True)\n",
    "#df_sp500.head()"
   ]
  },
  {
   "cell_type": "code",
   "execution_count": 88,
   "metadata": {},
   "outputs": [
    {
     "data": {
      "text/plain": [
       "dtype('<M8[ns]')"
      ]
     },
     "execution_count": 88,
     "metadata": {},
     "output_type": "execute_result"
    }
   ],
   "source": [
    "#reset index\n",
    "df_sp500['time'] = df_sp500['time'].dt.date\n",
    "df_sp500.set_index('time',inplace=True)\n",
    "df_sp500.index = pd.to_datetime(df_sp500.index)\n",
    "df_sp500.index.dtype"
   ]
  },
  {
   "cell_type": "code",
   "execution_count": 89,
   "metadata": {},
   "outputs": [],
   "source": [
    "#df['daily_return_algo'] = df['close'].dropna().pct_change()"
   ]
  },
  {
   "cell_type": "code",
   "execution_count": 90,
   "metadata": {},
   "outputs": [
    {
     "data": {
      "text/html": [
       "<div>\n",
       "<style scoped>\n",
       "    .dataframe tbody tr th:only-of-type {\n",
       "        vertical-align: middle;\n",
       "    }\n",
       "\n",
       "    .dataframe tbody tr th {\n",
       "        vertical-align: top;\n",
       "    }\n",
       "\n",
       "    .dataframe thead th {\n",
       "        text-align: right;\n",
       "    }\n",
       "</style>\n",
       "<table border=\"1\" class=\"dataframe\">\n",
       "  <thead>\n",
       "    <tr style=\"text-align: right;\">\n",
       "      <th></th>\n",
       "      <th>0</th>\n",
       "    </tr>\n",
       "    <tr>\n",
       "      <th>time</th>\n",
       "      <th></th>\n",
       "    </tr>\n",
       "  </thead>\n",
       "  <tbody>\n",
       "    <tr>\n",
       "      <th>2019-12-31</th>\n",
       "      <td>10024.602927</td>\n",
       "    </tr>\n",
       "    <tr>\n",
       "      <th>2020-01-02</th>\n",
       "      <td>10116.474618</td>\n",
       "    </tr>\n",
       "    <tr>\n",
       "      <th>2020-01-03</th>\n",
       "      <td>10041.731548</td>\n",
       "    </tr>\n",
       "    <tr>\n",
       "      <th>2020-01-06</th>\n",
       "      <td>10080.037372</td>\n",
       "    </tr>\n",
       "    <tr>\n",
       "      <th>2020-01-07</th>\n",
       "      <td>10051.697291</td>\n",
       "    </tr>\n",
       "  </tbody>\n",
       "</table>\n",
       "</div>"
      ],
      "text/plain": [
       "                       0\n",
       "time                    \n",
       "2019-12-31  10024.602927\n",
       "2020-01-02  10116.474618\n",
       "2020-01-03  10041.731548\n",
       "2020-01-06  10080.037372\n",
       "2020-01-07  10051.697291"
      ]
     },
     "execution_count": 90,
     "metadata": {},
     "output_type": "execute_result"
    }
   ],
   "source": [
    "cumulative_ret = cumulative_return_capital_nn.to_frame()\n",
    "cumulative_ret.index.dtype\n",
    "#cumulative_ret.rename(columns={'Close':'algo_close'},inplace=True)\n",
    "cumulative_ret.head()"
   ]
  },
  {
   "cell_type": "code",
   "execution_count": 91,
   "metadata": {},
   "outputs": [],
   "source": [
    "# cumulative_ret.reset_index(inplace=True)\n",
    "# cumulative_ret['time'] = cumulative_ret.dt.date\n",
    "# cumulative_ret.set_index('time', inplace=True)\n",
    "# cumulative_ret.head()"
   ]
  },
  {
   "cell_type": "code",
   "execution_count": 92,
   "metadata": {},
   "outputs": [
    {
     "data": {
      "text/html": [
       "<div>\n",
       "<style scoped>\n",
       "    .dataframe tbody tr th:only-of-type {\n",
       "        vertical-align: middle;\n",
       "    }\n",
       "\n",
       "    .dataframe tbody tr th {\n",
       "        vertical-align: top;\n",
       "    }\n",
       "\n",
       "    .dataframe thead th {\n",
       "        text-align: right;\n",
       "    }\n",
       "</style>\n",
       "<table border=\"1\" class=\"dataframe\">\n",
       "  <thead>\n",
       "    <tr style=\"text-align: right;\">\n",
       "      <th></th>\n",
       "      <th>open</th>\n",
       "      <th>high</th>\n",
       "      <th>low</th>\n",
       "      <th>close</th>\n",
       "      <th>volume</th>\n",
       "    </tr>\n",
       "    <tr>\n",
       "      <th>time</th>\n",
       "      <th></th>\n",
       "      <th></th>\n",
       "      <th></th>\n",
       "      <th></th>\n",
       "      <th></th>\n",
       "    </tr>\n",
       "  </thead>\n",
       "  <tbody>\n",
       "    <tr>\n",
       "      <th>2017-03-21</th>\n",
       "      <td>237.47</td>\n",
       "      <td>237.61</td>\n",
       "      <td>233.58</td>\n",
       "      <td>233.78</td>\n",
       "      <td>102898817</td>\n",
       "    </tr>\n",
       "    <tr>\n",
       "      <th>2017-03-22</th>\n",
       "      <td>233.77</td>\n",
       "      <td>234.61</td>\n",
       "      <td>233.05</td>\n",
       "      <td>234.27</td>\n",
       "      <td>70252351</td>\n",
       "    </tr>\n",
       "    <tr>\n",
       "      <th>2017-03-23</th>\n",
       "      <td>233.99</td>\n",
       "      <td>235.34</td>\n",
       "      <td>233.60</td>\n",
       "      <td>234.01</td>\n",
       "      <td>76534784</td>\n",
       "    </tr>\n",
       "    <tr>\n",
       "      <th>2017-03-24</th>\n",
       "      <td>234.38</td>\n",
       "      <td>235.04</td>\n",
       "      <td>232.96</td>\n",
       "      <td>233.90</td>\n",
       "      <td>82201507</td>\n",
       "    </tr>\n",
       "    <tr>\n",
       "      <th>2017-03-27</th>\n",
       "      <td>231.93</td>\n",
       "      <td>233.92</td>\n",
       "      <td>231.61</td>\n",
       "      <td>233.58</td>\n",
       "      <td>67180329</td>\n",
       "    </tr>\n",
       "  </tbody>\n",
       "</table>\n",
       "</div>"
      ],
      "text/plain": [
       "              open    high     low   close     volume\n",
       "time                                                 \n",
       "2017-03-21  237.47  237.61  233.58  233.78  102898817\n",
       "2017-03-22  233.77  234.61  233.05  234.27   70252351\n",
       "2017-03-23  233.99  235.34  233.60  234.01   76534784\n",
       "2017-03-24  234.38  235.04  232.96  233.90   82201507\n",
       "2017-03-27  231.93  233.92  231.61  233.58   67180329"
      ]
     },
     "execution_count": 92,
     "metadata": {},
     "output_type": "execute_result"
    }
   ],
   "source": [
    "df_sp500.head()"
   ]
  },
  {
   "cell_type": "code",
   "execution_count": 93,
   "metadata": {},
   "outputs": [
    {
     "data": {
      "text/html": [
       "<div>\n",
       "<style scoped>\n",
       "    .dataframe tbody tr th:only-of-type {\n",
       "        vertical-align: middle;\n",
       "    }\n",
       "\n",
       "    .dataframe tbody tr th {\n",
       "        vertical-align: top;\n",
       "    }\n",
       "\n",
       "    .dataframe thead th {\n",
       "        text-align: right;\n",
       "    }\n",
       "</style>\n",
       "<table border=\"1\" class=\"dataframe\">\n",
       "  <thead>\n",
       "    <tr style=\"text-align: right;\">\n",
       "      <th></th>\n",
       "      <th>0</th>\n",
       "    </tr>\n",
       "    <tr>\n",
       "      <th>time</th>\n",
       "      <th></th>\n",
       "    </tr>\n",
       "  </thead>\n",
       "  <tbody>\n",
       "    <tr>\n",
       "      <th>2019-12-31</th>\n",
       "      <td>10024.602927</td>\n",
       "    </tr>\n",
       "    <tr>\n",
       "      <th>2020-01-02</th>\n",
       "      <td>10116.474618</td>\n",
       "    </tr>\n",
       "    <tr>\n",
       "      <th>2020-01-03</th>\n",
       "      <td>10041.731548</td>\n",
       "    </tr>\n",
       "    <tr>\n",
       "      <th>2020-01-06</th>\n",
       "      <td>10080.037372</td>\n",
       "    </tr>\n",
       "    <tr>\n",
       "      <th>2020-01-07</th>\n",
       "      <td>10051.697291</td>\n",
       "    </tr>\n",
       "  </tbody>\n",
       "</table>\n",
       "</div>"
      ],
      "text/plain": [
       "                       0\n",
       "time                    \n",
       "2019-12-31  10024.602927\n",
       "2020-01-02  10116.474618\n",
       "2020-01-03  10041.731548\n",
       "2020-01-06  10080.037372\n",
       "2020-01-07  10051.697291"
      ]
     },
     "execution_count": 93,
     "metadata": {},
     "output_type": "execute_result"
    }
   ],
   "source": [
    "cumulative_ret.head()"
   ]
  },
  {
   "cell_type": "code",
   "execution_count": 94,
   "metadata": {},
   "outputs": [
    {
     "data": {
      "text/html": [
       "<div>\n",
       "<style scoped>\n",
       "    .dataframe tbody tr th:only-of-type {\n",
       "        vertical-align: middle;\n",
       "    }\n",
       "\n",
       "    .dataframe tbody tr th {\n",
       "        vertical-align: top;\n",
       "    }\n",
       "\n",
       "    .dataframe thead th {\n",
       "        text-align: right;\n",
       "    }\n",
       "</style>\n",
       "<table border=\"1\" class=\"dataframe\">\n",
       "  <thead>\n",
       "    <tr style=\"text-align: right;\">\n",
       "      <th></th>\n",
       "      <th>open</th>\n",
       "      <th>high</th>\n",
       "      <th>low</th>\n",
       "      <th>close</th>\n",
       "      <th>volume</th>\n",
       "      <th>0</th>\n",
       "    </tr>\n",
       "    <tr>\n",
       "      <th>time</th>\n",
       "      <th></th>\n",
       "      <th></th>\n",
       "      <th></th>\n",
       "      <th></th>\n",
       "      <th></th>\n",
       "      <th></th>\n",
       "    </tr>\n",
       "  </thead>\n",
       "  <tbody>\n",
       "    <tr>\n",
       "      <th>2021-03-04</th>\n",
       "      <td>381.22</td>\n",
       "      <td>384.00</td>\n",
       "      <td>371.8800</td>\n",
       "      <td>376.7300</td>\n",
       "      <td>168203161</td>\n",
       "      <td>13838.748711</td>\n",
       "    </tr>\n",
       "    <tr>\n",
       "      <th>2021-03-05</th>\n",
       "      <td>380.46</td>\n",
       "      <td>384.76</td>\n",
       "      <td>372.6400</td>\n",
       "      <td>383.5950</td>\n",
       "      <td>133661539</td>\n",
       "      <td>14090.926690</td>\n",
       "    </tr>\n",
       "    <tr>\n",
       "      <th>2021-03-08</th>\n",
       "      <td>384.66</td>\n",
       "      <td>387.68</td>\n",
       "      <td>381.4200</td>\n",
       "      <td>381.7400</td>\n",
       "      <td>107185328</td>\n",
       "      <td>14022.785372</td>\n",
       "    </tr>\n",
       "    <tr>\n",
       "      <th>2021-03-09</th>\n",
       "      <td>385.85</td>\n",
       "      <td>389.91</td>\n",
       "      <td>381.7299</td>\n",
       "      <td>387.1100</td>\n",
       "      <td>97898909</td>\n",
       "      <td>14220.046223</td>\n",
       "    </tr>\n",
       "    <tr>\n",
       "      <th>2021-03-10</th>\n",
       "      <td>389.69</td>\n",
       "      <td>391.40</td>\n",
       "      <td>388.1702</td>\n",
       "      <td>389.5199</td>\n",
       "      <td>101349197</td>\n",
       "      <td>14308.571163</td>\n",
       "    </tr>\n",
       "  </tbody>\n",
       "</table>\n",
       "</div>"
      ],
      "text/plain": [
       "              open    high       low     close     volume             0\n",
       "time                                                                   \n",
       "2021-03-04  381.22  384.00  371.8800  376.7300  168203161  13838.748711\n",
       "2021-03-05  380.46  384.76  372.6400  383.5950  133661539  14090.926690\n",
       "2021-03-08  384.66  387.68  381.4200  381.7400  107185328  14022.785372\n",
       "2021-03-09  385.85  389.91  381.7299  387.1100   97898909  14220.046223\n",
       "2021-03-10  389.69  391.40  388.1702  389.5199  101349197  14308.571163"
      ]
     },
     "execution_count": 94,
     "metadata": {},
     "output_type": "execute_result"
    }
   ],
   "source": [
    "#concat dfs\n",
    "together = pd.concat([df_sp500,cumulative_ret],axis=1)\n",
    "together.tail()"
   ]
  },
  {
   "cell_type": "code",
   "execution_count": 95,
   "metadata": {},
   "outputs": [
    {
     "data": {
      "text/html": [
       "<div>\n",
       "<style scoped>\n",
       "    .dataframe tbody tr th:only-of-type {\n",
       "        vertical-align: middle;\n",
       "    }\n",
       "\n",
       "    .dataframe tbody tr th {\n",
       "        vertical-align: top;\n",
       "    }\n",
       "\n",
       "    .dataframe thead th {\n",
       "        text-align: right;\n",
       "    }\n",
       "</style>\n",
       "<table border=\"1\" class=\"dataframe\">\n",
       "  <thead>\n",
       "    <tr style=\"text-align: right;\">\n",
       "      <th></th>\n",
       "      <th>open</th>\n",
       "      <th>high</th>\n",
       "      <th>low</th>\n",
       "      <th>close</th>\n",
       "      <th>volume</th>\n",
       "      <th>0</th>\n",
       "    </tr>\n",
       "    <tr>\n",
       "      <th>time</th>\n",
       "      <th></th>\n",
       "      <th></th>\n",
       "      <th></th>\n",
       "      <th></th>\n",
       "      <th></th>\n",
       "      <th></th>\n",
       "    </tr>\n",
       "  </thead>\n",
       "  <tbody>\n",
       "    <tr>\n",
       "      <th>2017-03-21</th>\n",
       "      <td>237.47</td>\n",
       "      <td>237.61</td>\n",
       "      <td>233.58</td>\n",
       "      <td>233.78</td>\n",
       "      <td>102898817</td>\n",
       "      <td>NaN</td>\n",
       "    </tr>\n",
       "    <tr>\n",
       "      <th>2017-03-22</th>\n",
       "      <td>233.77</td>\n",
       "      <td>234.61</td>\n",
       "      <td>233.05</td>\n",
       "      <td>234.27</td>\n",
       "      <td>70252351</td>\n",
       "      <td>NaN</td>\n",
       "    </tr>\n",
       "    <tr>\n",
       "      <th>2017-03-23</th>\n",
       "      <td>233.99</td>\n",
       "      <td>235.34</td>\n",
       "      <td>233.60</td>\n",
       "      <td>234.01</td>\n",
       "      <td>76534784</td>\n",
       "      <td>NaN</td>\n",
       "    </tr>\n",
       "    <tr>\n",
       "      <th>2017-03-24</th>\n",
       "      <td>234.38</td>\n",
       "      <td>235.04</td>\n",
       "      <td>232.96</td>\n",
       "      <td>233.90</td>\n",
       "      <td>82201507</td>\n",
       "      <td>NaN</td>\n",
       "    </tr>\n",
       "    <tr>\n",
       "      <th>2017-03-27</th>\n",
       "      <td>231.93</td>\n",
       "      <td>233.92</td>\n",
       "      <td>231.61</td>\n",
       "      <td>233.58</td>\n",
       "      <td>67180329</td>\n",
       "      <td>NaN</td>\n",
       "    </tr>\n",
       "  </tbody>\n",
       "</table>\n",
       "</div>"
      ],
      "text/plain": [
       "              open    high     low   close     volume   0\n",
       "time                                                     \n",
       "2017-03-21  237.47  237.61  233.58  233.78  102898817 NaN\n",
       "2017-03-22  233.77  234.61  233.05  234.27   70252351 NaN\n",
       "2017-03-23  233.99  235.34  233.60  234.01   76534784 NaN\n",
       "2017-03-24  234.38  235.04  232.96  233.90   82201507 NaN\n",
       "2017-03-27  231.93  233.92  231.61  233.58   67180329 NaN"
      ]
     },
     "execution_count": 95,
     "metadata": {},
     "output_type": "execute_result"
    }
   ],
   "source": [
    "#settings\n",
    "pd.set_option('display.max_rows', None)\n",
    "together.head()"
   ]
  },
  {
   "cell_type": "code",
   "execution_count": 96,
   "metadata": {},
   "outputs": [],
   "source": [
    "together['market_daily_return'] = together['close'].dropna().pct_change()\n",
    "#together.head()\n",
    "#together = together[1:]\n",
    "#together = together.drop(columns)"
   ]
  },
  {
   "cell_type": "code",
   "execution_count": 97,
   "metadata": {},
   "outputs": [
    {
     "name": "stdout",
     "output_type": "stream",
     "text": [
      "2019-12-31 00:00:00\n"
     ]
    }
   ],
   "source": [
    "print(f\"{cumulative_return_capital_nn.index[0]}\")"
   ]
  },
  {
   "cell_type": "code",
   "execution_count": 98,
   "metadata": {},
   "outputs": [],
   "source": [
    "#together = together.loc['2020-11-16':]\n",
    "#together"
   ]
  },
  {
   "cell_type": "code",
   "execution_count": 99,
   "metadata": {},
   "outputs": [
    {
     "data": {
      "text/html": [
       "<div>\n",
       "<style scoped>\n",
       "    .dataframe tbody tr th:only-of-type {\n",
       "        vertical-align: middle;\n",
       "    }\n",
       "\n",
       "    .dataframe tbody tr th {\n",
       "        vertical-align: top;\n",
       "    }\n",
       "\n",
       "    .dataframe thead th {\n",
       "        text-align: right;\n",
       "    }\n",
       "</style>\n",
       "<table border=\"1\" class=\"dataframe\">\n",
       "  <thead>\n",
       "    <tr style=\"text-align: right;\">\n",
       "      <th></th>\n",
       "      <th>open</th>\n",
       "      <th>high</th>\n",
       "      <th>low</th>\n",
       "      <th>close</th>\n",
       "      <th>volume</th>\n",
       "      <th>0</th>\n",
       "      <th>market_daily_return</th>\n",
       "    </tr>\n",
       "    <tr>\n",
       "      <th>time</th>\n",
       "      <th></th>\n",
       "      <th></th>\n",
       "      <th></th>\n",
       "      <th></th>\n",
       "      <th></th>\n",
       "      <th></th>\n",
       "      <th></th>\n",
       "    </tr>\n",
       "  </thead>\n",
       "  <tbody>\n",
       "    <tr>\n",
       "      <th>2019-12-31</th>\n",
       "      <td>320.53</td>\n",
       "      <td>322.13</td>\n",
       "      <td>320.15</td>\n",
       "      <td>321.89</td>\n",
       "      <td>38134256</td>\n",
       "      <td>10024.602927</td>\n",
       "      <td>0.002460</td>\n",
       "    </tr>\n",
       "    <tr>\n",
       "      <th>2020-01-02</th>\n",
       "      <td>323.54</td>\n",
       "      <td>324.85</td>\n",
       "      <td>322.53</td>\n",
       "      <td>324.84</td>\n",
       "      <td>48217559</td>\n",
       "      <td>10116.474618</td>\n",
       "      <td>0.009165</td>\n",
       "    </tr>\n",
       "    <tr>\n",
       "      <th>2020-01-03</th>\n",
       "      <td>321.16</td>\n",
       "      <td>323.64</td>\n",
       "      <td>321.10</td>\n",
       "      <td>322.44</td>\n",
       "      <td>58408809</td>\n",
       "      <td>10041.731548</td>\n",
       "      <td>-0.007388</td>\n",
       "    </tr>\n",
       "    <tr>\n",
       "      <th>2020-01-06</th>\n",
       "      <td>320.49</td>\n",
       "      <td>323.73</td>\n",
       "      <td>320.36</td>\n",
       "      <td>323.67</td>\n",
       "      <td>43105385</td>\n",
       "      <td>10080.037372</td>\n",
       "      <td>0.003815</td>\n",
       "    </tr>\n",
       "    <tr>\n",
       "      <th>2020-01-07</th>\n",
       "      <td>323.02</td>\n",
       "      <td>323.54</td>\n",
       "      <td>322.24</td>\n",
       "      <td>322.76</td>\n",
       "      <td>33909984</td>\n",
       "      <td>10051.697291</td>\n",
       "      <td>-0.002812</td>\n",
       "    </tr>\n",
       "  </tbody>\n",
       "</table>\n",
       "</div>"
      ],
      "text/plain": [
       "              open    high     low   close    volume             0  \\\n",
       "time                                                                 \n",
       "2019-12-31  320.53  322.13  320.15  321.89  38134256  10024.602927   \n",
       "2020-01-02  323.54  324.85  322.53  324.84  48217559  10116.474618   \n",
       "2020-01-03  321.16  323.64  321.10  322.44  58408809  10041.731548   \n",
       "2020-01-06  320.49  323.73  320.36  323.67  43105385  10080.037372   \n",
       "2020-01-07  323.02  323.54  322.24  322.76  33909984  10051.697291   \n",
       "\n",
       "            market_daily_return  \n",
       "time                             \n",
       "2019-12-31             0.002460  \n",
       "2020-01-02             0.009165  \n",
       "2020-01-03            -0.007388  \n",
       "2020-01-06             0.003815  \n",
       "2020-01-07            -0.002812  "
      ]
     },
     "execution_count": 99,
     "metadata": {},
     "output_type": "execute_result"
    }
   ],
   "source": [
    "#together = together.loc['2020-11-16':]\n",
    "\n",
    "together = together.loc[cumulative_return_capital_nn.index[0]:]\n",
    "together.dropna(inplace=True)\n",
    "together.head()"
   ]
  },
  {
   "cell_type": "code",
   "execution_count": 100,
   "metadata": {},
   "outputs": [
    {
     "data": {
      "text/html": [
       "<div>\n",
       "<style scoped>\n",
       "    .dataframe tbody tr th:only-of-type {\n",
       "        vertical-align: middle;\n",
       "    }\n",
       "\n",
       "    .dataframe tbody tr th {\n",
       "        vertical-align: top;\n",
       "    }\n",
       "\n",
       "    .dataframe thead th {\n",
       "        text-align: right;\n",
       "    }\n",
       "</style>\n",
       "<table border=\"1\" class=\"dataframe\">\n",
       "  <thead>\n",
       "    <tr style=\"text-align: right;\">\n",
       "      <th></th>\n",
       "      <th>open</th>\n",
       "      <th>high</th>\n",
       "      <th>low</th>\n",
       "      <th>close</th>\n",
       "      <th>volume</th>\n",
       "      <th>Algo</th>\n",
       "      <th>market_daily_return</th>\n",
       "      <th>SP500</th>\n",
       "    </tr>\n",
       "    <tr>\n",
       "      <th>time</th>\n",
       "      <th></th>\n",
       "      <th></th>\n",
       "      <th></th>\n",
       "      <th></th>\n",
       "      <th></th>\n",
       "      <th></th>\n",
       "      <th></th>\n",
       "      <th></th>\n",
       "    </tr>\n",
       "  </thead>\n",
       "  <tbody>\n",
       "    <tr>\n",
       "      <th>2019-12-31</th>\n",
       "      <td>320.53</td>\n",
       "      <td>322.13</td>\n",
       "      <td>320.15</td>\n",
       "      <td>321.89</td>\n",
       "      <td>38134256</td>\n",
       "      <td>10024.602927</td>\n",
       "      <td>0.002460</td>\n",
       "      <td>10024.602927</td>\n",
       "    </tr>\n",
       "    <tr>\n",
       "      <th>2020-01-02</th>\n",
       "      <td>323.54</td>\n",
       "      <td>324.85</td>\n",
       "      <td>322.53</td>\n",
       "      <td>324.84</td>\n",
       "      <td>48217559</td>\n",
       "      <td>10116.474618</td>\n",
       "      <td>0.009165</td>\n",
       "      <td>10116.474618</td>\n",
       "    </tr>\n",
       "    <tr>\n",
       "      <th>2020-01-03</th>\n",
       "      <td>321.16</td>\n",
       "      <td>323.64</td>\n",
       "      <td>321.10</td>\n",
       "      <td>322.44</td>\n",
       "      <td>58408809</td>\n",
       "      <td>10041.731548</td>\n",
       "      <td>-0.007388</td>\n",
       "      <td>10041.731548</td>\n",
       "    </tr>\n",
       "    <tr>\n",
       "      <th>2020-01-06</th>\n",
       "      <td>320.49</td>\n",
       "      <td>323.73</td>\n",
       "      <td>320.36</td>\n",
       "      <td>323.67</td>\n",
       "      <td>43105385</td>\n",
       "      <td>10080.037372</td>\n",
       "      <td>0.003815</td>\n",
       "      <td>10080.037372</td>\n",
       "    </tr>\n",
       "    <tr>\n",
       "      <th>2020-01-07</th>\n",
       "      <td>323.02</td>\n",
       "      <td>323.54</td>\n",
       "      <td>322.24</td>\n",
       "      <td>322.76</td>\n",
       "      <td>33909984</td>\n",
       "      <td>10051.697291</td>\n",
       "      <td>-0.002812</td>\n",
       "      <td>10051.697291</td>\n",
       "    </tr>\n",
       "  </tbody>\n",
       "</table>\n",
       "</div>"
      ],
      "text/plain": [
       "              open    high     low   close    volume          Algo  \\\n",
       "time                                                                 \n",
       "2019-12-31  320.53  322.13  320.15  321.89  38134256  10024.602927   \n",
       "2020-01-02  323.54  324.85  322.53  324.84  48217559  10116.474618   \n",
       "2020-01-03  321.16  323.64  321.10  322.44  58408809  10041.731548   \n",
       "2020-01-06  320.49  323.73  320.36  323.67  43105385  10080.037372   \n",
       "2020-01-07  323.02  323.54  322.24  322.76  33909984  10051.697291   \n",
       "\n",
       "            market_daily_return         SP500  \n",
       "time                                           \n",
       "2019-12-31             0.002460  10024.602927  \n",
       "2020-01-02             0.009165  10116.474618  \n",
       "2020-01-03            -0.007388  10041.731548  \n",
       "2020-01-06             0.003815  10080.037372  \n",
       "2020-01-07            -0.002812  10051.697291  "
      ]
     },
     "execution_count": 100,
     "metadata": {},
     "output_type": "execute_result"
    }
   ],
   "source": [
    "together['SP500'] = (1 + together['market_daily_return']).cumprod() * 10000\n",
    "together = together.rename(columns = {0:\"Algo\"})\n",
    "together.head()"
   ]
  },
  {
   "cell_type": "code",
   "execution_count": 101,
   "metadata": {},
   "outputs": [],
   "source": [
    "#results_nn.loc['2020-10-01':'2020-11-01']"
   ]
  },
  {
   "cell_type": "code",
   "execution_count": 102,
   "metadata": {},
   "outputs": [
    {
     "data": {
      "text/plain": [
       "<matplotlib.axes._subplots.AxesSubplot at 0x23641d9a388>"
      ]
     },
     "execution_count": 102,
     "metadata": {},
     "output_type": "execute_result"
    },
    {
     "data": {
      "image/png": "[encoded data removed]",
      "text/plain": [
       "<Figure size 1440x864 with 1 Axes>"
      ]
     },
     "metadata": {
      "needs_background": "light"
     },
     "output_type": "display_data"
    }
   ],
   "source": [
    "together[[\"SP500\",\"Algo\"]].plot(figsize=(20,12))"
   ]
  },
  {
   "cell_type": "code",
   "execution_count": null,
   "metadata": {},
   "outputs": [],
   "source": []
  }
 ],
 "metadata": {
  "kernelspec": {
   "display_name": "Python 3",
   "language": "python",
   "name": "python3"
  },
  "language_info": {
   "codemirror_mode": {
    "name": "ipython",
    "version": 3
   },
   "file_extension": ".py",
   "mimetype": "text/x-python",
   "name": "python",
   "nbconvert_exporter": "python",
   "pygments_lexer": "ipython3",
   "version": "3.8.5"
  }
 },
 "nbformat": 4,
 "nbformat_minor": 4
}
