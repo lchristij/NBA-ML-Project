{
 "cells": [
  {
   "cell_type": "code",
   "execution_count": 129,
   "id": "military-forty",
   "metadata": {},
   "outputs": [],
   "source": [
    " import pandas as pd\n",
    "from pathlib import Path\n",
    "from sklearn.preprocessing import StandardScaler\n",
    "from sklearn.decomposition import PCA\n",
    "from sklearn.cluster import KMeans\n",
    "import hvplot.pandas"
   ]
  },
  {
   "cell_type": "code",
   "execution_count": 130,
   "id": "technical-hospital",
   "metadata": {},
   "outputs": [],
   "source": [
    "csvpath = Path('../Project-03/teamGameStats.csv')\n",
    "teamstats_df = pd.read_csv(csvpath)"
   ]
  },
  {
   "cell_type": "code",
   "execution_count": 131,
   "id": "duplicate-clothing",
   "metadata": {
    "scrolled": false
   },
   "outputs": [
    {
     "name": "stdout",
     "output_type": "stream",
     "text": [
      "<class 'pandas.core.frame.DataFrame'>\n",
      "RangeIndex: 1700 entries, 0 to 1699\n",
      "Data columns (total 24 columns):\n",
      " #   Column    Non-Null Count  Dtype  \n",
      "---  ------    --------------  -----  \n",
      " 0   TEAM      1700 non-null   object \n",
      " 1   MATCHUP   1700 non-null   object \n",
      " 2   GAMEDATE  1700 non-null   object \n",
      " 3   W/L       1700 non-null   object \n",
      " 4   MIN       1700 non-null   int64  \n",
      " 5   PTS       1700 non-null   int64  \n",
      " 6   FGM       1700 non-null   int64  \n",
      " 7   FGA       1700 non-null   int64  \n",
      " 8   FG%       1700 non-null   float64\n",
      " 9   3PM       1700 non-null   int64  \n",
      " 10  3PA       1700 non-null   int64  \n",
      " 11  3P%       1700 non-null   float64\n",
      " 12  FTM       1700 non-null   int64  \n",
      " 13  FTA       1700 non-null   int64  \n",
      " 14  FT%       1700 non-null   float64\n",
      " 15  OREB      1700 non-null   int64  \n",
      " 16  DREB      1700 non-null   int64  \n",
      " 17  REB       1700 non-null   int64  \n",
      " 18  AST       1700 non-null   int64  \n",
      " 19  TOV       1700 non-null   int64  \n",
      " 20  STL       1700 non-null   int64  \n",
      " 21  BLK       1700 non-null   int64  \n",
      " 22  PF        1700 non-null   int64  \n",
      " 23  +/-       1700 non-null   int64  \n",
      "dtypes: float64(3), int64(17), object(4)\n",
      "memory usage: 318.9+ KB\n"
     ]
    }
   ],
   "source": [
    "teamstats_df.info('include=all')"
   ]
  },
  {
   "cell_type": "code",
   "execution_count": 132,
   "id": "substantial-stanford",
   "metadata": {},
   "outputs": [],
   "source": [
    "teamstats_df = teamstats_df.drop(columns=['TEAM','MATCHUP','GAMEDATE', 'W/L','+/-','PTS'])"
   ]
  },
  {
   "cell_type": "code",
   "execution_count": 133,
   "id": "concerned-mountain",
   "metadata": {},
   "outputs": [
    {
     "name": "stdout",
     "output_type": "stream",
     "text": [
      "[[-0.22424044  0.76382311  0.56422903  0.42595961  0.06949194 -0.37449775\n",
      "   0.47067759  1.55063575  1.72481131 -0.13135184  1.21146975  0.48435507\n",
      "   1.06245855 -0.9517666  -0.99793281  0.13949991  0.88429842 -0.09780737]\n",
      " [-0.22424044 -0.40652325 -0.79847092  0.07156016  1.2949722   1.1745197\n",
      "   0.62190645 -0.67534997 -0.67676158 -0.13135184 -0.8150259   0.86025263\n",
      "   0.27682152  0.26706822  0.01008013 -0.54392906  1.30421667  1.35647125]\n",
      " [ 3.66564477 -0.0164078   1.92692898 -1.12220641 -1.64618043 -1.07859658\n",
      "  -1.66979243  1.20817641  1.15973533  0.20889345  2.94846602 -0.45538884\n",
      "   1.21958596  0.06392908 -0.24192311 -0.54392906 -0.37545631 -0.82494667]\n",
      " [-0.22424044 -0.60158098 -0.1928265  -0.54397573  0.8047801   0.61124063\n",
      "   0.51720954  0.00956872 -0.1116856   0.30610639  1.7904685   0.48435507\n",
      "   1.37671337  0.67334649  0.76608983  0.4812144  -1.63521105 -1.55208598]\n",
      " [-0.22424044 -0.99169643  0.41281792 -1.30873244 -0.66579622  0.18878132\n",
      "  -1.01834503  0.35202806  0.87719735 -0.96738312  0.92197037 -0.07949128\n",
      "   0.43394893 -1.35804488 -1.24993604 -0.20221457 -0.79537456 -0.5825669 ]]\n"
     ]
    }
   ],
   "source": [
    "teamstats_scaled = StandardScaler().fit_transform(teamstats_df)\n",
    "print(teamstats_scaled[0:5])"
   ]
  },
  {
   "cell_type": "code",
   "execution_count": 134,
   "id": "missing-nutrition",
   "metadata": {},
   "outputs": [],
   "source": [
    "# defining 'W/L' column as feature set\n",
    "#X = teamstats_df.copy()\n",
    "#X.drop('W/L', axis=1, inplace=True)\n",
    "#X.head(20)"
   ]
  },
  {
   "cell_type": "code",
   "execution_count": null,
   "id": "inside-jones",
   "metadata": {},
   "outputs": [],
   "source": []
  },
  {
   "cell_type": "code",
   "execution_count": 135,
   "id": "spread-boring",
   "metadata": {},
   "outputs": [],
   "source": [
    "# converting 'W/L' to 0/1's\n",
    "#y=teamstats_df['W/L'].apply(lambda x: 1 if x==\"W\" else 0)\n"
   ]
  },
  {
   "cell_type": "code",
   "execution_count": 136,
   "id": "contemporary-luxury",
   "metadata": {},
   "outputs": [],
   "source": [
    "pca = PCA(n_components=5)\n",
    "\n",
    "teamstats_pca = pca.fit_transform(teamstats_scaled)"
   ]
  },
  {
   "cell_type": "code",
   "execution_count": 137,
   "id": "streaming-envelope",
   "metadata": {},
   "outputs": [
    {
     "data": {
      "text/html": [
       "<div>\n",
       "<style scoped>\n",
       "    .dataframe tbody tr th:only-of-type {\n",
       "        vertical-align: middle;\n",
       "    }\n",
       "\n",
       "    .dataframe tbody tr th {\n",
       "        vertical-align: top;\n",
       "    }\n",
       "\n",
       "    .dataframe thead th {\n",
       "        text-align: right;\n",
       "    }\n",
       "</style>\n",
       "<table border=\"1\" class=\"dataframe\">\n",
       "  <thead>\n",
       "    <tr style=\"text-align: right;\">\n",
       "      <th></th>\n",
       "      <th>pc01</th>\n",
       "      <th>pc02</th>\n",
       "      <th>pc03</th>\n",
       "      <th>pc04</th>\n",
       "      <th>pc05</th>\n",
       "    </tr>\n",
       "  </thead>\n",
       "  <tbody>\n",
       "    <tr>\n",
       "      <th>0</th>\n",
       "      <td>0.542188</td>\n",
       "      <td>1.274213</td>\n",
       "      <td>1.962342</td>\n",
       "      <td>0.978410</td>\n",
       "      <td>-0.393242</td>\n",
       "    </tr>\n",
       "    <tr>\n",
       "      <th>1</th>\n",
       "      <td>-1.335047</td>\n",
       "      <td>-0.056860</td>\n",
       "      <td>0.128731</td>\n",
       "      <td>-2.131515</td>\n",
       "      <td>-0.963441</td>\n",
       "    </tr>\n",
       "    <tr>\n",
       "      <th>2</th>\n",
       "      <td>2.502751</td>\n",
       "      <td>3.597007</td>\n",
       "      <td>0.862637</td>\n",
       "      <td>2.863725</td>\n",
       "      <td>0.299488</td>\n",
       "    </tr>\n",
       "    <tr>\n",
       "      <th>3</th>\n",
       "      <td>-0.204543</td>\n",
       "      <td>1.468486</td>\n",
       "      <td>-0.261556</td>\n",
       "      <td>-0.741929</td>\n",
       "      <td>-0.534874</td>\n",
       "    </tr>\n",
       "    <tr>\n",
       "      <th>4</th>\n",
       "      <td>2.529707</td>\n",
       "      <td>1.032873</td>\n",
       "      <td>-0.889897</td>\n",
       "      <td>0.402533</td>\n",
       "      <td>-0.507443</td>\n",
       "    </tr>\n",
       "  </tbody>\n",
       "</table>\n",
       "</div>"
      ],
      "text/plain": [
       "       pc01      pc02      pc03      pc04      pc05\n",
       "0  0.542188  1.274213  1.962342  0.978410 -0.393242\n",
       "1 -1.335047 -0.056860  0.128731 -2.131515 -0.963441\n",
       "2  2.502751  3.597007  0.862637  2.863725  0.299488\n",
       "3 -0.204543  1.468486 -0.261556 -0.741929 -0.534874\n",
       "4  2.529707  1.032873 -0.889897  0.402533 -0.507443"
      ]
     },
     "execution_count": 137,
     "metadata": {},
     "output_type": "execute_result"
    }
   ],
   "source": [
    "df_teamstats_pca = pd.DataFrame(data=teamstats_pca, columns=['pc01', 'pc02', 'pc03', 'pc04', 'pc05']) #, 'pc06', 'pc07', 'pc08', 'pc09', 'pc10', 'pc11', 'pc12', 'pc13', 'pc14', 'pc15', 'pc16', 'pc17', 'pc18', 'pc19', 'pc20'])\n",
    "df_teamstats_pca.head()"
   ]
  },
  {
   "cell_type": "code",
   "execution_count": 138,
   "id": "increasing-dollar",
   "metadata": {},
   "outputs": [
    {
     "data": {
      "text/plain": [
       "array([0.1895116 , 0.13577759, 0.12038145, 0.08962069, 0.0857849 ])"
      ]
     },
     "execution_count": 138,
     "metadata": {},
     "output_type": "execute_result"
    }
   ],
   "source": [
    "pca.explained_variance_ratio_"
   ]
  },
  {
   "cell_type": "code",
   "execution_count": 144,
   "id": "marked-voice",
   "metadata": {},
   "outputs": [
    {
     "data": {},
     "metadata": {},
     "output_type": "display_data"
    },
    {
     "data": {
      "application/vnd.holoviews_exec.v0+json": "",
      "text/html": [
       "<div id='6527'>\n",
       "\n",
       "\n",
       "\n",
       "\n",
       "\n",
       "  <div class=\"bk-root\" id=\"6b7b2ba6-4b08-4132-af7b-1f8bc19c6b0d\" data-root-id=\"6527\"></div>\n",
       "</div>\n",
       "<script type=\"application/javascript\">(function(root) {\n",
       "  function embed_document(root) {\n",
       "    var docs_json = {\"0153bde1-c042-42f5-a46b-e72d7435a152\":{\"roots\":{\"references\":[{\"attributes\":{\"margin\":[5,5,5,5],\"name\":\"HSpacer14730\",\"sizing_mode\":\"stretch_width\"},\"id\":\"6591\",\"type\":\"Spacer\"},{\"attributes\":{},\"id\":\"6551\",\"type\":\"WheelZoomTool\"},{\"attributes\":{\"active_drag\":\"auto\",\"active_inspect\":\"auto\",\"active_multi\":null,\"active_scroll\":\"auto\",\"active_tap\":\"auto\",\"tools\":[{\"id\":\"6531\"},{\"id\":\"6549\"},{\"id\":\"6550\"},{\"id\":\"6551\"},{\"id\":\"6552\"},{\"id\":\"6553\"}]},\"id\":\"6555\",\"type\":\"Toolbar\"},{\"attributes\":{\"below\":[{\"id\":\"6541\"}],\"center\":[{\"id\":\"6544\"},{\"id\":\"6548\"}],\"left\":[{\"id\":\"6545\"}],\"margin\":[5,5,5,5],\"min_border_bottom\":10,\"min_border_left\":10,\"min_border_right\":10,\"min_border_top\":10,\"plot_height\":300,\"plot_width\":700,\"renderers\":[{\"id\":\"6568\"}],\"sizing_mode\":\"fixed\",\"title\":{\"id\":\"6533\"},\"toolbar\":{\"id\":\"6555\"},\"x_range\":{\"id\":\"6529\"},\"x_scale\":{\"id\":\"6537\"},\"y_range\":{\"id\":\"6530\"},\"y_scale\":{\"id\":\"6539\"}},\"id\":\"6532\",\"subtype\":\"Figure\",\"type\":\"Plot\"},{\"attributes\":{\"overlay\":{\"id\":\"6554\"}},\"id\":\"6552\",\"type\":\"BoxZoomTool\"},{\"attributes\":{},\"id\":\"6553\",\"type\":\"ResetTool\"},{\"attributes\":{\"margin\":[5,5,5,5],\"name\":\"HSpacer14729\",\"sizing_mode\":\"stretch_width\"},\"id\":\"6528\",\"type\":\"Spacer\"},{\"attributes\":{\"line_color\":\"#1f77b3\",\"line_width\":2,\"x\":{\"field\":\"k\"},\"y\":{\"field\":\"inertia\"}},\"id\":\"6565\",\"type\":\"Line\"},{\"attributes\":{\"line_alpha\":0.1,\"line_color\":\"#1f77b3\",\"line_width\":2,\"x\":{\"field\":\"k\"},\"y\":{\"field\":\"inertia\"}},\"id\":\"6566\",\"type\":\"Line\"},{\"attributes\":{\"line_alpha\":0.2,\"line_color\":\"#1f77b3\",\"line_width\":2,\"x\":{\"field\":\"k\"},\"y\":{\"field\":\"inertia\"}},\"id\":\"6567\",\"type\":\"Line\"},{\"attributes\":{},\"id\":\"6571\",\"type\":\"BasicTickFormatter\"},{\"attributes\":{},\"id\":\"6563\",\"type\":\"Selection\"},{\"attributes\":{\"data_source\":{\"id\":\"6562\"},\"glyph\":{\"id\":\"6565\"},\"hover_glyph\":null,\"muted_glyph\":{\"id\":\"6567\"},\"nonselection_glyph\":{\"id\":\"6566\"},\"selection_glyph\":null,\"view\":{\"id\":\"6569\"}},\"id\":\"6568\",\"type\":\"GlyphRenderer\"},{\"attributes\":{\"axis\":{\"id\":\"6541\"},\"grid_line_color\":null,\"ticker\":null},\"id\":\"6544\",\"type\":\"Grid\"},{\"attributes\":{},\"id\":\"6550\",\"type\":\"PanTool\"},{\"attributes\":{},\"id\":\"6537\",\"type\":\"LinearScale\"},{\"attributes\":{\"ticks\":[1,2,3,4,5,6,7,8,9]},\"id\":\"6570\",\"type\":\"FixedTicker\"},{\"attributes\":{\"callback\":null,\"renderers\":[{\"id\":\"6568\"}],\"tags\":[\"hv_created\"],\"tooltips\":[[\"k\",\"@{k}\"],[\"inertia\",\"@{inertia}\"]]},\"id\":\"6531\",\"type\":\"HoverTool\"},{\"attributes\":{\"end\":9.0,\"reset_end\":9.0,\"reset_start\":1.0,\"start\":1.0,\"tags\":[[[\"k\",\"k\",null]]]},\"id\":\"6529\",\"type\":\"Range1d\"},{\"attributes\":{\"source\":{\"id\":\"6562\"}},\"id\":\"6569\",\"type\":\"CDSView\"},{\"attributes\":{},\"id\":\"6575\",\"type\":\"BasicTickFormatter\"},{\"attributes\":{\"text\":\"Elbow Curve\",\"text_color\":{\"value\":\"black\"},\"text_font_size\":{\"value\":\"12pt\"}},\"id\":\"6533\",\"type\":\"Title\"},{\"attributes\":{},\"id\":\"6582\",\"type\":\"UnionRenderers\"},{\"attributes\":{\"data\":{\"inertia\":{\"__ndarray__\":\"gxghgCeE1EBtWAxUTxfQQHBBTfz3EMtADpX/s1XRx0CRg+0RsmjGQPbHrdxtQ8VAtVjfbzFQxEAiGq4DuI3DQKmPcMeexsJA\",\"dtype\":\"float64\",\"order\":\"little\",\"shape\":[9]},\"k\":[1,2,3,4,5,6,7,8,9]},\"selected\":{\"id\":\"6563\"},\"selection_policy\":{\"id\":\"6582\"}},\"id\":\"6562\",\"type\":\"ColumnDataSource\"},{\"attributes\":{\"bottom_units\":\"screen\",\"fill_alpha\":0.5,\"fill_color\":\"lightgrey\",\"left_units\":\"screen\",\"level\":\"overlay\",\"line_alpha\":1.0,\"line_color\":\"black\",\"line_dash\":[4,4],\"line_width\":2,\"right_units\":\"screen\",\"top_units\":\"screen\"},\"id\":\"6554\",\"type\":\"BoxAnnotation\"},{\"attributes\":{\"end\":22148.154868788068,\"reset_end\":22148.154868788068,\"reset_start\":8473.702788018958,\"start\":8473.702788018958,\"tags\":[[[\"inertia\",\"inertia\",null]]]},\"id\":\"6530\",\"type\":\"Range1d\"},{\"attributes\":{},\"id\":\"6539\",\"type\":\"LinearScale\"},{\"attributes\":{\"axis_label\":\"k\",\"bounds\":\"auto\",\"formatter\":{\"id\":\"6571\"},\"major_label_orientation\":\"horizontal\",\"ticker\":{\"id\":\"6570\"}},\"id\":\"6541\",\"type\":\"LinearAxis\"},{\"attributes\":{\"axis\":{\"id\":\"6545\"},\"dimension\":1,\"grid_line_color\":null,\"ticker\":null},\"id\":\"6548\",\"type\":\"Grid\"},{\"attributes\":{},\"id\":\"6549\",\"type\":\"SaveTool\"},{\"attributes\":{\"axis_label\":\"inertia\",\"bounds\":\"auto\",\"formatter\":{\"id\":\"6575\"},\"major_label_orientation\":\"horizontal\",\"ticker\":{\"id\":\"6546\"}},\"id\":\"6545\",\"type\":\"LinearAxis\"},{\"attributes\":{\"children\":[{\"id\":\"6528\"},{\"id\":\"6532\"},{\"id\":\"6591\"}],\"margin\":[0,0,0,0],\"name\":\"Row14725\",\"tags\":[\"embedded\"]},\"id\":\"6527\",\"type\":\"Row\"},{\"attributes\":{},\"id\":\"6546\",\"type\":\"BasicTicker\"}],\"root_ids\":[\"6527\"]},\"title\":\"Bokeh Application\",\"version\":\"2.2.3\"}};\n",
       "    var render_items = [{\"docid\":\"0153bde1-c042-42f5-a46b-e72d7435a152\",\"root_ids\":[\"6527\"],\"roots\":{\"6527\":\"6b7b2ba6-4b08-4132-af7b-1f8bc19c6b0d\"}}];\n",
       "    root.Bokeh.embed.embed_items_notebook(docs_json, render_items);\n",
       "  }\n",
       "  if (root.Bokeh !== undefined && root.Bokeh.Panel !== undefined) {\n",
       "    embed_document(root);\n",
       "  } else {\n",
       "    var attempts = 0;\n",
       "    var timer = setInterval(function(root) {\n",
       "      if (root.Bokeh !== undefined && root.Bokeh.Panel !== undefined) {\n",
       "        clearInterval(timer);\n",
       "        embed_document(root);\n",
       "      } else if (document.readyState == \"complete\") {\n",
       "        attempts++;\n",
       "        if (attempts > 100) {\n",
       "          clearInterval(timer);\n",
       "          console.log(\"Bokeh: ERROR: Unable to run BokehJS code because BokehJS library is missing\");\n",
       "        }\n",
       "      }\n",
       "    }, 10, root)\n",
       "  }\n",
       "})(window);</script>"
      ],
      "text/plain": [
       ":Curve   [k]   (inertia)"
      ]
     },
     "execution_count": 144,
     "metadata": {
      "application/vnd.holoviews_exec.v0+json": {
       "id": "6527"
      }
     },
     "output_type": "execute_result"
    }
   ],
   "source": [
    "inertia = []\n",
    "k = list(range(1,10))\n",
    "\n",
    "# Calculate the inertia for the range of k values\n",
    "for i in k:\n",
    "    km = KMeans(n_clusters=i, random_state=0)\n",
    "    km.fit(df_teamstats_pca)\n",
    "    inertia.append(km.inertia_)\n",
    "    \n",
    "\n",
    "# Creating the Elbow Curve\n",
    "elbow_data = {\"k\": k, \"inertia\": inertia}\n",
    "df_elbow = pd.DataFrame(elbow_data)\n",
    "df_elbow.hvplot.line(x=\"k\", y=\"inertia\", xticks=k, title=\"Elbow Curve\")"
   ]
  },
  {
   "cell_type": "code",
   "execution_count": 147,
   "id": "dangerous-winter",
   "metadata": {},
   "outputs": [
    {
     "data": {
      "text/html": [
       "<div>\n",
       "<style scoped>\n",
       "    .dataframe tbody tr th:only-of-type {\n",
       "        vertical-align: middle;\n",
       "    }\n",
       "\n",
       "    .dataframe tbody tr th {\n",
       "        vertical-align: top;\n",
       "    }\n",
       "\n",
       "    .dataframe thead th {\n",
       "        text-align: right;\n",
       "    }\n",
       "</style>\n",
       "<table border=\"1\" class=\"dataframe\">\n",
       "  <thead>\n",
       "    <tr style=\"text-align: right;\">\n",
       "      <th></th>\n",
       "      <th>pc01</th>\n",
       "      <th>pc02</th>\n",
       "      <th>pc03</th>\n",
       "      <th>pc04</th>\n",
       "      <th>pc05</th>\n",
       "      <th>class</th>\n",
       "    </tr>\n",
       "  </thead>\n",
       "  <tbody>\n",
       "    <tr>\n",
       "      <th>0</th>\n",
       "      <td>0.542188</td>\n",
       "      <td>1.274213</td>\n",
       "      <td>1.962342</td>\n",
       "      <td>0.978410</td>\n",
       "      <td>-0.393242</td>\n",
       "      <td>1</td>\n",
       "    </tr>\n",
       "    <tr>\n",
       "      <th>1</th>\n",
       "      <td>-1.335047</td>\n",
       "      <td>-0.056860</td>\n",
       "      <td>0.128731</td>\n",
       "      <td>-2.131515</td>\n",
       "      <td>-0.963441</td>\n",
       "      <td>2</td>\n",
       "    </tr>\n",
       "    <tr>\n",
       "      <th>2</th>\n",
       "      <td>2.502751</td>\n",
       "      <td>3.597007</td>\n",
       "      <td>0.862637</td>\n",
       "      <td>2.863725</td>\n",
       "      <td>0.299488</td>\n",
       "      <td>1</td>\n",
       "    </tr>\n",
       "    <tr>\n",
       "      <th>3</th>\n",
       "      <td>-0.204543</td>\n",
       "      <td>1.468486</td>\n",
       "      <td>-0.261556</td>\n",
       "      <td>-0.741929</td>\n",
       "      <td>-0.534874</td>\n",
       "      <td>1</td>\n",
       "    </tr>\n",
       "    <tr>\n",
       "      <th>4</th>\n",
       "      <td>2.529707</td>\n",
       "      <td>1.032873</td>\n",
       "      <td>-0.889897</td>\n",
       "      <td>0.402533</td>\n",
       "      <td>-0.507443</td>\n",
       "      <td>1</td>\n",
       "    </tr>\n",
       "  </tbody>\n",
       "</table>\n",
       "</div>"
      ],
      "text/plain": [
       "       pc01      pc02      pc03      pc04      pc05  class\n",
       "0  0.542188  1.274213  1.962342  0.978410 -0.393242      1\n",
       "1 -1.335047 -0.056860  0.128731 -2.131515 -0.963441      2\n",
       "2  2.502751  3.597007  0.862637  2.863725  0.299488      1\n",
       "3 -0.204543  1.468486 -0.261556 -0.741929 -0.534874      1\n",
       "4  2.529707  1.032873 -0.889897  0.402533 -0.507443      1"
      ]
     },
     "execution_count": 147,
     "metadata": {},
     "output_type": "execute_result"
    }
   ],
   "source": [
    " # Predicting clusters with k2\n",
    "\n",
    "# Initialize the K-Means model\n",
    "model = KMeans(n_clusters=3, random_state=0)\n",
    "\n",
    "# Fit the model\n",
    "model.fit(df_teamstats_pca)\n",
    "\n",
    "# Predict clusters\n",
    "predictions = model.predict(df_teamstats_pca)\n",
    "\n",
    "# Add the predicted class columns\n",
    "df_teamstats_pca[\"class\"] = model.labels_\n",
    "df_teamstats_pca.head()"
   ]
  },
  {
   "cell_type": "code",
   "execution_count": 148,
   "id": "bottom-patent",
   "metadata": {},
   "outputs": [
    {
     "data": {},
     "metadata": {},
     "output_type": "display_data"
    },
    {
     "data": {
      "application/vnd.holoviews_exec.v0+json": "",
      "text/html": [
       "<div id='6949'>\n",
       "\n",
       "\n",
       "\n",
       "\n",
       "\n",
       "  <div class=\"bk-root\" id=\"7dff635a-9507-443b-b72f-92467fe74e7e\" data-root-id=\"6949\"></div>\n",
       "</div>\n",
       "<script type=\"application/javascript\">(function(root) {\n",
       "  function embed_document(root) {\n",
       "    var docs_json = {\"82422514-ab62-4dcc-99b0-170fc211f073\":{\"roots\":{\"references\":[{\"attributes\":{\"margin\":[5,5,5,5],\"name\":\"HSpacer15746\",\"sizing_mode\":\"stretch_width\"},\"id\":\"7156\",\"type\":\"Spacer\"},{\"attributes\":{},\"id\":\"6963\",\"type\":\"LinearScale\"},{\"attributes\":{\"fill_alpha\":{\"value\":0.1},\"fill_color\":{\"value\":\"#2ba02b\"},\"line_alpha\":{\"value\":0.1},\"line_color\":{\"value\":\"#2ba02b\"},\"size\":{\"units\":\"screen\",\"value\":5.477225575051661},\"x\":{\"field\":\"pc01\"},\"y\":{\"field\":\"pc02\"}},\"id\":\"7031\",\"type\":\"Scatter\"},{\"attributes\":{\"source\":{\"id\":\"6990\"}},\"id\":\"6997\",\"type\":\"CDSView\"},{\"attributes\":{},\"id\":\"7024\",\"type\":\"UnionRenderers\"},{\"attributes\":{\"click_policy\":\"mute\",\"items\":[{\"id\":\"7007\"},{\"id\":\"7026\"},{\"id\":\"7047\"}],\"location\":[0,0],\"title\":\"class\"},\"id\":\"7006\",\"type\":\"Legend\"},{\"attributes\":{\"fill_alpha\":{\"value\":0.2},\"fill_color\":{\"value\":\"#2ba02b\"},\"line_alpha\":{\"value\":0.2},\"line_color\":{\"value\":\"#2ba02b\"},\"size\":{\"units\":\"screen\",\"value\":5.477225575051661},\"x\":{\"field\":\"pc01\"},\"y\":{\"field\":\"pc02\"}},\"id\":\"7032\",\"type\":\"Scatter\"},{\"attributes\":{\"end\":6.580308300494272,\"reset_end\":6.580308300494272,\"reset_start\":-5.507941460246262,\"start\":-5.507941460246262,\"tags\":[[[\"pc02\",\"pc02\",null]]]},\"id\":\"6952\",\"type\":\"Range1d\"},{\"attributes\":{},\"id\":\"6991\",\"type\":\"Selection\"},{\"attributes\":{\"data_source\":{\"id\":\"7027\"},\"glyph\":{\"id\":\"7030\"},\"hover_glyph\":null,\"muted_glyph\":{\"id\":\"7032\"},\"nonselection_glyph\":{\"id\":\"7031\"},\"selection_glyph\":null,\"view\":{\"id\":\"7034\"}},\"id\":\"7033\",\"type\":\"GlyphRenderer\"},{\"attributes\":{\"fill_alpha\":{\"value\":0.1},\"fill_color\":{\"value\":\"#1f77b3\"},\"line_alpha\":{\"value\":0.1},\"line_color\":{\"value\":\"#1f77b3\"},\"size\":{\"units\":\"screen\",\"value\":5.477225575051661},\"x\":{\"field\":\"pc01\"},\"y\":{\"field\":\"pc02\"}},\"id\":\"6994\",\"type\":\"Scatter\"},{\"attributes\":{\"fill_alpha\":{\"value\":0.2},\"fill_color\":{\"value\":\"#ff7e0e\"},\"line_alpha\":{\"value\":0.2},\"line_color\":{\"value\":\"#ff7e0e\"},\"size\":{\"units\":\"screen\",\"value\":5.477225575051661},\"x\":{\"field\":\"pc01\"},\"y\":{\"field\":\"pc02\"}},\"id\":\"7013\",\"type\":\"Scatter\"},{\"attributes\":{\"bottom_units\":\"screen\",\"fill_alpha\":0.5,\"fill_color\":\"lightgrey\",\"left_units\":\"screen\",\"level\":\"overlay\",\"line_alpha\":1.0,\"line_color\":\"black\",\"line_dash\":[4,4],\"line_width\":2,\"right_units\":\"screen\",\"top_units\":\"screen\"},\"id\":\"6978\",\"type\":\"BoxAnnotation\"},{\"attributes\":{\"callback\":null,\"renderers\":[{\"id\":\"6996\"},{\"id\":\"7014\"},{\"id\":\"7033\"}],\"tags\":[\"hv_created\"],\"tooltips\":[[\"class\",\"@{class}\"],[\"pc01\",\"@{pc01}\"],[\"pc02\",\"@{pc02}\"]]},\"id\":\"6953\",\"type\":\"HoverTool\"},{\"attributes\":{},\"id\":\"7028\",\"type\":\"Selection\"},{\"attributes\":{},\"id\":\"6966\",\"type\":\"BasicTicker\"},{\"attributes\":{\"fill_color\":{\"value\":\"#2ba02b\"},\"line_color\":{\"value\":\"#2ba02b\"},\"size\":{\"units\":\"screen\",\"value\":5.477225575051661},\"x\":{\"field\":\"pc01\"},\"y\":{\"field\":\"pc02\"}},\"id\":\"7030\",\"type\":\"Scatter\"},{\"attributes\":{\"end\":8.19577740733973,\"reset_end\":8.19577740733973,\"reset_start\":-6.227769865438594,\"start\":-6.227769865438594,\"tags\":[[[\"pc01\",\"pc01\",null]]]},\"id\":\"6951\",\"type\":\"Range1d\"},{\"attributes\":{\"source\":{\"id\":\"7027\"}},\"id\":\"7034\",\"type\":\"CDSView\"},{\"attributes\":{},\"id\":\"7004\",\"type\":\"UnionRenderers\"},{\"attributes\":{\"text\":\"\",\"text_color\":{\"value\":\"black\"},\"text_font_size\":{\"value\":\"12pt\"}},\"id\":\"6957\",\"type\":\"Title\"},{\"attributes\":{},\"id\":\"6974\",\"type\":\"PanTool\"},{\"attributes\":{},\"id\":\"6970\",\"type\":\"BasicTicker\"},{\"attributes\":{\"label\":{\"value\":\"2\"},\"renderers\":[{\"id\":\"7033\"}]},\"id\":\"7047\",\"type\":\"LegendItem\"},{\"attributes\":{},\"id\":\"6961\",\"type\":\"LinearScale\"},{\"attributes\":{\"data_source\":{\"id\":\"6990\"},\"glyph\":{\"id\":\"6993\"},\"hover_glyph\":null,\"muted_glyph\":{\"id\":\"6995\"},\"nonselection_glyph\":{\"id\":\"6994\"},\"selection_glyph\":null,\"view\":{\"id\":\"6997\"}},\"id\":\"6996\",\"type\":\"GlyphRenderer\"},{\"attributes\":{\"fill_color\":{\"value\":\"#1f77b3\"},\"line_color\":{\"value\":\"#1f77b3\"},\"size\":{\"units\":\"screen\",\"value\":5.477225575051661},\"x\":{\"field\":\"pc01\"},\"y\":{\"field\":\"pc02\"}},\"id\":\"6993\",\"type\":\"Scatter\"},{\"attributes\":{},\"id\":\"6988\",\"type\":\"BasicTickFormatter\"},{\"attributes\":{\"label\":{\"value\":\"1\"},\"renderers\":[{\"id\":\"7014\"}]},\"id\":\"7026\",\"type\":\"LegendItem\"},{\"attributes\":{\"margin\":[5,5,5,5],\"name\":\"HSpacer15745\",\"sizing_mode\":\"stretch_width\"},\"id\":\"6950\",\"type\":\"Spacer\"},{\"attributes\":{\"fill_alpha\":{\"value\":0.2},\"fill_color\":{\"value\":\"#1f77b3\"},\"line_alpha\":{\"value\":0.2},\"line_color\":{\"value\":\"#1f77b3\"},\"size\":{\"units\":\"screen\",\"value\":5.477225575051661},\"x\":{\"field\":\"pc01\"},\"y\":{\"field\":\"pc02\"}},\"id\":\"6995\",\"type\":\"Scatter\"},{\"attributes\":{\"below\":[{\"id\":\"6965\"}],\"center\":[{\"id\":\"6968\"},{\"id\":\"6972\"}],\"left\":[{\"id\":\"6969\"}],\"margin\":[5,5,5,5],\"min_border_bottom\":10,\"min_border_left\":10,\"min_border_right\":10,\"min_border_top\":10,\"plot_height\":300,\"plot_width\":700,\"renderers\":[{\"id\":\"6996\"},{\"id\":\"7014\"},{\"id\":\"7033\"}],\"right\":[{\"id\":\"7006\"}],\"sizing_mode\":\"fixed\",\"title\":{\"id\":\"6957\"},\"toolbar\":{\"id\":\"6979\"},\"x_range\":{\"id\":\"6951\"},\"x_scale\":{\"id\":\"6961\"},\"y_range\":{\"id\":\"6952\"},\"y_scale\":{\"id\":\"6963\"}},\"id\":\"6956\",\"subtype\":\"Figure\",\"type\":\"Plot\"},{\"attributes\":{\"data\":{\"class\":{\"__ndarray__\":\"AAAAAAAAAAAAAAAAAAAAAAAAAAAAAAAAAAAAAAAAAAAAAAAAAAAAAAAAAAAAAAAAAAAAAAAAAAAAAAAAAAAAAAAAAAAAAAAAAAAAAAAAAAAAAAAAAAAAAAAAAAAAAAAAAAAAAAAAAAAAAAAAAAAAAAAAAAAAAAAAAAAAAAAAAAAAAAAAAAAAAAAAAAAAAAAAAAAAAAAAAAAAAAAAAAAAAAAAAAAAAAAAAAAAAAAAAAAAAAAAAAAAAAAAAAAAAAAAAAAAAAAAAAAAAAAAAAAAAAAAAAAAAAAAAAAAAAAAAAAAAAAAAAAAAAAAAAAAAAAAAAAAAAAAAAAAAAAAAAAAAAAAAAAAAAAAAAAAAAAAAAAAAAAAAAAAAAAAAAAAAAAAAAAAAAAAAAAAAAAAAAAAAAAAAAAAAAAAAAAAAAAAAAAAAAAAAAAAAAAAAAAAAAAAAAAAAAAAAAAAAAAAAAAAAAAAAAAAAAAAAAAAAAAAAAAAAAAAAAAAAAAAAAAAAAAAAAAAAAAAAAAAAAAAAAAAAAAAAAAAAAAAAAAAAAAAAAAAAAAAAAAAAAAAAAAAAAAAAAAAAAAAAAAAAAAAAAAAAAAAAAAAAAAAAAAAAAAAAAAAAAAAAAAAAAAAAAAAAAAAAAAAAAAAAAAAAAAAAAAAAAAAAAAAAAAAAAAAAAAAAAAAAAAAAAAAAAAAAAAAAAAAAAAAAAAAAAAAAAAAAAAAAAAAAAAAAAAAAAAAAAAAAAAAAAAAAAAAAAAAAAAAAAAAAAAAAAAAAAAAAAAAAAAAAAAAAAAAAAAAAAAAAAAAAAAAAAAAAAAAAAAAAAAAAAAAAAAAAAAAAAAAAAAAAAAAAAAAAAAAAAAAAAAAAAAAAAAAAAAAAAAAAAAAAAAAAAAAAAAAAAAAAAAAAAAAAAAAAAAAAAAAAAAAAAAAAAAAAAAAAAAAAAAAAAAAAAAAAAAAAAAAAAAAAAAAAAAAAAAAAAAAAAAAAAAAAAAAAAAAAAAAAAAAAAAAAAAAAAAAAAAAAAAAAAAAAAAAAAAAAAAAAAAAAAAAAAAAAAAAAAAAAAAAAAAAAAAAAAAAAAAAAAAAAAAAAAAAAAAAAAAAAAAAAAAAAAAAAAAAAAAAAAAAAAAAAAAAAAAAAAAAAAAAAAAAAAAAAAAAAAAAAAAAAAAAAAAAAAAAAAAAAAAAAAAAAAAAAAAAAAAAAAAAAAAAAAAAAAAAAAAAAAAAAAAAAAAAAAAAAAAAAAAAAAAAAAAAAAAAAAAAAAAAAAAAAAAAAAAAAAAAAAAAAAAAAAAAAAAAAAAAAAAAAAAAAAAAAAAAAAAAAAAAAAAAAAAAAAAAAAAAAAAAAAAAAAAAAAAAAAAAAAAAAAAAAAAAAAAAAAAAAAAAAAAAAAAAAAAAAAAAAAAAAAAAAAAAAAAAAAAAAAAAAAAAAAAAAAAAAAAAAAAAAAAAAAAAAAAAAAAAAAAAAAAAAAAAAAAAAAAAAAAAAAAAAAAAAAAAAAAAAAAAAAAAAAAAAAAAAAAAAAAAAAAAAAAAAAAAAAAAAAAAAAAAAAAAAAAAAAAAAAAAAAAAAAAAAAAAAAAAAAAAAAAAAAAAAAAAAAAAAAAAAAAAAAAAAAAAAAAAAAAAAAAAAAAAAAAAAAAAAAAAAAAAAAAAAAAAAAAAAAAAAAAAAAAAAAAAAAAAAAAAAAAAAAAAAAAAAAAAAAAAAAAAAAAAAAAAAAAAAAAAAAAAAAAAAAAAAAAAAAAAAAAAAAAAAAAAAAAAAAAAAAAAAAAAAAAAAAAAAAAAAAAAAAAAAAAAAAAAAAAAAAAAAAAAAAAAAAAAAAAAAAAAAAAAAAAAAAAAAAAAAAAAAAAAAAAAAAAAAAAAAAAAAAAAAAAAAAAAAAAAAAAAAAAAAAAAAAAAAAAAAAAAAAAAAAAAAAAAAAAAAAAAAAAAAAAAAAAAAAAAAAAAAAAAAAAAAAAAAAAAAAAAAAAAAAAAAAAAAAAAAAAAAAAAAAAAAAAAAAAAAAAAAAAAAAAAAAAAAAAAAAAAAAAAAAAAAAAAAAAAAAAAAAAAAAAAAAAAAAAAAAAAAAAAAAAAAAAAAAAAAAAAAAAAAAAAAAAAAAAAAAAAAAAAAAAAAAAAAAAAAAAAAAAAAAAAAAAAAAAAAAAAAAAAAAAAAAAAAAAAAAAAAAAAAAAAAAAAAAAAAAAAAAAAAAAAAAAAAAAAAAAAAAAAAAAAAAAAAAAAAAAAAAAAAAAAAAAAAAAAAAAAAAAAAAAAAAAAAAAAAAAAAAAAAAAAAAAAAAAAAAAAAA==\",\"dtype\":\"int32\",\"order\":\"little\",\"shape\":[430]},\"pc01\":{\"__ndarray__\":\"f471PYuG2D+LhHp+sYquP2Ahd+izz/w/Djn3ufZp5L+5wWa/VFYFQD6ir2gS4/g/h3sC3VqsAEBDMnksVQEEQHX/XW/3WaG/3+RlnyGa6T/52ykp/7GQv7zjTsE3rcI/ixXqcTczDkCvR4Jy2NbtP7DLrnYucuk/3dodKQvF2j/8qO0TrLIAQG74PreekOa/+bvyuZK2+j+OKzr7hpH9P15Ds4QGseU/4RCAhUBu/z/W/QNfuDflP+cBAT/Rwea/q00tTxU/+T/YL4hEF0/oP5DPBZC7tQ1ALZzeOFFisb9pvl4y/VLvPxnoK1hyzfI/YbZoD3gh5D/GYZLX3lX7P/F02R6TLNs/0whEtEdsBkB6OOuSMMa+PxLQdqyEnsI/jhJg8osbAkCzfguMxocHQGvTQwVGzPQ/gdANF9WwBECvD7JZZYrZP12SyDb7kA1AIlAULqHf6D/B6QhrT4AHQHP0DuHtFwpAFVbIg3qe/T/G5JpP5mINQJFVS99RUPO/IYf3HkgZ5L/KbZ1DEKYHQHvMU8sCvs0/Rc7vgOG5BECjBGq4+mriP2HzRGi30vY/ieVbw4dL+D/7EhVc11v8P2mf6Li1Y+s/OHS1SPW99T/Qrj5C65jqPyKlzOK8Us0/D7aJLBmG2j/yCAmf8j23P9ufGPSaQYo/jNZJYkRk1b+HWbkm2RQCQChi4ntQMMs/aNoIOnjU8T9CDni7cBQCQDtKZZxHicY/ShWj9Qqd8T+iSvDyiU76P0n5vic3h/0/HasSinvY8D9qP5Hgct39P9ouEfUPZ9W/N+0+JBTU8j/f/JFarPj/P7kk2A86ng5Am12EMqZ/AED/MfKVRAILQGj3RVdXmsK/dGFp05yJE0AM7s7YrSH8PzevXMModwRAM47eZkXc8j8olwuZYigAQP6sg64Xcu8/eGwhSZhn9T9eDtPEB0n7P1xXeZeoqJs/0eDvONHH/z+OGr4XXeMIQDHLbLKM5uk/jmRmgbID8j/mgpasOoXwP7X1hSTkx/g/voNXWCTa8b+rvayxgNXjP/Pj7iPxruE/kQVloC8p3j8s3WUcCsTjP5GggCE0TPw/J3bGzFaEBEDtPpw2WQ3av6G3vFbXtAdA0VTsGHFY2T8XX2DLj3vxPwkzAofkAPM/cNUwdhjEBUAAIe3v84HQP/aum9niNQNA4Dh3lrsf7T9dlFS2Oz/xP0ncMhXsHPo/K6+lLrsCxT/srXaYKwb4P6v8IT6v8e0/5jAEoOm2DUDkgcK/rXTyP/u4pZ5oWwFAxVRd53uP9D9QDy/ndVj+P4TLstPVGc0////9NCz31r+Eg5qXqd70PzYDY4HJjw5ALs/oZKAh/z/cjWu+iLzpvydLrd7iGto/IrolyrH64j+Vw+5y9kz3P/gdZ7i44fs/adiXMQJN+D914oq/YfbPPybAtpcjouo/eEdj+VCV9D/usLrT0EPDvxiHytdsCAtA3c/93LqEoT/NTATI+cH9PwWzc5TLrfM/y5dU+oHe9z/hxM5T8KToP/meWyo+asw/ZA/rn9ctA0AdMlAMqp+mP6QQLyhdR8+/A41/FzKv+D/AKRTUk9G+P0U31OMuse4/lnryn5e49D8Q/Q1bWNzvP2DUeUR0GANA98vFgqySwb/hmkF5z4rXP71yRUtl4AVAixyytJz01j+a0MtALe0LQE9RWUqCY/I/Nt0YNUbdB0BA29PB7ebgP7VI3Az93Nu/4l5A67rYA0BNQ+MddS3lP1oh+Au2uOk/L3wQcmKC5z+AhAlLcT8QQNBLwgp2gR5AzKFMxqRE4T+tsXGdawXgvzNs1SgVBuQ/F0Ugj8MP9D88Hy3yLo+8v15iPpsp/wpAYZnUKg2W+T9KMjzMyrrlPzuZk1mkifI/zpCSTg8f5z+IPrUjwa3kPx8wCN9UF/U/BZag1cDD2z+fEoFdhQ8AQG1xDEfptAZA4io/KJLJzr8UhErN4WIEQL5G55cZJr8/OjgFcXUy8D877tn2cKHzP9ruA1z/LcE/4/XDh9v/8D+n27BJaMnkv/fymIzK9P8/vaWrVsvS3D8Bn8sVKsQQQAINh8njNdI/scdNUnG0A0BwABxFZk7kP/54uLkFVO4/peoMnTv7w78MLe/W6cf9P5iuJYZBVtE/CLGmsMwd6T/KmOtcYTL4P5qXpAuWJ/Q/1tKEIsKSA0CS6OCsqnPqv5WXpe07PuA/TRP8zjYP17+31lbDIshtv9WQs9d9yLq/8mMzCygu+T8G4NUC1PXFv62qMZ7kPMC/+5ZTzvFW6j8QNJgsM6bcvw4oHmoXXAVAb0MTbERc/D8yucbHlAP2PykwclgzBti/mu/8AAtj6T9AHPBYQdD8P0QvKPmbdwxADRy0IIpPzD9E40YrzIL0PxD7OKiRCgBASuF9jL0rAkD+GAzDBAbgP/eIiSYqUus/nUox6QQy+z8h89u0aqjxP4onKJyPIQdAGJEHnpm81T8GGMKFbbrmPzeTHfXStf0/lkwxCUMf8D8GhSedepQFQKI9EdSkp9+/nW3BFl5/wj9MnJFJq23jPw+AFdwRKAJAKMrwp0buC0DFATuhUIrLP1DTjb/EmM0/kZP+hRd3kD+OzDYELkPjP3IhV1pVztO/vqgi6Vp5CkBrG/8p5iLxP4bnmFKZzQpAxIYuljbJ5D80jBp3iV3+P05365UDrPg/BwBuof0KBUAtczwIYHPwP1t9SrOStfM/uDkFwEDU/b+TzhWFVk/av1mKoK2GJuU/DlOVYtVw4L/TViObulMBQMTwFA2S4LQ/C3kvVzfg/T9Ft7zXTZHtP6DggjbMb+8/8hvDsiun9D+IVowZ2BHnP2O8JHpSh9o/SKLrRs4H8j/ESLgJmbzIP1wIll0JzgRA1TJOjPBDAUClW0NYQqb2P7Lfa2Mlv/M/AdkGguPuAUDKtBRNrcTnPyX87GfELfE/OFhiQ9yk+z8S5hrY6kj1P2acjtubkvo/B0xmv0fjD0AN4D9jPf/OPxERCD0DHQFAByNBTwnIAEACGWhBks3ePyDI2ywv+PC/xUzPJ0o23L/zOsQQ4kriP7zdLlt/LPA/IKQN/HoIAUA2csulYD34P1OBzilkchRABwirayPD5T+1+n48XuT0P6BiE4/T/fM/PmYiDo4D8T9p3D+CZZv4P5X24Uspqdw/K3fKN2N49T8Xe7bseC3WP8z/x1KipY2/gXKxQqVt9D+kBwgtcT/8PzGM8k8HhfA/wbuJ82wE8j84afZdZpb1Px7pjPf2WAVAE1w1oYWI8j8BUDS0VkXEP6jfTj1aXfg/EKhuQtaHEUDSUyWIvhwMQDCUf1dHUQZAKB8WV87E5D9og0iNHmXIPyxP3+FjB/0/cuTYG7SsCUCW2Wmg1A3jvxnkTmNNbec/EvCxMVI7BEB3MVJbe8TyP+GQbdVU0sw/IUXYz6m05z+W40bxcrMIQPzaPEpT2tE/BsKWkw/E+T+FWZ0MQt4KQHlIxgVx6+U/j9Qaj+mw/T+3M0LQGngJQLifYGjW0Ms/vR/sCsLv6r8Z/VkjmrvnPw8T494R0fs/wcs4p82/xr90RbQja6vOP81GVXSQ+tw/gJ5vZbxB4z+Uxsppco73P0lzcIyQiANAgnPFWLRT2z/+WyeqgH4FQP0bMCLg+OE/3U8EijFAAUCKAPwgs1/EP4mSKFcTH8c/gpZSnYqU1b+kCRQEqPMGQIw2G2L45glAWB9JTIpd8D+ggrEkIpzGv0wwWuvlseo/jIvFb7c84D/7j1bWZNMBQIvA43Y9LAtAkAeanNjFCUAoyMrtIGa4PxAVUhVieNK/9wxENddk7D/MWN5bVrfiP7Jc4rBNtPg/J0nYTUS7wr9JkbLaDgvgPzlR8CrBMuw/5n9dqHix8D8cPVG5QSa3P0O08h4NZ/w/CRt+QDn/7T+Wasu5qZkFQJ4Gll5XQem/EWyY3f6KAEBk0p1t37gDQApC/ct1aOc/nyXWFS4g6j+oBfN9jioKQLSUk/wR+wFAhZnJX0pp7z8UjU4CqwQOQM5USM0t990/usmD9voUwT9Zt6cRlCn2P3EzTWkW1fo/kwYy0I4M+z9e3UEgrN/4P7kzPl69LfU/MvDCiSmD0j9aSd2jm+gCQG7dQHHU9/Q/iZFq6+1n4D/ws9QmtAgPQN3kP+Rp//0/xeidzDSs7j+6QfkqH8sMQGrcY3XYxd0/Jv9N0qsC1z9S3C1f16G9PyoC+rJXdQlAPMPphj4h2j8yJpn55R3kPyU+jRpqCeo/HV1vIjCNC0CBG9awFIT4P8gfYchZZf0/xOtOvRc10z9SrZgWKWkAQDyh4BtUx90/aCD/M/fa8b8UjkIkqgb3PzRw6sdsIOg/UkEfB4M08T9hr28FNEzWP+/sL+dTAAlAiWysLMdqvT+d6Y/AaDL7P9p+6j9SjQlAjistjGRv/j8i/TlQDtLPP5c42cz03gxARQCzMO87+z/z/09LWpTHv3xc5czQuuu/AaYzp7+EBkBAE/eznuj6Pw9fKxET6+4/i2k/yHYb7j9F/Bpn2tPdv6dacXvYU98/s1/ISYmApz/BgoC4q44EQJ39yB4h89C/P0VR3riM/z8=\",\"dtype\":\"float64\",\"order\":\"little\",\"shape\":[430]},\"pc02\":{\"__ndarray__\":\"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\",\"dtype\":\"float64\",\"order\":\"little\",\"shape\":[430]}},\"selected\":{\"id\":\"6991\"},\"selection_policy\":{\"id\":\"7004\"}},\"id\":\"6990\",\"type\":\"ColumnDataSource\"},{\"attributes\":{\"source\":{\"id\":\"7008\"}},\"id\":\"7015\",\"type\":\"CDSView\"},{\"attributes\":{\"axis\":{\"id\":\"6965\"},\"grid_line_color\":null,\"ticker\":null},\"id\":\"6968\",\"type\":\"Grid\"},{\"attributes\":{},\"id\":\"7045\",\"type\":\"UnionRenderers\"},{\"attributes\":{\"axis_label\":\"pc01\",\"bounds\":\"auto\",\"formatter\":{\"id\":\"6986\"},\"major_label_orientation\":\"horizontal\",\"ticker\":{\"id\":\"6966\"}},\"id\":\"6965\",\"type\":\"LinearAxis\"},{\"attributes\":{\"fill_alpha\":{\"value\":0.1},\"fill_color\":{\"value\":\"#ff7e0e\"},\"line_alpha\":{\"value\":0.1},\"line_color\":{\"value\":\"#ff7e0e\"},\"size\":{\"units\":\"screen\",\"value\":5.477225575051661},\"x\":{\"field\":\"pc01\"},\"y\":{\"field\":\"pc02\"}},\"id\":\"7012\",\"type\":\"Scatter\"},{\"attributes\":{\"axis_label\":\"pc02\",\"bounds\":\"auto\",\"formatter\":{\"id\":\"6988\"},\"major_label_orientation\":\"horizontal\",\"ticker\":{\"id\":\"6970\"}},\"id\":\"6969\",\"type\":\"LinearAxis\"},{\"attributes\":{\"label\":{\"value\":\"0\"},\"renderers\":[{\"id\":\"6996\"}]},\"id\":\"7007\",\"type\":\"LegendItem\"},{\"attributes\":{},\"id\":\"6975\",\"type\":\"WheelZoomTool\"},{\"attributes\":{\"axis\":{\"id\":\"6969\"},\"dimension\":1,\"grid_line_color\":null,\"ticker\":null},\"id\":\"6972\",\"type\":\"Grid\"},{\"attributes\":{\"active_drag\":\"auto\",\"active_inspect\":\"auto\",\"active_multi\":null,\"active_scroll\":\"auto\",\"active_tap\":\"auto\",\"tools\":[{\"id\":\"6953\"},{\"id\":\"6973\"},{\"id\":\"6974\"},{\"id\":\"6975\"},{\"id\":\"6976\"},{\"id\":\"6977\"}]},\"id\":\"6979\",\"type\":\"Toolbar\"},{\"attributes\":{\"data\":{\"class\":{\"__ndarray__\":\"AgAAAAIAAAACAAAAAgAAAAIAAAACAAAAAgAAAAIAAAACAAAAAgAAAAIAAAACAAAAAgAAAAIAAAACAAAAAgAAAAIAAAACAAAAAgAAAAIAAAACAAAAAgAAAAIAAAACAAAAAgAAAAIAAAACAAAAAgAAAAIAAAACAAAAAgAAAAIAAAACAAAAAgAAAAIAAAACAAAAAgAAAAIAAAACAAAAAgAAAAIAAAACAAAAAgAAAAIAAAACAAAAAgAAAAIAAAACAAAAAgAAAAIAAAACAAAAAgAAAAIAAAACAAAAAgAAAAIAAAACAAAAAgAAAAIAAAACAAAAAgAAAAIAAAACAAAAAgAAAAIAAAACAAAAAgAAAAIAAAACAAAAAgAAAAIAAAACAAAAAgAAAAIAAAACAAAAAgAAAAIAAAACAAAAAgAAAAIAAAACAAAAAgAAAAIAAAACAAAAAgAAAAIAAAACAAAAAgAAAAIAAAACAAAAAgAAAAIAAAACAAAAAgAAAAIAAAACAAAAAgAAAAIAAAACAAAAAgAAAAIAAAACAAAAAgAAAAIAAAACAAAAAgAAAAIAAAACAAAAAgAAAAIAAAACAAAAAgAAAAIAAAACAAAAAgAAAAIAAAACAAAAAgAAAAIAAAACAAAAAgAAAAIAAAACAAAAAgAAAAIAAAACAAAAAgAAAAIAAAACAAAAAgAAAAIAAAACAAAAAgAAAAIAAAACAAAAAgAAAAIAAAACAAAAAgAAAAIAAAACAAAAAgAAAAIAAAACAAAAAgAAAAIAAAACAAAAAgAAAAIAAAACAAAAAgAAAAIAAAACAAAAAgAAAAIAAAACAAAAAgAAAAIAAAACAAAAAgAAAAIAAAACAAAAAgAAAAIAAAACAAAAAgAAAAIAAAACAAAAAgAAAAIAAAACAAAAAgAAAAIAAAACAAAAAgAAAAIAAAACAAAAAgAAAAIAAAACAAAAAgAAAAIAAAACAAAAAgAAAAIAAAACAAAAAgAAAAIAAAACAAAAAgAAAAIAAAACAAAAAgAAAAIAAAACAAAAAgAAAAIAAAACAAAAAgAAAAIAAAACAAAAAgAAAAIAAAACAAAAAgAAAAIAAAACAAAAAgAAAAIAAAACAAAAAgAAAAIAAAACAAAAAgAAAAIAAAACAAAAAgAAAAIAAAACAAAAAgAAAAIAAAACAAAAAgAAAAIAAAACAAAAAgAAAAIAAAACAAAAAgAAAAIAAAACAAAAAgAAAAIAAAACAAAAAgAAAAIAAAACAAAAAgAAAAIAAAACAAAAAgAAAAIAAAACAAAAAgAAAAIAAAACAAAAAgAAAAIAAAACAAAAAgAAAAIAAAACAAAAAgAAAAIAAAACAAAAAgAAAAIAAAACAAAAAgAAAAIAAAACAAAAAgAAAAIAAAACAAAAAgAAAAIAAAACAAAAAgAAAAIAAAACAAAAAgAAAAIAAAACAAAAAgAAAAIAAAACAAAAAgAAAAIAAAACAAAAAgAAAAIAAAACAAAAAgAAAAIAAAACAAAAAgAAAAIAAAACAAAAAgAAAAIAAAACAAAAAgAAAAIAAAACAAAAAgAAAAIAAAACAAAAAgAAAAIAAAACAAAAAgAAAAIAAAACAAAAAgAAAAIAAAACAAAAAgAAAAIAAAACAAAAAgAAAAIAAAACAAAAAgAAAAIAAAACAAAAAgAAAAIAAAACAAAAAgAAAAIAAAACAAAAAgAAAAIAAAACAAAAAgAAAAIAAAACAAAAAgAAAAIAAAACAAAAAgAAAAIAAAACAAAAAgAAAAIAAAACAAAAAgAAAAIAAAACAAAAAgAAAAIAAAACAAAAAgAAAAIAAAACAAAAAgAAAAIAAAACAAAAAgAAAAIAAAACAAAAAgAAAAIAAAACAAAAAgAAAAIAAAACAAAAAgAAAAIAAAACAAAAAgAAAAIAAAACAAAAAgAAAAIAAAACAAAAAgAAAAIAAAACAAAAAgAAAAIAAAACAAAAAgAAAAIAAAACAAAAAgAAAAIAAAACAAAAAgAAAAIAAAACAAAAAgAAAAIAAAACAAAAAgAAAAIAAAACAAAAAgAAAAIAAAACAAAAAgAAAAIAAAACAAAAAgAAAAIAAAACAAAAAgAAAAIAAAACAAAAAgAAAAIAAAACAAAAAgAAAAIAAAACAAAAAgAAAAIAAAACAAAAAgAAAAIAAAACAAAAAgAAAAIAAAACAAAAAgAAAAIAAAACAAAAAgAAAAIAAAACAAAAAgAAAAIAAAACAAAAAgAAAAIAAAACAAAAAgAAAAIAAAACAAAAAgAAAAIAAAACAAAAAgAAAAIAAAACAAAAAgAAAAIAAAACAAAAAgAAAAIAAAACAAAAAgAAAAIAAAACAAAAAgAAAAIAAAACAAAAAgAAAAIAAAACAAAAAgAAAAIAAAACAAAAAgAAAAIAAAACAAAAAgAAAAIAAAACAAAAAgAAAAIAAAACAAAAAgAAAAIAAAACAAAAAgAAAAIAAAACAAAAAgAAAAIAAAACAAAAAgAAAAIAAAACAAAAAgAAAAIAAAACAAAAAgAAAAIAAAACAAAAAgAAAAIAAAACAAAAAgAAAAIAAAACAAAAAgAAAAIAAAACAAAAAgAAAAIAAAACAAAAAgAAAAIAAAACAAAAAgAAAAIAAAACAAAAAgAAAAIAAAACAAAAAgAAAAIAAAACAAAAAgAAAAIAAAACAAAAAgAAAAIAAAACAAAAAgAAAAIAAAACAAAAAgAAAAIAAAACAAAAAgAAAAIAAAACAAAAAgAAAAIAAAACAAAAAgAAAAIAAAACAAAAAgAAAAIAAAACAAAAAgAAAAIAAAACAAAAAgAAAAIAAAACAAAAAgAAAAIAAAACAAAAAgAAAAIAAAACAAAAAgAAAAIAAAACAAAAAgAAAAIAAAACAAAAAgAAAAIAAAACAAAAAgAAAAIAAAACAAAAAgAAAAIAAAACAAAAAgAAAAIAAAACAAAAAgAAAAIAAAACAAAAAgAAAAIAAAACAAAAAgAAAAIAAAACAAAAAgAAAAIAAAACAAAAAgAAAAIAAAACAAAAAgAAAAIAAAACAAAAAgAAAAIAAAACAAAAAgAAAAIAAAACAAAAAgAAAAIAAAACAAAAAgAAAAIAAAACAAAAAgAAAAIAAAACAAAAAgAAAAIAAAACAAAAAgAAAAIAAAACAAAAAgAAAAIAAAACAAAAAgAAAAIAAAACAAAAAgAAAAIAAAACAAAAAgAAAAIAAAACAAAAAgAAAAIAAAACAAAAAgAAAAIAAAACAAAAAgAAAAIAAAACAAAAAgAAAAIAAAACAAAAAgAAAAIAAAACAAAAAgAAAAIAAAACAAAA\",\"dtype\":\"int32\",\"order\":\"little\",\"shape\":[627]},\"pc01\":{\"__ndarray__\":\"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\",\"dtype\":\"float64\",\"order\":\"little\",\"shape\":[627]},\"pc02\":{\"__ndarray__\":\"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\",\"dtype\":\"float64\",\"order\":\"little\",\"shape\":[627]}},\"selected\":{\"id\":\"7028\"},\"selection_policy\":{\"id\":\"7045\"}},\"id\":\"7027\",\"type\":\"ColumnDataSource\"},{\"attributes\":{},\"id\":\"6973\",\"type\":\"SaveTool\"},{\"attributes\":{},\"id\":\"7009\",\"type\":\"Selection\"},{\"attributes\":{\"children\":[{\"id\":\"6950\"},{\"id\":\"6956\"},{\"id\":\"7156\"}],\"margin\":[0,0,0,0],\"name\":\"Row15741\",\"tags\":[\"embedded\"]},\"id\":\"6949\",\"type\":\"Row\"},{\"attributes\":{\"overlay\":{\"id\":\"6978\"}},\"id\":\"6976\",\"type\":\"BoxZoomTool\"},{\"attributes\":{},\"id\":\"6977\",\"type\":\"ResetTool\"},{\"attributes\":{},\"id\":\"6986\",\"type\":\"BasicTickFormatter\"},{\"attributes\":{\"fill_color\":{\"value\":\"#ff7e0e\"},\"line_color\":{\"value\":\"#ff7e0e\"},\"size\":{\"units\":\"screen\",\"value\":5.477225575051661},\"x\":{\"field\":\"pc01\"},\"y\":{\"field\":\"pc02\"}},\"id\":\"7011\",\"type\":\"Scatter\"},{\"attributes\":{\"data\":{\"class\":{\"__ndarray__\":\"AQAAAAEAAAABAAAAAQAAAAEAAAABAAAAAQAAAAEAAAABAAAAAQAAAAEAAAABAAAAAQAAAAEAAAABAAAAAQAAAAEAAAABAAAAAQAAAAEAAAABAAAAAQAAAAEAAAABAAAAAQAAAAEAAAABAAAAAQAAAAEAAAABAAAAAQAAAAEAAAABAAAAAQAAAAEAAAABAAAAAQAAAAEAAAABAAAAAQAAAAEAAAABAAAAAQAAAAEAAAABAAAAAQAAAAEAAAABAAAAAQAAAAEAAAABAAAAAQAAAAEAAAABAAAAAQAAAAEAAAABAAAAAQAAAAEAAAABAAAAAQAAAAEAAAABAAAAAQAAAAEAAAABAAAAAQAAAAEAAAABAAAAAQAAAAEAAAABAAAAAQAAAAEAAAABAAAAAQAAAAEAAAABAAAAAQAAAAEAAAABAAAAAQAAAAEAAAABAAAAAQAAAAEAAAABAAAAAQAAAAEAAAABAAAAAQAAAAEAAAABAAAAAQAAAAEAAAABAAAAAQAAAAEAAAABAAAAAQAAAAEAAAABAAAAAQAAAAEAAAABAAAAAQAAAAEAAAABAAAAAQAAAAEAAAABAAAAAQAAAAEAAAABAAAAAQAAAAEAAAABAAAAAQAAAAEAAAABAAAAAQAAAAEAAAABAAAAAQAAAAEAAAABAAAAAQAAAAEAAAABAAAAAQAAAAEAAAABAAAAAQAAAAEAAAABAAAAAQAAAAEAAAABAAAAAQAAAAEAAAABAAAAAQAAAAEAAAABAAAAAQAAAAEAAAABAAAAAQAAAAEAAAABAAAAAQAAAAEAAAABAAAAAQAAAAEAAAABAAAAAQAAAAEAAAABAAAAAQAAAAEAAAABAAAAAQAAAAEAAAABAAAAAQAAAAEAAAABAAAAAQAAAAEAAAABAAAAAQAAAAEAAAABAAAAAQAAAAEAAAABAAAAAQAAAAEAAAABAAAAAQAAAAEAAAABAAAAAQAAAAEAAAABAAAAAQAAAAEAAAABAAAAAQAAAAEAAAABAAAAAQAAAAEAAAABAAAAAQAAAAEAAAABAAAAAQAAAAEAAAABAAAAAQAAAAEAAAABAAAAAQAAAAEAAAABAAAAAQAAAAEAAAABAAAAAQAAAAEAAAABAAAAAQAAAAEAAAABAAAAAQAAAAEAAAABAAAAAQAAAAEAAAABAAAAAQAAAAEAAAABAAAAAQAAAAEAAAABAAAAAQAAAAEAAAABAAAAAQAAAAEAAAABAAAAAQAAAAEAAAABAAAAAQAAAAEAAAABAAAAAQAAAAEAAAABAAAAAQAAAAEAAAABAAAAAQAAAAEAAAABAAAAAQAAAAEAAAABAAAAAQAAAAEAAAABAAAAAQAAAAEAAAABAAAAAQAAAAEAAAABAAAAAQAAAAEAAAABAAAAAQAAAAEAAAABAAAAAQAAAAEAAAABAAAAAQAAAAEAAAABAAAAAQAAAAEAAAABAAAAAQAAAAEAAAABAAAAAQAAAAEAAAABAAAAAQAAAAEAAAABAAAAAQAAAAEAAAABAAAAAQAAAAEAAAABAAAAAQAAAAEAAAABAAAAAQAAAAEAAAABAAAAAQAAAAEAAAABAAAAAQAAAAEAAAABAAAAAQAAAAEAAAABAAAAAQAAAAEAAAABAAAAAQAAAAEAAAABAAAAAQAAAAEAAAABAAAAAQAAAAEAAAABAAAAAQAAAAEAAAABAAAAAQAAAAEAAAABAAAAAQAAAAEAAAABAAAAAQAAAAEAAAABAAAAAQAAAAEAAAABAAAAAQAAAAEAAAABAAAAAQAAAAEAAAABAAAAAQAAAAEAAAABAAAAAQAAAAEAAAABAAAAAQAAAAEAAAABAAAAAQAAAAEAAAABAAAAAQAAAAEAAAABAAAAAQAAAAEAAAABAAAAAQAAAAEAAAABAAAAAQAAAAEAAAABAAAAAQAAAAEAAAABAAAAAQAAAAEAAAABAAAAAQAAAAEAAAABAAAAAQAAAAEAAAABAAAAAQAAAAEAAAABAAAAAQAAAAEAAAABAAAAAQAAAAEAAAABAAAAAQAAAAEAAAABAAAAAQAAAAEAAAABAAAAAQAAAAEAAAABAAAAAQAAAAEAAAABAAAAAQAAAAEAAAABAAAAAQAAAAEAAAABAAAAAQAAAAEAAAABAAAAAQAAAAEAAAABAAAAAQAAAAEAAAABAAAAAQAAAAEAAAABAAAAAQAAAAEAAAABAAAAAQAAAAEAAAABAAAAAQAAAAEAAAABAAAAAQAAAAEAAAABAAAAAQAAAAEAAAABAAAAAQAAAAEAAAABAAAAAQAAAAEAAAABAAAAAQAAAAEAAAABAAAAAQAAAAEAAAABAAAAAQAAAAEAAAABAAAAAQAAAAEAAAABAAAAAQAAAAEAAAABAAAAAQAAAAEAAAABAAAAAQAAAAEAAAABAAAAAQAAAAEAAAABAAAAAQAAAAEAAAABAAAAAQAAAAEAAAABAAAAAQAAAAEAAAABAAAAAQAAAAEAAAABAAAAAQAAAAEAAAABAAAAAQAAAAEAAAABAAAAAQAAAAEAAAABAAAAAQAAAAEAAAABAAAAAQAAAAEAAAABAAAAAQAAAAEAAAABAAAAAQAAAAEAAAABAAAAAQAAAAEAAAABAAAAAQAAAAEAAAABAAAAAQAAAAEAAAABAAAAAQAAAAEAAAABAAAAAQAAAAEAAAABAAAAAQAAAAEAAAABAAAAAQAAAAEAAAABAAAAAQAAAAEAAAABAAAAAQAAAAEAAAABAAAAAQAAAAEAAAABAAAAAQAAAAEAAAABAAAAAQAAAAEAAAABAAAAAQAAAAEAAAABAAAAAQAAAAEAAAABAAAAAQAAAAEAAAABAAAAAQAAAAEAAAABAAAAAQAAAAEAAAABAAAAAQAAAAEAAAABAAAAAQAAAAEAAAABAAAAAQAAAAEAAAABAAAAAQAAAAEAAAABAAAAAQAAAAEAAAABAAAAAQAAAAEAAAABAAAAAQAAAAEAAAABAAAAAQAAAAEAAAABAAAAAQAAAAEAAAABAAAAAQAAAAEAAAABAAAAAQAAAAEAAAABAAAAAQAAAAEAAAABAAAAAQAAAAEAAAABAAAAAQAAAAEAAAABAAAAAQAAAAEAAAABAAAAAQAAAAEAAAABAAAAAQAAAAEAAAABAAAAAQAAAAEAAAABAAAAAQAAAAEAAAABAAAAAQAAAAEAAAABAAAAAQAAAAEAAAABAAAAAQAAAAEAAAABAAAAAQAAAAEAAAABAAAAAQAAAAEAAAABAAAAAQAAAAEAAAABAAAAAQAAAAEAAAABAAAAAQAAAAEAAAABAAAAAQAAAAEAAAABAAAAAQAAAAEAAAABAAAAAQAAAAEAAAABAAAAAQAAAAEAAAABAAAAAQAAAAEAAAABAAAAAQAAAAEAAAABAAAAAQAAAA==\",\"dtype\":\"int32\",\"order\":\"little\",\"shape\":[643]},\"pc01\":{\"__ndarray__\":\"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\",\"dtype\":\"float64\",\"order\":\"little\",\"shape\":[643]},\"pc02\":{\"__ndarray__\":\"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\",\"dtype\":\"float64\",\"order\":\"little\",\"shape\":[643]}},\"selected\":{\"id\":\"7009\"},\"selection_policy\":{\"id\":\"7024\"}},\"id\":\"7008\",\"type\":\"ColumnDataSource\"},{\"attributes\":{\"data_source\":{\"id\":\"7008\"},\"glyph\":{\"id\":\"7011\"},\"hover_glyph\":null,\"muted_glyph\":{\"id\":\"7013\"},\"nonselection_glyph\":{\"id\":\"7012\"},\"selection_glyph\":null,\"view\":{\"id\":\"7015\"}},\"id\":\"7014\",\"type\":\"GlyphRenderer\"}],\"root_ids\":[\"6949\"]},\"title\":\"Bokeh Application\",\"version\":\"2.2.3\"}};\n",
       "    var render_items = [{\"docid\":\"82422514-ab62-4dcc-99b0-170fc211f073\",\"root_ids\":[\"6949\"],\"roots\":{\"6949\":\"7dff635a-9507-443b-b72f-92467fe74e7e\"}}];\n",
       "    root.Bokeh.embed.embed_items_notebook(docs_json, render_items);\n",
       "  }\n",
       "  if (root.Bokeh !== undefined && root.Bokeh.Panel !== undefined) {\n",
       "    embed_document(root);\n",
       "  } else {\n",
       "    var attempts = 0;\n",
       "    var timer = setInterval(function(root) {\n",
       "      if (root.Bokeh !== undefined && root.Bokeh.Panel !== undefined) {\n",
       "        clearInterval(timer);\n",
       "        embed_document(root);\n",
       "      } else if (document.readyState == \"complete\") {\n",
       "        attempts++;\n",
       "        if (attempts > 100) {\n",
       "          clearInterval(timer);\n",
       "          console.log(\"Bokeh: ERROR: Unable to run BokehJS code because BokehJS library is missing\");\n",
       "        }\n",
       "      }\n",
       "    }, 10, root)\n",
       "  }\n",
       "})(window);</script>"
      ],
      "text/plain": [
       ":NdOverlay   [class]\n",
       "   :Scatter   [pc01]   (pc02,class)"
      ]
     },
     "execution_count": 148,
     "metadata": {
      "application/vnd.holoviews_exec.v0+json": {
       "id": "6949"
      }
     },
     "output_type": "execute_result"
    }
   ],
   "source": [
    "# Plotting the clusters\n",
    "df_teamstats_pca.hvplot.scatter(\n",
    "    x=\"pc01\",\n",
    "    y=\"pc02\",\n",
    "    hover_cols=[\"class\"],\n",
    "    by=\"class\",\n",
    ")"
   ]
  },
  {
   "cell_type": "code",
   "execution_count": null,
   "id": "accessible-volleyball",
   "metadata": {},
   "outputs": [],
   "source": []
  },
  {
   "cell_type": "code",
   "execution_count": null,
   "id": "developing-regular",
   "metadata": {},
   "outputs": [],
   "source": []
  }
 ],
 "metadata": {
  "kernelspec": {
   "display_name": "Python 3",
   "language": "python",
   "name": "python3"
  },
  "language_info": {
   "codemirror_mode": {
    "name": "ipython",
    "version": 3
   },
   "file_extension": ".py",
   "mimetype": "text/x-python",
   "name": "python",
   "nbconvert_exporter": "python",
   "pygments_lexer": "ipython3",
   "version": "3.8.5"
  }
 },
 "nbformat": 4,
 "nbformat_minor": 5
}
