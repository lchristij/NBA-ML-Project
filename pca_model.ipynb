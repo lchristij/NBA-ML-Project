{
 "cells": [
  {
   "cell_type": "code",
   "execution_count": 99,
   "id": "fresh-endorsement",
   "metadata": {},
   "outputs": [],
   "source": [
    " import pandas as pd\n",
    "from pathlib import Path\n",
    "from sklearn.preprocessing import StandardScaler\n",
    "from sklearn.decomposition import PCA\n",
    "from sklearn.cluster import KMeans\n",
    "import hvplot.pandas"
   ]
  },
  {
   "cell_type": "code",
   "execution_count": 100,
   "id": "manual-distribution",
   "metadata": {},
   "outputs": [],
   "source": [
    "csvpath = Path('../Project-03/teamGameStats.csv')\n",
    "teamstats_df = pd.read_csv(csvpath)"
   ]
  },
  {
   "cell_type": "code",
   "execution_count": 101,
   "id": "frequent-source",
   "metadata": {
    "scrolled": false
   },
   "outputs": [
    {
     "name": "stdout",
     "output_type": "stream",
     "text": [
      "<class 'pandas.core.frame.DataFrame'>\n",
      "RangeIndex: 1700 entries, 0 to 1699\n",
      "Data columns (total 24 columns):\n",
      " #   Column    Non-Null Count  Dtype  \n",
      "---  ------    --------------  -----  \n",
      " 0   TEAM      1700 non-null   object \n",
      " 1   MATCHUP   1700 non-null   object \n",
      " 2   GAMEDATE  1700 non-null   object \n",
      " 3   W/L       1700 non-null   object \n",
      " 4   MIN       1700 non-null   int64  \n",
      " 5   PTS       1700 non-null   int64  \n",
      " 6   FGM       1700 non-null   int64  \n",
      " 7   FGA       1700 non-null   int64  \n",
      " 8   FG%       1700 non-null   float64\n",
      " 9   3PM       1700 non-null   int64  \n",
      " 10  3PA       1700 non-null   int64  \n",
      " 11  3P%       1700 non-null   float64\n",
      " 12  FTM       1700 non-null   int64  \n",
      " 13  FTA       1700 non-null   int64  \n",
      " 14  FT%       1700 non-null   float64\n",
      " 15  OREB      1700 non-null   int64  \n",
      " 16  DREB      1700 non-null   int64  \n",
      " 17  REB       1700 non-null   int64  \n",
      " 18  AST       1700 non-null   int64  \n",
      " 19  TOV       1700 non-null   int64  \n",
      " 20  STL       1700 non-null   int64  \n",
      " 21  BLK       1700 non-null   int64  \n",
      " 22  PF        1700 non-null   int64  \n",
      " 23  +/-       1700 non-null   int64  \n",
      "dtypes: float64(3), int64(17), object(4)\n",
      "memory usage: 318.9+ KB\n"
     ]
    }
   ],
   "source": [
    "teamstats_df.info('include=all')"
   ]
  },
  {
   "cell_type": "code",
   "execution_count": 102,
   "id": "representative-ideal",
   "metadata": {},
   "outputs": [],
   "source": [
    "teamstats_df = teamstats_df.drop(columns=['TEAM','MATCHUP','GAMEDATE', 'W/L'])"
   ]
  },
  {
   "cell_type": "code",
   "execution_count": 103,
   "id": "perfect-examination",
   "metadata": {},
   "outputs": [
    {
     "name": "stdout",
     "output_type": "stream",
     "text": [
      "[[-0.22424044  1.39287633  0.76382311  0.56422903  0.42595961  0.06949194\n",
      "  -0.37449775  0.47067759  1.55063575  1.72481131 -0.13135184  1.21146975\n",
      "   0.48435507  1.06245855 -0.9517666  -0.99793281  0.13949991  0.88429842\n",
      "  -0.09780737  0.79489375]\n",
      " [-0.22424044 -0.22946601 -0.40652325 -0.79847092  0.07156016  1.2949722\n",
      "   1.1745197   0.62190645 -0.67534997 -0.67676158 -0.13135184 -0.8150259\n",
      "   0.86025263  0.27682152  0.26706822  0.01008013 -0.54392906  1.30421667\n",
      "   1.35647125  0.52992917]\n",
      " [ 3.66564477  0.01388534 -0.0164078   1.92692898 -1.12220641 -1.64618043\n",
      "  -1.07859658 -1.66979243  1.20817641  1.15973533  0.20889345  2.94846602\n",
      "  -0.45538884  1.21958596  0.06392908 -0.24192311 -0.54392906 -0.37545631\n",
      "  -0.82494667 -0.66241146]\n",
      " [-0.22424044 -0.22946601 -0.60158098 -0.1928265  -0.54397573  0.8047801\n",
      "   0.61124063  0.51720954  0.00956872 -0.1116856   0.30610639  1.7904685\n",
      "   0.48435507  1.37671337  0.67334649  0.76608983  0.4812144  -1.63521105\n",
      "  -1.55208598  0.13248229]\n",
      " [-0.22424044 -0.87840294 -0.99169643  0.41281792 -1.30873244 -0.66579622\n",
      "   0.18878132 -1.01834503  0.35202806  0.87719735 -0.96738312  0.92197037\n",
      "  -0.07949128  0.43394893 -1.35804488 -1.24993604 -0.20221457 -0.79537456\n",
      "  -0.5825669  -0.52992917]]\n"
     ]
    }
   ],
   "source": [
    "teamstats_scaled = StandardScaler().fit_transform(teamstats_df)\n",
    "print(teamstats_scaled[0:5])"
   ]
  },
  {
   "cell_type": "code",
   "execution_count": 104,
   "id": "dense-parliament",
   "metadata": {},
   "outputs": [],
   "source": [
    "# defining 'W/L' column as feature set\n",
    "#X = teamstats_df.copy()\n",
    "#X.drop('W/L', axis=1, inplace=True)\n",
    "#X.head(20)"
   ]
  },
  {
   "cell_type": "code",
   "execution_count": null,
   "id": "future-spice",
   "metadata": {},
   "outputs": [],
   "source": []
  },
  {
   "cell_type": "code",
   "execution_count": 105,
   "id": "ready-ensemble",
   "metadata": {},
   "outputs": [],
   "source": [
    "# converting 'W/L' to 0/1's\n",
    "#y=teamstats_df['W/L'].apply(lambda x: 1 if x==\"W\" else 0)\n"
   ]
  },
  {
   "cell_type": "code",
   "execution_count": 117,
   "id": "extra-prayer",
   "metadata": {},
   "outputs": [],
   "source": [
    "pca = PCA(n_components=5)\n",
    "\n",
    "teamstats_pca = pca.fit_transform(teamstats_scaled)"
   ]
  },
  {
   "cell_type": "code",
   "execution_count": 119,
   "id": "binding-loading",
   "metadata": {},
   "outputs": [
    {
     "data": {
      "text/html": [
       "<div>\n",
       "<style scoped>\n",
       "    .dataframe tbody tr th:only-of-type {\n",
       "        vertical-align: middle;\n",
       "    }\n",
       "\n",
       "    .dataframe tbody tr th {\n",
       "        vertical-align: top;\n",
       "    }\n",
       "\n",
       "    .dataframe thead th {\n",
       "        text-align: right;\n",
       "    }\n",
       "</style>\n",
       "<table border=\"1\" class=\"dataframe\">\n",
       "  <thead>\n",
       "    <tr style=\"text-align: right;\">\n",
       "      <th></th>\n",
       "      <th>pc01</th>\n",
       "      <th>pc02</th>\n",
       "      <th>pc03</th>\n",
       "      <th>pc04</th>\n",
       "      <th>pc05</th>\n",
       "    </tr>\n",
       "  </thead>\n",
       "  <tbody>\n",
       "    <tr>\n",
       "      <th>0</th>\n",
       "      <td>-20.603645</td>\n",
       "      <td>-6.533131</td>\n",
       "      <td>4.731864</td>\n",
       "      <td>-13.308334</td>\n",
       "      <td>9.797052</td>\n",
       "    </tr>\n",
       "    <tr>\n",
       "      <th>1</th>\n",
       "      <td>-6.454234</td>\n",
       "      <td>8.111918</td>\n",
       "      <td>2.154247</td>\n",
       "      <td>5.775870</td>\n",
       "      <td>-6.696022</td>\n",
       "    </tr>\n",
       "    <tr>\n",
       "      <th>2</th>\n",
       "      <td>11.617374</td>\n",
       "      <td>-9.762855</td>\n",
       "      <td>8.196661</td>\n",
       "      <td>-5.067524</td>\n",
       "      <td>20.579784</td>\n",
       "    </tr>\n",
       "    <tr>\n",
       "      <th>3</th>\n",
       "      <td>-2.079443</td>\n",
       "      <td>1.914823</td>\n",
       "      <td>5.477724</td>\n",
       "      <td>5.457933</td>\n",
       "      <td>0.501676</td>\n",
       "    </tr>\n",
       "    <tr>\n",
       "      <th>4</th>\n",
       "      <td>18.223632</td>\n",
       "      <td>4.186509</td>\n",
       "      <td>7.812763</td>\n",
       "      <td>-6.172205</td>\n",
       "      <td>7.507980</td>\n",
       "    </tr>\n",
       "  </tbody>\n",
       "</table>\n",
       "</div>"
      ],
      "text/plain": [
       "        pc01      pc02      pc03       pc04       pc05\n",
       "0 -20.603645 -6.533131  4.731864 -13.308334   9.797052\n",
       "1  -6.454234  8.111918  2.154247   5.775870  -6.696022\n",
       "2  11.617374 -9.762855  8.196661  -5.067524  20.579784\n",
       "3  -2.079443  1.914823  5.477724   5.457933   0.501676\n",
       "4  18.223632  4.186509  7.812763  -6.172205   7.507980"
      ]
     },
     "execution_count": 119,
     "metadata": {},
     "output_type": "execute_result"
    }
   ],
   "source": [
    "df_teamstats_pca = pd.DataFrame(data=teamstats_pca, columns=['pc01', 'pc02', 'pc03', 'pc04', 'pc05']) #, 'pc06', 'pc07', 'pc08', 'pc09', 'pc10', 'pc11', 'pc12', 'pc13', 'pc14', 'pc15', 'pc16', 'pc17', 'pc18', 'pc19', 'pc20'])\n",
    "df_teamstats_pca.head()"
   ]
  },
  {
   "cell_type": "code",
   "execution_count": 120,
   "id": "great-baking",
   "metadata": {},
   "outputs": [
    {
     "data": {
      "text/plain": [
       "array([0.50389108, 0.14697748, 0.13298775, 0.11914847, 0.09699523])"
      ]
     },
     "execution_count": 120,
     "metadata": {},
     "output_type": "execute_result"
    }
   ],
   "source": [
    "pca.explained_variance_ratio_"
   ]
  },
  {
   "cell_type": "code",
   "execution_count": 126,
   "id": "worldwide-challenge",
   "metadata": {},
   "outputs": [
    {
     "data": {},
     "metadata": {},
     "output_type": "display_data"
    },
    {
     "data": {
      "application/vnd.holoviews_exec.v0+json": "",
      "text/html": [
       "<div id='5566'>\n",
       "\n",
       "\n",
       "\n",
       "\n",
       "\n",
       "  <div class=\"bk-root\" id=\"27c51abf-f5b7-4877-823b-9240dcd97b26\" data-root-id=\"5566\"></div>\n",
       "</div>\n",
       "<script type=\"application/javascript\">(function(root) {\n",
       "  function embed_document(root) {\n",
       "    var docs_json = {\"b660f5b6-ffe3-42ef-afe7-862f25ccfd25\":{\"roots\":{\"references\":[{\"attributes\":{\"line_color\":\"#1f77b3\",\"line_width\":2,\"x\":{\"field\":\"k\"},\"y\":{\"field\":\"inertia\"}},\"id\":\"5604\",\"type\":\"Line\"},{\"attributes\":{\"line_alpha\":0.1,\"line_color\":\"#1f77b3\",\"line_width\":2,\"x\":{\"field\":\"k\"},\"y\":{\"field\":\"inertia\"}},\"id\":\"5605\",\"type\":\"Line\"},{\"attributes\":{\"margin\":[5,5,5,5],\"name\":\"HSpacer12652\",\"sizing_mode\":\"stretch_width\"},\"id\":\"5567\",\"type\":\"Spacer\"},{\"attributes\":{},\"id\":\"5610\",\"type\":\"BasicTickFormatter\"},{\"attributes\":{\"below\":[{\"id\":\"5580\"}],\"center\":[{\"id\":\"5583\"},{\"id\":\"5587\"}],\"left\":[{\"id\":\"5584\"}],\"margin\":[5,5,5,5],\"min_border_bottom\":10,\"min_border_left\":10,\"min_border_right\":10,\"min_border_top\":10,\"plot_height\":300,\"plot_width\":700,\"renderers\":[{\"id\":\"5607\"}],\"sizing_mode\":\"fixed\",\"title\":{\"id\":\"5572\"},\"toolbar\":{\"id\":\"5594\"},\"x_range\":{\"id\":\"5568\"},\"x_scale\":{\"id\":\"5576\"},\"y_range\":{\"id\":\"5569\"},\"y_scale\":{\"id\":\"5578\"}},\"id\":\"5571\",\"subtype\":\"Figure\",\"type\":\"Plot\"},{\"attributes\":{},\"id\":\"5602\",\"type\":\"Selection\"},{\"attributes\":{\"data_source\":{\"id\":\"5601\"},\"glyph\":{\"id\":\"5604\"},\"hover_glyph\":null,\"muted_glyph\":{\"id\":\"5606\"},\"nonselection_glyph\":{\"id\":\"5605\"},\"selection_glyph\":null,\"view\":{\"id\":\"5608\"}},\"id\":\"5607\",\"type\":\"GlyphRenderer\"},{\"attributes\":{\"ticks\":[1,2,3,4]},\"id\":\"5609\",\"type\":\"FixedTicker\"},{\"attributes\":{\"source\":{\"id\":\"5601\"}},\"id\":\"5608\",\"type\":\"CDSView\"},{\"attributes\":{\"callback\":null,\"renderers\":[{\"id\":\"5607\"}],\"tags\":[\"hv_created\"],\"tooltips\":[[\"k\",\"@{k}\"],[\"inertia\",\"@{inertia}\"]]},\"id\":\"5570\",\"type\":\"HoverTool\"},{\"attributes\":{},\"id\":\"5621\",\"type\":\"UnionRenderers\"},{\"attributes\":{\"end\":4.0,\"reset_end\":4.0,\"reset_start\":1.0,\"start\":1.0,\"tags\":[[[\"k\",\"k\",null]]]},\"id\":\"5568\",\"type\":\"Range1d\"},{\"attributes\":{\"bottom_units\":\"screen\",\"fill_alpha\":0.5,\"fill_color\":\"lightgrey\",\"left_units\":\"screen\",\"level\":\"overlay\",\"line_alpha\":1.0,\"line_color\":\"black\",\"line_dash\":[4,4],\"line_width\":2,\"right_units\":\"screen\",\"top_units\":\"screen\"},\"id\":\"5593\",\"type\":\"BoxAnnotation\"},{\"attributes\":{},\"id\":\"5576\",\"type\":\"LinearScale\"},{\"attributes\":{\"axis\":{\"id\":\"5580\"},\"grid_line_color\":null,\"ticker\":null},\"id\":\"5583\",\"type\":\"Grid\"},{\"attributes\":{\"end\":1396252.0946714766,\"reset_end\":1396252.0946714766,\"reset_start\":651764.8998713024,\"start\":651764.8998713024,\"tags\":[[[\"inertia\",\"inertia\",null]]]},\"id\":\"5569\",\"type\":\"Range1d\"},{\"attributes\":{\"text\":\"Elbow Curve\",\"text_color\":{\"value\":\"black\"},\"text_font_size\":{\"value\":\"12pt\"}},\"id\":\"5572\",\"type\":\"Title\"},{\"attributes\":{},\"id\":\"5614\",\"type\":\"BasicTickFormatter\"},{\"attributes\":{\"data\":{\"inertia\":{\"__ndarray__\":\"GTC/fsNbNEHMZ4ACtn8rQZQaexjVEChB3FW2/5rIJUE=\",\"dtype\":\"float64\",\"order\":\"little\",\"shape\":[4]},\"k\":[1,2,3,4]},\"selected\":{\"id\":\"5602\"},\"selection_policy\":{\"id\":\"5621\"}},\"id\":\"5601\",\"type\":\"ColumnDataSource\"},{\"attributes\":{},\"id\":\"5589\",\"type\":\"PanTool\"},{\"attributes\":{},\"id\":\"5578\",\"type\":\"LinearScale\"},{\"attributes\":{\"axis_label\":\"k\",\"bounds\":\"auto\",\"formatter\":{\"id\":\"5610\"},\"major_label_orientation\":\"horizontal\",\"ticker\":{\"id\":\"5609\"}},\"id\":\"5580\",\"type\":\"LinearAxis\"},{\"attributes\":{\"margin\":[5,5,5,5],\"name\":\"HSpacer12653\",\"sizing_mode\":\"stretch_width\"},\"id\":\"5630\",\"type\":\"Spacer\"},{\"attributes\":{\"axis\":{\"id\":\"5584\"},\"dimension\":1,\"grid_line_color\":null,\"ticker\":null},\"id\":\"5587\",\"type\":\"Grid\"},{\"attributes\":{\"axis_label\":\"inertia\",\"bounds\":\"auto\",\"formatter\":{\"id\":\"5614\"},\"major_label_orientation\":\"horizontal\",\"ticker\":{\"id\":\"5585\"}},\"id\":\"5584\",\"type\":\"LinearAxis\"},{\"attributes\":{\"line_alpha\":0.2,\"line_color\":\"#1f77b3\",\"line_width\":2,\"x\":{\"field\":\"k\"},\"y\":{\"field\":\"inertia\"}},\"id\":\"5606\",\"type\":\"Line\"},{\"attributes\":{},\"id\":\"5585\",\"type\":\"BasicTicker\"},{\"attributes\":{},\"id\":\"5590\",\"type\":\"WheelZoomTool\"},{\"attributes\":{},\"id\":\"5592\",\"type\":\"ResetTool\"},{\"attributes\":{\"children\":[{\"id\":\"5567\"},{\"id\":\"5571\"},{\"id\":\"5630\"}],\"margin\":[0,0,0,0],\"name\":\"Row12648\",\"tags\":[\"embedded\"]},\"id\":\"5566\",\"type\":\"Row\"},{\"attributes\":{},\"id\":\"5588\",\"type\":\"SaveTool\"},{\"attributes\":{\"active_drag\":\"auto\",\"active_inspect\":\"auto\",\"active_multi\":null,\"active_scroll\":\"auto\",\"active_tap\":\"auto\",\"tools\":[{\"id\":\"5570\"},{\"id\":\"5588\"},{\"id\":\"5589\"},{\"id\":\"5590\"},{\"id\":\"5591\"},{\"id\":\"5592\"}]},\"id\":\"5594\",\"type\":\"Toolbar\"},{\"attributes\":{\"overlay\":{\"id\":\"5593\"}},\"id\":\"5591\",\"type\":\"BoxZoomTool\"}],\"root_ids\":[\"5566\"]},\"title\":\"Bokeh Application\",\"version\":\"2.2.3\"}};\n",
       "    var render_items = [{\"docid\":\"b660f5b6-ffe3-42ef-afe7-862f25ccfd25\",\"root_ids\":[\"5566\"],\"roots\":{\"5566\":\"27c51abf-f5b7-4877-823b-9240dcd97b26\"}}];\n",
       "    root.Bokeh.embed.embed_items_notebook(docs_json, render_items);\n",
       "  }\n",
       "  if (root.Bokeh !== undefined && root.Bokeh.Panel !== undefined) {\n",
       "    embed_document(root);\n",
       "  } else {\n",
       "    var attempts = 0;\n",
       "    var timer = setInterval(function(root) {\n",
       "      if (root.Bokeh !== undefined && root.Bokeh.Panel !== undefined) {\n",
       "        clearInterval(timer);\n",
       "        embed_document(root);\n",
       "      } else if (document.readyState == \"complete\") {\n",
       "        attempts++;\n",
       "        if (attempts > 100) {\n",
       "          clearInterval(timer);\n",
       "          console.log(\"Bokeh: ERROR: Unable to run BokehJS code because BokehJS library is missing\");\n",
       "        }\n",
       "      }\n",
       "    }, 10, root)\n",
       "  }\n",
       "})(window);</script>"
      ],
      "text/plain": [
       ":Curve   [k]   (inertia)"
      ]
     },
     "execution_count": 126,
     "metadata": {
      "application/vnd.holoviews_exec.v0+json": {
       "id": "5566"
      }
     },
     "output_type": "execute_result"
    }
   ],
   "source": [
    "inertia = []\n",
    "k = list(range(1,5))\n",
    "\n",
    "# Calculate the inertia for the range of k values\n",
    "for i in k:\n",
    "    km = KMeans(n_clusters=i, random_state=0)\n",
    "    km.fit(df_teamstats_pca)\n",
    "    inertia.append(km.inertia_)\n",
    "    \n",
    "\n",
    "# Creating the Elbow Curve\n",
    "elbow_data = {\"k\": k, \"inertia\": inertia}\n",
    "df_elbow = pd.DataFrame(elbow_data)\n",
    "df_elbow.hvplot.line(x=\"k\", y=\"inertia\", xticks=k, title=\"Elbow Curve\")"
   ]
  },
  {
   "cell_type": "code",
   "execution_count": 127,
   "id": "relevant-advertising",
   "metadata": {},
   "outputs": [
    {
     "data": {
      "text/html": [
       "<div>\n",
       "<style scoped>\n",
       "    .dataframe tbody tr th:only-of-type {\n",
       "        vertical-align: middle;\n",
       "    }\n",
       "\n",
       "    .dataframe tbody tr th {\n",
       "        vertical-align: top;\n",
       "    }\n",
       "\n",
       "    .dataframe thead th {\n",
       "        text-align: right;\n",
       "    }\n",
       "</style>\n",
       "<table border=\"1\" class=\"dataframe\">\n",
       "  <thead>\n",
       "    <tr style=\"text-align: right;\">\n",
       "      <th></th>\n",
       "      <th>pc01</th>\n",
       "      <th>pc02</th>\n",
       "      <th>pc03</th>\n",
       "      <th>pc04</th>\n",
       "      <th>pc05</th>\n",
       "      <th>class</th>\n",
       "    </tr>\n",
       "  </thead>\n",
       "  <tbody>\n",
       "    <tr>\n",
       "      <th>0</th>\n",
       "      <td>-20.603645</td>\n",
       "      <td>-6.533131</td>\n",
       "      <td>4.731864</td>\n",
       "      <td>-13.308334</td>\n",
       "      <td>9.797052</td>\n",
       "      <td>1</td>\n",
       "    </tr>\n",
       "    <tr>\n",
       "      <th>1</th>\n",
       "      <td>-6.454234</td>\n",
       "      <td>8.111918</td>\n",
       "      <td>2.154247</td>\n",
       "      <td>5.775870</td>\n",
       "      <td>-6.696022</td>\n",
       "      <td>1</td>\n",
       "    </tr>\n",
       "    <tr>\n",
       "      <th>2</th>\n",
       "      <td>11.617374</td>\n",
       "      <td>-9.762855</td>\n",
       "      <td>8.196661</td>\n",
       "      <td>-5.067524</td>\n",
       "      <td>20.579784</td>\n",
       "      <td>0</td>\n",
       "    </tr>\n",
       "    <tr>\n",
       "      <th>3</th>\n",
       "      <td>-2.079443</td>\n",
       "      <td>1.914823</td>\n",
       "      <td>5.477724</td>\n",
       "      <td>5.457933</td>\n",
       "      <td>0.501676</td>\n",
       "      <td>1</td>\n",
       "    </tr>\n",
       "    <tr>\n",
       "      <th>4</th>\n",
       "      <td>18.223632</td>\n",
       "      <td>4.186509</td>\n",
       "      <td>7.812763</td>\n",
       "      <td>-6.172205</td>\n",
       "      <td>7.507980</td>\n",
       "      <td>0</td>\n",
       "    </tr>\n",
       "  </tbody>\n",
       "</table>\n",
       "</div>"
      ],
      "text/plain": [
       "        pc01      pc02      pc03       pc04       pc05  class\n",
       "0 -20.603645 -6.533131  4.731864 -13.308334   9.797052      1\n",
       "1  -6.454234  8.111918  2.154247   5.775870  -6.696022      1\n",
       "2  11.617374 -9.762855  8.196661  -5.067524  20.579784      0\n",
       "3  -2.079443  1.914823  5.477724   5.457933   0.501676      1\n",
       "4  18.223632  4.186509  7.812763  -6.172205   7.507980      0"
      ]
     },
     "execution_count": 127,
     "metadata": {},
     "output_type": "execute_result"
    }
   ],
   "source": [
    " # Predicting clusters with k2\n",
    "\n",
    "# Initialize the K-Means model\n",
    "model = KMeans(n_clusters=2, random_state=0)\n",
    "\n",
    "# Fit the model\n",
    "model.fit(df_teamstats_pca)\n",
    "\n",
    "# Predict clusters\n",
    "predictions = model.predict(df_teamstats_pca)\n",
    "\n",
    "# Add the predicted class columns\n",
    "df_teamstats_pca[\"class\"] = model.labels_\n",
    "df_teamstats_pca.head()"
   ]
  },
  {
   "cell_type": "code",
   "execution_count": 128,
   "id": "outer-couple",
   "metadata": {},
   "outputs": [
    {
     "data": {},
     "metadata": {},
     "output_type": "display_data"
    },
    {
     "data": {
      "application/vnd.holoviews_exec.v0+json": "",
      "text/html": [
       "<div id='5667'>\n",
       "\n",
       "\n",
       "\n",
       "\n",
       "\n",
       "  <div class=\"bk-root\" id=\"7b7874e7-ea5c-43a5-9ee1-5fe0c30d53b3\" data-root-id=\"5667\"></div>\n",
       "</div>\n",
       "<script type=\"application/javascript\">(function(root) {\n",
       "  function embed_document(root) {\n",
       "    var docs_json = {\"9b85d0f8-a950-4fb4-b691-0688f0fe7a39\":{\"roots\":{\"references\":[{\"attributes\":{\"data_source\":{\"id\":\"5707\"},\"glyph\":{\"id\":\"5710\"},\"hover_glyph\":null,\"muted_glyph\":{\"id\":\"5712\"},\"nonselection_glyph\":{\"id\":\"5711\"},\"selection_glyph\":null,\"view\":{\"id\":\"5714\"}},\"id\":\"5713\",\"type\":\"GlyphRenderer\"},{\"attributes\":{\"below\":[{\"id\":\"5682\"}],\"center\":[{\"id\":\"5685\"},{\"id\":\"5689\"}],\"left\":[{\"id\":\"5686\"}],\"margin\":[5,5,5,5],\"min_border_bottom\":10,\"min_border_left\":10,\"min_border_right\":10,\"min_border_top\":10,\"plot_height\":300,\"plot_width\":700,\"renderers\":[{\"id\":\"5713\"},{\"id\":\"5731\"}],\"right\":[{\"id\":\"5723\"}],\"sizing_mode\":\"fixed\",\"title\":{\"id\":\"5674\"},\"toolbar\":{\"id\":\"5696\"},\"x_range\":{\"id\":\"5669\"},\"x_scale\":{\"id\":\"5678\"},\"y_range\":{\"id\":\"5670\"},\"y_scale\":{\"id\":\"5680\"}},\"id\":\"5673\",\"subtype\":\"Figure\",\"type\":\"Plot\"},{\"attributes\":{\"source\":{\"id\":\"5707\"}},\"id\":\"5714\",\"type\":\"CDSView\"},{\"attributes\":{\"data\":{\"class\":{\"__ndarray__\":\"AQAAAAEAAAABAAAAAQAAAAEAAAABAAAAAQAAAAEAAAABAAAAAQAAAAEAAAABAAAAAQAAAAEAAAABAAAAAQAAAAEAAAABAAAAAQAAAAEAAAABAAAAAQAAAAEAAAABAAAAAQAAAAEAAAABAAAAAQAAAAEAAAABAAAAAQAAAAEAAAABAAAAAQAAAAEAAAABAAAAAQAAAAEAAAABAAAAAQAAAAEAAAABAAAAAQAAAAEAAAABAAAAAQAAAAEAAAABAAAAAQAAAAEAAAABAAAAAQAAAAEAAAABAAAAAQAAAAEAAAABAAAAAQAAAAEAAAABAAAAAQAAAAEAAAABAAAAAQAAAAEAAAABAAAAAQAAAAEAAAABAAAAAQAAAAEAAAABAAAAAQAAAAEAAAABAAAAAQAAAAEAAAABAAAAAQAAAAEAAAABAAAAAQAAAAEAAAABAAAAAQAAAAEAAAABAAAAAQAAAAEAAAABAAAAAQAAAAEAAAABAAAAAQAAAAEAAAABAAAAAQAAAAEAAAABAAAAAQAAAAEAAAABAAAAAQAAAAEAAAABAAAAAQAAAAEAAAABAAAAAQAAAAEAAAABAAAAAQAAAAEAAAABAAAAAQAAAAEAAAABAAAAAQAAAAEAAAABAAAAAQAAAAEAAAABAAAAAQAAAAEAAAABAAAAAQAAAAEAAAABAAAAAQAAAAEAAAABAAAAAQAAAAEAAAABAAAAAQAAAAEAAAABAAAAAQAAAAEAAAABAAAAAQAAAAEAAAABAAAAAQAAAAEAAAABAAAAAQAAAAEAAAABAAAAAQAAAAEAAAABAAAAAQAAAAEAAAABAAAAAQAAAAEAAAABAAAAAQAAAAEAAAABAAAAAQAAAAEAAAABAAAAAQAAAAEAAAABAAAAAQAAAAEAAAABAAAAAQAAAAEAAAABAAAAAQAAAAEAAAABAAAAAQAAAAEAAAABAAAAAQAAAAEAAAABAAAAAQAAAAEAAAABAAAAAQAAAAEAAAABAAAAAQAAAAEAAAABAAAAAQAAAAEAAAABAAAAAQAAAAEAAAABAAAAAQAAAAEAAAABAAAAAQAAAAEAAAABAAAAAQAAAAEAAAABAAAAAQAAAAEAAAABAAAAAQAAAAEAAAABAAAAAQAAAAEAAAABAAAAAQAAAAEAAAABAAAAAQAAAAEAAAABAAAAAQAAAAEAAAABAAAAAQAAAAEAAAABAAAAAQAAAAEAAAABAAAAAQAAAAEAAAABAAAAAQAAAAEAAAABAAAAAQAAAAEAAAABAAAAAQAAAAEAAAABAAAAAQAAAAEAAAABAAAAAQAAAAEAAAABAAAAAQAAAAEAAAABAAAAAQAAAAEAAAABAAAAAQAAAAEAAAABAAAAAQAAAAEAAAABAAAAAQAAAAEAAAABAAAAAQAAAAEAAAABAAAAAQAAAAEAAAABAAAAAQAAAAEAAAABAAAAAQAAAAEAAAABAAAAAQAAAAEAAAABAAAAAQAAAAEAAAABAAAAAQAAAAEAAAABAAAAAQAAAAEAAAABAAAAAQAAAAEAAAABAAAAAQAAAAEAAAABAAAAAQAAAAEAAAABAAAAAQAAAAEAAAABAAAAAQAAAAEAAAABAAAAAQAAAAEAAAABAAAAAQAAAAEAAAABAAAAAQAAAAEAAAABAAAAAQAAAAEAAAABAAAAAQAAAAEAAAABAAAAAQAAAAEAAAABAAAAAQAAAAEAAAABAAAAAQAAAAEAAAABAAAAAQAAAAEAAAABAAAAAQAAAAEAAAABAAAAAQAAAAEAAAABAAAAAQAAAAEAAAABAAAAAQAAAAEAAAABAAAAAQAAAAEAAAABAAAAAQAAAAEAAAABAAAAAQAAAAEAAAABAAAAAQAAAAEAAAABAAAAAQAAAAEAAAABAAAAAQAAAAEAAAABAAAAAQAAAAEAAAABAAAAAQAAAAEAAAABAAAAAQAAAAEAAAABAAAAAQAAAAEAAAABAAAAAQAAAAEAAAABAAAAAQAAAAEAAAABAAAAAQAAAAEAAAABAAAAAQAAAAEAAAABAAAAAQAAAAEAAAABAAAAAQAAAAEAAAABAAAAAQAAAAEAAAABAAAAAQAAAAEAAAABAAAAAQAAAAEAAAABAAAAAQAAAAEAAAABAAAAAQAAAAEAAAABAAAAAQAAAAEAAAABAAAAAQAAAAEAAAABAAAAAQAAAAEAAAABAAAAAQAAAAEAAAABAAAAAQAAAAEAAAABAAAAAQAAAAEAAAABAAAAAQAAAAEAAAABAAAAAQAAAAEAAAABAAAAAQAAAAEAAAABAAAAAQAAAAEAAAABAAAAAQAAAAEAAAABAAAAAQAAAAEAAAABAAAAAQAAAAEAAAABAAAAAQAAAAEAAAABAAAAAQAAAAEAAAABAAAAAQAAAAEAAAABAAAAAQAAAAEAAAABAAAAAQAAAAEAAAABAAAAAQAAAAEAAAABAAAAAQAAAAEAAAABAAAAAQAAAAEAAAABAAAAAQAAAAEAAAABAAAAAQAAAAEAAAABAAAAAQAAAAEAAAABAAAAAQAAAAEAAAABAAAAAQAAAAEAAAABAAAAAQAAAAEAAAABAAAAAQAAAAEAAAABAAAAAQAAAAEAAAABAAAAAQAAAAEAAAABAAAAAQAAAAEAAAABAAAAAQAAAAEAAAABAAAAAQAAAAEAAAABAAAAAQAAAAEAAAABAAAAAQAAAAEAAAABAAAAAQAAAAEAAAABAAAAAQAAAAEAAAABAAAAAQAAAAEAAAABAAAAAQAAAAEAAAABAAAAAQAAAAEAAAABAAAAAQAAAAEAAAABAAAAAQAAAAEAAAABAAAAAQAAAAEAAAABAAAAAQAAAAEAAAABAAAAAQAAAAEAAAABAAAAAQAAAAEAAAABAAAAAQAAAAEAAAABAAAAAQAAAAEAAAABAAAAAQAAAAEAAAABAAAAAQAAAAEAAAABAAAAAQAAAAEAAAABAAAAAQAAAAEAAAABAAAAAQAAAAEAAAABAAAAAQAAAAEAAAABAAAAAQAAAAEAAAABAAAAAQAAAAEAAAABAAAAAQAAAAEAAAABAAAAAQAAAAEAAAABAAAAAQAAAAEAAAABAAAAAQAAAAEAAAABAAAAAQAAAAEAAAABAAAAAQAAAAEAAAABAAAAAQAAAAEAAAABAAAAAQAAAAEAAAABAAAAAQAAAAEAAAABAAAAAQAAAAEAAAABAAAAAQAAAAEAAAABAAAAAQAAAAEAAAABAAAAAQAAAAEAAAABAAAAAQAAAAEAAAABAAAAAQAAAAEAAAABAAAAAQAAAAEAAAABAAAAAQAAAAEAAAABAAAAAQAAAAEAAAABAAAAAQAAAAEAAAABAAAAAQAAAAEAAAABAAAAAQAAAAEAAAABAAAAAQAAAAEAAAABAAAAAQAAAAEAAAABAAAAAQAAAAEAAAABAAAAAQAAAAEAAAABAAAAAQAAAAEAAAABAAAAAQAAAAEAAAABAAAAAQAAAAEAAAABAAAAAQAAAAEAAAABAAAAAQAAAAEAAAABAAAAAQAAAAEAAAABAAAAAQAAAAEAAAABAAAAAQAAAAEAAAABAAAAAQAAAAEAAAABAAAAAQAAAAEAAAABAAAAAQAAAAEAAAABAAAAAQAAAAEAAAABAAAAAQAAAAEAAAABAAAAAQAAAAEAAAABAAAAAQAAAAEAAAABAAAAAQAAAAEAAAABAAAAAQAAAAEAAAABAAAAAQAAAAEAAAABAAAAAQAAAAEAAAABAAAAAQAAAAEAAAABAAAAAQAAAAEAAAABAAAAAQAAAAEAAAABAAAAAQAAAAEAAAABAAAAAQAAAAEAAAABAAAAAQAAAAEAAAABAAAAAQAAAAEAAAABAAAAAQAAAAEAAAABAAAAAQAAAAEAAAABAAAAAQAAAAEAAAABAAAAAQAAAAEAAAABAAAAAQAAAAEAAAABAAAAAQAAAAEAAAABAAAAAQAAAAEAAAABAAAAAQAAAAEAAAABAAAAAQAAAAEAAAABAAAAAQAAAAEAAAABAAAAAQAAAAEAAAABAAAAAQAAAAEAAAABAAAAAQAAAAEAAAABAAAAAQAAAAEAAAABAAAAAQAAAAEAAAABAAAAAQAAAAEAAAABAAAAAQAAAAEAAAABAAAAAQAAAAEAAAABAAAAAQAAAAEAAAABAAAAAQAAAAEAAAABAAAAAQAAAAEAAAABAAAAAQAAAAEAAAABAAAAAQAAAAEAAAABAAAAAQAAAAEAAAABAAAAAQAAAAEAAAABAAAAAQAAAAEAAAABAAAAAQAAAAEAAAABAAAAAQAAAAEAAAABAAAAAQAAAAEAAAABAAAAAQAAAAEAAAABAAAAAQAAAAEAAAABAAAAAQAAAAEAAAABAAAAAQAAAA==\",\"dtype\":\"int32\",\"order\":\"little\",\"shape\":[823]},\"pc01\":{\"__ndarray__\":\"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\",\"dtype\":\"float64\",\"order\":\"little\",\"shape\":[823]},\"pc02\":{\"__ndarray__\":\"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\",\"dtype\":\"float64\",\"order\":\"little\",\"shape\":[823]}},\"selected\":{\"id\":\"5726\"},\"selection_policy\":{\"id\":\"5741\"}},\"id\":\"5725\",\"type\":\"ColumnDataSource\"},{\"attributes\":{\"text\":\"\",\"text_color\":{\"value\":\"black\"},\"text_font_size\":{\"value\":\"12pt\"}},\"id\":\"5674\",\"type\":\"Title\"},{\"attributes\":{\"fill_color\":{\"value\":\"#1f77b3\"},\"line_color\":{\"value\":\"#1f77b3\"},\"size\":{\"units\":\"screen\",\"value\":5.477225575051661},\"x\":{\"field\":\"pc01\"},\"y\":{\"field\":\"pc02\"}},\"id\":\"5710\",\"type\":\"Scatter\"},{\"attributes\":{},\"id\":\"5721\",\"type\":\"UnionRenderers\"},{\"attributes\":{\"click_policy\":\"mute\",\"items\":[{\"id\":\"5724\"},{\"id\":\"5743\"}],\"location\":[0,0],\"title\":\"class\"},\"id\":\"5723\",\"type\":\"Legend\"},{\"attributes\":{\"children\":[{\"id\":\"5668\"},{\"id\":\"5673\"},{\"id\":\"5834\"}],\"margin\":[0,0,0,0],\"name\":\"Row12864\",\"tags\":[\"embedded\"]},\"id\":\"5667\",\"type\":\"Row\"},{\"attributes\":{\"fill_alpha\":{\"value\":0.1},\"fill_color\":{\"value\":\"#ff7e0e\"},\"line_alpha\":{\"value\":0.1},\"line_color\":{\"value\":\"#ff7e0e\"},\"size\":{\"units\":\"screen\",\"value\":5.477225575051661},\"x\":{\"field\":\"pc01\"},\"y\":{\"field\":\"pc02\"}},\"id\":\"5729\",\"type\":\"Scatter\"},{\"attributes\":{\"fill_alpha\":{\"value\":0.1},\"fill_color\":{\"value\":\"#1f77b3\"},\"line_alpha\":{\"value\":0.1},\"line_color\":{\"value\":\"#1f77b3\"},\"size\":{\"units\":\"screen\",\"value\":5.477225575051661},\"x\":{\"field\":\"pc01\"},\"y\":{\"field\":\"pc02\"}},\"id\":\"5711\",\"type\":\"Scatter\"},{\"attributes\":{},\"id\":\"5703\",\"type\":\"BasicTickFormatter\"},{\"attributes\":{\"margin\":[5,5,5,5],\"name\":\"HSpacer12868\",\"sizing_mode\":\"stretch_width\"},\"id\":\"5668\",\"type\":\"Spacer\"},{\"attributes\":{\"data_source\":{\"id\":\"5725\"},\"glyph\":{\"id\":\"5728\"},\"hover_glyph\":null,\"muted_glyph\":{\"id\":\"5730\"},\"nonselection_glyph\":{\"id\":\"5729\"},\"selection_glyph\":null,\"view\":{\"id\":\"5732\"}},\"id\":\"5731\",\"type\":\"GlyphRenderer\"},{\"attributes\":{},\"id\":\"5683\",\"type\":\"BasicTicker\"},{\"attributes\":{\"fill_alpha\":{\"value\":0.2},\"fill_color\":{\"value\":\"#1f77b3\"},\"line_alpha\":{\"value\":0.2},\"line_color\":{\"value\":\"#1f77b3\"},\"size\":{\"units\":\"screen\",\"value\":5.477225575051661},\"x\":{\"field\":\"pc01\"},\"y\":{\"field\":\"pc02\"}},\"id\":\"5712\",\"type\":\"Scatter\"},{\"attributes\":{\"end\":78.13845536386509,\"reset_end\":78.13845536386509,\"reset_start\":-70.03312872427213,\"start\":-70.03312872427213,\"tags\":[[[\"pc01\",\"pc01\",null]]]},\"id\":\"5669\",\"type\":\"Range1d\"},{\"attributes\":{},\"id\":\"5708\",\"type\":\"Selection\"},{\"attributes\":{\"bottom_units\":\"screen\",\"fill_alpha\":0.5,\"fill_color\":\"lightgrey\",\"left_units\":\"screen\",\"level\":\"overlay\",\"line_alpha\":1.0,\"line_color\":\"black\",\"line_dash\":[4,4],\"line_width\":2,\"right_units\":\"screen\",\"top_units\":\"screen\"},\"id\":\"5695\",\"type\":\"BoxAnnotation\"},{\"attributes\":{\"label\":{\"value\":\"0\"},\"renderers\":[{\"id\":\"5713\"}]},\"id\":\"5724\",\"type\":\"LegendItem\"},{\"attributes\":{\"end\":47.160630700766426,\"reset_end\":47.160630700766426,\"reset_start\":-37.6584033063659,\"start\":-37.6584033063659,\"tags\":[[[\"pc02\",\"pc02\",null]]]},\"id\":\"5670\",\"type\":\"Range1d\"},{\"attributes\":{\"callback\":null,\"renderers\":[{\"id\":\"5713\"},{\"id\":\"5731\"}],\"tags\":[\"hv_created\"],\"tooltips\":[[\"class\",\"@{class}\"],[\"pc01\",\"@{pc01}\"],[\"pc02\",\"@{pc02}\"]]},\"id\":\"5671\",\"type\":\"HoverTool\"},{\"attributes\":{},\"id\":\"5680\",\"type\":\"LinearScale\"},{\"attributes\":{\"fill_alpha\":{\"value\":0.2},\"fill_color\":{\"value\":\"#ff7e0e\"},\"line_alpha\":{\"value\":0.2},\"line_color\":{\"value\":\"#ff7e0e\"},\"size\":{\"units\":\"screen\",\"value\":5.477225575051661},\"x\":{\"field\":\"pc01\"},\"y\":{\"field\":\"pc02\"}},\"id\":\"5730\",\"type\":\"Scatter\"},{\"attributes\":{},\"id\":\"5678\",\"type\":\"LinearScale\"},{\"attributes\":{},\"id\":\"5726\",\"type\":\"Selection\"},{\"attributes\":{},\"id\":\"5691\",\"type\":\"PanTool\"},{\"attributes\":{\"fill_color\":{\"value\":\"#ff7e0e\"},\"line_color\":{\"value\":\"#ff7e0e\"},\"size\":{\"units\":\"screen\",\"value\":5.477225575051661},\"x\":{\"field\":\"pc01\"},\"y\":{\"field\":\"pc02\"}},\"id\":\"5728\",\"type\":\"Scatter\"},{\"attributes\":{\"axis\":{\"id\":\"5682\"},\"grid_line_color\":null,\"ticker\":null},\"id\":\"5685\",\"type\":\"Grid\"},{\"attributes\":{\"source\":{\"id\":\"5725\"}},\"id\":\"5732\",\"type\":\"CDSView\"},{\"attributes\":{},\"id\":\"5687\",\"type\":\"BasicTicker\"},{\"attributes\":{\"axis\":{\"id\":\"5686\"},\"dimension\":1,\"grid_line_color\":null,\"ticker\":null},\"id\":\"5689\",\"type\":\"Grid\"},{\"attributes\":{\"margin\":[5,5,5,5],\"name\":\"HSpacer12869\",\"sizing_mode\":\"stretch_width\"},\"id\":\"5834\",\"type\":\"Spacer\"},{\"attributes\":{\"label\":{\"value\":\"1\"},\"renderers\":[{\"id\":\"5731\"}]},\"id\":\"5743\",\"type\":\"LegendItem\"},{\"attributes\":{\"axis_label\":\"pc02\",\"bounds\":\"auto\",\"formatter\":{\"id\":\"5705\"},\"major_label_orientation\":\"horizontal\",\"ticker\":{\"id\":\"5687\"}},\"id\":\"5686\",\"type\":\"LinearAxis\"},{\"attributes\":{\"data\":{\"class\":{\"__ndarray__\":\"AAAAAAAAAAAAAAAAAAAAAAAAAAAAAAAAAAAAAAAAAAAAAAAAAAAAAAAAAAAAAAAAAAAAAAAAAAAAAAAAAAAAAAAAAAAAAAAAAAAAAAAAAAAAAAAAAAAAAAAAAAAAAAAAAAAAAAAAAAAAAAAAAAAAAAAAAAAAAAAAAAAAAAAAAAAAAAAAAAAAAAAAAAAAAAAAAAAAAAAAAAAAAAAAAAAAAAAAAAAAAAAAAAAAAAAAAAAAAAAAAAAAAAAAAAAAAAAAAAAAAAAAAAAAAAAAAAAAAAAAAAAAAAAAAAAAAAAAAAAAAAAAAAAAAAAAAAAAAAAAAAAAAAAAAAAAAAAAAAAAAAAAAAAAAAAAAAAAAAAAAAAAAAAAAAAAAAAAAAAAAAAAAAAAAAAAAAAAAAAAAAAAAAAAAAAAAAAAAAAAAAAAAAAAAAAAAAAAAAAAAAAAAAAAAAAAAAAAAAAAAAAAAAAAAAAAAAAAAAAAAAAAAAAAAAAAAAAAAAAAAAAAAAAAAAAAAAAAAAAAAAAAAAAAAAAAAAAAAAAAAAAAAAAAAAAAAAAAAAAAAAAAAAAAAAAAAAAAAAAAAAAAAAAAAAAAAAAAAAAAAAAAAAAAAAAAAAAAAAAAAAAAAAAAAAAAAAAAAAAAAAAAAAAAAAAAAAAAAAAAAAAAAAAAAAAAAAAAAAAAAAAAAAAAAAAAAAAAAAAAAAAAAAAAAAAAAAAAAAAAAAAAAAAAAAAAAAAAAAAAAAAAAAAAAAAAAAAAAAAAAAAAAAAAAAAAAAAAAAAAAAAAAAAAAAAAAAAAAAAAAAAAAAAAAAAAAAAAAAAAAAAAAAAAAAAAAAAAAAAAAAAAAAAAAAAAAAAAAAAAAAAAAAAAAAAAAAAAAAAAAAAAAAAAAAAAAAAAAAAAAAAAAAAAAAAAAAAAAAAAAAAAAAAAAAAAAAAAAAAAAAAAAAAAAAAAAAAAAAAAAAAAAAAAAAAAAAAAAAAAAAAAAAAAAAAAAAAAAAAAAAAAAAAAAAAAAAAAAAAAAAAAAAAAAAAAAAAAAAAAAAAAAAAAAAAAAAAAAAAAAAAAAAAAAAAAAAAAAAAAAAAAAAAAAAAAAAAAAAAAAAAAAAAAAAAAAAAAAAAAAAAAAAAAAAAAAAAAAAAAAAAAAAAAAAAAAAAAAAAAAAAAAAAAAAAAAAAAAAAAAAAAAAAAAAAAAAAAAAAAAAAAAAAAAAAAAAAAAAAAAAAAAAAAAAAAAAAAAAAAAAAAAAAAAAAAAAAAAAAAAAAAAAAAAAAAAAAAAAAAAAAAAAAAAAAAAAAAAAAAAAAAAAAAAAAAAAAAAAAAAAAAAAAAAAAAAAAAAAAAAAAAAAAAAAAAAAAAAAAAAAAAAAAAAAAAAAAAAAAAAAAAAAAAAAAAAAAAAAAAAAAAAAAAAAAAAAAAAAAAAAAAAAAAAAAAAAAAAAAAAAAAAAAAAAAAAAAAAAAAAAAAAAAAAAAAAAAAAAAAAAAAAAAAAAAAAAAAAAAAAAAAAAAAAAAAAAAAAAAAAAAAAAAAAAAAAAAAAAAAAAAAAAAAAAAAAAAAAAAAAAAAAAAAAAAAAAAAAAAAAAAAAAAAAAAAAAAAAAAAAAAAAAAAAAAAAAAAAAAAAAAAAAAAAAAAAAAAAAAAAAAAAAAAAAAAAAAAAAAAAAAAAAAAAAAAAAAAAAAAAAAAAAAAAAAAAAAAAAAAAAAAAAAAAAAAAAAAAAAAAAAAAAAAAAAAAAAAAAAAAAAAAAAAAAAAAAAAAAAAAAAAAAAAAAAAAAAAAAAAAAAAAAAAAAAAAAAAAAAAAAAAAAAAAAAAAAAAAAAAAAAAAAAAAAAAAAAAAAAAAAAAAAAAAAAAAAAAAAAAAAAAAAAAAAAAAAAAAAAAAAAAAAAAAAAAAAAAAAAAAAAAAAAAAAAAAAAAAAAAAAAAAAAAAAAAAAAAAAAAAAAAAAAAAAAAAAAAAAAAAAAAAAAAAAAAAAAAAAAAAAAAAAAAAAAAAAAAAAAAAAAAAAAAAAAAAAAAAAAAAAAAAAAAAAAAAAAAAAAAAAAAAAAAAAAAAAAAAAAAAAAAAAAAAAAAAAAAAAAAAAAAAAAAAAAAAAAAAAAAAAAAAAAAAAAAAAAAAAAAAAAAAAAAAAAAAAAAAAAAAAAAAAAAAAAAAAAAAAAAAAAAAAAAAAAAAAAAAAAAAAAAAAAAAAAAAAAAAAAAAAAAAAAAAAAAAAAAAAAAAAAAAAAAAAAAAAAAAAAAAAAAAAAAAAAAAAAAAAAAAAAAAAAAAAAAAAAAAAAAAAAAAAAAAAAAAAAAAAAAAAAAAAAAAAAAAAAAAAAAAAAAAAAAAAAAAAAAAAAAAAAAAAAAAAAAAAAAAAAAAAAAAAAAAAAAAAAAAAAAAAAAAAAAAAAAAAAAAAAAAAAAAAAAAAAAAAAAAAAAAAAAAAAAAAAAAAAAAAAAAAAAAAAAAAAAAAAAAAAAAAAAAAAAAAAAAAAAAAAAAAAAAAAAAAAAAAAAAAAAAAAAAAAAAAAAAAAAAAAAAAAAAAAAAAAAAAAAAAAAAAAAAAAAAAAAAAAAAAAAAAAAAAAAAAAAAAAAAAAAAAAAAAAAAAAAAAAAAAAAAAAAAAAAAAAAAAAAAAAAAAAAAAAAAAAAAAAAAAAAAAAAAAAAAAAAAAAAAAAAAAAAAAAAAAAAAAAAAAAAAAAAAAAAAAAAAAAAAAAAAAAAAAAAAAAAAAAAAAAAAAAAAAAAAAAAAAAAAAAAAAAAAAAAAAAAAAAAAAAAAAAAAAAAAAAAAAAAAAAAAAAAAAAAAAAAAAAAAAAAAAAAAAAAAAAAAAAAAAAAAAAAAAAAAAAAAAAAAAAAAAAAAAAAAAAAAAAAAAAAAAAAAAAAAAAAAAAAAAAAAAAAAAAAAAAAAAAAAAAAAAAAAAAAAAAAAAAAAAAAAAAAAAAAAAAAAAAAAAAAAAAAAAAAAAAAAAAAAAAAAAAAAAAAAAAAAAAAAAAAAAAAAAAAAAAAAAAAAAAAAAAAAAAAAAAAAAAAAAAAAAAAAAAAAAAAAAAAAAAAAAAAAAAAAAAAAAAAAAAAAAAAAAAAAAAAAAAAAAAAAAAAAAAAAAAAAAAAAAAAAAAAAAAAAAAAAAAAAAAAAAAAAAAAAAAAAAAAAAAAAAAAAAAAAAAAAAAAAAAAAAAAAAAAAAAAAAAAAAAAAAAAAAAAAAAAAAAAAAAAAAAAAAAAAAAAAAAAAAAAAAAAAAAAAAAAAAAAAAAAAAAAAAAAAAAAAAAAAAAAAAAAAAAAAAAAAAAAAAAAAAAAAAAAAAAAAAAAAAAAAAAAAAAAAAAAAAAAAAAAAAAAAAAAAAAAAAAAAAAAAAAAAAAAAAAAAAAAAAAAAAAAAAAAAAAAAAAAAAAAAAAAAAAAAAAAAAAAAAAAAAAAAAAAAAAAAAAAAAAAAAAAAAAAAAAAAAAAAAAAAAAAAAAAAAAAAAAAAAAAAAAAAAAAAAAAAAAAAAAAAAAAAAAAAAAAAAAAAAAAAAAAAAAAAAAAAAAAAAAAAAAAAAAAAAAAAAAAAAAAAAAAAAAAAAAAAAAAAAAAAAAAAAAAAAAAAAAAAAAAAAAAAAAAAAAAAAAAAAAAAAAAAAAAAAAAAAAAAAAAAAAAAAAAAAAAAAAAAAAAAAAAAAAAAAAAAAAAAAAAAAAAAAAAAAAAAAAAAAAAAAAAAAAAAAAAAAAAAAAAAAAAAAAAAAAAAAAAAAAAAAAAAAAAAAAAAAAAAAAAAAAAAAAAAAAAAAAAAAAAAAAAAAAAAAAAAAAAAAAAAAAAAAAAAAAAAAAAAAAAAAAAAAAAAAAAAAAAAAAAAAAAAAAAAAAAAAAAAAAAAAAAAAAAAAAAAAAAAAAAAAAAAAAAAAAAAAAAAAAAAAAAAAAAAAAAAAAAAAAAAAAAAAAAAAAAAAAAAAAAAAAAAAAAAAAAAAAAAAAAAAAAAAAAAAAAAAAAAAAAAAAAAAAAAAAAAAAAAAAAAAAAAAAAAAAAAAAAAAAAAAAAAAAAAAAAAAAAAAAAAAAAAAAAAAAAAAAAAAAAAAAAAAAAAAAAAAAAAAAAAAAAAAAAAAAAAAAAAAAAAAAAAAAAAAAAAAAAAAAAAAAAAAAAAAAAAAAAAAAAAAAAAAAAAAAAAAAAAAAAAAAAAAAAAAAAAAAAAAAAAAAAAAAAAAAAAAAAAAAAAAAAAAAAAAAAAAAAAAAAAAAAAAAAAAAAAAAAAAAAAAAAAAAAAAAAAAAAAAAAAAAAAAAAAAAAAAAAAAAAAAAAAAAAAAAAAAAAAAAAAAAAAAAAAAAAAAAAAAAAAAAAAAAAAAAAAAAAAAAAAAAAAAAAAAAAAAAAAAAAAAAAAAAAAAAAAAAAAAAAAAAAAAAAAAAAAAAAAAAAAAAAAAAAAAAAAAAAAAAAAAAAAAAAAAAAAAAAAAAAAAAAAAAAAAAAAAAAAAAAAAAAAAAAAAAAAAAAAAAAAAAAAAAAAAAAAAAAAAAAAAAAAAAAAAAAAAAAAAAAAAAAAAAAAAAAAAAAAAAAAAAAAAAAAAAAAAAAAAAAAAAAAAAAAAAAAAAAAAAAAAAAAAAAAAAAAAAAAAAAAAAAAAAAAAAAAAAAAAAAAAAAAAAAAAAAAAAAAAAAAAAAAAAAAAAAAAAAAAAAAAAAAAAAAAAAAAAAAAAAAAAAAAAAAAAAAAAAAA==\",\"dtype\":\"int32\",\"order\":\"little\",\"shape\":[877]},\"pc01\":{\"__ndarray__\":\"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\",\"dtype\":\"float64\",\"order\":\"little\",\"shape\":[877]},\"pc02\":{\"__ndarray__\":\"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\",\"dtype\":\"float64\",\"order\":\"little\",\"shape\":[877]}},\"selected\":{\"id\":\"5708\"},\"selection_policy\":{\"id\":\"5721\"}},\"id\":\"5707\",\"type\":\"ColumnDataSource\"},{\"attributes\":{\"axis_label\":\"pc01\",\"bounds\":\"auto\",\"formatter\":{\"id\":\"5703\"},\"major_label_orientation\":\"horizontal\",\"ticker\":{\"id\":\"5683\"}},\"id\":\"5682\",\"type\":\"LinearAxis\"},{\"attributes\":{},\"id\":\"5692\",\"type\":\"WheelZoomTool\"},{\"attributes\":{\"active_drag\":\"auto\",\"active_inspect\":\"auto\",\"active_multi\":null,\"active_scroll\":\"auto\",\"active_tap\":\"auto\",\"tools\":[{\"id\":\"5671\"},{\"id\":\"5690\"},{\"id\":\"5691\"},{\"id\":\"5692\"},{\"id\":\"5693\"},{\"id\":\"5694\"}]},\"id\":\"5696\",\"type\":\"Toolbar\"},{\"attributes\":{},\"id\":\"5690\",\"type\":\"SaveTool\"},{\"attributes\":{\"overlay\":{\"id\":\"5695\"}},\"id\":\"5693\",\"type\":\"BoxZoomTool\"},{\"attributes\":{},\"id\":\"5694\",\"type\":\"ResetTool\"},{\"attributes\":{},\"id\":\"5705\",\"type\":\"BasicTickFormatter\"},{\"attributes\":{},\"id\":\"5741\",\"type\":\"UnionRenderers\"}],\"root_ids\":[\"5667\"]},\"title\":\"Bokeh Application\",\"version\":\"2.2.3\"}};\n",
       "    var render_items = [{\"docid\":\"9b85d0f8-a950-4fb4-b691-0688f0fe7a39\",\"root_ids\":[\"5667\"],\"roots\":{\"5667\":\"7b7874e7-ea5c-43a5-9ee1-5fe0c30d53b3\"}}];\n",
       "    root.Bokeh.embed.embed_items_notebook(docs_json, render_items);\n",
       "  }\n",
       "  if (root.Bokeh !== undefined && root.Bokeh.Panel !== undefined) {\n",
       "    embed_document(root);\n",
       "  } else {\n",
       "    var attempts = 0;\n",
       "    var timer = setInterval(function(root) {\n",
       "      if (root.Bokeh !== undefined && root.Bokeh.Panel !== undefined) {\n",
       "        clearInterval(timer);\n",
       "        embed_document(root);\n",
       "      } else if (document.readyState == \"complete\") {\n",
       "        attempts++;\n",
       "        if (attempts > 100) {\n",
       "          clearInterval(timer);\n",
       "          console.log(\"Bokeh: ERROR: Unable to run BokehJS code because BokehJS library is missing\");\n",
       "        }\n",
       "      }\n",
       "    }, 10, root)\n",
       "  }\n",
       "})(window);</script>"
      ],
      "text/plain": [
       ":NdOverlay   [class]\n",
       "   :Scatter   [pc01]   (pc02,class)"
      ]
     },
     "execution_count": 128,
     "metadata": {
      "application/vnd.holoviews_exec.v0+json": {
       "id": "5667"
      }
     },
     "output_type": "execute_result"
    }
   ],
   "source": [
    "# Plotting the clusters\n",
    "df_teamstats_pca.hvplot.scatter(\n",
    "    x=\"pc01\",\n",
    "    y=\"pc02\",\n",
    "    hover_cols=[\"class\"],\n",
    "    by=\"class\",\n",
    ")"
   ]
  },
  {
   "cell_type": "code",
   "execution_count": null,
   "id": "electrical-brake",
   "metadata": {},
   "outputs": [],
   "source": []
  },
  {
   "cell_type": "code",
   "execution_count": null,
   "id": "lesbian-february",
   "metadata": {},
   "outputs": [],
   "source": []
  }
 ],
 "metadata": {
  "kernelspec": {
   "display_name": "Python 3",
   "language": "python",
   "name": "python3"
  },
  "language_info": {
   "codemirror_mode": {
    "name": "ipython",
    "version": 3
   },
   "file_extension": ".py",
   "mimetype": "text/x-python",
   "name": "python",
   "nbconvert_exporter": "python",
   "pygments_lexer": "ipython3",
   "version": "3.8.5"
  }
 },
 "nbformat": 4,
 "nbformat_minor": 5
}
