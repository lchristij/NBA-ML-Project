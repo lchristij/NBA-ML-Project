{
 "cells": [
  {
   "cell_type": "code",
   "execution_count": 19,
   "id": "further-notification",
   "metadata": {},
   "outputs": [],
   "source": [
    "import pandas as pd\n",
    "from pathlib import Path\n"
   ]
  },
  {
   "cell_type": "code",
   "execution_count": 20,
   "id": "sized-earthquake",
   "metadata": {},
   "outputs": [],
   "source": [
    "csvpath = Path('../Project-03/teamGameStats.csv')\n",
    "teamstats_df = pd.read_csv(csvpath)"
   ]
  },
  {
   "cell_type": "code",
   "execution_count": 21,
   "id": "following-phrase",
   "metadata": {},
   "outputs": [
    {
     "data": {
      "text/html": [
       "<div>\n",
       "<style scoped>\n",
       "    .dataframe tbody tr th:only-of-type {\n",
       "        vertical-align: middle;\n",
       "    }\n",
       "\n",
       "    .dataframe tbody tr th {\n",
       "        vertical-align: top;\n",
       "    }\n",
       "\n",
       "    .dataframe thead th {\n",
       "        text-align: right;\n",
       "    }\n",
       "</style>\n",
       "<table border=\"1\" class=\"dataframe\">\n",
       "  <thead>\n",
       "    <tr style=\"text-align: right;\">\n",
       "      <th></th>\n",
       "      <th>TEAM\\tMATCH UP\\tGAME DATE\\tW/L\\tMIN\\tPTS\\tFGM\\tFGA\\tFG%\\t3PM\\t3PA\\t3P%\\tFTM\\tFTA\\tFT%\\tOREB\\tDREB\\tREB\\tAST\\tTOV\\tSTL\\tBLK\\tPF\\t+/-</th>\n",
       "    </tr>\n",
       "  </thead>\n",
       "  <tbody>\n",
       "    <tr>\n",
       "      <th>0</th>\n",
       "      <td>ATL\\tATL vs. IND\\t4/18/2021\\tW\\t48\\t129\\t45\\t9...</td>\n",
       "    </tr>\n",
       "    <tr>\n",
       "      <th>1</th>\n",
       "      <td>CHA\\tCHA vs. POR\\t4/18/2021\\tW\\t48\\t109\\t39\\t8...</td>\n",
       "    </tr>\n",
       "    <tr>\n",
       "      <th>2</th>\n",
       "      <td>NOP\\tNOP @ NYK\\t4/18/2021\\tL\\t53\\t112\\t41\\t101...</td>\n",
       "    </tr>\n",
       "    <tr>\n",
       "      <th>3</th>\n",
       "      <td>MIA\\tMIA vs. BKN\\t4/18/2021\\tW\\t48\\t109\\t38\\t8...</td>\n",
       "    </tr>\n",
       "    <tr>\n",
       "      <th>4</th>\n",
       "      <td>POR\\tPOR @ CHA\\t4/18/2021\\tL\\t48\\t101\\t36\\t91\\...</td>\n",
       "    </tr>\n",
       "  </tbody>\n",
       "</table>\n",
       "</div>"
      ],
      "text/plain": [
       "  TEAM\\tMATCH UP\\tGAME DATE\\tW/L\\tMIN\\tPTS\\tFGM\\tFGA\\tFG%\\t3PM\\t3PA\\t3P%\\tFTM\\tFTA\\tFT%\\tOREB\\tDREB\\tREB\\tAST\\tTOV\\tSTL\\tBLK\\tPF\\t+/-\n",
       "0  ATL\\tATL vs. IND\\t4/18/2021\\tW\\t48\\t129\\t45\\t9...                                                                                 \n",
       "1  CHA\\tCHA vs. POR\\t4/18/2021\\tW\\t48\\t109\\t39\\t8...                                                                                 \n",
       "2  NOP\\tNOP @ NYK\\t4/18/2021\\tL\\t53\\t112\\t41\\t101...                                                                                 \n",
       "3  MIA\\tMIA vs. BKN\\t4/18/2021\\tW\\t48\\t109\\t38\\t8...                                                                                 \n",
       "4  POR\\tPOR @ CHA\\t4/18/2021\\tL\\t48\\t101\\t36\\t91\\...                                                                                 "
      ]
     },
     "execution_count": 21,
     "metadata": {},
     "output_type": "execute_result"
    }
   ],
   "source": [
    "teamstats_df.head()"
   ]
  },
  {
   "cell_type": "code",
   "execution_count": null,
   "id": "likely-machinery",
   "metadata": {},
   "outputs": [],
   "source": []
  }
 ],
 "metadata": {
  "kernelspec": {
   "display_name": "Python 3",
   "language": "python",
   "name": "python3"
  },
  "language_info": {
   "codemirror_mode": {
    "name": "ipython",
    "version": 3
   },
   "file_extension": ".py",
   "mimetype": "text/x-python",
   "name": "python",
   "nbconvert_exporter": "python",
   "pygments_lexer": "ipython3",
   "version": "3.8.5"
  }
 },
 "nbformat": 4,
 "nbformat_minor": 5
}
