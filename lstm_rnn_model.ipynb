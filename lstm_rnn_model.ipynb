{
 "cells": [
  {
   "cell_type": "code",
   "execution_count": 1,
   "id": "sharp-installation",
   "metadata": {},
   "outputs": [],
   "source": [
    "import pandas as pd\n",
    "import numpy as np\n",
    "from pathlib import Path\n",
    "%matplotlib inline\n",
    "\n",
    "import warnings\n",
    "warnings.filterwarnings('ignore')\n",
    "\n",
    "from sklearn.model_selection import train_test_split\n",
    "\n",
    "# Initial imports\n",
    "import matplotlib.pyplot as plt\n",
    "\n",
    "from tensorflow.keras.models import Sequential\n",
    "from tensorflow.keras.layers import Dense\n",
    "import tensorflow as tf\n",
    "\n",
    "%matplotlib inline"
   ]
  },
  {
   "cell_type": "code",
   "execution_count": 2,
   "id": "floral-modern",
   "metadata": {},
   "outputs": [],
   "source": [
    "csv_path = Path('../Project-03/new_teamstats_df.csv')\n",
    "teamstats_df = pd.read_csv(csv_path)"
   ]
  },
  {
   "cell_type": "code",
   "execution_count": 4,
   "id": "assumed-underwear",
   "metadata": {},
   "outputs": [],
   "source": [
    "teamstats_df = teamstats_df.drop(columns=['Unnamed: 0'])"
   ]
  },
  {
   "cell_type": "code",
   "execution_count": 5,
   "id": "established-entity",
   "metadata": {},
   "outputs": [],
   "source": [
    "# dropping columns for model tuning\n",
    "\n",
    "teamstats_df = teamstats_df.drop(columns=['A_H/A',\n",
    "                                          'H_+/-',\n",
    "                                          'A_+/-',\n",
    "                                          'H_PTS',\n",
    "                                          'A_PTS',\n",
    "                                          'A_W/L',\n",
    "                                         'H_FGM',\n",
    "                                         'A_FGM',\n",
    "                                         'H_REB',\n",
    "                                         'A_REB',\n",
    "                                         'H_FTM',\n",
    "                                         'A_FTM',\n",
    "                                         'H_FTA',\n",
    "                                         'A_FTA'])"
   ]
  },
  {
   "cell_type": "code",
   "execution_count": 7,
   "id": "other-genetics",
   "metadata": {},
   "outputs": [
    {
     "data": {
      "text/plain": [
       "(12738, 188)"
      ]
     },
     "execution_count": 7,
     "metadata": {},
     "output_type": "execute_result"
    }
   ],
   "source": [
    "teamstats_df.shape"
   ]
  },
  {
   "cell_type": "code",
   "execution_count": 472,
   "id": "relative-chair",
   "metadata": {},
   "outputs": [
    {
     "data": {
      "text/html": [
       "<div>\n",
       "<style scoped>\n",
       "    .dataframe tbody tr th:only-of-type {\n",
       "        vertical-align: middle;\n",
       "    }\n",
       "\n",
       "    .dataframe tbody tr th {\n",
       "        vertical-align: top;\n",
       "    }\n",
       "\n",
       "    .dataframe thead th {\n",
       "        text-align: right;\n",
       "    }\n",
       "</style>\n",
       "<table border=\"1\" class=\"dataframe\">\n",
       "  <thead>\n",
       "    <tr style=\"text-align: right;\">\n",
       "      <th></th>\n",
       "      <th>H_H/A</th>\n",
       "      <th>H_W/L</th>\n",
       "      <th>H_MIN</th>\n",
       "      <th>H_FGA</th>\n",
       "      <th>H_FG%</th>\n",
       "      <th>H_3PM</th>\n",
       "      <th>H_3PA</th>\n",
       "      <th>H_3P%</th>\n",
       "      <th>H_FT%</th>\n",
       "      <th>H_OREB</th>\n",
       "      <th>...</th>\n",
       "      <th>A_TEAM2_OKC</th>\n",
       "      <th>A_TEAM2_ORL</th>\n",
       "      <th>A_TEAM2_PHI</th>\n",
       "      <th>A_TEAM2_PHX</th>\n",
       "      <th>A_TEAM2_POR</th>\n",
       "      <th>A_TEAM2_SAC</th>\n",
       "      <th>A_TEAM2_SAS</th>\n",
       "      <th>A_TEAM2_TOR</th>\n",
       "      <th>A_TEAM2_UTA</th>\n",
       "      <th>A_TEAM2_WAS</th>\n",
       "    </tr>\n",
       "  </thead>\n",
       "  <tbody>\n",
       "    <tr>\n",
       "      <th>0</th>\n",
       "      <td>1</td>\n",
       "      <td>1</td>\n",
       "      <td>53</td>\n",
       "      <td>92</td>\n",
       "      <td>45.7</td>\n",
       "      <td>14</td>\n",
       "      <td>28</td>\n",
       "      <td>50.0</td>\n",
       "      <td>59.3</td>\n",
       "      <td>11</td>\n",
       "      <td>...</td>\n",
       "      <td>0</td>\n",
       "      <td>0</td>\n",
       "      <td>0</td>\n",
       "      <td>0</td>\n",
       "      <td>0</td>\n",
       "      <td>0</td>\n",
       "      <td>0</td>\n",
       "      <td>0</td>\n",
       "      <td>0</td>\n",
       "      <td>0</td>\n",
       "    </tr>\n",
       "    <tr>\n",
       "      <th>1</th>\n",
       "      <td>1</td>\n",
       "      <td>0</td>\n",
       "      <td>48</td>\n",
       "      <td>80</td>\n",
       "      <td>46.3</td>\n",
       "      <td>10</td>\n",
       "      <td>31</td>\n",
       "      <td>32.3</td>\n",
       "      <td>84.2</td>\n",
       "      <td>7</td>\n",
       "      <td>...</td>\n",
       "      <td>0</td>\n",
       "      <td>0</td>\n",
       "      <td>0</td>\n",
       "      <td>0</td>\n",
       "      <td>0</td>\n",
       "      <td>0</td>\n",
       "      <td>0</td>\n",
       "      <td>0</td>\n",
       "      <td>0</td>\n",
       "      <td>0</td>\n",
       "    </tr>\n",
       "    <tr>\n",
       "      <th>2</th>\n",
       "      <td>1</td>\n",
       "      <td>1</td>\n",
       "      <td>48</td>\n",
       "      <td>82</td>\n",
       "      <td>51.2</td>\n",
       "      <td>10</td>\n",
       "      <td>32</td>\n",
       "      <td>31.3</td>\n",
       "      <td>91.7</td>\n",
       "      <td>4</td>\n",
       "      <td>...</td>\n",
       "      <td>0</td>\n",
       "      <td>0</td>\n",
       "      <td>0</td>\n",
       "      <td>0</td>\n",
       "      <td>0</td>\n",
       "      <td>0</td>\n",
       "      <td>0</td>\n",
       "      <td>0</td>\n",
       "      <td>0</td>\n",
       "      <td>0</td>\n",
       "    </tr>\n",
       "    <tr>\n",
       "      <th>3</th>\n",
       "      <td>1</td>\n",
       "      <td>0</td>\n",
       "      <td>63</td>\n",
       "      <td>94</td>\n",
       "      <td>38.3</td>\n",
       "      <td>6</td>\n",
       "      <td>22</td>\n",
       "      <td>27.3</td>\n",
       "      <td>67.4</td>\n",
       "      <td>15</td>\n",
       "      <td>...</td>\n",
       "      <td>0</td>\n",
       "      <td>0</td>\n",
       "      <td>0</td>\n",
       "      <td>0</td>\n",
       "      <td>0</td>\n",
       "      <td>0</td>\n",
       "      <td>0</td>\n",
       "      <td>0</td>\n",
       "      <td>0</td>\n",
       "      <td>0</td>\n",
       "    </tr>\n",
       "    <tr>\n",
       "      <th>4</th>\n",
       "      <td>1</td>\n",
       "      <td>0</td>\n",
       "      <td>48</td>\n",
       "      <td>68</td>\n",
       "      <td>41.2</td>\n",
       "      <td>10</td>\n",
       "      <td>29</td>\n",
       "      <td>34.5</td>\n",
       "      <td>78.9</td>\n",
       "      <td>8</td>\n",
       "      <td>...</td>\n",
       "      <td>0</td>\n",
       "      <td>0</td>\n",
       "      <td>0</td>\n",
       "      <td>0</td>\n",
       "      <td>0</td>\n",
       "      <td>0</td>\n",
       "      <td>0</td>\n",
       "      <td>0</td>\n",
       "      <td>0</td>\n",
       "      <td>0</td>\n",
       "    </tr>\n",
       "  </tbody>\n",
       "</table>\n",
       "<p>5 rows × 188 columns</p>\n",
       "</div>"
      ],
      "text/plain": [
       "   H_H/A  H_W/L  H_MIN  H_FGA  H_FG%  H_3PM  H_3PA  H_3P%  H_FT%  H_OREB  ...  \\\n",
       "0      1      1     53     92   45.7     14     28   50.0   59.3      11  ...   \n",
       "1      1      0     48     80   46.3     10     31   32.3   84.2       7  ...   \n",
       "2      1      1     48     82   51.2     10     32   31.3   91.7       4  ...   \n",
       "3      1      0     63     94   38.3      6     22   27.3   67.4      15  ...   \n",
       "4      1      0     48     68   41.2     10     29   34.5   78.9       8  ...   \n",
       "\n",
       "   A_TEAM2_OKC  A_TEAM2_ORL  A_TEAM2_PHI  A_TEAM2_PHX  A_TEAM2_POR  \\\n",
       "0            0            0            0            0            0   \n",
       "1            0            0            0            0            0   \n",
       "2            0            0            0            0            0   \n",
       "3            0            0            0            0            0   \n",
       "4            0            0            0            0            0   \n",
       "\n",
       "   A_TEAM2_SAC  A_TEAM2_SAS  A_TEAM2_TOR  A_TEAM2_UTA  A_TEAM2_WAS  \n",
       "0            0            0            0            0            0  \n",
       "1            0            0            0            0            0  \n",
       "2            0            0            0            0            0  \n",
       "3            0            0            0            0            0  \n",
       "4            0            0            0            0            0  \n",
       "\n",
       "[5 rows x 188 columns]"
      ]
     },
     "execution_count": 472,
     "metadata": {},
     "output_type": "execute_result"
    }
   ],
   "source": [
    "teamstats_df.head()"
   ]
  },
  {
   "cell_type": "code",
   "execution_count": 474,
   "id": "southern-concert",
   "metadata": {
    "scrolled": true
   },
   "outputs": [
    {
     "name": "stdout",
     "output_type": "stream",
     "text": [
      "       H_H/A  H_W/L  H_MIN  H_FGA  H_FG%  H_3PM  H_3PA  H_3P%  H_FT%  H_OREB  \\\n",
      "0          1      1     53     92   45.7     14     28   50.0   59.3      11   \n",
      "1          1      0     48     80   46.3     10     31   32.3   84.2       7   \n",
      "2          1      1     48     82   51.2     10     32   31.3   91.7       4   \n",
      "3          1      0     63     94   38.3      6     22   27.3   67.4      15   \n",
      "4          1      0     48     68   41.2     10     29   34.5   78.9       8   \n",
      "...      ...    ...    ...    ...    ...    ...    ...    ...    ...     ...   \n",
      "12733      1      0     48    100   41.0     10     37   27.0   80.0      15   \n",
      "12734      1      1     48     88   45.5      9     23   39.1   71.4      11   \n",
      "12735      1      1     53     96   46.9      4     27   14.8   71.9       3   \n",
      "12736      1      1     48     94   53.2      9     16   56.3   63.2      10   \n",
      "12737      1      0     48     86   40.7      5     25   20.0   80.0       9   \n",
      "\n",
      "       ...  A_3PA  A_3P%  A_FT%  A_OREB  A_DREB  A_AST  A_TOV  A_STL  A_BLK  \\\n",
      "0      ...     27   33.3   86.4       9      38     27     12      5      6   \n",
      "1      ...     27   22.2   68.0      13      34     30     21     15      7   \n",
      "2      ...     27   37.0   82.9      13      26     24     11      8      4   \n",
      "3      ...     28   28.6   78.3      14      42     25     22      6      6   \n",
      "4      ...     16   18.8   66.7      16      28     27     13     11      4   \n",
      "...    ...    ...    ...    ...     ...     ...    ...    ...    ...    ...   \n",
      "12733  ...     34   41.2   84.2       9      41     24     14      6      6   \n",
      "12734  ...     35   45.7   92.6      10      35     24     19      4      4   \n",
      "12735  ...     28   25.0   84.8      11      45     26     16     11      7   \n",
      "12736  ...     27   33.3   73.9       9      36     19     18      7      6   \n",
      "12737  ...     30   33.3   79.2      14      36     17      8      7      4   \n",
      "\n",
      "       A_PF  \n",
      "0        21  \n",
      "1        17  \n",
      "2        24  \n",
      "3        35  \n",
      "4        15  \n",
      "...     ...  \n",
      "12733    17  \n",
      "12734    31  \n",
      "12735    22  \n",
      "12736    20  \n",
      "12737    22  \n",
      "\n",
      "[12738 rows x 30 columns]\n"
     ]
    }
   ],
   "source": [
    "print(teamstats_df.iloc[:,0:30])"
   ]
  },
  {
   "cell_type": "code",
   "execution_count": 389,
   "id": "naughty-ballet",
   "metadata": {},
   "outputs": [],
   "source": [
    "# Creating the X and y sets\n",
    "X = teamstats_df.iloc[:,0:30].values\n",
    "y = teamstats_df[\"H_W/L\"].values"
   ]
  },
  {
   "cell_type": "code",
   "execution_count": 390,
   "id": "advanced-mediterranean",
   "metadata": {},
   "outputs": [
    {
     "data": {
      "text/plain": [
       "(12738, 30)"
      ]
     },
     "execution_count": 390,
     "metadata": {},
     "output_type": "execute_result"
    }
   ],
   "source": [
    "X.shape"
   ]
  },
  {
   "cell_type": "code",
   "execution_count": 604,
   "id": "cleared-bloom",
   "metadata": {},
   "outputs": [],
   "source": [
    "# Creating training, validation, and testing sets\n",
    "from sklearn.model_selection import train_test_split\n",
    "\n",
    "X_train, X_test, y_train, y_test = train_test_split(X, y, random_state=78)\n",
    "\n",
    "X_train, X_val, y_train, y_val = train_test_split(X_train, y_train, random_state=78)"
   ]
  },
  {
   "cell_type": "code",
   "execution_count": 621,
   "id": "given-expert",
   "metadata": {},
   "outputs": [],
   "source": [
    "# Model set-up\n",
    "number_input_features = 30\n",
    "hidden_nodes_layer1 = 20\n",
    "hidden_nodes_layer2 = 10\n",
    "hidden_nodes_layer3 = 5\n",
    "#hidden_nodes_layer4 = 5\n",
    "#hidden_nodes_layer5 = 5"
   ]
  },
  {
   "cell_type": "code",
   "execution_count": 622,
   "id": "dependent-disposal",
   "metadata": {},
   "outputs": [],
   "source": [
    "# Define the LSTM RNN model\n",
    "model = Sequential()\n",
    "\n",
    "# Layer 1\n",
    "model.add(\n",
    "    Dense(units=hidden_nodes_layer1, \n",
    "          input_dim=number_input_features, \n",
    "          activation=\"relu\")\n",
    ")\n",
    "\n",
    "# Layer 2\n",
    "model.add(Dense(units=hidden_nodes_layer2, activation=\"relu\"))\n",
    "\n",
    "\n",
    "# Layer 3\n",
    "model.add(Dense(units=hidden_nodes_layer3, activation=\"relu\"))\n",
    "\n",
    "# Layer 4\n",
    "#model.add(Dense(units=hidden_nodes_layer3, activation=\"relu\"))\n",
    "\n",
    "# Layer 5\n",
    "#model.add(Dense(units=hidden_nodes_layer3, activation=\"relu\"))\n",
    "\n",
    "# Output layer\n",
    "model.add(Dense(1, activation=\"sigmoid\"))"
   ]
  },
  {
   "cell_type": "code",
   "execution_count": 623,
   "id": "nonprofit-spirit",
   "metadata": {},
   "outputs": [],
   "source": [
    "# Compile the model\n",
    "model.compile(\n",
    "    loss=\"binary_crossentropy\",\n",
    "    optimizer=\"adam\",\n",
    "    metrics=[\n",
    "        \"accuracy\",\n",
    "        tf.keras.metrics.TruePositives(name=\"tp\"),\n",
    "        tf.keras.metrics.TrueNegatives(name=\"tn\"),\n",
    "        tf.keras.metrics.FalsePositives(name=\"fp\"),\n",
    "        tf.keras.metrics.FalseNegatives(name=\"fn\"),\n",
    "        tf.keras.metrics.Precision(name=\"precision\"),\n",
    "        tf.keras.metrics.Recall(name=\"recall\"),\n",
    "        tf.keras.metrics.AUC(name=\"auc\"),\n",
    "    ],\n",
    ")"
   ]
  },
  {
   "cell_type": "code",
   "execution_count": 624,
   "id": "robust-arctic",
   "metadata": {},
   "outputs": [
    {
     "name": "stdout",
     "output_type": "stream",
     "text": [
      "Model: \"sequential_35\"\n",
      "_________________________________________________________________\n",
      "Layer (type)                 Output Shape              Param #   \n",
      "=================================================================\n",
      "dense_137 (Dense)            (None, 20)                620       \n",
      "_________________________________________________________________\n",
      "dense_138 (Dense)            (None, 10)                210       \n",
      "_________________________________________________________________\n",
      "dense_139 (Dense)            (None, 5)                 55        \n",
      "_________________________________________________________________\n",
      "dense_140 (Dense)            (None, 1)                 6         \n",
      "=================================================================\n",
      "Total params: 891\n",
      "Trainable params: 891\n",
      "Non-trainable params: 0\n",
      "_________________________________________________________________\n"
     ]
    }
   ],
   "source": [
    "# Summarize the model\n",
    "model.summary()"
   ]
  },
  {
   "cell_type": "code",
   "execution_count": 625,
   "id": "fifty-gateway",
   "metadata": {},
   "outputs": [
    {
     "name": "stdout",
     "output_type": "stream",
     "text": [
      "Epoch 1/50\n",
      "8/8 [==============================] - 5s 191ms/step - loss: 39.7011 - accuracy: 0.4099 - tp: 0.0000e+00 - tn: 1929.3333 - fp: 0.0000e+00 - fn: 2773.7778 - precision: 0.0000e+00 - recall: 0.0000e+00 - auc: 0.5000 - val_loss: 28.6320 - val_accuracy: 0.4324 - val_tp: 0.0000e+00 - val_tn: 1033.0000 - val_fp: 0.0000e+00 - val_fn: 1356.0000 - val_precision: 0.0000e+00 - val_recall: 0.0000e+00 - val_auc: 0.5000\n",
      "Epoch 2/50\n",
      "8/8 [==============================] - 0s 13ms/step - loss: 26.6320 - accuracy: 0.4048 - tp: 0.0000e+00 - tn: 1921.3333 - fp: 0.0000e+00 - fn: 2781.7778 - precision: 0.0000e+00 - recall: 0.0000e+00 - auc: 0.5000 - val_loss: 15.1226 - val_accuracy: 0.4324 - val_tp: 0.0000e+00 - val_tn: 1033.0000 - val_fp: 0.0000e+00 - val_fn: 1356.0000 - val_precision: 0.0000e+00 - val_recall: 0.0000e+00 - val_auc: 0.5000\n",
      "Epoch 3/50\n",
      "8/8 [==============================] - 0s 13ms/step - loss: 12.4710 - accuracy: 0.4124 - tp: 7.0000 - tn: 1930.4444 - fp: 4.8889 - fn: 2760.7778 - precision: 0.2499 - recall: 0.0017 - auc: 0.4986 - val_loss: 3.2417 - val_accuracy: 0.4282 - val_tp: 231.0000 - val_tn: 792.0000 - val_fp: 241.0000 - val_fn: 1125.0000 - val_precision: 0.4894 - val_recall: 0.1704 - val_auc: 0.4586\n",
      "Epoch 4/50\n",
      "8/8 [==============================] - 0s 13ms/step - loss: 2.7856 - accuracy: 0.4934 - tp: 1625.7778 - tn: 769.7778 - fp: 1153.0000 - fn: 1154.5556 - precision: 0.5806 - recall: 0.5037 - auc: 0.4880 - val_loss: 4.5210 - val_accuracy: 0.5626 - val_tp: 1328.0000 - val_tn: 16.0000 - val_fp: 1017.0000 - val_fn: 28.0000 - val_precision: 0.5663 - val_recall: 0.9794 - val_auc: 0.4863\n",
      "Epoch 5/50\n",
      "8/8 [==============================] - 0s 13ms/step - loss: 4.2343 - accuracy: 0.5850 - tp: 2722.7778 - tn: 33.3333 - fp: 1894.2222 - fn: 52.7778 - precision: 0.5889 - recall: 0.9807 - auc: 0.5026 - val_loss: 3.2899 - val_accuracy: 0.5513 - val_tp: 1249.0000 - val_tn: 68.0000 - val_fp: 965.0000 - val_fn: 107.0000 - val_precision: 0.5641 - val_recall: 0.9211 - val_auc: 0.4640\n",
      "Epoch 6/50\n",
      "8/8 [==============================] - 0s 13ms/step - loss: 2.6212 - accuracy: 0.5609 - tp: 2240.7778 - tn: 374.0000 - fp: 1563.7778 - fn: 524.5556 - precision: 0.5882 - recall: 0.8408 - auc: 0.4968 - val_loss: 2.2465 - val_accuracy: 0.4776 - val_tp: 555.0000 - val_tn: 586.0000 - val_fp: 447.0000 - val_fn: 801.0000 - val_precision: 0.5539 - val_recall: 0.4093 - val_auc: 0.4717\n",
      "Epoch 7/50\n",
      "8/8 [==============================] - 0s 14ms/step - loss: 2.2440 - accuracy: 0.4737 - tp: 1025.7778 - tn: 1202.3333 - fp: 730.1111 - fn: 1744.8889 - precision: 0.5814 - recall: 0.3754 - auc: 0.4994 - val_loss: 2.1777 - val_accuracy: 0.4805 - val_tp: 563.0000 - val_tn: 585.0000 - val_fp: 448.0000 - val_fn: 793.0000 - val_precision: 0.5569 - val_recall: 0.4152 - val_auc: 0.4745\n",
      "Epoch 8/50\n",
      "8/8 [==============================] - 0s 13ms/step - loss: 1.9997 - accuracy: 0.5029 - tp: 1483.1111 - tn: 908.5556 - fp: 1027.8889 - fn: 1283.5556 - precision: 0.5893 - recall: 0.5168 - auc: 0.4977 - val_loss: 2.0380 - val_accuracy: 0.5065 - val_tp: 928.0000 - val_tn: 282.0000 - val_fp: 751.0000 - val_fn: 428.0000 - val_precision: 0.5527 - val_recall: 0.6844 - val_auc: 0.4773\n",
      "Epoch 9/50\n",
      "8/8 [==============================] - 0s 13ms/step - loss: 1.8814 - accuracy: 0.5563 - tp: 2042.6667 - tn: 565.6667 - fp: 1359.5556 - fn: 735.2222 - precision: 0.6030 - recall: 0.7360 - auc: 0.5138 - val_loss: 1.7751 - val_accuracy: 0.5253 - val_tp: 866.0000 - val_tn: 389.0000 - val_fp: 644.0000 - val_fn: 490.0000 - val_precision: 0.5735 - val_recall: 0.6386 - val_auc: 0.5164\n",
      "Epoch 10/50\n",
      "8/8 [==============================] - 0s 13ms/step - loss: 1.6037 - accuracy: 0.5623 - tp: 1690.6667 - tn: 944.2222 - fp: 971.5556 - fn: 1096.6667 - precision: 0.6352 - recall: 0.6221 - auc: 0.5628 - val_loss: 1.6446 - val_accuracy: 0.5454 - val_tp: 714.0000 - val_tn: 589.0000 - val_fp: 444.0000 - val_fn: 642.0000 - val_precision: 0.6166 - val_recall: 0.5265 - val_auc: 0.5674\n",
      "Epoch 11/50\n",
      "8/8 [==============================] - 0s 13ms/step - loss: 1.5388 - accuracy: 0.5707 - tp: 1678.4444 - tn: 1035.4444 - fp: 919.0000 - fn: 1070.2222 - precision: 0.6409 - recall: 0.5927 - auc: 0.5870 - val_loss: 1.5507 - val_accuracy: 0.5743 - val_tp: 954.0000 - val_tn: 418.0000 - val_fp: 615.0000 - val_fn: 402.0000 - val_precision: 0.6080 - val_recall: 0.7035 - val_auc: 0.5738\n",
      "Epoch 12/50\n",
      "8/8 [==============================] - 0s 13ms/step - loss: 1.4628 - accuracy: 0.5961 - tp: 1947.7778 - tn: 878.7778 - fp: 1076.7778 - fn: 799.7778 - precision: 0.6365 - recall: 0.7087 - auc: 0.6010 - val_loss: 1.4087 - val_accuracy: 0.5927 - val_tp: 857.0000 - val_tn: 559.0000 - val_fp: 474.0000 - val_fn: 499.0000 - val_precision: 0.6439 - val_recall: 0.6320 - val_auc: 0.6105\n",
      "Epoch 13/50\n",
      "8/8 [==============================] - 0s 14ms/step - loss: 1.3198 - accuracy: 0.6179 - tp: 1878.5556 - tn: 1030.5556 - fp: 889.6667 - fn: 904.3333 - precision: 0.6827 - recall: 0.6694 - auc: 0.6372 - val_loss: 1.3218 - val_accuracy: 0.6044 - val_tp: 936.0000 - val_tn: 508.0000 - val_fp: 525.0000 - val_fn: 420.0000 - val_precision: 0.6407 - val_recall: 0.6903 - val_auc: 0.6249\n",
      "Epoch 14/50\n",
      "8/8 [==============================] - 0s 13ms/step - loss: 1.2535 - accuracy: 0.6286 - tp: 1965.2222 - tn: 999.7778 - fp: 936.1111 - fn: 802.0000 - precision: 0.6751 - recall: 0.7089 - auc: 0.6474 - val_loss: 1.2248 - val_accuracy: 0.6199 - val_tp: 907.0000 - val_tn: 574.0000 - val_fp: 459.0000 - val_fn: 449.0000 - val_precision: 0.6640 - val_recall: 0.6689 - val_auc: 0.6496\n",
      "Epoch 15/50\n",
      "8/8 [==============================] - 0s 13ms/step - loss: 1.1602 - accuracy: 0.6402 - tp: 1913.5556 - tn: 1104.5556 - fp: 842.7778 - fn: 842.2222 - precision: 0.6910 - recall: 0.6917 - auc: 0.6739 - val_loss: 1.1487 - val_accuracy: 0.6350 - val_tp: 989.0000 - val_tn: 528.0000 - val_fp: 505.0000 - val_fn: 367.0000 - val_precision: 0.6620 - val_recall: 0.7294 - val_auc: 0.6645\n",
      "Epoch 16/50\n",
      "8/8 [==============================] - 0s 13ms/step - loss: 1.0800 - accuracy: 0.6621 - tp: 2119.4444 - tn: 990.8889 - fp: 930.3333 - fn: 662.4444 - precision: 0.6976 - recall: 0.7611 - auc: 0.6875 - val_loss: 1.0557 - val_accuracy: 0.6476 - val_tp: 925.0000 - val_tn: 622.0000 - val_fp: 411.0000 - val_fn: 431.0000 - val_precision: 0.6924 - val_recall: 0.6822 - val_auc: 0.6902\n",
      "Epoch 17/50\n",
      "8/8 [==============================] - 0s 14ms/step - loss: 0.9991 - accuracy: 0.6712 - tp: 1987.2222 - tn: 1165.7778 - fp: 766.4444 - fn: 783.6667 - precision: 0.7255 - recall: 0.7138 - auc: 0.7122 - val_loss: 0.9835 - val_accuracy: 0.6697 - val_tp: 1019.0000 - val_tn: 581.0000 - val_fp: 452.0000 - val_fn: 337.0000 - val_precision: 0.6927 - val_recall: 0.7515 - val_auc: 0.7063\n",
      "Epoch 18/50\n",
      "8/8 [==============================] - 0s 13ms/step - loss: 0.9382 - accuracy: 0.6817 - tp: 2110.5556 - tn: 1105.7778 - fp: 826.1111 - fn: 660.6667 - precision: 0.7155 - recall: 0.7629 - auc: 0.7219 - val_loss: 0.8979 - val_accuracy: 0.6823 - val_tp: 996.0000 - val_tn: 634.0000 - val_fp: 399.0000 - val_fn: 360.0000 - val_precision: 0.7140 - val_recall: 0.7345 - val_auc: 0.7317\n",
      "Epoch 19/50\n",
      "8/8 [==============================] - 0s 14ms/step - loss: 0.8520 - accuracy: 0.6980 - tp: 2086.7778 - tn: 1201.3333 - fp: 736.2222 - fn: 678.7778 - precision: 0.7383 - recall: 0.7527 - auc: 0.7511 - val_loss: 0.8294 - val_accuracy: 0.6965 - val_tp: 1057.0000 - val_tn: 607.0000 - val_fp: 426.0000 - val_fn: 299.0000 - val_precision: 0.7127 - val_recall: 0.7795 - val_auc: 0.7525\n",
      "Epoch 20/50\n",
      "8/8 [==============================] - 0s 13ms/step - loss: 0.7792 - accuracy: 0.7213 - tp: 2195.3333 - tn: 1188.7778 - fp: 743.6667 - fn: 575.3333 - precision: 0.7460 - recall: 0.7971 - auc: 0.7718 - val_loss: 0.7504 - val_accuracy: 0.7149 - val_tp: 1038.0000 - val_tn: 670.0000 - val_fp: 363.0000 - val_fn: 318.0000 - val_precision: 0.7409 - val_recall: 0.7655 - val_auc: 0.7764\n",
      "Epoch 21/50\n",
      "8/8 [==============================] - 0s 13ms/step - loss: 0.7244 - accuracy: 0.7267 - tp: 2143.0000 - tn: 1275.0000 - fp: 661.0000 - fn: 624.1111 - precision: 0.7654 - recall: 0.7723 - auc: 0.7901 - val_loss: 0.6826 - val_accuracy: 0.7308 - val_tp: 1106.0000 - val_tn: 640.0000 - val_fp: 393.0000 - val_fn: 250.0000 - val_precision: 0.7378 - val_recall: 0.8156 - val_auc: 0.7990\n"
     ]
    },
    {
     "name": "stdout",
     "output_type": "stream",
     "text": [
      "Epoch 22/50\n",
      "8/8 [==============================] - 0s 14ms/step - loss: 0.6507 - accuracy: 0.7401 - tp: 2292.3333 - tn: 1196.3333 - fp: 716.1111 - fn: 498.3333 - precision: 0.7601 - recall: 0.8227 - auc: 0.8107 - val_loss: 0.5961 - val_accuracy: 0.7468 - val_tp: 1085.0000 - val_tn: 699.0000 - val_fp: 334.0000 - val_fn: 271.0000 - val_precision: 0.7646 - val_recall: 0.8001 - val_auc: 0.8244\n",
      "Epoch 23/50\n",
      "8/8 [==============================] - 0s 13ms/step - loss: 0.5856 - accuracy: 0.7563 - tp: 2281.4444 - tn: 1278.8889 - fp: 650.3333 - fn: 492.4444 - precision: 0.7784 - recall: 0.8207 - auc: 0.8301 - val_loss: 0.5225 - val_accuracy: 0.7668 - val_tp: 1135.0000 - val_tn: 697.0000 - val_fp: 336.0000 - val_fn: 221.0000 - val_precision: 0.7716 - val_recall: 0.8370 - val_auc: 0.8472\n",
      "Epoch 24/50\n",
      "8/8 [==============================] - 0s 13ms/step - loss: 0.5110 - accuracy: 0.7760 - tp: 2304.0000 - tn: 1345.1111 - fp: 580.0000 - fn: 474.0000 - precision: 0.7967 - recall: 0.8344 - auc: 0.8532 - val_loss: 0.4738 - val_accuracy: 0.7869 - val_tp: 1186.0000 - val_tn: 694.0000 - val_fp: 339.0000 - val_fn: 170.0000 - val_precision: 0.7777 - val_recall: 0.8746 - val_auc: 0.8649\n",
      "Epoch 25/50\n",
      "8/8 [==============================] - 0s 13ms/step - loss: 0.4719 - accuracy: 0.7813 - tp: 2377.3333 - tn: 1310.4444 - fp: 622.8889 - fn: 392.4444 - precision: 0.7888 - recall: 0.8573 - auc: 0.8640 - val_loss: 0.4431 - val_accuracy: 0.7982 - val_tp: 1114.0000 - val_tn: 793.0000 - val_fp: 240.0000 - val_fn: 242.0000 - val_precision: 0.8227 - val_recall: 0.8215 - val_auc: 0.8748\n",
      "Epoch 26/50\n",
      "8/8 [==============================] - 0s 13ms/step - loss: 0.4513 - accuracy: 0.7932 - tp: 2302.4444 - tn: 1426.7778 - fp: 512.2222 - fn: 461.6667 - precision: 0.8201 - recall: 0.8304 - auc: 0.8698 - val_loss: 0.4343 - val_accuracy: 0.7953 - val_tp: 1162.0000 - val_tn: 738.0000 - val_fp: 295.0000 - val_fn: 194.0000 - val_precision: 0.7975 - val_recall: 0.8569 - val_auc: 0.8790\n",
      "Epoch 27/50\n",
      "8/8 [==============================] - 0s 13ms/step - loss: 0.4408 - accuracy: 0.7930 - tp: 2333.8889 - tn: 1402.8889 - fp: 526.6667 - fn: 439.6667 - precision: 0.8110 - recall: 0.8443 - auc: 0.8733 - val_loss: 0.4194 - val_accuracy: 0.8028 - val_tp: 1143.0000 - val_tn: 775.0000 - val_fp: 258.0000 - val_fn: 213.0000 - val_precision: 0.8158 - val_recall: 0.8429 - val_auc: 0.8861\n",
      "Epoch 28/50\n",
      "8/8 [==============================] - 0s 14ms/step - loss: 0.4220 - accuracy: 0.8042 - tp: 2325.1111 - tn: 1451.4444 - fp: 481.8889 - fn: 444.6667 - precision: 0.8288 - recall: 0.8410 - auc: 0.8835 - val_loss: 0.4102 - val_accuracy: 0.8100 - val_tp: 1182.0000 - val_tn: 753.0000 - val_fp: 280.0000 - val_fn: 174.0000 - val_precision: 0.8085 - val_recall: 0.8717 - val_auc: 0.8924\n",
      "Epoch 29/50\n",
      "8/8 [==============================] - 0s 12ms/step - loss: 0.4220 - accuracy: 0.8070 - tp: 2399.6667 - tn: 1398.1111 - fp: 526.8889 - fn: 378.4444 - precision: 0.8208 - recall: 0.8628 - auc: 0.8838 - val_loss: 0.3957 - val_accuracy: 0.8121 - val_tp: 1150.0000 - val_tn: 790.0000 - val_fp: 243.0000 - val_fn: 206.0000 - val_precision: 0.8256 - val_recall: 0.8481 - val_auc: 0.8990\n",
      "Epoch 30/50\n",
      "8/8 [==============================] - 0s 12ms/step - loss: 0.4110 - accuracy: 0.8090 - tp: 2375.0000 - tn: 1435.1111 - fp: 492.0000 - fn: 401.0000 - precision: 0.8293 - recall: 0.8514 - auc: 0.8900 - val_loss: 0.3878 - val_accuracy: 0.8171 - val_tp: 1188.0000 - val_tn: 764.0000 - val_fp: 269.0000 - val_fn: 168.0000 - val_precision: 0.8154 - val_recall: 0.8761 - val_auc: 0.9044\n",
      "Epoch 31/50\n",
      "8/8 [==============================] - 0s 12ms/step - loss: 0.3946 - accuracy: 0.8159 - tp: 2415.2222 - tn: 1427.1111 - fp: 490.8889 - fn: 369.8889 - precision: 0.8310 - recall: 0.8650 - auc: 0.8986 - val_loss: 0.3768 - val_accuracy: 0.8267 - val_tp: 1143.0000 - val_tn: 832.0000 - val_fp: 201.0000 - val_fn: 213.0000 - val_precision: 0.8504 - val_recall: 0.8429 - val_auc: 0.9097\n",
      "Epoch 32/50\n",
      "8/8 [==============================] - 0s 12ms/step - loss: 0.3919 - accuracy: 0.8214 - tp: 2350.6667 - tn: 1514.6667 - fp: 409.8889 - fn: 427.8889 - precision: 0.8556 - recall: 0.8415 - auc: 0.9022 - val_loss: 0.3716 - val_accuracy: 0.8267 - val_tp: 1217.0000 - val_tn: 758.0000 - val_fp: 275.0000 - val_fn: 139.0000 - val_precision: 0.8157 - val_recall: 0.8975 - val_auc: 0.9141\n",
      "Epoch 33/50\n",
      "8/8 [==============================] - 0s 12ms/step - loss: 0.3753 - accuracy: 0.8294 - tp: 2427.6667 - tn: 1472.5556 - fp: 455.4444 - fn: 347.4444 - precision: 0.8413 - recall: 0.8774 - auc: 0.9086 - val_loss: 0.3577 - val_accuracy: 0.8397 - val_tp: 1180.0000 - val_tn: 826.0000 - val_fp: 207.0000 - val_fn: 176.0000 - val_precision: 0.8508 - val_recall: 0.8702 - val_auc: 0.9191\n",
      "Epoch 34/50\n",
      "8/8 [==============================] - 0s 12ms/step - loss: 0.3686 - accuracy: 0.8378 - tp: 2430.6667 - tn: 1501.3333 - fp: 429.5556 - fn: 341.5556 - precision: 0.8520 - recall: 0.8772 - auc: 0.9137 - val_loss: 0.3520 - val_accuracy: 0.8393 - val_tp: 1214.0000 - val_tn: 791.0000 - val_fp: 242.0000 - val_fn: 142.0000 - val_precision: 0.8338 - val_recall: 0.8953 - val_auc: 0.9234\n",
      "Epoch 35/50\n",
      "8/8 [==============================] - 0s 12ms/step - loss: 0.3619 - accuracy: 0.8394 - tp: 2425.4444 - tn: 1525.2222 - fp: 419.0000 - fn: 333.4444 - precision: 0.8481 - recall: 0.8837 - auc: 0.9174 - val_loss: 0.3467 - val_accuracy: 0.8401 - val_tp: 1229.0000 - val_tn: 778.0000 - val_fp: 255.0000 - val_fn: 127.0000 - val_precision: 0.8282 - val_recall: 0.9063 - val_auc: 0.9275\n",
      "Epoch 36/50\n",
      "8/8 [==============================] - 0s 13ms/step - loss: 0.3506 - accuracy: 0.8411 - tp: 2487.0000 - tn: 1468.7778 - fp: 463.7778 - fn: 283.5556 - precision: 0.8409 - recall: 0.9010 - auc: 0.9231 - val_loss: 0.3333 - val_accuracy: 0.8485 - val_tp: 1208.0000 - val_tn: 819.0000 - val_fp: 214.0000 - val_fn: 148.0000 - val_precision: 0.8495 - val_recall: 0.8909 - val_auc: 0.9317\n",
      "Epoch 37/50\n",
      "8/8 [==============================] - 0s 12ms/step - loss: 0.3465 - accuracy: 0.8472 - tp: 2494.7778 - tn: 1488.1111 - fp: 436.2222 - fn: 284.0000 - precision: 0.8518 - recall: 0.8975 - auc: 0.9244 - val_loss: 0.3254 - val_accuracy: 0.8543 - val_tp: 1205.0000 - val_tn: 836.0000 - val_fp: 197.0000 - val_fn: 151.0000 - val_precision: 0.8595 - val_recall: 0.8886 - val_auc: 0.9355\n",
      "Epoch 38/50\n",
      "8/8 [==============================] - 0s 12ms/step - loss: 0.3339 - accuracy: 0.8562 - tp: 2460.8889 - tn: 1562.3333 - fp: 369.4444 - fn: 310.4444 - precision: 0.8715 - recall: 0.8862 - auc: 0.9311 - val_loss: 0.3213 - val_accuracy: 0.8522 - val_tp: 1235.0000 - val_tn: 801.0000 - val_fp: 232.0000 - val_fn: 121.0000 - val_precision: 0.8419 - val_recall: 0.9108 - val_auc: 0.9387\n",
      "Epoch 39/50\n",
      "8/8 [==============================] - 0s 12ms/step - loss: 0.3339 - accuracy: 0.8532 - tp: 2482.0000 - tn: 1539.0000 - fp: 383.6667 - fn: 298.4444 - precision: 0.8660 - recall: 0.8904 - auc: 0.9307 - val_loss: 0.3111 - val_accuracy: 0.8661 - val_tp: 1202.0000 - val_tn: 867.0000 - val_fp: 166.0000 - val_fn: 154.0000 - val_precision: 0.8787 - val_recall: 0.8864 - val_auc: 0.9420\n",
      "Epoch 40/50\n",
      "8/8 [==============================] - 0s 12ms/step - loss: 0.3218 - accuracy: 0.8637 - tp: 2479.6667 - tn: 1575.7778 - fp: 344.8889 - fn: 302.7778 - precision: 0.8809 - recall: 0.8908 - auc: 0.9374 - val_loss: 0.3083 - val_accuracy: 0.8648 - val_tp: 1249.0000 - val_tn: 817.0000 - val_fp: 216.0000 - val_fn: 107.0000 - val_precision: 0.8526 - val_recall: 0.9211 - val_auc: 0.9447\n",
      "Epoch 41/50\n",
      "8/8 [==============================] - 0s 12ms/step - loss: 0.3136 - accuracy: 0.8646 - tp: 2480.4444 - tn: 1590.2222 - fp: 343.1111 - fn: 289.3333 - precision: 0.8757 - recall: 0.8969 - auc: 0.9407 - val_loss: 0.3020 - val_accuracy: 0.8711 - val_tp: 1256.0000 - val_tn: 825.0000 - val_fp: 208.0000 - val_fn: 100.0000 - val_precision: 0.8579 - val_recall: 0.9263 - val_auc: 0.9475\n",
      "Epoch 42/50\n",
      "8/8 [==============================] - 0s 13ms/step - loss: 0.3076 - accuracy: 0.8693 - tp: 2503.4444 - tn: 1581.8889 - fp: 349.6667 - fn: 268.1111 - precision: 0.8762 - recall: 0.9058 - auc: 0.9434 - val_loss: 0.2938 - val_accuracy: 0.8790 - val_tp: 1252.0000 - val_tn: 848.0000 - val_fp: 185.0000 - val_fn: 104.0000 - val_precision: 0.8713 - val_recall: 0.9233 - val_auc: 0.9502\n"
     ]
    },
    {
     "name": "stdout",
     "output_type": "stream",
     "text": [
      "Epoch 43/50\n",
      "8/8 [==============================] - 0s 12ms/step - loss: 0.3085 - accuracy: 0.8695 - tp: 2496.6667 - tn: 1600.1111 - fp: 341.4444 - fn: 264.8889 - precision: 0.8782 - recall: 0.9032 - auc: 0.9434 - val_loss: 0.2884 - val_accuracy: 0.8811 - val_tp: 1257.0000 - val_tn: 848.0000 - val_fp: 185.0000 - val_fn: 99.0000 - val_precision: 0.8717 - val_recall: 0.9270 - val_auc: 0.9526\n",
      "Epoch 44/50\n",
      "8/8 [==============================] - 0s 12ms/step - loss: 0.2981 - accuracy: 0.8730 - tp: 2513.7778 - tn: 1592.6667 - fp: 341.2222 - fn: 255.4444 - precision: 0.8797 - recall: 0.9093 - auc: 0.9479 - val_loss: 0.2859 - val_accuracy: 0.8811 - val_tp: 1271.0000 - val_tn: 834.0000 - val_fp: 199.0000 - val_fn: 85.0000 - val_precision: 0.8646 - val_recall: 0.9373 - val_auc: 0.9545\n",
      "Epoch 45/50\n",
      "8/8 [==============================] - 0s 12ms/step - loss: 0.2912 - accuracy: 0.8761 - tp: 2556.8889 - tn: 1560.7778 - fp: 363.5556 - fn: 221.8889 - precision: 0.8750 - recall: 0.9220 - auc: 0.9508 - val_loss: 0.2756 - val_accuracy: 0.8878 - val_tp: 1245.0000 - val_tn: 876.0000 - val_fp: 157.0000 - val_fn: 111.0000 - val_precision: 0.8880 - val_recall: 0.9181 - val_auc: 0.9565\n",
      "Epoch 46/50\n",
      "8/8 [==============================] - 0s 12ms/step - loss: 0.2865 - accuracy: 0.8810 - tp: 2550.2222 - tn: 1594.8889 - fp: 331.7778 - fn: 226.2222 - precision: 0.8860 - recall: 0.9167 - auc: 0.9522 - val_loss: 0.2712 - val_accuracy: 0.8882 - val_tp: 1258.0000 - val_tn: 864.0000 - val_fp: 169.0000 - val_fn: 98.0000 - val_precision: 0.8816 - val_recall: 0.9277 - val_auc: 0.9583\n",
      "Epoch 47/50\n",
      "8/8 [==============================] - 0s 12ms/step - loss: 0.2824 - accuracy: 0.8847 - tp: 2527.1111 - tn: 1637.3333 - fp: 311.6667 - fn: 227.0000 - precision: 0.8896 - recall: 0.9160 - auc: 0.9538 - val_loss: 0.2686 - val_accuracy: 0.8895 - val_tp: 1273.0000 - val_tn: 852.0000 - val_fp: 181.0000 - val_fn: 83.0000 - val_precision: 0.8755 - val_recall: 0.9388 - val_auc: 0.9602\n",
      "Epoch 48/50\n",
      "8/8 [==============================] - 0s 12ms/step - loss: 0.2708 - accuracy: 0.8928 - tp: 2552.2222 - tn: 1633.4444 - fp: 305.3333 - fn: 212.1111 - precision: 0.8936 - recall: 0.9277 - auc: 0.9583 - val_loss: 0.2613 - val_accuracy: 0.8933 - val_tp: 1264.0000 - val_tn: 870.0000 - val_fp: 163.0000 - val_fn: 92.0000 - val_precision: 0.8858 - val_recall: 0.9322 - val_auc: 0.9618\n",
      "Epoch 49/50\n",
      "8/8 [==============================] - 0s 12ms/step - loss: 0.2665 - accuracy: 0.8896 - tp: 2543.6667 - tn: 1645.2222 - fp: 299.2222 - fn: 215.0000 - precision: 0.8919 - recall: 0.9227 - auc: 0.9598 - val_loss: 0.2597 - val_accuracy: 0.8945 - val_tp: 1280.0000 - val_tn: 857.0000 - val_fp: 176.0000 - val_fn: 76.0000 - val_precision: 0.8791 - val_recall: 0.9440 - val_auc: 0.9634\n",
      "Epoch 50/50\n",
      "8/8 [==============================] - 0s 12ms/step - loss: 0.2629 - accuracy: 0.8928 - tp: 2582.4444 - tn: 1611.6667 - fp: 312.0000 - fn: 197.0000 - precision: 0.8916 - recall: 0.9329 - auc: 0.9609 - val_loss: 0.2513 - val_accuracy: 0.9004 - val_tp: 1274.0000 - val_tn: 877.0000 - val_fp: 156.0000 - val_fn: 82.0000 - val_precision: 0.8909 - val_recall: 0.9395 - val_auc: 0.9653\n"
     ]
    }
   ],
   "source": [
    "# Training the model\n",
    "batch_size = 1000\n",
    "epochs = 50\n",
    "training_history = model.fit(\n",
    "    X_train,\n",
    "    y_train,\n",
    "    validation_data=(X_val, y_val),\n",
    "    epochs=epochs,\n",
    "    batch_size=batch_size,\n",
    "    verbose=1,\n",
    ")"
   ]
  },
  {
   "cell_type": "code",
   "execution_count": 626,
   "id": "danish-nevada",
   "metadata": {},
   "outputs": [
    {
     "data": {
      "text/plain": [
       "<AxesSubplot:title={'center':'Loss'}, xlabel='Epoch'>"
      ]
     },
     "execution_count": 626,
     "metadata": {},
     "output_type": "execute_result"
    },
    {
     "data": {
      "image/png": "[encoded data removed]",
      "text/plain": [
       "<Figure size 432x288 with 1 Axes>"
      ]
     },
     "metadata": {
      "needs_background": "light"
     },
     "output_type": "display_data"
    }
   ],
   "source": [
    "# Plotting loss\n",
    "loss_df = pd.DataFrame(\n",
    "    {\n",
    "        \"Epoch\": range(1, epochs + 1),\n",
    "        \"Train\": training_history.history[\"loss\"],\n",
    "        \"Val\": training_history.history[\"val_loss\"],\n",
    "    }\n",
    ")\n",
    "loss_df.set_index(\"Epoch\", inplace=True)\n",
    "loss_df.plot(title=\"Loss\")"
   ]
  },
  {
   "cell_type": "code",
   "execution_count": 627,
   "id": "twelve-queensland",
   "metadata": {},
   "outputs": [
    {
     "data": {
      "text/plain": [
       "<AxesSubplot:title={'center':'Accuracy'}, xlabel='Epoch'>"
      ]
     },
     "execution_count": 627,
     "metadata": {},
     "output_type": "execute_result"
    },
    {
     "data": {
      "image/png": "[encoded data removed]",
      "text/plain": [
       "<Figure size 432x288 with 1 Axes>"
      ]
     },
     "metadata": {
      "needs_background": "light"
     },
     "output_type": "display_data"
    }
   ],
   "source": [
    "# Plotting accuracy\n",
    "accuracy_df = pd.DataFrame(\n",
    "    {\n",
    "        \"Epoch\": range(1, epochs + 1),\n",
    "        \"Train\": training_history.history[\"accuracy\"],\n",
    "        \"Val\": training_history.history[\"val_accuracy\"],\n",
    "    }\n",
    ")\n",
    "accuracy_df.set_index(\"Epoch\", inplace=True)\n",
    "accuracy_df.plot(title=\"Accuracy\")"
   ]
  },
  {
   "cell_type": "code",
   "execution_count": 628,
   "id": "chubby-pierce",
   "metadata": {},
   "outputs": [
    {
     "data": {
      "text/plain": [
       "<AxesSubplot:title={'center':'AUC'}, xlabel='Epoch'>"
      ]
     },
     "execution_count": 628,
     "metadata": {},
     "output_type": "execute_result"
    },
    {
     "data": {
      "image/png": "[encoded data removed]",
      "text/plain": [
       "<Figure size 432x288 with 1 Axes>"
      ]
     },
     "metadata": {
      "needs_background": "light"
     },
     "output_type": "display_data"
    }
   ],
   "source": [
    "# Plotting AUC\n",
    "auc_df = pd.DataFrame(\n",
    "    {\n",
    "        \"Epoch\": range(1, epochs + 1),\n",
    "        \"Train\": training_history.history[\"auc\"],\n",
    "        \"Val\": training_history.history[\"val_auc\"],\n",
    "    }\n",
    ")\n",
    "auc_df.set_index(\"Epoch\", inplace=True)\n",
    "auc_df.plot(title=\"AUC\")"
   ]
  },
  {
   "cell_type": "code",
   "execution_count": 629,
   "id": "verified-invention",
   "metadata": {},
   "outputs": [],
   "source": [
    "# Import the roc_curve and auc metrics from sklearn\n",
    "from sklearn.metrics import roc_curve, auc"
   ]
  },
  {
   "cell_type": "code",
   "execution_count": 630,
   "id": "flush-alias",
   "metadata": {},
   "outputs": [],
   "source": [
    "# Making predictions to feed the roc_curve module\n",
    "train_predictions = model.predict(X_train, batch_size=1000)\n",
    "test_predictions = model.predict(X_test, batch_size=1000)"
   ]
  },
  {
   "cell_type": "code",
   "execution_count": 631,
   "id": "changed-alloy",
   "metadata": {},
   "outputs": [],
   "source": [
    "# Calculate the ROC curve and AUC for the training set\n",
    "fpr_train, tpr_train, thresholds_train = roc_curve(y_train, train_predictions)\n",
    "auc_train = auc(fpr_train, tpr_train)\n",
    "auc_train = round(auc_train, 4)\n",
    "\n",
    "# Calculate the ROC curve and AUC for the testing set\n",
    "fpr_test, tpr_test, thresholds_test = roc_curve(y_test, test_predictions)\n",
    "auc_test = auc(fpr_test, tpr_test)\n",
    "auc_test = round(auc_test, 4)"
   ]
  },
  {
   "cell_type": "code",
   "execution_count": 632,
   "id": "fresh-feeling",
   "metadata": {},
   "outputs": [],
   "source": [
    "# Create a DataFrame with the fpr and tpr results\n",
    "roc_df_train = pd.DataFrame({\"FPR Train\": fpr_train, \"TPR Train\": tpr_train,})\n",
    "\n",
    "roc_df_test = pd.DataFrame({\"FPR Test\": fpr_test, \"TPR Test\": tpr_test,})"
   ]
  },
  {
   "cell_type": "code",
   "execution_count": 633,
   "id": "silver-picnic",
   "metadata": {},
   "outputs": [
    {
     "data": {
      "text/plain": [
       "<AxesSubplot:title={'center':'Test ROC Curve (AUC=0.9661)'}, xlabel='FPR Test'>"
      ]
     },
     "execution_count": 633,
     "metadata": {},
     "output_type": "execute_result"
    },
    {
     "data": {
      "image/png": "[encoded data removed]",
      "text/plain": [
       "<Figure size 432x288 with 1 Axes>"
      ]
     },
     "metadata": {
      "needs_background": "light"
     },
     "output_type": "display_data"
    },
    {
     "data": {
      "image/png": "[encoded data removed]",
      "text/plain": [
       "<Figure size 432x288 with 1 Axes>"
      ]
     },
     "metadata": {
      "needs_background": "light"
     },
     "output_type": "display_data"
    }
   ],
   "source": [
    "# Plotting the ROC Curves\n",
    "roc_df_train.plot(\n",
    "    x=\"FPR Train\",\n",
    "    y=\"TPR Train\",\n",
    "    xlim=([-0.05, 1.05]),\n",
    "    title=f\"Train ROC Curve (AUC={auc_train})\",\n",
    ")\n",
    "\n",
    "roc_df_test.plot(\n",
    "    x=\"FPR Test\",\n",
    "    y=\"TPR Test\",\n",
    "    color=\"red\",\n",
    "    style=\"--\",\n",
    "    xlim=([-0.05, 1.05]),\n",
    "    title=f\"Test ROC Curve (AUC={auc_test})\",\n",
    ")"
   ]
  },
  {
   "cell_type": "code",
   "execution_count": 634,
   "id": "former-egyptian",
   "metadata": {},
   "outputs": [
    {
     "data": {
      "text/plain": [
       "{'loss': 0.2486059069633484,\n",
       " 'accuracy': 0.901412844657898,\n",
       " 'tp': 1704.0,\n",
       " 'tn': 1167.0,\n",
       " 'fp': 179.0,\n",
       " 'fn': 135.0,\n",
       " 'precision': 0.9049389362335205,\n",
       " 'recall': 0.9265905618667603,\n",
       " 'auc': 0.9661036729812622}"
      ]
     },
     "metadata": {},
     "output_type": "display_data"
    }
   ],
   "source": [
    "# Evaluate the model\n",
    "scores = model.evaluate(X_test, y_test, verbose=0)\n",
    "\n",
    "# Define metrics dictionary\n",
    "metrics = {k: v for k, v in zip(model.metrics_names, scores)}\n",
    "\n",
    "# Display evaluation metrics results\n",
    "display(metrics)"
   ]
  },
  {
   "cell_type": "code",
   "execution_count": 635,
   "id": "dutch-rental",
   "metadata": {},
   "outputs": [
    {
     "data": {
      "text/html": [
       "<div>\n",
       "<style scoped>\n",
       "    .dataframe tbody tr th:only-of-type {\n",
       "        vertical-align: middle;\n",
       "    }\n",
       "\n",
       "    .dataframe tbody tr th {\n",
       "        vertical-align: top;\n",
       "    }\n",
       "\n",
       "    .dataframe thead th {\n",
       "        text-align: right;\n",
       "    }\n",
       "</style>\n",
       "<table border=\"1\" class=\"dataframe\">\n",
       "  <thead>\n",
       "    <tr style=\"text-align: right;\">\n",
       "      <th>Predicted</th>\n",
       "      <th>Positive (1)</th>\n",
       "      <th>Negative (0)</th>\n",
       "    </tr>\n",
       "    <tr>\n",
       "      <th>Actual</th>\n",
       "      <th></th>\n",
       "      <th></th>\n",
       "    </tr>\n",
       "  </thead>\n",
       "  <tbody>\n",
       "    <tr>\n",
       "      <th>Positive(1)</th>\n",
       "      <td>TP=1704.0</td>\n",
       "      <td>FN=179.0</td>\n",
       "    </tr>\n",
       "    <tr>\n",
       "      <th>Negative(0)</th>\n",
       "      <td>FP=135.0</td>\n",
       "      <td>TN=1167.0</td>\n",
       "    </tr>\n",
       "  </tbody>\n",
       "</table>\n",
       "</div>"
      ],
      "text/plain": [
       "Predicted   Positive (1) Negative (0)\n",
       "Actual                               \n",
       "Positive(1)    TP=1704.0     FN=179.0\n",
       "Negative(0)     FP=135.0    TN=1167.0"
      ]
     },
     "execution_count": 635,
     "metadata": {},
     "output_type": "execute_result"
    }
   ],
   "source": [
    "# Define the confusion matrix data\n",
    "cm_df = pd.DataFrame(\n",
    "    {\n",
    "        \"Positive (1)\": [f\"TP={metrics['tp']}\", f\"FP={metrics['fn']}\"],\n",
    "        \"Negative (0)\": [f\"FN={metrics['fp']}\", f\"TN={metrics['tn']}\"],\n",
    "    },\n",
    "    index=[\"Positive(1)\", \"Negative(0)\"],\n",
    ")\n",
    "cm_df.index.name = \"Actual\"\n",
    "cm_df.columns.name = \"Predicted\"\n",
    "\n",
    "# Show the confusion matrix\n",
    "cm_df"
   ]
  },
  {
   "cell_type": "code",
   "execution_count": 636,
   "id": "coordinate-vector",
   "metadata": {},
   "outputs": [
    {
     "name": "stdout",
     "output_type": "stream",
     "text": [
      "              precision    recall  f1-score   support\n",
      "\n",
      "           0       0.87      0.90      0.88      1302\n",
      "           1       0.93      0.90      0.92      1883\n",
      "\n",
      "    accuracy                           0.90      3185\n",
      "   macro avg       0.90      0.90      0.90      3185\n",
      "weighted avg       0.90      0.90      0.90      3185\n",
      "\n"
     ]
    }
   ],
   "source": [
    "# Import the classification_report method from sklearn\n",
    "from sklearn.metrics import classification_report\n",
    "\n",
    "# Predict classes using testing data\n",
    "y_predict_classes = model.predict_classes(X_test, batch_size=1000)\n",
    "\n",
    "# Display classification report\n",
    "print(classification_report(y_predict_classes, y_test))"
   ]
  },
  {
   "cell_type": "code",
   "execution_count": null,
   "id": "affiliated-novelty",
   "metadata": {},
   "outputs": [],
   "source": []
  },
  {
   "cell_type": "code",
   "execution_count": null,
   "id": "competitive-thong",
   "metadata": {
    "collapsed": true
   },
   "outputs": [],
   "source": []
  }
 ],
 "metadata": {
  "kernelspec": {
   "display_name": "Python 3",
   "language": "python",
   "name": "python3"
  },
  "language_info": {
   "codemirror_mode": {
    "name": "ipython",
    "version": 3
   },
   "file_extension": ".py",
   "mimetype": "text/x-python",
   "name": "python",
   "nbconvert_exporter": "python",
   "pygments_lexer": "ipython3",
   "version": "3.8.5"
  }
 },
 "nbformat": 4,
 "nbformat_minor": 5
}
