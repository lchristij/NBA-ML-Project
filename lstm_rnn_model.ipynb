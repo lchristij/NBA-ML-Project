{
 "cells": [
  {
   "cell_type": "code",
   "execution_count": 1,
   "id": "certified-router",
   "metadata": {},
   "outputs": [],
   "source": [
    "# Initial imports\n",
    "import pandas as pd\n",
    "import numpy as np\n",
    "from pathlib import Path\n",
    "\n",
    "import warnings\n",
    "warnings.filterwarnings('ignore')\n",
    "\n",
    "from sklearn.model_selection import train_test_split\n",
    "\n",
    "import matplotlib.pyplot as plt\n",
    "\n",
    "from tensorflow.keras.models import Sequential\n",
    "from tensorflow.keras.layers import Dense\n",
    "import tensorflow as tf\n",
    "\n",
    "%matplotlib inline"
   ]
  },
  {
   "cell_type": "code",
   "execution_count": 2,
   "id": "narrative-evans",
   "metadata": {},
   "outputs": [],
   "source": [
    "csv_path = Path('../Project-03/20210426_teamstats_df.csv')\n",
    "teamstats_df = pd.read_csv(csv_path)"
   ]
  },
  {
   "cell_type": "code",
   "execution_count": 3,
   "id": "decimal-rebel",
   "metadata": {},
   "outputs": [],
   "source": [
    "teamstats_df = teamstats_df.drop(columns=['Unnamed: 0'])"
   ]
  },
  {
   "cell_type": "code",
   "execution_count": 4,
   "id": "allied-audit",
   "metadata": {},
   "outputs": [],
   "source": [
    "# dropping columns for model tuning\n",
    "\n",
    "teamstats_df = teamstats_df.drop(columns=['H_TEAM1', 'H_TEAM2', 'GAMEDATE', 'A_TEAM1', 'A_TEAM2'])"
   ]
  },
  {
   "cell_type": "code",
   "execution_count": 5,
   "id": "incorporated-democrat",
   "metadata": {},
   "outputs": [
    {
     "data": {
      "text/plain": [
       "(12738, 188)"
      ]
     },
     "execution_count": 5,
     "metadata": {},
     "output_type": "execute_result"
    }
   ],
   "source": [
    "teamstats_df.shape"
   ]
  },
  {
   "cell_type": "code",
   "execution_count": 6,
   "id": "ethical-appointment",
   "metadata": {},
   "outputs": [
    {
     "data": {
      "text/html": [
       "<div>\n",
       "<style scoped>\n",
       "    .dataframe tbody tr th:only-of-type {\n",
       "        vertical-align: middle;\n",
       "    }\n",
       "\n",
       "    .dataframe tbody tr th {\n",
       "        vertical-align: top;\n",
       "    }\n",
       "\n",
       "    .dataframe thead th {\n",
       "        text-align: right;\n",
       "    }\n",
       "</style>\n",
       "<table border=\"1\" class=\"dataframe\">\n",
       "  <thead>\n",
       "    <tr style=\"text-align: right;\">\n",
       "      <th></th>\n",
       "      <th>H_H/A</th>\n",
       "      <th>H_W/L</th>\n",
       "      <th>H_MIN</th>\n",
       "      <th>H_FGA</th>\n",
       "      <th>H_FG%</th>\n",
       "      <th>H_3PM</th>\n",
       "      <th>H_3PA</th>\n",
       "      <th>H_3P%</th>\n",
       "      <th>H_FT%</th>\n",
       "      <th>H_OREB</th>\n",
       "      <th>...</th>\n",
       "      <th>A_TEAM2_OKC</th>\n",
       "      <th>A_TEAM2_ORL</th>\n",
       "      <th>A_TEAM2_PHI</th>\n",
       "      <th>A_TEAM2_PHX</th>\n",
       "      <th>A_TEAM2_POR</th>\n",
       "      <th>A_TEAM2_SAC</th>\n",
       "      <th>A_TEAM2_SAS</th>\n",
       "      <th>A_TEAM2_TOR</th>\n",
       "      <th>A_TEAM2_UTA</th>\n",
       "      <th>A_TEAM2_WAS</th>\n",
       "    </tr>\n",
       "  </thead>\n",
       "  <tbody>\n",
       "    <tr>\n",
       "      <th>0</th>\n",
       "      <td>1</td>\n",
       "      <td>1</td>\n",
       "      <td>53</td>\n",
       "      <td>92</td>\n",
       "      <td>45.7</td>\n",
       "      <td>14</td>\n",
       "      <td>28</td>\n",
       "      <td>50.0</td>\n",
       "      <td>59.3</td>\n",
       "      <td>11</td>\n",
       "      <td>...</td>\n",
       "      <td>0</td>\n",
       "      <td>0</td>\n",
       "      <td>0</td>\n",
       "      <td>0</td>\n",
       "      <td>0</td>\n",
       "      <td>0</td>\n",
       "      <td>0</td>\n",
       "      <td>0</td>\n",
       "      <td>0</td>\n",
       "      <td>0</td>\n",
       "    </tr>\n",
       "    <tr>\n",
       "      <th>1</th>\n",
       "      <td>1</td>\n",
       "      <td>0</td>\n",
       "      <td>48</td>\n",
       "      <td>80</td>\n",
       "      <td>46.3</td>\n",
       "      <td>10</td>\n",
       "      <td>31</td>\n",
       "      <td>32.3</td>\n",
       "      <td>84.2</td>\n",
       "      <td>7</td>\n",
       "      <td>...</td>\n",
       "      <td>0</td>\n",
       "      <td>0</td>\n",
       "      <td>0</td>\n",
       "      <td>0</td>\n",
       "      <td>0</td>\n",
       "      <td>0</td>\n",
       "      <td>0</td>\n",
       "      <td>0</td>\n",
       "      <td>0</td>\n",
       "      <td>0</td>\n",
       "    </tr>\n",
       "    <tr>\n",
       "      <th>2</th>\n",
       "      <td>1</td>\n",
       "      <td>1</td>\n",
       "      <td>48</td>\n",
       "      <td>82</td>\n",
       "      <td>51.2</td>\n",
       "      <td>10</td>\n",
       "      <td>32</td>\n",
       "      <td>31.3</td>\n",
       "      <td>91.7</td>\n",
       "      <td>4</td>\n",
       "      <td>...</td>\n",
       "      <td>0</td>\n",
       "      <td>0</td>\n",
       "      <td>0</td>\n",
       "      <td>0</td>\n",
       "      <td>0</td>\n",
       "      <td>0</td>\n",
       "      <td>0</td>\n",
       "      <td>0</td>\n",
       "      <td>0</td>\n",
       "      <td>0</td>\n",
       "    </tr>\n",
       "    <tr>\n",
       "      <th>3</th>\n",
       "      <td>1</td>\n",
       "      <td>0</td>\n",
       "      <td>63</td>\n",
       "      <td>94</td>\n",
       "      <td>38.3</td>\n",
       "      <td>6</td>\n",
       "      <td>22</td>\n",
       "      <td>27.3</td>\n",
       "      <td>67.4</td>\n",
       "      <td>15</td>\n",
       "      <td>...</td>\n",
       "      <td>0</td>\n",
       "      <td>0</td>\n",
       "      <td>0</td>\n",
       "      <td>0</td>\n",
       "      <td>0</td>\n",
       "      <td>0</td>\n",
       "      <td>0</td>\n",
       "      <td>0</td>\n",
       "      <td>0</td>\n",
       "      <td>0</td>\n",
       "    </tr>\n",
       "    <tr>\n",
       "      <th>4</th>\n",
       "      <td>1</td>\n",
       "      <td>0</td>\n",
       "      <td>48</td>\n",
       "      <td>68</td>\n",
       "      <td>41.2</td>\n",
       "      <td>10</td>\n",
       "      <td>29</td>\n",
       "      <td>34.5</td>\n",
       "      <td>78.9</td>\n",
       "      <td>8</td>\n",
       "      <td>...</td>\n",
       "      <td>0</td>\n",
       "      <td>0</td>\n",
       "      <td>0</td>\n",
       "      <td>0</td>\n",
       "      <td>0</td>\n",
       "      <td>0</td>\n",
       "      <td>0</td>\n",
       "      <td>0</td>\n",
       "      <td>0</td>\n",
       "      <td>0</td>\n",
       "    </tr>\n",
       "  </tbody>\n",
       "</table>\n",
       "<p>5 rows × 188 columns</p>\n",
       "</div>"
      ],
      "text/plain": [
       "   H_H/A  H_W/L  H_MIN  H_FGA  H_FG%  H_3PM  H_3PA  H_3P%  H_FT%  H_OREB  ...  \\\n",
       "0      1      1     53     92   45.7     14     28   50.0   59.3      11  ...   \n",
       "1      1      0     48     80   46.3     10     31   32.3   84.2       7  ...   \n",
       "2      1      1     48     82   51.2     10     32   31.3   91.7       4  ...   \n",
       "3      1      0     63     94   38.3      6     22   27.3   67.4      15  ...   \n",
       "4      1      0     48     68   41.2     10     29   34.5   78.9       8  ...   \n",
       "\n",
       "   A_TEAM2_OKC  A_TEAM2_ORL  A_TEAM2_PHI  A_TEAM2_PHX  A_TEAM2_POR  \\\n",
       "0            0            0            0            0            0   \n",
       "1            0            0            0            0            0   \n",
       "2            0            0            0            0            0   \n",
       "3            0            0            0            0            0   \n",
       "4            0            0            0            0            0   \n",
       "\n",
       "   A_TEAM2_SAC  A_TEAM2_SAS  A_TEAM2_TOR  A_TEAM2_UTA  A_TEAM2_WAS  \n",
       "0            0            0            0            0            0  \n",
       "1            0            0            0            0            0  \n",
       "2            0            0            0            0            0  \n",
       "3            0            0            0            0            0  \n",
       "4            0            0            0            0            0  \n",
       "\n",
       "[5 rows x 188 columns]"
      ]
     },
     "execution_count": 6,
     "metadata": {},
     "output_type": "execute_result"
    }
   ],
   "source": [
    "teamstats_df.head()"
   ]
  },
  {
   "cell_type": "code",
   "execution_count": 7,
   "id": "induced-scope",
   "metadata": {
    "scrolled": false
   },
   "outputs": [],
   "source": [
    "#teamstats_df.info('include=all')"
   ]
  },
  {
   "cell_type": "code",
   "execution_count": 8,
   "id": "induced-diagnosis",
   "metadata": {
    "scrolled": true
   },
   "outputs": [
    {
     "name": "stdout",
     "output_type": "stream",
     "text": [
      "       H_H/A  H_W/L  H_MIN  H_FGA  H_FG%  H_3PM  H_3PA  H_3P%  H_FT%  H_OREB  \\\n",
      "0          1      1     53     92   45.7     14     28   50.0   59.3      11   \n",
      "1          1      0     48     80   46.3     10     31   32.3   84.2       7   \n",
      "2          1      1     48     82   51.2     10     32   31.3   91.7       4   \n",
      "3          1      0     63     94   38.3      6     22   27.3   67.4      15   \n",
      "4          1      0     48     68   41.2     10     29   34.5   78.9       8   \n",
      "...      ...    ...    ...    ...    ...    ...    ...    ...    ...     ...   \n",
      "12733      1      0     48    100   41.0     10     37   27.0   80.0      15   \n",
      "12734      1      1     48     88   45.5      9     23   39.1   71.4      11   \n",
      "12735      1      1     53     96   46.9      4     27   14.8   71.9       3   \n",
      "12736      1      1     48     94   53.2      9     16   56.3   63.2      10   \n",
      "12737      1      0     48     86   40.7      5     25   20.0   80.0       9   \n",
      "\n",
      "       ...  A_FT%  A_OREB  A_DREB  A_AST  A_TOV  A_STL  A_BLK  A_PF  \\\n",
      "0      ...   86.4       9      38     27     12      5      6    21   \n",
      "1      ...   68.0      13      34     30     21     15      7    17   \n",
      "2      ...   82.9      13      26     24     11      8      4    24   \n",
      "3      ...   78.3      14      42     25     22      6      6    35   \n",
      "4      ...   66.7      16      28     27     13     11      4    15   \n",
      "...    ...    ...     ...     ...    ...    ...    ...    ...   ...   \n",
      "12733  ...   84.2       9      41     24     14      6      6    17   \n",
      "12734  ...   92.6      10      35     24     19      4      4    31   \n",
      "12735  ...   84.8      11      45     26     16     11      7    22   \n",
      "12736  ...   73.9       9      36     19     18      7      6    20   \n",
      "12737  ...   79.2      14      36     17      8      7      4    22   \n",
      "\n",
      "       H_TEAM1_ATL  H_TEAM1_BKN  \n",
      "0                1            0  \n",
      "1                1            0  \n",
      "2                1            0  \n",
      "3                1            0  \n",
      "4                1            0  \n",
      "...            ...          ...  \n",
      "12733            0            0  \n",
      "12734            0            0  \n",
      "12735            0            0  \n",
      "12736            0            0  \n",
      "12737            0            0  \n",
      "\n",
      "[12738 rows x 32 columns]\n"
     ]
    }
   ],
   "source": [
    "print(teamstats_df.iloc[:,0:32])"
   ]
  },
  {
   "cell_type": "code",
   "execution_count": null,
   "id": "architectural-camel",
   "metadata": {},
   "outputs": [],
   "source": []
  },
  {
   "cell_type": "code",
   "execution_count": 9,
   "id": "living-fitting",
   "metadata": {},
   "outputs": [],
   "source": [
    "#drop_teamstats_df = teamstats_df.loc[:-1, teamstats_df.columns != 'H_TEAM1']"
   ]
  },
  {
   "cell_type": "code",
   "execution_count": 10,
   "id": "unnecessary-messaging",
   "metadata": {},
   "outputs": [],
   "source": [
    "#drop_teamstats_df = drop_teamstats_df.loc[:-1, teamstats_df.columns != 'H_TEAM2']"
   ]
  },
  {
   "cell_type": "code",
   "execution_count": null,
   "id": "aquatic-collection",
   "metadata": {},
   "outputs": [],
   "source": []
  },
  {
   "cell_type": "code",
   "execution_count": 11,
   "id": "dimensional-trance",
   "metadata": {},
   "outputs": [],
   "source": [
    "#drop_teamstats_df = teamstats_df.loc[:-1, teamstats_df.columns != 'A_TEAM1']"
   ]
  },
  {
   "cell_type": "code",
   "execution_count": 12,
   "id": "entitled-problem",
   "metadata": {},
   "outputs": [],
   "source": [
    "#drop_teamstats_df = teamstats_df.loc[:-1, teamstats_df.columns != 'A_TEAM2']"
   ]
  },
  {
   "cell_type": "code",
   "execution_count": 13,
   "id": "proper-battlefield",
   "metadata": {},
   "outputs": [],
   "source": [
    "#drop_teamstats_df = teamstats_df.loc[:-1, teamstats_df.columns != 'GAMEDATE']"
   ]
  },
  {
   "cell_type": "code",
   "execution_count": 14,
   "id": "martial-election",
   "metadata": {},
   "outputs": [],
   "source": [
    "### drop_teamstats_df.info('include=all')"
   ]
  },
  {
   "cell_type": "code",
   "execution_count": 15,
   "id": "juvenile-writing",
   "metadata": {},
   "outputs": [],
   "source": [
    "#print(type(drop_teamstats_df))"
   ]
  },
  {
   "cell_type": "code",
   "execution_count": 16,
   "id": "essential-volleyball",
   "metadata": {},
   "outputs": [
    {
     "data": {
      "text/html": [
       "<div>\n",
       "<style scoped>\n",
       "    .dataframe tbody tr th:only-of-type {\n",
       "        vertical-align: middle;\n",
       "    }\n",
       "\n",
       "    .dataframe tbody tr th {\n",
       "        vertical-align: top;\n",
       "    }\n",
       "\n",
       "    .dataframe thead th {\n",
       "        text-align: right;\n",
       "    }\n",
       "</style>\n",
       "<table border=\"1\" class=\"dataframe\">\n",
       "  <thead>\n",
       "    <tr style=\"text-align: right;\">\n",
       "      <th></th>\n",
       "      <th>H_H/A</th>\n",
       "      <th>H_MIN</th>\n",
       "      <th>H_FGA</th>\n",
       "      <th>H_FG%</th>\n",
       "      <th>H_3PM</th>\n",
       "      <th>H_3PA</th>\n",
       "      <th>H_3P%</th>\n",
       "      <th>H_FT%</th>\n",
       "      <th>H_OREB</th>\n",
       "      <th>H_DREB</th>\n",
       "      <th>...</th>\n",
       "      <th>A_TEAM2_OKC</th>\n",
       "      <th>A_TEAM2_ORL</th>\n",
       "      <th>A_TEAM2_PHI</th>\n",
       "      <th>A_TEAM2_PHX</th>\n",
       "      <th>A_TEAM2_POR</th>\n",
       "      <th>A_TEAM2_SAC</th>\n",
       "      <th>A_TEAM2_SAS</th>\n",
       "      <th>A_TEAM2_TOR</th>\n",
       "      <th>A_TEAM2_UTA</th>\n",
       "      <th>A_TEAM2_WAS</th>\n",
       "    </tr>\n",
       "  </thead>\n",
       "  <tbody>\n",
       "    <tr>\n",
       "      <th>0</th>\n",
       "      <td>1</td>\n",
       "      <td>53</td>\n",
       "      <td>92</td>\n",
       "      <td>45.7</td>\n",
       "      <td>14</td>\n",
       "      <td>28</td>\n",
       "      <td>50.0</td>\n",
       "      <td>59.3</td>\n",
       "      <td>11</td>\n",
       "      <td>35</td>\n",
       "      <td>...</td>\n",
       "      <td>0</td>\n",
       "      <td>0</td>\n",
       "      <td>0</td>\n",
       "      <td>0</td>\n",
       "      <td>0</td>\n",
       "      <td>0</td>\n",
       "      <td>0</td>\n",
       "      <td>0</td>\n",
       "      <td>0</td>\n",
       "      <td>0</td>\n",
       "    </tr>\n",
       "    <tr>\n",
       "      <th>1</th>\n",
       "      <td>1</td>\n",
       "      <td>48</td>\n",
       "      <td>80</td>\n",
       "      <td>46.3</td>\n",
       "      <td>10</td>\n",
       "      <td>31</td>\n",
       "      <td>32.3</td>\n",
       "      <td>84.2</td>\n",
       "      <td>7</td>\n",
       "      <td>34</td>\n",
       "      <td>...</td>\n",
       "      <td>0</td>\n",
       "      <td>0</td>\n",
       "      <td>0</td>\n",
       "      <td>0</td>\n",
       "      <td>0</td>\n",
       "      <td>0</td>\n",
       "      <td>0</td>\n",
       "      <td>0</td>\n",
       "      <td>0</td>\n",
       "      <td>0</td>\n",
       "    </tr>\n",
       "    <tr>\n",
       "      <th>2</th>\n",
       "      <td>1</td>\n",
       "      <td>48</td>\n",
       "      <td>82</td>\n",
       "      <td>51.2</td>\n",
       "      <td>10</td>\n",
       "      <td>32</td>\n",
       "      <td>31.3</td>\n",
       "      <td>91.7</td>\n",
       "      <td>4</td>\n",
       "      <td>36</td>\n",
       "      <td>...</td>\n",
       "      <td>0</td>\n",
       "      <td>0</td>\n",
       "      <td>0</td>\n",
       "      <td>0</td>\n",
       "      <td>0</td>\n",
       "      <td>0</td>\n",
       "      <td>0</td>\n",
       "      <td>0</td>\n",
       "      <td>0</td>\n",
       "      <td>0</td>\n",
       "    </tr>\n",
       "    <tr>\n",
       "      <th>3</th>\n",
       "      <td>1</td>\n",
       "      <td>63</td>\n",
       "      <td>94</td>\n",
       "      <td>38.3</td>\n",
       "      <td>6</td>\n",
       "      <td>22</td>\n",
       "      <td>27.3</td>\n",
       "      <td>67.4</td>\n",
       "      <td>15</td>\n",
       "      <td>36</td>\n",
       "      <td>...</td>\n",
       "      <td>0</td>\n",
       "      <td>0</td>\n",
       "      <td>0</td>\n",
       "      <td>0</td>\n",
       "      <td>0</td>\n",
       "      <td>0</td>\n",
       "      <td>0</td>\n",
       "      <td>0</td>\n",
       "      <td>0</td>\n",
       "      <td>0</td>\n",
       "    </tr>\n",
       "    <tr>\n",
       "      <th>4</th>\n",
       "      <td>1</td>\n",
       "      <td>48</td>\n",
       "      <td>68</td>\n",
       "      <td>41.2</td>\n",
       "      <td>10</td>\n",
       "      <td>29</td>\n",
       "      <td>34.5</td>\n",
       "      <td>78.9</td>\n",
       "      <td>8</td>\n",
       "      <td>28</td>\n",
       "      <td>...</td>\n",
       "      <td>0</td>\n",
       "      <td>0</td>\n",
       "      <td>0</td>\n",
       "      <td>0</td>\n",
       "      <td>0</td>\n",
       "      <td>0</td>\n",
       "      <td>0</td>\n",
       "      <td>0</td>\n",
       "      <td>0</td>\n",
       "      <td>0</td>\n",
       "    </tr>\n",
       "    <tr>\n",
       "      <th>5</th>\n",
       "      <td>1</td>\n",
       "      <td>48</td>\n",
       "      <td>87</td>\n",
       "      <td>42.5</td>\n",
       "      <td>15</td>\n",
       "      <td>39</td>\n",
       "      <td>38.5</td>\n",
       "      <td>63.2</td>\n",
       "      <td>14</td>\n",
       "      <td>27</td>\n",
       "      <td>...</td>\n",
       "      <td>0</td>\n",
       "      <td>0</td>\n",
       "      <td>0</td>\n",
       "      <td>0</td>\n",
       "      <td>0</td>\n",
       "      <td>0</td>\n",
       "      <td>0</td>\n",
       "      <td>0</td>\n",
       "      <td>0</td>\n",
       "      <td>0</td>\n",
       "    </tr>\n",
       "    <tr>\n",
       "      <th>6</th>\n",
       "      <td>1</td>\n",
       "      <td>48</td>\n",
       "      <td>91</td>\n",
       "      <td>47.3</td>\n",
       "      <td>10</td>\n",
       "      <td>24</td>\n",
       "      <td>41.7</td>\n",
       "      <td>76.9</td>\n",
       "      <td>14</td>\n",
       "      <td>45</td>\n",
       "      <td>...</td>\n",
       "      <td>0</td>\n",
       "      <td>0</td>\n",
       "      <td>0</td>\n",
       "      <td>0</td>\n",
       "      <td>0</td>\n",
       "      <td>0</td>\n",
       "      <td>0</td>\n",
       "      <td>0</td>\n",
       "      <td>0</td>\n",
       "      <td>0</td>\n",
       "    </tr>\n",
       "    <tr>\n",
       "      <th>7</th>\n",
       "      <td>1</td>\n",
       "      <td>48</td>\n",
       "      <td>77</td>\n",
       "      <td>45.5</td>\n",
       "      <td>18</td>\n",
       "      <td>39</td>\n",
       "      <td>46.2</td>\n",
       "      <td>84.4</td>\n",
       "      <td>4</td>\n",
       "      <td>30</td>\n",
       "      <td>...</td>\n",
       "      <td>0</td>\n",
       "      <td>0</td>\n",
       "      <td>0</td>\n",
       "      <td>0</td>\n",
       "      <td>0</td>\n",
       "      <td>0</td>\n",
       "      <td>0</td>\n",
       "      <td>0</td>\n",
       "      <td>0</td>\n",
       "      <td>0</td>\n",
       "    </tr>\n",
       "    <tr>\n",
       "      <th>8</th>\n",
       "      <td>1</td>\n",
       "      <td>48</td>\n",
       "      <td>83</td>\n",
       "      <td>56.6</td>\n",
       "      <td>9</td>\n",
       "      <td>12</td>\n",
       "      <td>75.0</td>\n",
       "      <td>100.0</td>\n",
       "      <td>4</td>\n",
       "      <td>27</td>\n",
       "      <td>...</td>\n",
       "      <td>0</td>\n",
       "      <td>0</td>\n",
       "      <td>0</td>\n",
       "      <td>0</td>\n",
       "      <td>0</td>\n",
       "      <td>0</td>\n",
       "      <td>0</td>\n",
       "      <td>0</td>\n",
       "      <td>0</td>\n",
       "      <td>0</td>\n",
       "    </tr>\n",
       "    <tr>\n",
       "      <th>9</th>\n",
       "      <td>1</td>\n",
       "      <td>48</td>\n",
       "      <td>72</td>\n",
       "      <td>44.4</td>\n",
       "      <td>13</td>\n",
       "      <td>25</td>\n",
       "      <td>52.0</td>\n",
       "      <td>82.6</td>\n",
       "      <td>8</td>\n",
       "      <td>29</td>\n",
       "      <td>...</td>\n",
       "      <td>0</td>\n",
       "      <td>0</td>\n",
       "      <td>0</td>\n",
       "      <td>0</td>\n",
       "      <td>0</td>\n",
       "      <td>0</td>\n",
       "      <td>0</td>\n",
       "      <td>0</td>\n",
       "      <td>0</td>\n",
       "      <td>0</td>\n",
       "    </tr>\n",
       "    <tr>\n",
       "      <th>10</th>\n",
       "      <td>1</td>\n",
       "      <td>48</td>\n",
       "      <td>84</td>\n",
       "      <td>42.9</td>\n",
       "      <td>11</td>\n",
       "      <td>22</td>\n",
       "      <td>50.0</td>\n",
       "      <td>86.2</td>\n",
       "      <td>12</td>\n",
       "      <td>32</td>\n",
       "      <td>...</td>\n",
       "      <td>0</td>\n",
       "      <td>0</td>\n",
       "      <td>0</td>\n",
       "      <td>0</td>\n",
       "      <td>0</td>\n",
       "      <td>0</td>\n",
       "      <td>0</td>\n",
       "      <td>0</td>\n",
       "      <td>0</td>\n",
       "      <td>0</td>\n",
       "    </tr>\n",
       "    <tr>\n",
       "      <th>11</th>\n",
       "      <td>1</td>\n",
       "      <td>48</td>\n",
       "      <td>75</td>\n",
       "      <td>45.3</td>\n",
       "      <td>10</td>\n",
       "      <td>23</td>\n",
       "      <td>43.5</td>\n",
       "      <td>86.4</td>\n",
       "      <td>6</td>\n",
       "      <td>28</td>\n",
       "      <td>...</td>\n",
       "      <td>0</td>\n",
       "      <td>0</td>\n",
       "      <td>0</td>\n",
       "      <td>0</td>\n",
       "      <td>0</td>\n",
       "      <td>0</td>\n",
       "      <td>0</td>\n",
       "      <td>0</td>\n",
       "      <td>0</td>\n",
       "      <td>0</td>\n",
       "    </tr>\n",
       "    <tr>\n",
       "      <th>12</th>\n",
       "      <td>1</td>\n",
       "      <td>48</td>\n",
       "      <td>106</td>\n",
       "      <td>36.8</td>\n",
       "      <td>13</td>\n",
       "      <td>44</td>\n",
       "      <td>29.5</td>\n",
       "      <td>88.9</td>\n",
       "      <td>16</td>\n",
       "      <td>38</td>\n",
       "      <td>...</td>\n",
       "      <td>0</td>\n",
       "      <td>0</td>\n",
       "      <td>0</td>\n",
       "      <td>0</td>\n",
       "      <td>0</td>\n",
       "      <td>0</td>\n",
       "      <td>0</td>\n",
       "      <td>0</td>\n",
       "      <td>0</td>\n",
       "      <td>0</td>\n",
       "    </tr>\n",
       "    <tr>\n",
       "      <th>13</th>\n",
       "      <td>1</td>\n",
       "      <td>48</td>\n",
       "      <td>94</td>\n",
       "      <td>52.1</td>\n",
       "      <td>10</td>\n",
       "      <td>24</td>\n",
       "      <td>41.7</td>\n",
       "      <td>80.0</td>\n",
       "      <td>8</td>\n",
       "      <td>32</td>\n",
       "      <td>...</td>\n",
       "      <td>0</td>\n",
       "      <td>0</td>\n",
       "      <td>0</td>\n",
       "      <td>0</td>\n",
       "      <td>0</td>\n",
       "      <td>0</td>\n",
       "      <td>0</td>\n",
       "      <td>0</td>\n",
       "      <td>0</td>\n",
       "      <td>0</td>\n",
       "    </tr>\n",
       "    <tr>\n",
       "      <th>14</th>\n",
       "      <td>1</td>\n",
       "      <td>48</td>\n",
       "      <td>86</td>\n",
       "      <td>37.2</td>\n",
       "      <td>9</td>\n",
       "      <td>32</td>\n",
       "      <td>28.1</td>\n",
       "      <td>90.9</td>\n",
       "      <td>13</td>\n",
       "      <td>27</td>\n",
       "      <td>...</td>\n",
       "      <td>0</td>\n",
       "      <td>0</td>\n",
       "      <td>0</td>\n",
       "      <td>0</td>\n",
       "      <td>0</td>\n",
       "      <td>0</td>\n",
       "      <td>0</td>\n",
       "      <td>0</td>\n",
       "      <td>0</td>\n",
       "      <td>0</td>\n",
       "    </tr>\n",
       "    <tr>\n",
       "      <th>15</th>\n",
       "      <td>1</td>\n",
       "      <td>48</td>\n",
       "      <td>72</td>\n",
       "      <td>55.6</td>\n",
       "      <td>9</td>\n",
       "      <td>19</td>\n",
       "      <td>47.4</td>\n",
       "      <td>60.9</td>\n",
       "      <td>4</td>\n",
       "      <td>29</td>\n",
       "      <td>...</td>\n",
       "      <td>0</td>\n",
       "      <td>0</td>\n",
       "      <td>0</td>\n",
       "      <td>0</td>\n",
       "      <td>0</td>\n",
       "      <td>0</td>\n",
       "      <td>0</td>\n",
       "      <td>0</td>\n",
       "      <td>0</td>\n",
       "      <td>0</td>\n",
       "    </tr>\n",
       "  </tbody>\n",
       "</table>\n",
       "<p>16 rows × 187 columns</p>\n",
       "</div>"
      ],
      "text/plain": [
       "    H_H/A  H_MIN  H_FGA  H_FG%  H_3PM  H_3PA  H_3P%  H_FT%  H_OREB  H_DREB  \\\n",
       "0       1     53     92   45.7     14     28   50.0   59.3      11      35   \n",
       "1       1     48     80   46.3     10     31   32.3   84.2       7      34   \n",
       "2       1     48     82   51.2     10     32   31.3   91.7       4      36   \n",
       "3       1     63     94   38.3      6     22   27.3   67.4      15      36   \n",
       "4       1     48     68   41.2     10     29   34.5   78.9       8      28   \n",
       "5       1     48     87   42.5     15     39   38.5   63.2      14      27   \n",
       "6       1     48     91   47.3     10     24   41.7   76.9      14      45   \n",
       "7       1     48     77   45.5     18     39   46.2   84.4       4      30   \n",
       "8       1     48     83   56.6      9     12   75.0  100.0       4      27   \n",
       "9       1     48     72   44.4     13     25   52.0   82.6       8      29   \n",
       "10      1     48     84   42.9     11     22   50.0   86.2      12      32   \n",
       "11      1     48     75   45.3     10     23   43.5   86.4       6      28   \n",
       "12      1     48    106   36.8     13     44   29.5   88.9      16      38   \n",
       "13      1     48     94   52.1     10     24   41.7   80.0       8      32   \n",
       "14      1     48     86   37.2      9     32   28.1   90.9      13      27   \n",
       "15      1     48     72   55.6      9     19   47.4   60.9       4      29   \n",
       "\n",
       "    ...  A_TEAM2_OKC  A_TEAM2_ORL  A_TEAM2_PHI  A_TEAM2_PHX  A_TEAM2_POR  \\\n",
       "0   ...            0            0            0            0            0   \n",
       "1   ...            0            0            0            0            0   \n",
       "2   ...            0            0            0            0            0   \n",
       "3   ...            0            0            0            0            0   \n",
       "4   ...            0            0            0            0            0   \n",
       "5   ...            0            0            0            0            0   \n",
       "6   ...            0            0            0            0            0   \n",
       "7   ...            0            0            0            0            0   \n",
       "8   ...            0            0            0            0            0   \n",
       "9   ...            0            0            0            0            0   \n",
       "10  ...            0            0            0            0            0   \n",
       "11  ...            0            0            0            0            0   \n",
       "12  ...            0            0            0            0            0   \n",
       "13  ...            0            0            0            0            0   \n",
       "14  ...            0            0            0            0            0   \n",
       "15  ...            0            0            0            0            0   \n",
       "\n",
       "    A_TEAM2_SAC  A_TEAM2_SAS  A_TEAM2_TOR  A_TEAM2_UTA  A_TEAM2_WAS  \n",
       "0             0            0            0            0            0  \n",
       "1             0            0            0            0            0  \n",
       "2             0            0            0            0            0  \n",
       "3             0            0            0            0            0  \n",
       "4             0            0            0            0            0  \n",
       "5             0            0            0            0            0  \n",
       "6             0            0            0            0            0  \n",
       "7             0            0            0            0            0  \n",
       "8             0            0            0            0            0  \n",
       "9             0            0            0            0            0  \n",
       "10            0            0            0            0            0  \n",
       "11            0            0            0            0            0  \n",
       "12            0            0            0            0            0  \n",
       "13            0            0            0            0            0  \n",
       "14            0            0            0            0            0  \n",
       "15            0            0            0            0            0  \n",
       "\n",
       "[16 rows x 187 columns]"
      ]
     },
     "execution_count": 16,
     "metadata": {},
     "output_type": "execute_result"
    }
   ],
   "source": [
    "# defining 'W/L' column as feature set\n",
    "X = teamstats_df.copy()\n",
    "X.drop('H_W/L', axis=1, inplace=True)\n",
    "X.head(16)"
   ]
  },
  {
   "cell_type": "code",
   "execution_count": 17,
   "id": "optimum-leisure",
   "metadata": {
    "scrolled": true
   },
   "outputs": [],
   "source": [
    "# Create the features (X) and target (y) sets\n",
    "X = teamstats_df.iloc[:, 0:32].values\n",
    "y = teamstats_df['H_W/L'].values"
   ]
  },
  {
   "cell_type": "code",
   "execution_count": null,
   "id": "broad-absence",
   "metadata": {},
   "outputs": [],
   "source": []
  },
  {
   "cell_type": "code",
   "execution_count": 18,
   "id": "perfect-balloon",
   "metadata": {},
   "outputs": [],
   "source": [
    "y = teamstats_df[\"H_W/L\"].values"
   ]
  },
  {
   "cell_type": "code",
   "execution_count": 19,
   "id": "parallel-boston",
   "metadata": {
    "scrolled": true
   },
   "outputs": [
    {
     "data": {
      "text/plain": [
       "array([1, 0, 1, 0, 0], dtype=int64)"
      ]
     },
     "execution_count": 19,
     "metadata": {},
     "output_type": "execute_result"
    }
   ],
   "source": [
    "y[:5]"
   ]
  },
  {
   "cell_type": "code",
   "execution_count": null,
   "id": "satellite-airport",
   "metadata": {},
   "outputs": [],
   "source": []
  },
  {
   "cell_type": "code",
   "execution_count": 20,
   "id": "material-flashing",
   "metadata": {},
   "outputs": [],
   "source": [
    "# Creating training, validation, and testing sets\n",
    "from sklearn.model_selection import train_test_split\n",
    "\n",
    "X_train, X_test, y_train, y_test = train_test_split(X, y, random_state=78)\n",
    "\n",
    "X_train, X_val, y_train, y_val = train_test_split(X_train, y_train, random_state=78)"
   ]
  },
  {
   "cell_type": "code",
   "execution_count": null,
   "id": "chubby-understanding",
   "metadata": {},
   "outputs": [],
   "source": []
  },
  {
   "cell_type": "code",
   "execution_count": 21,
   "id": "opposite-bryan",
   "metadata": {},
   "outputs": [],
   "source": [
    "# Model set-up\n",
    "number_input_features = 32\n",
    "hidden_nodes_layer1 = 25\n",
    "hidden_nodes_layer2 = 8\n",
    "#hidden_nodes_layer3 = 4\n",
    "#hidden_nodes_layer4 = 5\n",
    "#hidden_nodes_layer5 = 5"
   ]
  },
  {
   "cell_type": "code",
   "execution_count": 22,
   "id": "partial-plenty",
   "metadata": {},
   "outputs": [],
   "source": [
    "# Define the LSTM RNN model\n",
    "model = Sequential()\n",
    "\n",
    "# Layer 1\n",
    "model.add(\n",
    "    Dense(units=hidden_nodes_layer1, \n",
    "          input_dim=number_input_features, \n",
    "          activation=\"relu\")\n",
    ")\n",
    "\n",
    "# Layer 2\n",
    "model.add(Dense(units=hidden_nodes_layer2, activation=\"relu\"))\n",
    "\n",
    "\n",
    "# Layer 3\n",
    "#model.add(Dense(units=hidden_nodes_layer3, activation=\"relu\"))\n",
    "\n",
    "# Layer 4\n",
    "#model.add(Dense(units=hidden_nodes_layer3, activation=\"relu\"))\n",
    "\n",
    "# Layer 5\n",
    "#model.add(Dense(units=hidden_nodes_layer3, activation=\"relu\"))\n",
    "\n",
    "# Output layer\n",
    "model.add(Dense(1, activation=\"sigmoid\"))"
   ]
  },
  {
   "cell_type": "code",
   "execution_count": 23,
   "id": "cellular-boring",
   "metadata": {},
   "outputs": [],
   "source": [
    "# Compile the model\n",
    "model.compile(\n",
    "    loss=\"binary_crossentropy\",\n",
    "    optimizer=\"adam\",\n",
    "    metrics=[\n",
    "        \"accuracy\",\n",
    "        tf.keras.metrics.TruePositives(name=\"tp\"),\n",
    "        tf.keras.metrics.TrueNegatives(name=\"tn\"),\n",
    "        tf.keras.metrics.FalsePositives(name=\"fp\"),\n",
    "        tf.keras.metrics.FalseNegatives(name=\"fn\"),\n",
    "        tf.keras.metrics.Precision(name=\"precision\"),\n",
    "        tf.keras.metrics.Recall(name=\"recall\"),\n",
    "        tf.keras.metrics.AUC(name=\"auc\"),\n",
    "    ],\n",
    ")"
   ]
  },
  {
   "cell_type": "code",
   "execution_count": 24,
   "id": "removed-action",
   "metadata": {},
   "outputs": [
    {
     "name": "stdout",
     "output_type": "stream",
     "text": [
      "Model: \"sequential\"\n",
      "_________________________________________________________________\n",
      "Layer (type)                 Output Shape              Param #   \n",
      "=================================================================\n",
      "dense (Dense)                (None, 25)                825       \n",
      "_________________________________________________________________\n",
      "dense_1 (Dense)              (None, 8)                 208       \n",
      "_________________________________________________________________\n",
      "dense_2 (Dense)              (None, 1)                 9         \n",
      "=================================================================\n",
      "Total params: 1,042\n",
      "Trainable params: 1,042\n",
      "Non-trainable params: 0\n",
      "_________________________________________________________________\n"
     ]
    }
   ],
   "source": [
    "# Summarize the model\n",
    "model.summary()"
   ]
  },
  {
   "cell_type": "code",
   "execution_count": null,
   "id": "parental-princess",
   "metadata": {},
   "outputs": [],
   "source": []
  },
  {
   "cell_type": "code",
   "execution_count": 25,
   "id": "serious-geography",
   "metadata": {
    "scrolled": false
   },
   "outputs": [
    {
     "name": "stdout",
     "output_type": "stream",
     "text": [
      "Epoch 1/50\n",
      "8/8 [==============================] - 6s 385ms/step - loss: 6.0208 - accuracy: 0.5847 - tp: 2713.4444 - tn: 18.2222 - fp: 1910.7778 - fn: 60.6667 - precision: 0.5888 - recall: 0.9852 - auc: 0.4758 - val_loss: 1.6687 - val_accuracy: 0.4094 - val_tp: 544.0000 - val_tn: 434.0000 - val_fp: 599.0000 - val_fn: 812.0000 - val_precision: 0.4759 - val_recall: 0.4012 - val_auc: 0.3966\n",
      "Epoch 2/50\n",
      "8/8 [==============================] - 0s 15ms/step - loss: 1.4702 - accuracy: 0.3887 - tp: 461.5556 - tn: 1371.5556 - fp: 561.1111 - fn: 2308.8889 - precision: 0.4520 - recall: 0.2045 - auc: 0.4522 - val_loss: 0.8948 - val_accuracy: 0.4625 - val_tp: 171.0000 - val_tn: 934.0000 - val_fp: 99.0000 - val_fn: 1185.0000 - val_precision: 0.6333 - val_recall: 0.1261 - val_auc: 0.6138\n",
      "Epoch 3/50\n",
      "8/8 [==============================] - 0s 14ms/step - loss: 0.8198 - accuracy: 0.5156 - tp: 1097.5556 - tn: 1415.4444 - fp: 522.1111 - fn: 1668.0000 - precision: 0.6791 - recall: 0.3359 - auc: 0.6031 - val_loss: 0.7259 - val_accuracy: 0.5990 - val_tp: 1265.0000 - val_tn: 166.0000 - val_fp: 867.0000 - val_fn: 91.0000 - val_precision: 0.5933 - val_recall: 0.9329 - val_auc: 0.5941\n",
      "Epoch 4/50\n",
      "8/8 [==============================] - 0s 14ms/step - loss: 0.7070 - accuracy: 0.6009 - tp: 2633.5556 - tn: 205.3333 - fp: 1742.6667 - fn: 121.5556 - precision: 0.5992 - recall: 0.9490 - auc: 0.5907 - val_loss: 0.6862 - val_accuracy: 0.5839 - val_tp: 1339.0000 - val_tn: 56.0000 - val_fp: 977.0000 - val_fn: 17.0000 - val_precision: 0.5782 - val_recall: 0.9875 - val_auc: 0.6444\n",
      "Epoch 5/50\n",
      "8/8 [==============================] - 0s 15ms/step - loss: 0.6806 - accuracy: 0.5937 - tp: 2716.1111 - tn: 91.7778 - fp: 1857.5556 - fn: 37.6667 - precision: 0.5904 - recall: 0.9864 - auc: 0.6346 - val_loss: 0.6810 - val_accuracy: 0.5848 - val_tp: 1341.0000 - val_tn: 56.0000 - val_fp: 977.0000 - val_fn: 15.0000 - val_precision: 0.5785 - val_recall: 0.9889 - val_auc: 0.6559\n",
      "Epoch 6/50\n",
      "8/8 [==============================] - 0s 14ms/step - loss: 0.6690 - accuracy: 0.6032 - tp: 2729.0000 - tn: 107.1111 - fp: 1823.1111 - fn: 43.8889 - precision: 0.5999 - recall: 0.9838 - auc: 0.6335 - val_loss: 0.6732 - val_accuracy: 0.5877 - val_tp: 1326.0000 - val_tn: 78.0000 - val_fp: 955.0000 - val_fn: 30.0000 - val_precision: 0.5813 - val_recall: 0.9779 - val_auc: 0.6636\n",
      "Epoch 7/50\n",
      "8/8 [==============================] - 0s 14ms/step - loss: 0.6626 - accuracy: 0.6094 - tp: 2699.7778 - tn: 167.2222 - fp: 1762.6667 - fn: 73.4444 - precision: 0.6046 - recall: 0.9751 - auc: 0.6358 - val_loss: 0.6637 - val_accuracy: 0.6019 - val_tp: 1295.0000 - val_tn: 143.0000 - val_fp: 890.0000 - val_fn: 61.0000 - val_precision: 0.5927 - val_recall: 0.9550 - val_auc: 0.6682\n",
      "Epoch 8/50\n",
      "8/8 [==============================] - 0s 14ms/step - loss: 0.6537 - accuracy: 0.6301 - tp: 2617.5556 - tn: 337.6667 - fp: 1591.5556 - fn: 156.3333 - precision: 0.6233 - recall: 0.9451 - auc: 0.6722 - val_loss: 0.6538 - val_accuracy: 0.6237 - val_tp: 1239.0000 - val_tn: 251.0000 - val_fp: 782.0000 - val_fn: 117.0000 - val_precision: 0.6131 - val_recall: 0.9137 - val_auc: 0.6857\n",
      "Epoch 9/50\n",
      "8/8 [==============================] - 0s 14ms/step - loss: 0.6476 - accuracy: 0.6438 - tp: 2460.8889 - tn: 573.5556 - fp: 1366.6667 - fn: 302.0000 - precision: 0.6408 - recall: 0.8964 - auc: 0.6818 - val_loss: 0.6402 - val_accuracy: 0.6409 - val_tp: 1143.0000 - val_tn: 388.0000 - val_fp: 645.0000 - val_fn: 213.0000 - val_precision: 0.6393 - val_recall: 0.8429 - val_auc: 0.7020\n",
      "Epoch 10/50\n",
      "8/8 [==============================] - 0s 14ms/step - loss: 0.6371 - accuracy: 0.6542 - tp: 2257.6667 - tn: 844.2222 - fp: 1094.8889 - fn: 506.3333 - precision: 0.6678 - recall: 0.8195 - auc: 0.7028 - val_loss: 0.6278 - val_accuracy: 0.6542 - val_tp: 1083.0000 - val_tn: 480.0000 - val_fp: 553.0000 - val_fn: 273.0000 - val_precision: 0.6620 - val_recall: 0.7987 - val_auc: 0.7160\n",
      "Epoch 11/50\n",
      "8/8 [==============================] - 0s 15ms/step - loss: 0.6211 - accuracy: 0.6695 - tp: 2208.1111 - tn: 938.3333 - fp: 1001.0000 - fn: 555.6667 - precision: 0.6876 - recall: 0.8008 - auc: 0.7202 - val_loss: 0.6191 - val_accuracy: 0.6572 - val_tp: 1127.0000 - val_tn: 443.0000 - val_fp: 590.0000 - val_fn: 229.0000 - val_precision: 0.6564 - val_recall: 0.8311 - val_auc: 0.7218\n",
      "Epoch 12/50\n",
      "8/8 [==============================] - 0s 14ms/step - loss: 0.6108 - accuracy: 0.6709 - tp: 2291.8889 - tn: 858.4444 - fp: 1083.1111 - fn: 469.6667 - precision: 0.6790 - recall: 0.8320 - auc: 0.7297 - val_loss: 0.6124 - val_accuracy: 0.6601 - val_tp: 1148.0000 - val_tn: 429.0000 - val_fp: 604.0000 - val_fn: 208.0000 - val_precision: 0.6553 - val_recall: 0.8466 - val_auc: 0.7299\n",
      "Epoch 13/50\n",
      "8/8 [==============================] - 0s 15ms/step - loss: 0.6070 - accuracy: 0.6687 - tp: 2300.4444 - tn: 847.7778 - fp: 1102.5556 - fn: 452.3333 - precision: 0.6744 - recall: 0.8362 - auc: 0.7302 - val_loss: 0.6057 - val_accuracy: 0.6668 - val_tp: 1144.0000 - val_tn: 449.0000 - val_fp: 584.0000 - val_fn: 212.0000 - val_precision: 0.6620 - val_recall: 0.8437 - val_auc: 0.7372\n",
      "Epoch 14/50\n",
      "8/8 [==============================] - 0s 14ms/step - loss: 0.5968 - accuracy: 0.6819 - tp: 2294.0000 - tn: 908.7778 - fp: 1021.1111 - fn: 479.2222 - precision: 0.6926 - recall: 0.8294 - auc: 0.7424 - val_loss: 0.5995 - val_accuracy: 0.6714 - val_tp: 1133.0000 - val_tn: 471.0000 - val_fp: 562.0000 - val_fn: 223.0000 - val_precision: 0.6684 - val_recall: 0.8355 - val_auc: 0.7448\n",
      "Epoch 15/50\n",
      "8/8 [==============================] - 0s 15ms/step - loss: 0.5938 - accuracy: 0.6862 - tp: 2291.2222 - tn: 933.3333 - fp: 995.6667 - fn: 482.8889 - precision: 0.6990 - recall: 0.8236 - auc: 0.7460 - val_loss: 0.5945 - val_accuracy: 0.6794 - val_tp: 1148.0000 - val_tn: 475.0000 - val_fp: 558.0000 - val_fn: 208.0000 - val_precision: 0.6729 - val_recall: 0.8466 - val_auc: 0.7526\n",
      "Epoch 16/50\n",
      "8/8 [==============================] - 0s 14ms/step - loss: 0.5854 - accuracy: 0.6898 - tp: 2321.2222 - tn: 922.4444 - fp: 998.2222 - fn: 461.2222 - precision: 0.7017 - recall: 0.8309 - auc: 0.7574 - val_loss: 0.5893 - val_accuracy: 0.6856 - val_tp: 1156.0000 - val_tn: 482.0000 - val_fp: 551.0000 - val_fn: 200.0000 - val_precision: 0.6772 - val_recall: 0.8525 - val_auc: 0.7610\n",
      "Epoch 17/50\n",
      "8/8 [==============================] - 0s 14ms/step - loss: 0.5791 - accuracy: 0.7030 - tp: 2343.8889 - tn: 950.7778 - fp: 965.0000 - fn: 443.4444 - precision: 0.7121 - recall: 0.8418 - auc: 0.7646 - val_loss: 0.5840 - val_accuracy: 0.6902 - val_tp: 1154.0000 - val_tn: 495.0000 - val_fp: 538.0000 - val_fn: 202.0000 - val_precision: 0.6820 - val_recall: 0.8510 - val_auc: 0.7685\n",
      "Epoch 18/50\n",
      "8/8 [==============================] - 0s 14ms/step - loss: 0.5803 - accuracy: 0.6992 - tp: 2314.1111 - tn: 986.0000 - fp: 956.7778 - fn: 446.2222 - precision: 0.7040 - recall: 0.8362 - auc: 0.7676 - val_loss: 0.5800 - val_accuracy: 0.6949 - val_tp: 1165.0000 - val_tn: 495.0000 - val_fp: 538.0000 - val_fn: 191.0000 - val_precision: 0.6841 - val_recall: 0.8591 - val_auc: 0.7754\n",
      "Epoch 19/50\n",
      "8/8 [==============================] - 0s 15ms/step - loss: 0.5737 - accuracy: 0.7067 - tp: 2376.5556 - tn: 941.8889 - fp: 989.7778 - fn: 394.8889 - precision: 0.7076 - recall: 0.8560 - auc: 0.7766 - val_loss: 0.5750 - val_accuracy: 0.7003 - val_tp: 1181.0000 - val_tn: 492.0000 - val_fp: 541.0000 - val_fn: 175.0000 - val_precision: 0.6858 - val_recall: 0.8709 - val_auc: 0.7833\n",
      "Epoch 20/50\n",
      "8/8 [==============================] - 0s 14ms/step - loss: 0.5658 - accuracy: 0.7105 - tp: 2395.4444 - tn: 949.3333 - fp: 969.5556 - fn: 388.7778 - precision: 0.7108 - recall: 0.8599 - auc: 0.7867 - val_loss: 0.5692 - val_accuracy: 0.7103 - val_tp: 1166.0000 - val_tn: 531.0000 - val_fp: 502.0000 - val_fn: 190.0000 - val_precision: 0.6990 - val_recall: 0.8599 - val_auc: 0.7896\n",
      "Epoch 21/50\n",
      "8/8 [==============================] - 0s 14ms/step - loss: 0.5609 - accuracy: 0.7241 - tp: 2316.8889 - tn: 1080.7778 - fp: 858.7778 - fn: 446.6667 - precision: 0.7298 - recall: 0.8416 - auc: 0.7941 - val_loss: 0.5644 - val_accuracy: 0.7162 - val_tp: 1154.0000 - val_tn: 557.0000 - val_fp: 476.0000 - val_fn: 202.0000 - val_precision: 0.7080 - val_recall: 0.8510 - val_auc: 0.7948\n"
     ]
    },
    {
     "name": "stdout",
     "output_type": "stream",
     "text": [
      "Epoch 22/50\n",
      "8/8 [==============================] - 0s 15ms/step - loss: 0.5581 - accuracy: 0.7205 - tp: 2373.0000 - tn: 1016.1111 - fp: 918.8889 - fn: 395.1111 - precision: 0.7218 - recall: 0.8544 - auc: 0.7965 - val_loss: 0.5619 - val_accuracy: 0.7091 - val_tp: 1199.0000 - val_tn: 495.0000 - val_fp: 538.0000 - val_fn: 157.0000 - val_precision: 0.6903 - val_recall: 0.8842 - val_auc: 0.8013\n",
      "Epoch 23/50\n",
      "8/8 [==============================] - 0s 14ms/step - loss: 0.5512 - accuracy: 0.7229 - tp: 2462.5556 - tn: 934.3333 - fp: 982.7778 - fn: 323.4444 - precision: 0.7171 - recall: 0.8840 - auc: 0.8043 - val_loss: 0.5543 - val_accuracy: 0.7308 - val_tp: 1161.0000 - val_tn: 585.0000 - val_fp: 448.0000 - val_fn: 195.0000 - val_precision: 0.7216 - val_recall: 0.8562 - val_auc: 0.8074\n",
      "Epoch 24/50\n",
      "8/8 [==============================] - 0s 14ms/step - loss: 0.5456 - accuracy: 0.7323 - tp: 2312.2222 - tn: 1129.1111 - fp: 800.0000 - fn: 461.7778 - precision: 0.7433 - recall: 0.8346 - auc: 0.8133 - val_loss: 0.5495 - val_accuracy: 0.7350 - val_tp: 1171.0000 - val_tn: 585.0000 - val_fp: 448.0000 - val_fn: 185.0000 - val_precision: 0.7233 - val_recall: 0.8636 - val_auc: 0.8133\n",
      "Epoch 25/50\n",
      "8/8 [==============================] - 0s 14ms/step - loss: 0.5466 - accuracy: 0.7353 - tp: 2378.3333 - tn: 1085.0000 - fp: 848.3333 - fn: 391.4444 - precision: 0.7365 - recall: 0.8568 - auc: 0.8092 - val_loss: 0.5454 - val_accuracy: 0.7329 - val_tp: 1192.0000 - val_tn: 559.0000 - val_fp: 474.0000 - val_fn: 164.0000 - val_precision: 0.7155 - val_recall: 0.8791 - val_auc: 0.8184\n",
      "Epoch 26/50\n",
      "8/8 [==============================] - 0s 14ms/step - loss: 0.5368 - accuracy: 0.7409 - tp: 2412.5556 - tn: 1072.6667 - fp: 852.8889 - fn: 365.0000 - precision: 0.7387 - recall: 0.8688 - auc: 0.8194 - val_loss: 0.5391 - val_accuracy: 0.7430 - val_tp: 1176.0000 - val_tn: 599.0000 - val_fp: 434.0000 - val_fn: 180.0000 - val_precision: 0.7304 - val_recall: 0.8673 - val_auc: 0.8236\n",
      "Epoch 27/50\n",
      "8/8 [==============================] - 0s 14ms/step - loss: 0.5304 - accuracy: 0.7501 - tp: 2385.8889 - tn: 1128.5556 - fp: 799.8889 - fn: 388.7778 - precision: 0.7515 - recall: 0.8632 - auc: 0.8267 - val_loss: 0.5341 - val_accuracy: 0.7447 - val_tp: 1189.0000 - val_tn: 590.0000 - val_fp: 443.0000 - val_fn: 167.0000 - val_precision: 0.7286 - val_recall: 0.8768 - val_auc: 0.8284\n",
      "Epoch 28/50\n",
      "8/8 [==============================] - 0s 14ms/step - loss: 0.5322 - accuracy: 0.7391 - tp: 2426.7778 - tn: 1066.5556 - fp: 860.7778 - fn: 349.0000 - precision: 0.7366 - recall: 0.8690 - auc: 0.8220 - val_loss: 0.5289 - val_accuracy: 0.7501 - val_tp: 1190.0000 - val_tn: 602.0000 - val_fp: 431.0000 - val_fn: 166.0000 - val_precision: 0.7341 - val_recall: 0.8776 - val_auc: 0.8328\n",
      "Epoch 29/50\n",
      "8/8 [==============================] - 0s 14ms/step - loss: 0.5227 - accuracy: 0.7553 - tp: 2362.5556 - tn: 1189.5556 - fp: 734.0000 - fn: 417.0000 - precision: 0.7620 - recall: 0.8521 - auc: 0.8322 - val_loss: 0.5224 - val_accuracy: 0.7589 - val_tp: 1171.0000 - val_tn: 642.0000 - val_fp: 391.0000 - val_fn: 185.0000 - val_precision: 0.7497 - val_recall: 0.8636 - val_auc: 0.8376\n",
      "Epoch 30/50\n",
      "8/8 [==============================] - 0s 14ms/step - loss: 0.5143 - accuracy: 0.7669 - tp: 2376.2222 - tn: 1216.3333 - fp: 709.3333 - fn: 401.2222 - precision: 0.7755 - recall: 0.8529 - auc: 0.8419 - val_loss: 0.5176 - val_accuracy: 0.7572 - val_tp: 1190.0000 - val_tn: 619.0000 - val_fp: 414.0000 - val_fn: 166.0000 - val_precision: 0.7419 - val_recall: 0.8776 - val_auc: 0.8420\n",
      "Epoch 31/50\n",
      "8/8 [==============================] - 0s 14ms/step - loss: 0.5109 - accuracy: 0.7633 - tp: 2413.3333 - tn: 1173.2222 - fp: 748.6667 - fn: 367.8889 - precision: 0.7641 - recall: 0.8706 - auc: 0.8423 - val_loss: 0.5119 - val_accuracy: 0.7643 - val_tp: 1185.0000 - val_tn: 641.0000 - val_fp: 392.0000 - val_fn: 171.0000 - val_precision: 0.7514 - val_recall: 0.8739 - val_auc: 0.8460\n",
      "Epoch 32/50\n",
      "8/8 [==============================] - 0s 14ms/step - loss: 0.5085 - accuracy: 0.7654 - tp: 2412.8889 - tn: 1193.5556 - fp: 727.4444 - fn: 369.2222 - precision: 0.7686 - recall: 0.8649 - auc: 0.8411 - val_loss: 0.5058 - val_accuracy: 0.7673 - val_tp: 1189.0000 - val_tn: 644.0000 - val_fp: 389.0000 - val_fn: 167.0000 - val_precision: 0.7535 - val_recall: 0.8768 - val_auc: 0.8505\n",
      "Epoch 33/50\n",
      "8/8 [==============================] - 0s 14ms/step - loss: 0.5024 - accuracy: 0.7717 - tp: 2358.7778 - tn: 1273.2222 - fp: 663.4444 - fn: 407.6667 - precision: 0.7800 - recall: 0.8523 - auc: 0.8498 - val_loss: 0.4990 - val_accuracy: 0.7706 - val_tp: 1180.0000 - val_tn: 661.0000 - val_fp: 372.0000 - val_fn: 176.0000 - val_precision: 0.7603 - val_recall: 0.8702 - val_auc: 0.8557\n",
      "Epoch 34/50\n",
      "8/8 [==============================] - 0s 14ms/step - loss: 0.4920 - accuracy: 0.7787 - tp: 2412.2222 - tn: 1243.3333 - fp: 689.6667 - fn: 357.8889 - precision: 0.7798 - recall: 0.8689 - auc: 0.8593 - val_loss: 0.4957 - val_accuracy: 0.7723 - val_tp: 1209.0000 - val_tn: 636.0000 - val_fp: 397.0000 - val_fn: 147.0000 - val_precision: 0.7528 - val_recall: 0.8916 - val_auc: 0.8579\n",
      "Epoch 35/50\n",
      "8/8 [==============================] - 0s 14ms/step - loss: 0.4867 - accuracy: 0.7805 - tp: 2433.4444 - tn: 1234.3333 - fp: 698.7778 - fn: 336.5556 - precision: 0.7777 - recall: 0.8782 - auc: 0.8608 - val_loss: 0.4877 - val_accuracy: 0.7756 - val_tp: 1192.0000 - val_tn: 661.0000 - val_fp: 372.0000 - val_fn: 164.0000 - val_precision: 0.7621 - val_recall: 0.8791 - val_auc: 0.8632\n",
      "Epoch 36/50\n",
      "8/8 [==============================] - 0s 14ms/step - loss: 0.4797 - accuracy: 0.7853 - tp: 2383.7778 - tn: 1308.0000 - fp: 628.4444 - fn: 382.8889 - precision: 0.7904 - recall: 0.8635 - auc: 0.8659 - val_loss: 0.4792 - val_accuracy: 0.7828 - val_tp: 1218.0000 - val_tn: 652.0000 - val_fp: 381.0000 - val_fn: 138.0000 - val_precision: 0.7617 - val_recall: 0.8982 - val_auc: 0.8664\n",
      "Epoch 37/50\n",
      "8/8 [==============================] - 0s 14ms/step - loss: 0.4734 - accuracy: 0.7905 - tp: 2458.7778 - tn: 1256.2222 - fp: 669.1111 - fn: 319.0000 - precision: 0.7863 - recall: 0.8860 - auc: 0.8642 - val_loss: 0.4680 - val_accuracy: 0.7920 - val_tp: 1172.0000 - val_tn: 720.0000 - val_fp: 313.0000 - val_fn: 184.0000 - val_precision: 0.7892 - val_recall: 0.8643 - val_auc: 0.8703\n",
      "Epoch 38/50\n",
      "8/8 [==============================] - 0s 14ms/step - loss: 0.4648 - accuracy: 0.7907 - tp: 2439.7778 - tn: 1281.0000 - fp: 634.6667 - fn: 347.6667 - precision: 0.7948 - recall: 0.8732 - auc: 0.8674 - val_loss: 0.4604 - val_accuracy: 0.7953 - val_tp: 1153.0000 - val_tn: 747.0000 - val_fp: 286.0000 - val_fn: 203.0000 - val_precision: 0.8013 - val_recall: 0.8503 - val_auc: 0.8737\n",
      "Epoch 39/50\n",
      "8/8 [==============================] - 0s 14ms/step - loss: 0.4543 - accuracy: 0.8022 - tp: 2434.6667 - tn: 1326.5556 - fp: 600.1111 - fn: 341.7778 - precision: 0.8082 - recall: 0.8726 - auc: 0.8741 - val_loss: 0.4457 - val_accuracy: 0.8041 - val_tp: 1180.0000 - val_tn: 741.0000 - val_fp: 292.0000 - val_fn: 176.0000 - val_precision: 0.8016 - val_recall: 0.8702 - val_auc: 0.8850\n",
      "Epoch 40/50\n",
      "8/8 [==============================] - 0s 14ms/step - loss: 0.4462 - accuracy: 0.8049 - tp: 2369.8889 - tn: 1416.6667 - fp: 516.5556 - fn: 400.0000 - precision: 0.8216 - recall: 0.8531 - auc: 0.8821 - val_loss: 0.4403 - val_accuracy: 0.8049 - val_tp: 1234.0000 - val_tn: 689.0000 - val_fp: 344.0000 - val_fn: 122.0000 - val_precision: 0.7820 - val_recall: 0.9100 - val_auc: 0.8916\n",
      "Epoch 41/50\n",
      "8/8 [==============================] - 0s 14ms/step - loss: 0.4308 - accuracy: 0.8145 - tp: 2471.5556 - tn: 1356.3333 - fp: 568.8889 - fn: 306.3333 - precision: 0.8107 - recall: 0.8949 - auc: 0.8928 - val_loss: 0.4274 - val_accuracy: 0.8183 - val_tp: 1193.0000 - val_tn: 762.0000 - val_fp: 271.0000 - val_fn: 163.0000 - val_precision: 0.8149 - val_recall: 0.8798 - val_auc: 0.8946\n",
      "Epoch 42/50\n",
      "8/8 [==============================] - 0s 14ms/step - loss: 0.4239 - accuracy: 0.8146 - tp: 2478.0000 - tn: 1350.8889 - fp: 574.4444 - fn: 299.7778 - precision: 0.8146 - recall: 0.8897 - auc: 0.8928 - val_loss: 0.4201 - val_accuracy: 0.8179 - val_tp: 1237.0000 - val_tn: 717.0000 - val_fp: 316.0000 - val_fn: 119.0000 - val_precision: 0.7965 - val_recall: 0.9122 - val_auc: 0.8997\n"
     ]
    },
    {
     "name": "stdout",
     "output_type": "stream",
     "text": [
      "Epoch 43/50\n",
      "8/8 [==============================] - 0s 15ms/step - loss: 0.4121 - accuracy: 0.8184 - tp: 2508.0000 - tn: 1343.1111 - fp: 594.5556 - fn: 257.4444 - precision: 0.8060 - recall: 0.9091 - auc: 0.9033 - val_loss: 0.4079 - val_accuracy: 0.8321 - val_tp: 1196.0000 - val_tn: 792.0000 - val_fp: 241.0000 - val_fn: 160.0000 - val_precision: 0.8323 - val_recall: 0.8820 - val_auc: 0.9075\n",
      "Epoch 44/50\n",
      "8/8 [==============================] - 0s 14ms/step - loss: 0.4085 - accuracy: 0.8280 - tp: 2482.1111 - tn: 1413.7778 - fp: 514.5556 - fn: 292.6667 - precision: 0.8308 - recall: 0.8903 - auc: 0.9044 - val_loss: 0.3992 - val_accuracy: 0.8372 - val_tp: 1185.0000 - val_tn: 815.0000 - val_fp: 218.0000 - val_fn: 171.0000 - val_precision: 0.8446 - val_recall: 0.8739 - val_auc: 0.9109\n",
      "Epoch 45/50\n",
      "8/8 [==============================] - 0s 14ms/step - loss: 0.3975 - accuracy: 0.8323 - tp: 2433.2222 - tn: 1483.3333 - fp: 445.8889 - fn: 340.6667 - precision: 0.8467 - recall: 0.8740 - auc: 0.9092 - val_loss: 0.3966 - val_accuracy: 0.8271 - val_tp: 1270.0000 - val_tn: 706.0000 - val_fp: 327.0000 - val_fn: 86.0000 - val_precision: 0.7952 - val_recall: 0.9366 - val_auc: 0.9153\n",
      "Epoch 46/50\n",
      "8/8 [==============================] - 0s 14ms/step - loss: 0.3896 - accuracy: 0.8332 - tp: 2492.1111 - tn: 1433.8889 - fp: 504.4444 - fn: 272.6667 - precision: 0.8254 - recall: 0.9081 - auc: 0.9148 - val_loss: 0.3815 - val_accuracy: 0.8472 - val_tp: 1245.0000 - val_tn: 779.0000 - val_fp: 254.0000 - val_fn: 111.0000 - val_precision: 0.8306 - val_recall: 0.9181 - val_auc: 0.9210\n",
      "Epoch 47/50\n",
      "8/8 [==============================] - 0s 13ms/step - loss: 0.3765 - accuracy: 0.8410 - tp: 2506.3333 - tn: 1456.8889 - fp: 475.4444 - fn: 264.4444 - precision: 0.8383 - recall: 0.9037 - auc: 0.9202 - val_loss: 0.3716 - val_accuracy: 0.8514 - val_tp: 1240.0000 - val_tn: 794.0000 - val_fp: 239.0000 - val_fn: 116.0000 - val_precision: 0.8384 - val_recall: 0.9145 - val_auc: 0.9223\n",
      "Epoch 48/50\n",
      "8/8 [==============================] - 0s 14ms/step - loss: 0.3722 - accuracy: 0.8477 - tp: 2519.6667 - tn: 1468.5556 - fp: 454.7778 - fn: 260.1111 - precision: 0.8487 - recall: 0.9044 - auc: 0.9196 - val_loss: 0.3625 - val_accuracy: 0.8548 - val_tp: 1268.0000 - val_tn: 774.0000 - val_fp: 259.0000 - val_fn: 88.0000 - val_precision: 0.8304 - val_recall: 0.9351 - val_auc: 0.9297\n",
      "Epoch 49/50\n",
      "8/8 [==============================] - 0s 14ms/step - loss: 0.3602 - accuracy: 0.8549 - tp: 2541.1111 - tn: 1481.4444 - fp: 445.6667 - fn: 234.8889 - precision: 0.8484 - recall: 0.9192 - auc: 0.9273 - val_loss: 0.3501 - val_accuracy: 0.8635 - val_tp: 1253.0000 - val_tn: 810.0000 - val_fp: 223.0000 - val_fn: 103.0000 - val_precision: 0.8489 - val_recall: 0.9240 - val_auc: 0.9327\n",
      "Epoch 50/50\n",
      "8/8 [==============================] - 0s 14ms/step - loss: 0.3484 - accuracy: 0.8582 - tp: 2547.0000 - tn: 1488.6667 - fp: 442.4444 - fn: 225.0000 - precision: 0.8523 - recall: 0.9190 - auc: 0.9320 - val_loss: 0.3408 - val_accuracy: 0.8673 - val_tp: 1242.0000 - val_tn: 830.0000 - val_fp: 203.0000 - val_fn: 114.0000 - val_precision: 0.8595 - val_recall: 0.9159 - val_auc: 0.9343\n"
     ]
    }
   ],
   "source": [
    "# Training the model\n",
    "batch_size = 1000\n",
    "epochs = 50\n",
    "training_history = model.fit(\n",
    "    X_train,\n",
    "    y_train,\n",
    "    validation_data=(X_val, y_val),\n",
    "    epochs=epochs,\n",
    "    batch_size=batch_size,\n",
    "    verbose=1,\n",
    ")"
   ]
  },
  {
   "cell_type": "code",
   "execution_count": null,
   "id": "working-editing",
   "metadata": {},
   "outputs": [],
   "source": []
  },
  {
   "cell_type": "code",
   "execution_count": 26,
   "id": "assumed-compact",
   "metadata": {},
   "outputs": [
    {
     "data": {
      "text/plain": [
       "<AxesSubplot:title={'center':'Loss'}, xlabel='Epoch'>"
      ]
     },
     "execution_count": 26,
     "metadata": {},
     "output_type": "execute_result"
    },
    {
     "data": {
      "image/png": "[encoded data removed]",
      "text/plain": [
       "<Figure size 432x288 with 1 Axes>"
      ]
     },
     "metadata": {
      "needs_background": "light"
     },
     "output_type": "display_data"
    }
   ],
   "source": [
    "# Plotting loss\n",
    "loss_df = pd.DataFrame(\n",
    "    {\n",
    "        \"Epoch\": range(1, epochs + 1),\n",
    "        \"Train\": training_history.history[\"loss\"],\n",
    "        \"Val\": training_history.history[\"val_loss\"],\n",
    "    }\n",
    ")\n",
    "loss_df.set_index(\"Epoch\", inplace=True)\n",
    "loss_df.plot(title=\"Loss\")"
   ]
  },
  {
   "cell_type": "code",
   "execution_count": 27,
   "id": "sensitive-instrumentation",
   "metadata": {},
   "outputs": [
    {
     "data": {
      "text/plain": [
       "<AxesSubplot:title={'center':'Accuracy'}, xlabel='Epoch'>"
      ]
     },
     "execution_count": 27,
     "metadata": {},
     "output_type": "execute_result"
    },
    {
     "data": {
      "image/png": "[encoded data removed]",
      "text/plain": [
       "<Figure size 432x288 with 1 Axes>"
      ]
     },
     "metadata": {
      "needs_background": "light"
     },
     "output_type": "display_data"
    }
   ],
   "source": [
    "# Plotting accuracy\n",
    "accuracy_df = pd.DataFrame(\n",
    "    {\n",
    "        \"Epoch\": range(1, epochs + 1),\n",
    "        \"Train\": training_history.history[\"accuracy\"],\n",
    "        \"Val\": training_history.history[\"val_accuracy\"],\n",
    "    }\n",
    ")\n",
    "accuracy_df.set_index(\"Epoch\", inplace=True)\n",
    "accuracy_df.plot(title=\"Accuracy\")"
   ]
  },
  {
   "cell_type": "code",
   "execution_count": 28,
   "id": "allied-operator",
   "metadata": {},
   "outputs": [
    {
     "data": {
      "text/plain": [
       "<AxesSubplot:title={'center':'AUC'}, xlabel='Epoch'>"
      ]
     },
     "execution_count": 28,
     "metadata": {},
     "output_type": "execute_result"
    },
    {
     "data": {
      "image/png": "[encoded data removed]",
      "text/plain": [
       "<Figure size 432x288 with 1 Axes>"
      ]
     },
     "metadata": {
      "needs_background": "light"
     },
     "output_type": "display_data"
    }
   ],
   "source": [
    "# Plotting AUC\n",
    "auc_df = pd.DataFrame(\n",
    "    {\n",
    "        \"Epoch\": range(1, epochs + 1),\n",
    "        \"Train\": training_history.history[\"auc\"],\n",
    "        \"Val\": training_history.history[\"val_auc\"],\n",
    "    }\n",
    ")\n",
    "auc_df.set_index(\"Epoch\", inplace=True)\n",
    "auc_df.plot(title=\"AUC\")"
   ]
  },
  {
   "cell_type": "code",
   "execution_count": 29,
   "id": "geological-constitution",
   "metadata": {},
   "outputs": [],
   "source": [
    "# Import the roc_curve and auc metrics from sklearn\n",
    "from sklearn.metrics import roc_curve, auc"
   ]
  },
  {
   "cell_type": "code",
   "execution_count": 30,
   "id": "common-newton",
   "metadata": {},
   "outputs": [],
   "source": [
    "# Making predictions to feed the roc_curve module\n",
    "train_predictions = model.predict(X_train, batch_size=1000)\n",
    "test_predictions = model.predict(X_test, batch_size=1000)"
   ]
  },
  {
   "cell_type": "code",
   "execution_count": 31,
   "id": "acoustic-relationship",
   "metadata": {},
   "outputs": [],
   "source": [
    "# Calculate the ROC curve and AUC for the training set\n",
    "fpr_train, tpr_train, thresholds_train = roc_curve(y_train, train_predictions)\n",
    "auc_train = auc(fpr_train, tpr_train)\n",
    "auc_train = round(auc_train, 4)\n",
    "\n",
    "# Calculate the ROC curve and AUC for the testing set\n",
    "fpr_test, tpr_test, thresholds_test = roc_curve(y_test, test_predictions)\n",
    "auc_test = auc(fpr_test, tpr_test)\n",
    "auc_test = round(auc_test, 4)"
   ]
  },
  {
   "cell_type": "code",
   "execution_count": 32,
   "id": "personalized-chassis",
   "metadata": {},
   "outputs": [],
   "source": [
    "# Create a DataFrame with the fpr and tpr results\n",
    "roc_df_train = pd.DataFrame({\"FPR Train\": fpr_train, \"TPR Train\": tpr_train,})\n",
    "\n",
    "roc_df_test = pd.DataFrame({\"FPR Test\": fpr_test, \"TPR Test\": tpr_test,})"
   ]
  },
  {
   "cell_type": "code",
   "execution_count": 33,
   "id": "romantic-cartoon",
   "metadata": {},
   "outputs": [
    {
     "data": {
      "text/plain": [
       "<AxesSubplot:title={'center':'Test ROC Curve (AUC=0.9411)'}, xlabel='FPR Test'>"
      ]
     },
     "execution_count": 33,
     "metadata": {},
     "output_type": "execute_result"
    },
    {
     "data": {
      "image/png": "[encoded data removed]",
      "text/plain": [
       "<Figure size 432x288 with 1 Axes>"
      ]
     },
     "metadata": {
      "needs_background": "light"
     },
     "output_type": "display_data"
    },
    {
     "data": {
      "image/png": "[encoded data removed]",
      "text/plain": [
       "<Figure size 432x288 with 1 Axes>"
      ]
     },
     "metadata": {
      "needs_background": "light"
     },
     "output_type": "display_data"
    }
   ],
   "source": [
    "# Plotting the ROC Curves\n",
    "roc_df_train.plot(\n",
    "    x=\"FPR Train\",\n",
    "    y=\"TPR Train\",\n",
    "    xlim=([-0.05, 1.05]),\n",
    "    title=f\"Train ROC Curve (AUC={auc_train})\",\n",
    ")\n",
    "\n",
    "roc_df_test.plot(\n",
    "    x=\"FPR Test\",\n",
    "    y=\"TPR Test\",\n",
    "    color=\"red\",\n",
    "    style=\"--\",\n",
    "    xlim=([-0.05, 1.05]),\n",
    "    title=f\"Test ROC Curve (AUC={auc_test})\",\n",
    ")"
   ]
  },
  {
   "cell_type": "code",
   "execution_count": 34,
   "id": "instructional-immunology",
   "metadata": {},
   "outputs": [
    {
     "data": {
      "text/plain": [
       "{'loss': 0.32636165618896484,\n",
       " 'accuracy': 0.8640502095222473,\n",
       " 'tp': 1670.0,\n",
       " 'tn': 1082.0,\n",
       " 'fp': 264.0,\n",
       " 'fn': 169.0,\n",
       " 'precision': 0.8634953498840332,\n",
       " 'recall': 0.9081022143363953,\n",
       " 'auc': 0.9410944581031799}"
      ]
     },
     "metadata": {},
     "output_type": "display_data"
    }
   ],
   "source": [
    "# Evaluate the model\n",
    "scores = model.evaluate(X_test, y_test, verbose=0)\n",
    "\n",
    "# Define metrics dictionary\n",
    "metrics = {k: v for k, v in zip(model.metrics_names, scores)}\n",
    "\n",
    "# Display evaluation metrics results\n",
    "display(metrics)"
   ]
  },
  {
   "cell_type": "code",
   "execution_count": 35,
   "id": "public-delicious",
   "metadata": {},
   "outputs": [
    {
     "data": {
      "text/html": [
       "<div>\n",
       "<style scoped>\n",
       "    .dataframe tbody tr th:only-of-type {\n",
       "        vertical-align: middle;\n",
       "    }\n",
       "\n",
       "    .dataframe tbody tr th {\n",
       "        vertical-align: top;\n",
       "    }\n",
       "\n",
       "    .dataframe thead th {\n",
       "        text-align: right;\n",
       "    }\n",
       "</style>\n",
       "<table border=\"1\" class=\"dataframe\">\n",
       "  <thead>\n",
       "    <tr style=\"text-align: right;\">\n",
       "      <th>Predicted</th>\n",
       "      <th>Positive (1)</th>\n",
       "      <th>Negative (0)</th>\n",
       "    </tr>\n",
       "    <tr>\n",
       "      <th>Actual</th>\n",
       "      <th></th>\n",
       "      <th></th>\n",
       "    </tr>\n",
       "  </thead>\n",
       "  <tbody>\n",
       "    <tr>\n",
       "      <th>Positive(1)</th>\n",
       "      <td>TP=1670.0</td>\n",
       "      <td>FN=264.0</td>\n",
       "    </tr>\n",
       "    <tr>\n",
       "      <th>Negative(0)</th>\n",
       "      <td>FP=169.0</td>\n",
       "      <td>TN=1082.0</td>\n",
       "    </tr>\n",
       "  </tbody>\n",
       "</table>\n",
       "</div>"
      ],
      "text/plain": [
       "Predicted   Positive (1) Negative (0)\n",
       "Actual                               \n",
       "Positive(1)    TP=1670.0     FN=264.0\n",
       "Negative(0)     FP=169.0    TN=1082.0"
      ]
     },
     "execution_count": 35,
     "metadata": {},
     "output_type": "execute_result"
    }
   ],
   "source": [
    "# Define the confusion matrix data\n",
    "cm_df = pd.DataFrame(\n",
    "    {\n",
    "        \"Positive (1)\": [f\"TP={metrics['tp']}\", f\"FP={metrics['fn']}\"],\n",
    "        \"Negative (0)\": [f\"FN={metrics['fp']}\", f\"TN={metrics['tn']}\"],\n",
    "    },\n",
    "    index=[\"Positive(1)\", \"Negative(0)\"],\n",
    ")\n",
    "cm_df.index.name = \"Actual\"\n",
    "cm_df.columns.name = \"Predicted\"\n",
    "\n",
    "# Show the confusion matrix\n",
    "cm_df"
   ]
  },
  {
   "cell_type": "code",
   "execution_count": 36,
   "id": "loose-distance",
   "metadata": {},
   "outputs": [
    {
     "name": "stdout",
     "output_type": "stream",
     "text": [
      "              precision    recall  f1-score   support\n",
      "\n",
      "           0       0.80      0.86      0.83      1251\n",
      "           1       0.91      0.86      0.89      1934\n",
      "\n",
      "    accuracy                           0.86      3185\n",
      "   macro avg       0.86      0.86      0.86      3185\n",
      "weighted avg       0.87      0.86      0.86      3185\n",
      "\n"
     ]
    }
   ],
   "source": [
    "# Import the classification_report method from sklearn\n",
    "from sklearn.metrics import classification_report\n",
    "\n",
    "# Predict classes using testing data\n",
    "y_predict_classes = model.predict_classes(X_test, batch_size=1000)\n",
    "\n",
    "# Display classification report\n",
    "print(classification_report(y_predict_classes, y_test))"
   ]
  },
  {
   "cell_type": "code",
   "execution_count": 37,
   "id": "flying-emission",
   "metadata": {},
   "outputs": [
    {
     "data": {
      "text/plain": [
       "array([[0.9626602 ],\n",
       "       [0.7998445 ],\n",
       "       [0.06668097],\n",
       "       ...,\n",
       "       [0.9169615 ],\n",
       "       [0.70420736],\n",
       "       [0.07189488]], dtype=float32)"
      ]
     },
     "execution_count": 37,
     "metadata": {},
     "output_type": "execute_result"
    }
   ],
   "source": [
    "model.predict(X_test)"
   ]
  },
  {
   "cell_type": "code",
   "execution_count": null,
   "id": "capital-craft",
   "metadata": {},
   "outputs": [],
   "source": []
  },
  {
   "cell_type": "code",
   "execution_count": null,
   "id": "previous-canadian",
   "metadata": {},
   "outputs": [],
   "source": []
  }
 ],
 "metadata": {
  "kernelspec": {
   "display_name": "Python 3",
   "language": "python",
   "name": "python3"
  },
  "language_info": {
   "codemirror_mode": {
    "name": "ipython",
    "version": 3
   },
   "file_extension": ".py",
   "mimetype": "text/x-python",
   "name": "python",
   "nbconvert_exporter": "python",
   "pygments_lexer": "ipython3",
   "version": "3.8.5"
  }
 },
 "nbformat": 4,
 "nbformat_minor": 5
}
