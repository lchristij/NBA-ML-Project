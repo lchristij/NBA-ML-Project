{
 "cells": [
  {
   "cell_type": "code",
   "execution_count": 1,
   "id": "derived-upset",
   "metadata": {},
   "outputs": [],
   "source": [
    "# Initial imports\n",
    "import pandas as pd\n",
    "import numpy as np\n",
    "from pathlib import Path\n",
    "\n",
    "import warnings\n",
    "warnings.filterwarnings('ignore')\n",
    "\n",
    "from sklearn.model_selection import train_test_split\n",
    "\n",
    "import matplotlib.pyplot as plt\n",
    "\n",
    "from tensorflow.keras.models import Sequential\n",
    "from tensorflow.keras.layers import Dense\n",
    "import tensorflow as tf\n",
    "\n",
    "%matplotlib inline"
   ]
  },
  {
   "cell_type": "code",
   "execution_count": 2,
   "id": "isolated-intersection",
   "metadata": {},
   "outputs": [],
   "source": [
    "csv_path = Path('../Project-03/new_teamstats_df.csv')\n",
    "teamstats_df = pd.read_csv(csv_path)"
   ]
  },
  {
   "cell_type": "code",
   "execution_count": 3,
   "id": "dress-poetry",
   "metadata": {},
   "outputs": [],
   "source": [
    "teamstats_df = teamstats_df.drop(columns=['Unnamed: 0'])"
   ]
  },
  {
   "cell_type": "code",
   "execution_count": 4,
   "id": "radio-latin",
   "metadata": {},
   "outputs": [],
   "source": [
    "# dropping columns for model tuning\n",
    "\n",
    "teamstats_df = teamstats_df.drop(columns=['A_H/A',\n",
    "                                          'H_+/-',\n",
    "                                          'A_+/-',\n",
    "                                          'H_PTS',\n",
    "                                          'A_PTS',\n",
    "                                          'A_W/L',\n",
    "                                         'H_FGM',\n",
    "                                         'A_FGM',\n",
    "                                         'H_REB',\n",
    "                                         'A_REB',\n",
    "                                         'H_FTM',\n",
    "                                         'A_FTM',\n",
    "                                         'H_FTA',\n",
    "                                         'A_FTA'])"
   ]
  },
  {
   "cell_type": "code",
   "execution_count": 5,
   "id": "adjacent-sleep",
   "metadata": {},
   "outputs": [
    {
     "data": {
      "text/plain": [
       "(12738, 188)"
      ]
     },
     "execution_count": 5,
     "metadata": {},
     "output_type": "execute_result"
    }
   ],
   "source": [
    "teamstats_df.shape"
   ]
  },
  {
   "cell_type": "code",
   "execution_count": 6,
   "id": "physical-saint",
   "metadata": {},
   "outputs": [
    {
     "data": {
      "text/html": [
       "<div>\n",
       "<style scoped>\n",
       "    .dataframe tbody tr th:only-of-type {\n",
       "        vertical-align: middle;\n",
       "    }\n",
       "\n",
       "    .dataframe tbody tr th {\n",
       "        vertical-align: top;\n",
       "    }\n",
       "\n",
       "    .dataframe thead th {\n",
       "        text-align: right;\n",
       "    }\n",
       "</style>\n",
       "<table border=\"1\" class=\"dataframe\">\n",
       "  <thead>\n",
       "    <tr style=\"text-align: right;\">\n",
       "      <th></th>\n",
       "      <th>H_H/A</th>\n",
       "      <th>H_W/L</th>\n",
       "      <th>H_MIN</th>\n",
       "      <th>H_FGA</th>\n",
       "      <th>H_FG%</th>\n",
       "      <th>H_3PM</th>\n",
       "      <th>H_3PA</th>\n",
       "      <th>H_3P%</th>\n",
       "      <th>H_FT%</th>\n",
       "      <th>H_OREB</th>\n",
       "      <th>...</th>\n",
       "      <th>A_TEAM2_OKC</th>\n",
       "      <th>A_TEAM2_ORL</th>\n",
       "      <th>A_TEAM2_PHI</th>\n",
       "      <th>A_TEAM2_PHX</th>\n",
       "      <th>A_TEAM2_POR</th>\n",
       "      <th>A_TEAM2_SAC</th>\n",
       "      <th>A_TEAM2_SAS</th>\n",
       "      <th>A_TEAM2_TOR</th>\n",
       "      <th>A_TEAM2_UTA</th>\n",
       "      <th>A_TEAM2_WAS</th>\n",
       "    </tr>\n",
       "  </thead>\n",
       "  <tbody>\n",
       "    <tr>\n",
       "      <th>0</th>\n",
       "      <td>1</td>\n",
       "      <td>1</td>\n",
       "      <td>53</td>\n",
       "      <td>92</td>\n",
       "      <td>45.7</td>\n",
       "      <td>14</td>\n",
       "      <td>28</td>\n",
       "      <td>50.0</td>\n",
       "      <td>59.3</td>\n",
       "      <td>11</td>\n",
       "      <td>...</td>\n",
       "      <td>0</td>\n",
       "      <td>0</td>\n",
       "      <td>0</td>\n",
       "      <td>0</td>\n",
       "      <td>0</td>\n",
       "      <td>0</td>\n",
       "      <td>0</td>\n",
       "      <td>0</td>\n",
       "      <td>0</td>\n",
       "      <td>0</td>\n",
       "    </tr>\n",
       "    <tr>\n",
       "      <th>1</th>\n",
       "      <td>1</td>\n",
       "      <td>0</td>\n",
       "      <td>48</td>\n",
       "      <td>80</td>\n",
       "      <td>46.3</td>\n",
       "      <td>10</td>\n",
       "      <td>31</td>\n",
       "      <td>32.3</td>\n",
       "      <td>84.2</td>\n",
       "      <td>7</td>\n",
       "      <td>...</td>\n",
       "      <td>0</td>\n",
       "      <td>0</td>\n",
       "      <td>0</td>\n",
       "      <td>0</td>\n",
       "      <td>0</td>\n",
       "      <td>0</td>\n",
       "      <td>0</td>\n",
       "      <td>0</td>\n",
       "      <td>0</td>\n",
       "      <td>0</td>\n",
       "    </tr>\n",
       "    <tr>\n",
       "      <th>2</th>\n",
       "      <td>1</td>\n",
       "      <td>1</td>\n",
       "      <td>48</td>\n",
       "      <td>82</td>\n",
       "      <td>51.2</td>\n",
       "      <td>10</td>\n",
       "      <td>32</td>\n",
       "      <td>31.3</td>\n",
       "      <td>91.7</td>\n",
       "      <td>4</td>\n",
       "      <td>...</td>\n",
       "      <td>0</td>\n",
       "      <td>0</td>\n",
       "      <td>0</td>\n",
       "      <td>0</td>\n",
       "      <td>0</td>\n",
       "      <td>0</td>\n",
       "      <td>0</td>\n",
       "      <td>0</td>\n",
       "      <td>0</td>\n",
       "      <td>0</td>\n",
       "    </tr>\n",
       "    <tr>\n",
       "      <th>3</th>\n",
       "      <td>1</td>\n",
       "      <td>0</td>\n",
       "      <td>63</td>\n",
       "      <td>94</td>\n",
       "      <td>38.3</td>\n",
       "      <td>6</td>\n",
       "      <td>22</td>\n",
       "      <td>27.3</td>\n",
       "      <td>67.4</td>\n",
       "      <td>15</td>\n",
       "      <td>...</td>\n",
       "      <td>0</td>\n",
       "      <td>0</td>\n",
       "      <td>0</td>\n",
       "      <td>0</td>\n",
       "      <td>0</td>\n",
       "      <td>0</td>\n",
       "      <td>0</td>\n",
       "      <td>0</td>\n",
       "      <td>0</td>\n",
       "      <td>0</td>\n",
       "    </tr>\n",
       "    <tr>\n",
       "      <th>4</th>\n",
       "      <td>1</td>\n",
       "      <td>0</td>\n",
       "      <td>48</td>\n",
       "      <td>68</td>\n",
       "      <td>41.2</td>\n",
       "      <td>10</td>\n",
       "      <td>29</td>\n",
       "      <td>34.5</td>\n",
       "      <td>78.9</td>\n",
       "      <td>8</td>\n",
       "      <td>...</td>\n",
       "      <td>0</td>\n",
       "      <td>0</td>\n",
       "      <td>0</td>\n",
       "      <td>0</td>\n",
       "      <td>0</td>\n",
       "      <td>0</td>\n",
       "      <td>0</td>\n",
       "      <td>0</td>\n",
       "      <td>0</td>\n",
       "      <td>0</td>\n",
       "    </tr>\n",
       "  </tbody>\n",
       "</table>\n",
       "<p>5 rows × 188 columns</p>\n",
       "</div>"
      ],
      "text/plain": [
       "   H_H/A  H_W/L  H_MIN  H_FGA  H_FG%  H_3PM  H_3PA  H_3P%  H_FT%  H_OREB  ...  \\\n",
       "0      1      1     53     92   45.7     14     28   50.0   59.3      11  ...   \n",
       "1      1      0     48     80   46.3     10     31   32.3   84.2       7  ...   \n",
       "2      1      1     48     82   51.2     10     32   31.3   91.7       4  ...   \n",
       "3      1      0     63     94   38.3      6     22   27.3   67.4      15  ...   \n",
       "4      1      0     48     68   41.2     10     29   34.5   78.9       8  ...   \n",
       "\n",
       "   A_TEAM2_OKC  A_TEAM2_ORL  A_TEAM2_PHI  A_TEAM2_PHX  A_TEAM2_POR  \\\n",
       "0            0            0            0            0            0   \n",
       "1            0            0            0            0            0   \n",
       "2            0            0            0            0            0   \n",
       "3            0            0            0            0            0   \n",
       "4            0            0            0            0            0   \n",
       "\n",
       "   A_TEAM2_SAC  A_TEAM2_SAS  A_TEAM2_TOR  A_TEAM2_UTA  A_TEAM2_WAS  \n",
       "0            0            0            0            0            0  \n",
       "1            0            0            0            0            0  \n",
       "2            0            0            0            0            0  \n",
       "3            0            0            0            0            0  \n",
       "4            0            0            0            0            0  \n",
       "\n",
       "[5 rows x 188 columns]"
      ]
     },
     "execution_count": 6,
     "metadata": {},
     "output_type": "execute_result"
    }
   ],
   "source": [
    "teamstats_df.head()"
   ]
  },
  {
   "cell_type": "code",
   "execution_count": 7,
   "id": "other-fusion",
   "metadata": {
    "scrolled": true
   },
   "outputs": [
    {
     "name": "stdout",
     "output_type": "stream",
     "text": [
      "       H_H/A  H_W/L  H_MIN  H_FGA  H_FG%  H_3PM  H_3PA  H_3P%  H_FT%  H_OREB  \\\n",
      "0          1      1     53     92   45.7     14     28   50.0   59.3      11   \n",
      "1          1      0     48     80   46.3     10     31   32.3   84.2       7   \n",
      "2          1      1     48     82   51.2     10     32   31.3   91.7       4   \n",
      "3          1      0     63     94   38.3      6     22   27.3   67.4      15   \n",
      "4          1      0     48     68   41.2     10     29   34.5   78.9       8   \n",
      "...      ...    ...    ...    ...    ...    ...    ...    ...    ...     ...   \n",
      "12733      1      0     48    100   41.0     10     37   27.0   80.0      15   \n",
      "12734      1      1     48     88   45.5      9     23   39.1   71.4      11   \n",
      "12735      1      1     53     96   46.9      4     27   14.8   71.9       3   \n",
      "12736      1      1     48     94   53.2      9     16   56.3   63.2      10   \n",
      "12737      1      0     48     86   40.7      5     25   20.0   80.0       9   \n",
      "\n",
      "       ...  A_3PA  A_3P%  A_FT%  A_OREB  A_DREB  A_AST  A_TOV  A_STL  A_BLK  \\\n",
      "0      ...     27   33.3   86.4       9      38     27     12      5      6   \n",
      "1      ...     27   22.2   68.0      13      34     30     21     15      7   \n",
      "2      ...     27   37.0   82.9      13      26     24     11      8      4   \n",
      "3      ...     28   28.6   78.3      14      42     25     22      6      6   \n",
      "4      ...     16   18.8   66.7      16      28     27     13     11      4   \n",
      "...    ...    ...    ...    ...     ...     ...    ...    ...    ...    ...   \n",
      "12733  ...     34   41.2   84.2       9      41     24     14      6      6   \n",
      "12734  ...     35   45.7   92.6      10      35     24     19      4      4   \n",
      "12735  ...     28   25.0   84.8      11      45     26     16     11      7   \n",
      "12736  ...     27   33.3   73.9       9      36     19     18      7      6   \n",
      "12737  ...     30   33.3   79.2      14      36     17      8      7      4   \n",
      "\n",
      "       A_PF  \n",
      "0        21  \n",
      "1        17  \n",
      "2        24  \n",
      "3        35  \n",
      "4        15  \n",
      "...     ...  \n",
      "12733    17  \n",
      "12734    31  \n",
      "12735    22  \n",
      "12736    20  \n",
      "12737    22  \n",
      "\n",
      "[12738 rows x 30 columns]\n"
     ]
    }
   ],
   "source": [
    "print(teamstats_df.iloc[:,0:30])"
   ]
  },
  {
   "cell_type": "code",
   "execution_count": 8,
   "id": "wound-registrar",
   "metadata": {},
   "outputs": [],
   "source": [
    "# Creating the X and y sets\n",
    "X = teamstats_df.iloc[:,0:30].values\n",
    "y = teamstats_df[\"H_W/L\"].values"
   ]
  },
  {
   "cell_type": "code",
   "execution_count": 9,
   "id": "durable-bible",
   "metadata": {},
   "outputs": [
    {
     "data": {
      "text/plain": [
       "(12738, 30)"
      ]
     },
     "execution_count": 9,
     "metadata": {},
     "output_type": "execute_result"
    }
   ],
   "source": [
    "X.shape"
   ]
  },
  {
   "cell_type": "code",
   "execution_count": 10,
   "id": "molecular-prefix",
   "metadata": {},
   "outputs": [],
   "source": [
    "# Creating training, validation, and testing sets\n",
    "from sklearn.model_selection import train_test_split\n",
    "\n",
    "X_train, X_test, y_train, y_test = train_test_split(X, y, random_state=78)\n",
    "\n",
    "X_train, X_val, y_train, y_val = train_test_split(X_train, y_train, random_state=78)"
   ]
  },
  {
   "cell_type": "code",
   "execution_count": 44,
   "id": "differential-cotton",
   "metadata": {},
   "outputs": [
    {
     "name": "stdout",
     "output_type": "stream",
     "text": [
      "[[ 1.  1. 48. ...  8.  2. 15.]\n",
      " [ 1.  1. 48. ...  5.  3. 25.]\n",
      " [ 1.  0. 48. ... 10.  4. 19.]\n",
      " ...\n",
      " [ 1.  1. 48. ... 12.  8. 19.]\n",
      " [ 1.  0. 48. ... 13.  2. 15.]\n",
      " [ 1.  1. 48. ...  6.  4. 23.]]\n"
     ]
    }
   ],
   "source": [
    "print(X_test)"
   ]
  },
  {
   "cell_type": "code",
   "execution_count": 45,
   "id": "split-convergence",
   "metadata": {},
   "outputs": [],
   "source": [
    "# Model set-up\n",
    "number_input_features = 30\n",
    "hidden_nodes_layer1 = 25\n",
    "hidden_nodes_layer2 = 8\n",
    "#hidden_nodes_layer3 = 4\n",
    "#hidden_nodes_layer4 = 5\n",
    "#hidden_nodes_layer5 = 5"
   ]
  },
  {
   "cell_type": "code",
   "execution_count": 46,
   "id": "acting-creek",
   "metadata": {},
   "outputs": [],
   "source": [
    "# Define the LSTM RNN model\n",
    "model = Sequential()\n",
    "\n",
    "# Layer 1\n",
    "model.add(\n",
    "    Dense(units=hidden_nodes_layer1, \n",
    "          input_dim=number_input_features, \n",
    "          activation=\"relu\")\n",
    ")\n",
    "\n",
    "# Layer 2\n",
    "model.add(Dense(units=hidden_nodes_layer2, activation=\"relu\"))\n",
    "\n",
    "\n",
    "# Layer 3\n",
    "#model.add(Dense(units=hidden_nodes_layer3, activation=\"relu\"))\n",
    "\n",
    "# Layer 4\n",
    "#model.add(Dense(units=hidden_nodes_layer3, activation=\"relu\"))\n",
    "\n",
    "# Layer 5\n",
    "#model.add(Dense(units=hidden_nodes_layer3, activation=\"relu\"))\n",
    "\n",
    "# Output layer\n",
    "model.add(Dense(1, activation=\"sigmoid\"))"
   ]
  },
  {
   "cell_type": "code",
   "execution_count": 47,
   "id": "requested-relief",
   "metadata": {},
   "outputs": [],
   "source": [
    "# Compile the model\n",
    "model.compile(\n",
    "    loss=\"binary_crossentropy\",\n",
    "    optimizer=\"adam\",\n",
    "    metrics=[\n",
    "        \"accuracy\",\n",
    "        tf.keras.metrics.TruePositives(name=\"tp\"),\n",
    "        tf.keras.metrics.TrueNegatives(name=\"tn\"),\n",
    "        tf.keras.metrics.FalsePositives(name=\"fp\"),\n",
    "        tf.keras.metrics.FalseNegatives(name=\"fn\"),\n",
    "        tf.keras.metrics.Precision(name=\"precision\"),\n",
    "        tf.keras.metrics.Recall(name=\"recall\"),\n",
    "        tf.keras.metrics.AUC(name=\"auc\"),\n",
    "    ],\n",
    ")"
   ]
  },
  {
   "cell_type": "code",
   "execution_count": 48,
   "id": "fatty-matthew",
   "metadata": {},
   "outputs": [
    {
     "name": "stdout",
     "output_type": "stream",
     "text": [
      "Model: \"sequential_2\"\n",
      "_________________________________________________________________\n",
      "Layer (type)                 Output Shape              Param #   \n",
      "=================================================================\n",
      "dense_8 (Dense)              (None, 25)                775       \n",
      "_________________________________________________________________\n",
      "dense_9 (Dense)              (None, 8)                 208       \n",
      "_________________________________________________________________\n",
      "dense_10 (Dense)             (None, 1)                 9         \n",
      "=================================================================\n",
      "Total params: 992\n",
      "Trainable params: 992\n",
      "Non-trainable params: 0\n",
      "_________________________________________________________________\n"
     ]
    }
   ],
   "source": [
    "# Summarize the model\n",
    "model.summary()"
   ]
  },
  {
   "cell_type": "code",
   "execution_count": 49,
   "id": "running-norman",
   "metadata": {},
   "outputs": [
    {
     "name": "stdout",
     "output_type": "stream",
     "text": [
      "Epoch 1/50\n",
      "8/8 [==============================] - 8s 293ms/step - loss: 28.2582 - accuracy: 0.5917 - tp: 2779.4444 - tn: 0.0000e+00 - fp: 1923.6667 - fn: 0.0000e+00 - precision: 0.5917 - recall: 1.0000 - auc: 0.5000 - val_loss: 21.9000 - val_accuracy: 0.5676 - val_tp: 1356.0000 - val_tn: 0.0000e+00 - val_fp: 1033.0000 - val_fn: 0.0000e+00 - val_precision: 0.5676 - val_recall: 1.0000 - val_auc: 0.5000\n",
      "Epoch 2/50\n",
      "8/8 [==============================] - 0s 18ms/step - loss: 18.8097 - accuracy: 0.5868 - tp: 2765.3333 - tn: 0.0000e+00 - fp: 1937.7778 - fn: 0.0000e+00 - precision: 0.5868 - recall: 1.0000 - auc: 0.5000 - val_loss: 12.7727 - val_accuracy: 0.5676 - val_tp: 1356.0000 - val_tn: 0.0000e+00 - val_fp: 1033.0000 - val_fn: 0.0000e+00 - val_precision: 0.5676 - val_recall: 1.0000 - val_auc: 0.5000\n",
      "Epoch 3/50\n",
      "8/8 [==============================] - 0s 15ms/step - loss: 10.1453 - accuracy: 0.5871 - tp: 2761.6667 - tn: 0.0000e+00 - fp: 1934.5556 - fn: 6.8889 - precision: 0.5877 - recall: 0.9983 - auc: 0.4937 - val_loss: 3.7896 - val_accuracy: 0.4789 - val_tp: 1113.0000 - val_tn: 31.0000 - val_fp: 1002.0000 - val_fn: 243.0000 - val_precision: 0.5262 - val_recall: 0.8208 - val_auc: 0.3123\n",
      "Epoch 4/50\n",
      "8/8 [==============================] - 0s 17ms/step - loss: 3.4686 - accuracy: 0.3978 - tp: 1104.0000 - tn: 690.8889 - fp: 1238.6667 - fn: 1669.5556 - precision: 0.4806 - recall: 0.4751 - auc: 0.3139 - val_loss: 4.2310 - val_accuracy: 0.3600 - val_tp: 73.0000 - val_tn: 787.0000 - val_fp: 246.0000 - val_fn: 1283.0000 - val_precision: 0.2288 - val_recall: 0.0538 - val_auc: 0.3003\n",
      "Epoch 5/50\n",
      "8/8 [==============================] - 0s 16ms/step - loss: 3.7801 - accuracy: 0.3406 - tp: 457.8889 - tn: 1139.7778 - fp: 799.0000 - fn: 2306.4444 - precision: 0.3267 - recall: 0.1360 - auc: 0.2961 - val_loss: 2.9698 - val_accuracy: 0.4282 - val_tp: 942.0000 - val_tn: 81.0000 - val_fp: 952.0000 - val_fn: 414.0000 - val_precision: 0.4974 - val_recall: 0.6947 - val_auc: 0.2808\n",
      "Epoch 6/50\n",
      "8/8 [==============================] - 0s 16ms/step - loss: 2.9528 - accuracy: 0.4741 - tp: 2130.7778 - tn: 107.8889 - fp: 1808.6667 - fn: 655.7778 - precision: 0.5413 - recall: 0.7560 - auc: 0.2965 - val_loss: 2.8175 - val_accuracy: 0.4316 - val_tp: 951.0000 - val_tn: 80.0000 - val_fp: 953.0000 - val_fn: 405.0000 - val_precision: 0.4995 - val_recall: 0.7013 - val_auc: 0.2866\n",
      "Epoch 7/50\n",
      "8/8 [==============================] - 0s 16ms/step - loss: 2.6057 - accuracy: 0.4021 - tp: 1456.3333 - tn: 383.6667 - fp: 1552.3333 - fn: 1310.7778 - precision: 0.4915 - recall: 0.5627 - auc: 0.2850 - val_loss: 2.5161 - val_accuracy: 0.3462 - val_tp: 403.0000 - val_tn: 424.0000 - val_fp: 609.0000 - val_fn: 953.0000 - val_precision: 0.3982 - val_recall: 0.2972 - val_auc: 0.2853\n",
      "Epoch 8/50\n",
      "8/8 [==============================] - 0s 16ms/step - loss: 2.4944 - accuracy: 0.3484 - tp: 979.6667 - tn: 667.5556 - fp: 1251.0000 - fn: 1804.8889 - precision: 0.4384 - recall: 0.3353 - auc: 0.2941 - val_loss: 2.3345 - val_accuracy: 0.4035 - val_tp: 807.0000 - val_tn: 157.0000 - val_fp: 876.0000 - val_fn: 549.0000 - val_precision: 0.4795 - val_recall: 0.5951 - val_auc: 0.2994\n",
      "Epoch 9/50\n",
      "8/8 [==============================] - 0s 18ms/step - loss: 2.2685 - accuracy: 0.4213 - tp: 1676.2222 - tn: 322.7778 - fp: 1611.1111 - fn: 1093.0000 - precision: 0.5067 - recall: 0.5976 - auc: 0.3008 - val_loss: 2.1265 - val_accuracy: 0.3851 - val_tp: 709.0000 - val_tn: 211.0000 - val_fp: 822.0000 - val_fn: 647.0000 - val_precision: 0.4631 - val_recall: 0.5229 - val_auc: 0.3120\n",
      "Epoch 10/50\n",
      "8/8 [==============================] - 0s 17ms/step - loss: 2.1346 - accuracy: 0.3834 - tp: 1216.1111 - tn: 593.3333 - fp: 1347.1111 - fn: 1546.5556 - precision: 0.4711 - recall: 0.4479 - auc: 0.3076 - val_loss: 1.9604 - val_accuracy: 0.3968 - val_tp: 632.0000 - val_tn: 316.0000 - val_fp: 717.0000 - val_fn: 724.0000 - val_precision: 0.4685 - val_recall: 0.4661 - val_auc: 0.3318\n",
      "Epoch 11/50\n",
      "8/8 [==============================] - 0s 16ms/step - loss: 1.9590 - accuracy: 0.4093 - tp: 1436.2222 - tn: 509.2222 - fp: 1412.3333 - fn: 1345.3333 - precision: 0.5020 - recall: 0.5024 - auc: 0.3312 - val_loss: 1.8399 - val_accuracy: 0.4311 - val_tp: 811.0000 - val_tn: 219.0000 - val_fp: 814.0000 - val_fn: 545.0000 - val_precision: 0.4991 - val_recall: 0.5981 - val_auc: 0.3598\n",
      "Epoch 12/50\n",
      "8/8 [==============================] - 0s 16ms/step - loss: 1.7770 - accuracy: 0.4396 - tp: 1527.7778 - tn: 543.6667 - fp: 1380.8889 - fn: 1250.7778 - precision: 0.5244 - recall: 0.5549 - auc: 0.3618 - val_loss: 1.6561 - val_accuracy: 0.4341 - val_tp: 684.0000 - val_tn: 353.0000 - val_fp: 680.0000 - val_fn: 672.0000 - val_precision: 0.5015 - val_recall: 0.5044 - val_auc: 0.3937\n",
      "Epoch 13/50\n",
      "8/8 [==============================] - 0s 15ms/step - loss: 1.5971 - accuracy: 0.4443 - tp: 1394.2222 - tn: 705.1111 - fp: 1231.3333 - fn: 1372.4444 - precision: 0.5269 - recall: 0.4999 - auc: 0.4030 - val_loss: 1.5250 - val_accuracy: 0.4801 - val_tp: 835.0000 - val_tn: 312.0000 - val_fp: 721.0000 - val_fn: 521.0000 - val_precision: 0.5366 - val_recall: 0.6158 - val_auc: 0.4400\n",
      "Epoch 14/50\n",
      "8/8 [==============================] - 0s 17ms/step - loss: 1.4545 - accuracy: 0.4893 - tp: 1698.7778 - tn: 609.1111 - fp: 1304.6667 - fn: 1090.5556 - precision: 0.5662 - recall: 0.6069 - auc: 0.4460 - val_loss: 1.3719 - val_accuracy: 0.5002 - val_tp: 798.0000 - val_tn: 397.0000 - val_fp: 636.0000 - val_fn: 558.0000 - val_precision: 0.5565 - val_recall: 0.5885 - val_auc: 0.4882\n",
      "Epoch 15/50\n",
      "8/8 [==============================] - 0s 20ms/step - loss: 1.3309 - accuracy: 0.5107 - tp: 1611.7778 - tn: 792.3333 - fp: 1157.0000 - fn: 1142.0000 - precision: 0.5813 - recall: 0.5865 - auc: 0.4926 - val_loss: 1.2691 - val_accuracy: 0.5345 - val_tp: 888.0000 - val_tn: 389.0000 - val_fp: 644.0000 - val_fn: 468.0000 - val_precision: 0.5796 - val_recall: 0.6549 - val_auc: 0.5380\n",
      "Epoch 16/50\n",
      "8/8 [==============================] - 0s 39ms/step - loss: 1.2473 - accuracy: 0.5405 - tp: 1808.0000 - tn: 743.3333 - fp: 1182.0000 - fn: 969.7778 - precision: 0.6045 - recall: 0.6471 - auc: 0.5318 - val_loss: 1.1633 - val_accuracy: 0.5584 - val_tp: 848.0000 - val_tn: 486.0000 - val_fp: 547.0000 - val_fn: 508.0000 - val_precision: 0.6079 - val_recall: 0.6254 - val_auc: 0.5739\n",
      "Epoch 17/50\n",
      "8/8 [==============================] - 0s 17ms/step - loss: 1.1440 - accuracy: 0.5530 - tp: 1602.1111 - tn: 1006.6667 - fp: 943.5556 - fn: 1150.7778 - precision: 0.6240 - recall: 0.5822 - auc: 0.5708 - val_loss: 1.1031 - val_accuracy: 0.5760 - val_tp: 936.0000 - val_tn: 440.0000 - val_fp: 593.0000 - val_fn: 420.0000 - val_precision: 0.6122 - val_recall: 0.6903 - val_auc: 0.6064\n",
      "Epoch 18/50\n",
      "8/8 [==============================] - 0s 19ms/step - loss: 1.0641 - accuracy: 0.5888 - tp: 1891.8889 - tn: 870.1111 - fp: 1053.8889 - fn: 887.2222 - precision: 0.6448 - recall: 0.6833 - auc: 0.6071 - val_loss: 1.0141 - val_accuracy: 0.6011 - val_tp: 888.0000 - val_tn: 548.0000 - val_fp: 485.0000 - val_fn: 468.0000 - val_precision: 0.6468 - val_recall: 0.6549 - val_auc: 0.6291\n",
      "Epoch 19/50\n",
      "8/8 [==============================] - 0s 19ms/step - loss: 1.0156 - accuracy: 0.5929 - tp: 1803.1111 - tn: 1006.2222 - fp: 910.0000 - fn: 983.7778 - precision: 0.6633 - recall: 0.6393 - auc: 0.6190 - val_loss: 0.9600 - val_accuracy: 0.6053 - val_tp: 955.0000 - val_tn: 491.0000 - val_fp: 542.0000 - val_fn: 401.0000 - val_precision: 0.6379 - val_recall: 0.7043 - val_auc: 0.6542\n",
      "Epoch 20/50\n",
      "8/8 [==============================] - 0s 15ms/step - loss: 0.9507 - accuracy: 0.6157 - tp: 1863.8889 - tn: 1034.7778 - fp: 918.6667 - fn: 885.7778 - precision: 0.6653 - recall: 0.6848 - auc: 0.6478 - val_loss: 0.9011 - val_accuracy: 0.6249 - val_tp: 989.0000 - val_tn: 504.0000 - val_fp: 529.0000 - val_fn: 367.0000 - val_precision: 0.6515 - val_recall: 0.7294 - val_auc: 0.6754\n",
      "Epoch 21/50\n",
      "8/8 [==============================] - 0s 18ms/step - loss: 0.8975 - accuracy: 0.6380 - tp: 2068.5556 - tn: 933.7778 - fp: 1005.5556 - fn: 695.2222 - precision: 0.6738 - recall: 0.7451 - auc: 0.6689 - val_loss: 0.8329 - val_accuracy: 0.6459 - val_tp: 918.0000 - val_tn: 625.0000 - val_fp: 408.0000 - val_fn: 438.0000 - val_precision: 0.6923 - val_recall: 0.6770 - val_auc: 0.6940\n"
     ]
    },
    {
     "name": "stdout",
     "output_type": "stream",
     "text": [
      "Epoch 22/50\n",
      "8/8 [==============================] - 0s 20ms/step - loss: 0.8378 - accuracy: 0.6395 - tp: 1838.0000 - tn: 1182.8889 - fp: 753.4444 - fn: 928.7778 - precision: 0.7069 - recall: 0.6566 - auc: 0.6886 - val_loss: 0.8095 - val_accuracy: 0.6492 - val_tp: 1054.0000 - val_tn: 497.0000 - val_fp: 536.0000 - val_fn: 302.0000 - val_precision: 0.6629 - val_recall: 0.7773 - val_auc: 0.7140\n",
      "Epoch 23/50\n",
      "8/8 [==============================] - 0s 15ms/step - loss: 0.7848 - accuracy: 0.6685 - tp: 2139.3333 - tn: 1001.3333 - fp: 906.0000 - fn: 656.4444 - precision: 0.7034 - recall: 0.7720 - auc: 0.7078 - val_loss: 0.7382 - val_accuracy: 0.6769 - val_tp: 944.0000 - val_tn: 673.0000 - val_fp: 360.0000 - val_fn: 412.0000 - val_precision: 0.7239 - val_recall: 0.6962 - val_auc: 0.7310\n",
      "Epoch 24/50\n",
      "8/8 [==============================] - 0s 15ms/step - loss: 0.7396 - accuracy: 0.6723 - tp: 1928.1111 - tn: 1242.5556 - fp: 714.0000 - fn: 818.4444 - precision: 0.7271 - recall: 0.6924 - auc: 0.7276 - val_loss: 0.7232 - val_accuracy: 0.6798 - val_tp: 1088.0000 - val_tn: 536.0000 - val_fp: 497.0000 - val_fn: 268.0000 - val_precision: 0.6864 - val_recall: 0.8024 - val_auc: 0.7494\n",
      "Epoch 25/50\n",
      "8/8 [==============================] - 0s 15ms/step - loss: 0.6967 - accuracy: 0.6921 - tp: 2128.1111 - tn: 1117.2222 - fp: 816.1111 - fn: 641.6667 - precision: 0.7207 - recall: 0.7797 - auc: 0.7449 - val_loss: 0.6567 - val_accuracy: 0.7015 - val_tp: 1005.0000 - val_tn: 671.0000 - val_fp: 362.0000 - val_fn: 351.0000 - val_precision: 0.7352 - val_recall: 0.7412 - val_auc: 0.7658\n",
      "Epoch 26/50\n",
      "8/8 [==============================] - 0s 15ms/step - loss: 0.6469 - accuracy: 0.7020 - tp: 2080.7778 - tn: 1220.2222 - fp: 701.7778 - fn: 700.3333 - precision: 0.7524 - recall: 0.7407 - auc: 0.7677 - val_loss: 0.6242 - val_accuracy: 0.7078 - val_tp: 1050.0000 - val_tn: 641.0000 - val_fp: 392.0000 - val_fn: 306.0000 - val_precision: 0.7282 - val_recall: 0.7743 - val_auc: 0.7827\n",
      "Epoch 27/50\n",
      "8/8 [==============================] - 0s 20ms/step - loss: 0.6232 - accuracy: 0.7147 - tp: 2075.4444 - tn: 1284.3333 - fp: 647.0000 - fn: 696.3333 - precision: 0.7611 - recall: 0.7505 - auc: 0.7796 - val_loss: 0.6009 - val_accuracy: 0.7158 - val_tp: 1092.0000 - val_tn: 618.0000 - val_fp: 415.0000 - val_fn: 264.0000 - val_precision: 0.7246 - val_recall: 0.8053 - val_auc: 0.7982\n",
      "Epoch 28/50\n",
      "8/8 [==============================] - 0s 17ms/step - loss: 0.5893 - accuracy: 0.7305 - tp: 2236.5556 - tn: 1191.3333 - fp: 733.6667 - fn: 541.5556 - precision: 0.7557 - recall: 0.8068 - auc: 0.7953 - val_loss: 0.5603 - val_accuracy: 0.7367 - val_tp: 1028.0000 - val_tn: 732.0000 - val_fp: 301.0000 - val_fn: 328.0000 - val_precision: 0.7735 - val_recall: 0.7581 - val_auc: 0.8128\n",
      "Epoch 29/50\n",
      "8/8 [==============================] - 0s 14ms/step - loss: 0.5581 - accuracy: 0.7424 - tp: 2207.8889 - tn: 1284.7778 - fp: 624.5556 - fn: 585.8889 - precision: 0.7860 - recall: 0.7820 - auc: 0.8093 - val_loss: 0.5345 - val_accuracy: 0.7472 - val_tp: 1082.0000 - val_tn: 703.0000 - val_fp: 330.0000 - val_fn: 274.0000 - val_precision: 0.7663 - val_recall: 0.7979 - val_auc: 0.8267\n",
      "Epoch 30/50\n",
      "8/8 [==============================] - 0s 15ms/step - loss: 0.5448 - accuracy: 0.7456 - tp: 2151.0000 - tn: 1366.4444 - fp: 572.2222 - fn: 613.4444 - precision: 0.7858 - recall: 0.7773 - auc: 0.8178 - val_loss: 0.5175 - val_accuracy: 0.7568 - val_tp: 1137.0000 - val_tn: 671.0000 - val_fp: 362.0000 - val_fn: 219.0000 - val_precision: 0.7585 - val_recall: 0.8385 - val_auc: 0.8392\n",
      "Epoch 31/50\n",
      "8/8 [==============================] - 0s 15ms/step - loss: 0.5023 - accuracy: 0.7671 - tp: 2247.7778 - tn: 1350.2222 - fp: 584.6667 - fn: 520.4444 - precision: 0.7934 - recall: 0.8182 - auc: 0.8394 - val_loss: 0.4886 - val_accuracy: 0.7702 - val_tp: 1120.0000 - val_tn: 720.0000 - val_fp: 313.0000 - val_fn: 236.0000 - val_precision: 0.7816 - val_recall: 0.8260 - val_auc: 0.8512\n",
      "Epoch 32/50\n",
      "8/8 [==============================] - 0s 14ms/step - loss: 0.4903 - accuracy: 0.7732 - tp: 2316.4444 - tn: 1321.4444 - fp: 606.3333 - fn: 458.8889 - precision: 0.7950 - recall: 0.8303 - auc: 0.8468 - val_loss: 0.4656 - val_accuracy: 0.7786 - val_tp: 1087.0000 - val_tn: 773.0000 - val_fp: 260.0000 - val_fn: 269.0000 - val_precision: 0.8070 - val_recall: 0.8016 - val_auc: 0.8620\n",
      "Epoch 33/50\n",
      "8/8 [==============================] - 0s 15ms/step - loss: 0.4723 - accuracy: 0.7774 - tp: 2239.2222 - tn: 1426.5556 - fp: 519.4444 - fn: 517.8889 - precision: 0.8107 - recall: 0.8073 - auc: 0.8576 - val_loss: 0.4592 - val_accuracy: 0.7878 - val_tp: 1185.0000 - val_tn: 697.0000 - val_fp: 336.0000 - val_fn: 171.0000 - val_precision: 0.7791 - val_recall: 0.8739 - val_auc: 0.8721\n",
      "Epoch 34/50\n",
      "8/8 [==============================] - 0s 21ms/step - loss: 0.4446 - accuracy: 0.7938 - tp: 2330.2222 - tn: 1400.4444 - fp: 542.1111 - fn: 430.3333 - precision: 0.8068 - recall: 0.8504 - auc: 0.8720 - val_loss: 0.4314 - val_accuracy: 0.8003 - val_tp: 1160.0000 - val_tn: 752.0000 - val_fp: 281.0000 - val_fn: 196.0000 - val_precision: 0.8050 - val_recall: 0.8555 - val_auc: 0.8815\n",
      "Epoch 35/50\n",
      "8/8 [==============================] - 1s 80ms/step - loss: 0.4255 - accuracy: 0.7999 - tp: 2369.0000 - tn: 1391.0000 - fp: 542.2222 - fn: 400.8889 - precision: 0.8147 - recall: 0.8540 - auc: 0.8816 - val_loss: 0.4133 - val_accuracy: 0.8108 - val_tp: 1144.0000 - val_tn: 793.0000 - val_fp: 240.0000 - val_fn: 212.0000 - val_precision: 0.8266 - val_recall: 0.8437 - val_auc: 0.8902\n",
      "Epoch 36/50\n",
      "8/8 [==============================] - 0s 49ms/step - loss: 0.4104 - accuracy: 0.8148 - tp: 2335.8889 - tn: 1483.6667 - fp: 443.6667 - fn: 439.8889 - precision: 0.8453 - recall: 0.8399 - auc: 0.8903 - val_loss: 0.4020 - val_accuracy: 0.8196 - val_tp: 1194.0000 - val_tn: 764.0000 - val_fp: 269.0000 - val_fn: 162.0000 - val_precision: 0.8161 - val_recall: 0.8805 - val_auc: 0.8983\n",
      "Epoch 37/50\n",
      "8/8 [==============================] - 0s 27ms/step - loss: 0.4032 - accuracy: 0.8168 - tp: 2323.6667 - tn: 1521.4444 - fp: 438.1111 - fn: 419.8889 - precision: 0.8368 - recall: 0.8487 - auc: 0.8949 - val_loss: 0.3965 - val_accuracy: 0.8162 - val_tp: 1226.0000 - val_tn: 724.0000 - val_fp: 309.0000 - val_fn: 130.0000 - val_precision: 0.7987 - val_recall: 0.9041 - val_auc: 0.9059\n",
      "Epoch 38/50\n",
      "8/8 [==============================] - 0s 13ms/step - loss: 0.3891 - accuracy: 0.8262 - tp: 2445.8889 - tn: 1444.3333 - fp: 485.8889 - fn: 327.0000 - precision: 0.8314 - recall: 0.8843 - auc: 0.9018 - val_loss: 0.3709 - val_accuracy: 0.8368 - val_tp: 1168.0000 - val_tn: 831.0000 - val_fp: 202.0000 - val_fn: 188.0000 - val_precision: 0.8526 - val_recall: 0.8614 - val_auc: 0.9125\n",
      "Epoch 39/50\n",
      "8/8 [==============================] - 0s 18ms/step - loss: 0.3694 - accuracy: 0.8344 - tp: 2447.5556 - tn: 1474.1111 - fp: 448.6667 - fn: 332.7778 - precision: 0.8493 - recall: 0.8752 - auc: 0.9117 - val_loss: 0.3589 - val_accuracy: 0.8460 - val_tp: 1185.0000 - val_tn: 836.0000 - val_fp: 197.0000 - val_fn: 171.0000 - val_precision: 0.8575 - val_recall: 0.8739 - val_auc: 0.9187\n",
      "Epoch 40/50\n",
      "8/8 [==============================] - 0s 14ms/step - loss: 0.3720 - accuracy: 0.8335 - tp: 2387.0000 - tn: 1539.7778 - fp: 386.6667 - fn: 389.6667 - precision: 0.8610 - recall: 0.8569 - auc: 0.9108 - val_loss: 0.3529 - val_accuracy: 0.8426 - val_tp: 1227.0000 - val_tn: 786.0000 - val_fp: 247.0000 - val_fn: 129.0000 - val_precision: 0.8324 - val_recall: 0.9049 - val_auc: 0.9245\n",
      "Epoch 41/50\n",
      "8/8 [==============================] - 0s 14ms/step - loss: 0.3536 - accuracy: 0.8426 - tp: 2437.0000 - tn: 1535.5556 - fp: 399.2222 - fn: 331.3333 - precision: 0.8541 - recall: 0.8835 - auc: 0.9200 - val_loss: 0.3415 - val_accuracy: 0.8510 - val_tp: 1233.0000 - val_tn: 800.0000 - val_fp: 233.0000 - val_fn: 123.0000 - val_precision: 0.8411 - val_recall: 0.9093 - val_auc: 0.9297\n",
      "Epoch 42/50\n",
      "8/8 [==============================] - 0s 22ms/step - loss: 0.3440 - accuracy: 0.8473 - tp: 2476.4444 - tn: 1518.5556 - fp: 424.0000 - fn: 284.1111 - precision: 0.8504 - recall: 0.8977 - auc: 0.9251 - val_loss: 0.3267 - val_accuracy: 0.8610 - val_tp: 1212.0000 - val_tn: 845.0000 - val_fp: 188.0000 - val_fn: 144.0000 - val_precision: 0.8657 - val_recall: 0.8938 - val_auc: 0.9346\n"
     ]
    },
    {
     "name": "stdout",
     "output_type": "stream",
     "text": [
      "Epoch 43/50\n",
      "8/8 [==============================] - 0s 19ms/step - loss: 0.3304 - accuracy: 0.8549 - tp: 2473.6667 - tn: 1551.4444 - fp: 379.5556 - fn: 298.4444 - precision: 0.8666 - recall: 0.8909 - auc: 0.9313 - val_loss: 0.3193 - val_accuracy: 0.8635 - val_tp: 1231.0000 - val_tn: 832.0000 - val_fp: 201.0000 - val_fn: 125.0000 - val_precision: 0.8596 - val_recall: 0.9078 - val_auc: 0.9390\n",
      "Epoch 44/50\n",
      "8/8 [==============================] - 0s 14ms/step - loss: 0.3218 - accuracy: 0.8627 - tp: 2477.0000 - tn: 1578.5556 - fp: 345.8889 - fn: 301.6667 - precision: 0.8778 - recall: 0.8918 - auc: 0.9354 - val_loss: 0.3123 - val_accuracy: 0.8665 - val_tp: 1246.0000 - val_tn: 824.0000 - val_fp: 209.0000 - val_fn: 110.0000 - val_precision: 0.8564 - val_recall: 0.9189 - val_auc: 0.9432\n",
      "Epoch 45/50\n",
      "8/8 [==============================] - 0s 13ms/step - loss: 0.3134 - accuracy: 0.8677 - tp: 2484.4444 - tn: 1599.6667 - fp: 349.0000 - fn: 270.0000 - precision: 0.8728 - recall: 0.9056 - auc: 0.9400 - val_loss: 0.3074 - val_accuracy: 0.8673 - val_tp: 1258.0000 - val_tn: 814.0000 - val_fp: 219.0000 - val_fn: 98.0000 - val_precision: 0.8517 - val_recall: 0.9277 - val_auc: 0.9469\n",
      "Epoch 46/50\n",
      "8/8 [==============================] - 0s 13ms/step - loss: 0.3013 - accuracy: 0.8724 - tp: 2548.5556 - tn: 1550.5556 - fp: 370.1111 - fn: 233.8889 - precision: 0.8729 - recall: 0.9184 - auc: 0.9454 - val_loss: 0.2922 - val_accuracy: 0.8815 - val_tp: 1209.0000 - val_tn: 897.0000 - val_fp: 136.0000 - val_fn: 147.0000 - val_precision: 0.8989 - val_recall: 0.8916 - val_auc: 0.9501\n",
      "Epoch 47/50\n",
      "8/8 [==============================] - 0s 14ms/step - loss: 0.3016 - accuracy: 0.8769 - tp: 2516.2222 - tn: 1604.5556 - fp: 312.0000 - fn: 270.3333 - precision: 0.8947 - recall: 0.8991 - auc: 0.9454 - val_loss: 0.2852 - val_accuracy: 0.8878 - val_tp: 1249.0000 - val_tn: 872.0000 - val_fp: 161.0000 - val_fn: 107.0000 - val_precision: 0.8858 - val_recall: 0.9211 - val_auc: 0.9533\n",
      "Epoch 48/50\n",
      "8/8 [==============================] - 0s 17ms/step - loss: 0.2903 - accuracy: 0.8810 - tp: 2481.7778 - tn: 1662.4444 - fp: 284.7778 - fn: 274.1111 - precision: 0.8950 - recall: 0.9023 - auc: 0.9505 - val_loss: 0.2886 - val_accuracy: 0.8794 - val_tp: 1276.0000 - val_tn: 825.0000 - val_fp: 208.0000 - val_fn: 80.0000 - val_precision: 0.8598 - val_recall: 0.9410 - val_auc: 0.9563\n",
      "Epoch 49/50\n",
      "8/8 [==============================] - 0s 19ms/step - loss: 0.2857 - accuracy: 0.8793 - tp: 2514.2222 - tn: 1626.2222 - fp: 328.7778 - fn: 233.8889 - precision: 0.8793 - recall: 0.9189 - auc: 0.9529 - val_loss: 0.2751 - val_accuracy: 0.8887 - val_tp: 1267.0000 - val_tn: 856.0000 - val_fp: 177.0000 - val_fn: 89.0000 - val_precision: 0.8774 - val_recall: 0.9344 - val_auc: 0.9591\n",
      "Epoch 50/50\n",
      "8/8 [==============================] - 0s 18ms/step - loss: 0.2864 - accuracy: 0.8770 - tp: 2569.0000 - tn: 1566.1111 - fp: 370.3333 - fn: 197.6667 - precision: 0.8715 - recall: 0.9277 - auc: 0.9525 - val_loss: 0.2641 - val_accuracy: 0.9021 - val_tp: 1236.0000 - val_tn: 919.0000 - val_fp: 114.0000 - val_fn: 120.0000 - val_precision: 0.9156 - val_recall: 0.9115 - val_auc: 0.9613\n"
     ]
    }
   ],
   "source": [
    "# Training the model\n",
    "batch_size = 1000\n",
    "epochs = 50\n",
    "training_history = model.fit(\n",
    "    X_train,\n",
    "    y_train,\n",
    "    validation_data=(X_val, y_val),\n",
    "    epochs=epochs,\n",
    "    batch_size=batch_size,\n",
    "    verbose=1,\n",
    ")"
   ]
  },
  {
   "cell_type": "code",
   "execution_count": 50,
   "id": "golden-giving",
   "metadata": {},
   "outputs": [
    {
     "data": {
      "text/plain": [
       "<AxesSubplot:title={'center':'Loss'}, xlabel='Epoch'>"
      ]
     },
     "execution_count": 50,
     "metadata": {},
     "output_type": "execute_result"
    },
    {
     "data": {
      "image/png": "[encoded data removed]",
      "text/plain": [
       "<Figure size 432x288 with 1 Axes>"
      ]
     },
     "metadata": {
      "needs_background": "light"
     },
     "output_type": "display_data"
    }
   ],
   "source": [
    "# Plotting loss\n",
    "loss_df = pd.DataFrame(\n",
    "    {\n",
    "        \"Epoch\": range(1, epochs + 1),\n",
    "        \"Train\": training_history.history[\"loss\"],\n",
    "        \"Val\": training_history.history[\"val_loss\"],\n",
    "    }\n",
    ")\n",
    "loss_df.set_index(\"Epoch\", inplace=True)\n",
    "loss_df.plot(title=\"Loss\")"
   ]
  },
  {
   "cell_type": "code",
   "execution_count": 51,
   "id": "organic-header",
   "metadata": {},
   "outputs": [
    {
     "data": {
      "text/plain": [
       "<AxesSubplot:title={'center':'Accuracy'}, xlabel='Epoch'>"
      ]
     },
     "execution_count": 51,
     "metadata": {},
     "output_type": "execute_result"
    },
    {
     "data": {
      "image/png": "[encoded data removed]",
      "text/plain": [
       "<Figure size 432x288 with 1 Axes>"
      ]
     },
     "metadata": {
      "needs_background": "light"
     },
     "output_type": "display_data"
    }
   ],
   "source": [
    "# Plotting accuracy\n",
    "accuracy_df = pd.DataFrame(\n",
    "    {\n",
    "        \"Epoch\": range(1, epochs + 1),\n",
    "        \"Train\": training_history.history[\"accuracy\"],\n",
    "        \"Val\": training_history.history[\"val_accuracy\"],\n",
    "    }\n",
    ")\n",
    "accuracy_df.set_index(\"Epoch\", inplace=True)\n",
    "accuracy_df.plot(title=\"Accuracy\")"
   ]
  },
  {
   "cell_type": "code",
   "execution_count": 52,
   "id": "criminal-shark",
   "metadata": {},
   "outputs": [
    {
     "data": {
      "text/plain": [
       "<AxesSubplot:title={'center':'AUC'}, xlabel='Epoch'>"
      ]
     },
     "execution_count": 52,
     "metadata": {},
     "output_type": "execute_result"
    },
    {
     "data": {
      "image/png": "[encoded data removed]",
      "text/plain": [
       "<Figure size 432x288 with 1 Axes>"
      ]
     },
     "metadata": {
      "needs_background": "light"
     },
     "output_type": "display_data"
    }
   ],
   "source": [
    "# Plotting AUC\n",
    "auc_df = pd.DataFrame(\n",
    "    {\n",
    "        \"Epoch\": range(1, epochs + 1),\n",
    "        \"Train\": training_history.history[\"auc\"],\n",
    "        \"Val\": training_history.history[\"val_auc\"],\n",
    "    }\n",
    ")\n",
    "auc_df.set_index(\"Epoch\", inplace=True)\n",
    "auc_df.plot(title=\"AUC\")"
   ]
  },
  {
   "cell_type": "code",
   "execution_count": 53,
   "id": "wired-brazilian",
   "metadata": {},
   "outputs": [],
   "source": [
    "# Import the roc_curve and auc metrics from sklearn\n",
    "from sklearn.metrics import roc_curve, auc"
   ]
  },
  {
   "cell_type": "code",
   "execution_count": 54,
   "id": "hydraulic-canal",
   "metadata": {},
   "outputs": [],
   "source": [
    "# Making predictions to feed the roc_curve module\n",
    "train_predictions = model.predict(X_train, batch_size=1000)\n",
    "test_predictions = model.predict(X_test, batch_size=1000)"
   ]
  },
  {
   "cell_type": "code",
   "execution_count": 55,
   "id": "dated-linux",
   "metadata": {},
   "outputs": [],
   "source": [
    "# Calculate the ROC curve and AUC for the training set\n",
    "fpr_train, tpr_train, thresholds_train = roc_curve(y_train, train_predictions)\n",
    "auc_train = auc(fpr_train, tpr_train)\n",
    "auc_train = round(auc_train, 4)\n",
    "\n",
    "# Calculate the ROC curve and AUC for the testing set\n",
    "fpr_test, tpr_test, thresholds_test = roc_curve(y_test, test_predictions)\n",
    "auc_test = auc(fpr_test, tpr_test)\n",
    "auc_test = round(auc_test, 4)"
   ]
  },
  {
   "cell_type": "code",
   "execution_count": 56,
   "id": "attended-aquarium",
   "metadata": {},
   "outputs": [],
   "source": [
    "# Create a DataFrame with the fpr and tpr results\n",
    "roc_df_train = pd.DataFrame({\"FPR Train\": fpr_train, \"TPR Train\": tpr_train,})\n",
    "\n",
    "roc_df_test = pd.DataFrame({\"FPR Test\": fpr_test, \"TPR Test\": tpr_test,})"
   ]
  },
  {
   "cell_type": "code",
   "execution_count": 57,
   "id": "behavioral-remove",
   "metadata": {},
   "outputs": [
    {
     "data": {
      "text/plain": [
       "<AxesSubplot:title={'center':'Test ROC Curve (AUC=0.9641)'}, xlabel='FPR Test'>"
      ]
     },
     "execution_count": 57,
     "metadata": {},
     "output_type": "execute_result"
    },
    {
     "data": {
      "image/png": "[encoded data removed]",
      "text/plain": [
       "<Figure size 432x288 with 1 Axes>"
      ]
     },
     "metadata": {
      "needs_background": "light"
     },
     "output_type": "display_data"
    },
    {
     "data": {
      "image/png": "[encoded data removed]",
      "text/plain": [
       "<Figure size 432x288 with 1 Axes>"
      ]
     },
     "metadata": {
      "needs_background": "light"
     },
     "output_type": "display_data"
    }
   ],
   "source": [
    "# Plotting the ROC Curves\n",
    "roc_df_train.plot(\n",
    "    x=\"FPR Train\",\n",
    "    y=\"TPR Train\",\n",
    "    xlim=([-0.05, 1.05]),\n",
    "    title=f\"Train ROC Curve (AUC={auc_train})\",\n",
    ")\n",
    "\n",
    "roc_df_test.plot(\n",
    "    x=\"FPR Test\",\n",
    "    y=\"TPR Test\",\n",
    "    color=\"red\",\n",
    "    style=\"--\",\n",
    "    xlim=([-0.05, 1.05]),\n",
    "    title=f\"Test ROC Curve (AUC={auc_test})\",\n",
    ")"
   ]
  },
  {
   "cell_type": "code",
   "execution_count": 58,
   "id": "preliminary-apparel",
   "metadata": {},
   "outputs": [
    {
     "data": {
      "text/plain": [
       "{'loss': 0.25931259989738464,\n",
       " 'accuracy': 0.9004709720611572,\n",
       " 'tp': 1661.0,\n",
       " 'tn': 1207.0,\n",
       " 'fp': 139.0,\n",
       " 'fn': 178.0,\n",
       " 'precision': 0.9227777719497681,\n",
       " 'recall': 0.9032082557678223,\n",
       " 'auc': 0.9641428589820862}"
      ]
     },
     "metadata": {},
     "output_type": "display_data"
    }
   ],
   "source": [
    "# Evaluate the model\n",
    "scores = model.evaluate(X_test, y_test, verbose=0)\n",
    "\n",
    "# Define metrics dictionary\n",
    "metrics = {k: v for k, v in zip(model.metrics_names, scores)}\n",
    "\n",
    "# Display evaluation metrics results\n",
    "display(metrics)"
   ]
  },
  {
   "cell_type": "code",
   "execution_count": 59,
   "id": "backed-portfolio",
   "metadata": {},
   "outputs": [
    {
     "data": {
      "text/html": [
       "<div>\n",
       "<style scoped>\n",
       "    .dataframe tbody tr th:only-of-type {\n",
       "        vertical-align: middle;\n",
       "    }\n",
       "\n",
       "    .dataframe tbody tr th {\n",
       "        vertical-align: top;\n",
       "    }\n",
       "\n",
       "    .dataframe thead th {\n",
       "        text-align: right;\n",
       "    }\n",
       "</style>\n",
       "<table border=\"1\" class=\"dataframe\">\n",
       "  <thead>\n",
       "    <tr style=\"text-align: right;\">\n",
       "      <th>Predicted</th>\n",
       "      <th>Positive (1)</th>\n",
       "      <th>Negative (0)</th>\n",
       "    </tr>\n",
       "    <tr>\n",
       "      <th>Actual</th>\n",
       "      <th></th>\n",
       "      <th></th>\n",
       "    </tr>\n",
       "  </thead>\n",
       "  <tbody>\n",
       "    <tr>\n",
       "      <th>Positive(1)</th>\n",
       "      <td>TP=1661.0</td>\n",
       "      <td>FN=139.0</td>\n",
       "    </tr>\n",
       "    <tr>\n",
       "      <th>Negative(0)</th>\n",
       "      <td>FP=178.0</td>\n",
       "      <td>TN=1207.0</td>\n",
       "    </tr>\n",
       "  </tbody>\n",
       "</table>\n",
       "</div>"
      ],
      "text/plain": [
       "Predicted   Positive (1) Negative (0)\n",
       "Actual                               \n",
       "Positive(1)    TP=1661.0     FN=139.0\n",
       "Negative(0)     FP=178.0    TN=1207.0"
      ]
     },
     "execution_count": 59,
     "metadata": {},
     "output_type": "execute_result"
    }
   ],
   "source": [
    "# Define the confusion matrix data\n",
    "cm_df = pd.DataFrame(\n",
    "    {\n",
    "        \"Positive (1)\": [f\"TP={metrics['tp']}\", f\"FP={metrics['fn']}\"],\n",
    "        \"Negative (0)\": [f\"FN={metrics['fp']}\", f\"TN={metrics['tn']}\"],\n",
    "    },\n",
    "    index=[\"Positive(1)\", \"Negative(0)\"],\n",
    ")\n",
    "cm_df.index.name = \"Actual\"\n",
    "cm_df.columns.name = \"Predicted\"\n",
    "\n",
    "# Show the confusion matrix\n",
    "cm_df"
   ]
  },
  {
   "cell_type": "code",
   "execution_count": 60,
   "id": "improving-dividend",
   "metadata": {},
   "outputs": [
    {
     "name": "stdout",
     "output_type": "stream",
     "text": [
      "              precision    recall  f1-score   support\n",
      "\n",
      "           0       0.90      0.87      0.88      1385\n",
      "           1       0.90      0.92      0.91      1800\n",
      "\n",
      "    accuracy                           0.90      3185\n",
      "   macro avg       0.90      0.90      0.90      3185\n",
      "weighted avg       0.90      0.90      0.90      3185\n",
      "\n"
     ]
    }
   ],
   "source": [
    "# Import the classification_report method from sklearn\n",
    "from sklearn.metrics import classification_report\n",
    "\n",
    "# Predict classes using testing data\n",
    "y_predict_classes = model.predict_classes(X_test, batch_size=1000)\n",
    "\n",
    "# Display classification report\n",
    "print(classification_report(y_predict_classes, y_test))"
   ]
  },
  {
   "cell_type": "code",
   "execution_count": 61,
   "id": "activated-anchor",
   "metadata": {},
   "outputs": [
    {
     "data": {
      "text/plain": [
       "array([[0.99197286],\n",
       "       [0.6535458 ],\n",
       "       [0.00226623],\n",
       "       ...,\n",
       "       [0.92711794],\n",
       "       [0.10899314],\n",
       "       [0.37346947]], dtype=float32)"
      ]
     },
     "execution_count": 61,
     "metadata": {},
     "output_type": "execute_result"
    }
   ],
   "source": [
    "model.predict(X_test)"
   ]
  },
  {
   "cell_type": "code",
   "execution_count": null,
   "id": "smaller-satellite",
   "metadata": {},
   "outputs": [],
   "source": []
  },
  {
   "cell_type": "code",
   "execution_count": null,
   "id": "urban-setup",
   "metadata": {},
   "outputs": [],
   "source": []
  }
 ],
 "metadata": {
  "kernelspec": {
   "display_name": "Python 3",
   "language": "python",
   "name": "python3"
  },
  "language_info": {
   "codemirror_mode": {
    "name": "ipython",
    "version": 3
   },
   "file_extension": ".py",
   "mimetype": "text/x-python",
   "name": "python",
   "nbconvert_exporter": "python",
   "pygments_lexer": "ipython3",
   "version": "3.8.5"
  }
 },
 "nbformat": 4,
 "nbformat_minor": 5
}
